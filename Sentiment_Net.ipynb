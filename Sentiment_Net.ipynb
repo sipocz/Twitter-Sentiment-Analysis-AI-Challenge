{
  "nbformat": 4,
  "nbformat_minor": 0,
  "metadata": {
    "colab": {
      "name": "Sentiment_Net.ipynb",
      "provenance": [],
      "collapsed_sections": [],
      "authorship_tag": "ABX9TyNUYqfYqIFV8xaMYlIMu3WZ",
      "include_colab_link": true
    },
    "kernelspec": {
      "name": "python3",
      "display_name": "Python 3"
    },
    "language_info": {
      "name": "python"
    }
  },
  "cells": [
    {
      "cell_type": "markdown",
      "metadata": {
        "id": "view-in-github",
        "colab_type": "text"
      },
      "source": [
        "<a href=\"https://colab.research.google.com/github/sipocz/Twitter-Sentiment-Analysis-AI-Challenge/blob/main/Sentiment_Net.ipynb\" target=\"_parent\"><img src=\"https://colab.research.google.com/assets/colab-badge.svg\" alt=\"Open In Colab\"/></a>"
      ]
    },
    {
      "cell_type": "code",
      "metadata": {
        "id": "lS8T-dxnwfjO"
      },
      "source": [
        "import pandas as pd"
      ],
      "execution_count": 10,
      "outputs": []
    },
    {
      "cell_type": "code",
      "metadata": {
        "id": "BqeMVhGawVnK"
      },
      "source": [
        "fname=\"https://github.com/sipocz/Twitter-Sentiment-Analysis-AI-Challenge/raw/5f1b18584a67905e021e1f495619a124247a5330/Train_all_sentence.fth\"\n"
      ],
      "execution_count": 11,
      "outputs": []
    },
    {
      "cell_type": "code",
      "metadata": {
        "colab": {
          "base_uri": "https://localhost:8080/"
        },
        "id": "IqB7q6GXwaA8",
        "outputId": "55df1d98-5644-49e1-f7b9-375cab89795f"
      },
      "source": [
        "!wget $fname"
      ],
      "execution_count": 12,
      "outputs": [
        {
          "output_type": "stream",
          "name": "stdout",
          "text": [
            "--2021-10-05 20:57:01--  https://github.com/sipocz/Twitter-Sentiment-Analysis-AI-Challenge/raw/5f1b18584a67905e021e1f495619a124247a5330/Train_all_sentence.fth\n",
            "Resolving github.com (github.com)... 52.192.72.89\n",
            "Connecting to github.com (github.com)|52.192.72.89|:443... connected.\n",
            "HTTP request sent, awaiting response... 302 Found\n",
            "Location: https://raw.githubusercontent.com/sipocz/Twitter-Sentiment-Analysis-AI-Challenge/5f1b18584a67905e021e1f495619a124247a5330/Train_all_sentence.fth [following]\n",
            "--2021-10-05 20:57:02--  https://raw.githubusercontent.com/sipocz/Twitter-Sentiment-Analysis-AI-Challenge/5f1b18584a67905e021e1f495619a124247a5330/Train_all_sentence.fth\n",
            "Resolving raw.githubusercontent.com (raw.githubusercontent.com)... 185.199.109.133, 185.199.110.133, 185.199.108.133, ...\n",
            "Connecting to raw.githubusercontent.com (raw.githubusercontent.com)|185.199.109.133|:443... connected.\n",
            "HTTP request sent, awaiting response... 200 OK\n",
            "Length: 2951338 (2.8M) [application/octet-stream]\n",
            "Saving to: ‘Train_all_sentence.fth.2’\n",
            "\n",
            "Train_all_sentence. 100%[===================>]   2.81M  --.-KB/s    in 0.08s   \n",
            "\n",
            "2021-10-05 20:57:02 (34.6 MB/s) - ‘Train_all_sentence.fth.2’ saved [2951338/2951338]\n",
            "\n"
          ]
        }
      ]
    },
    {
      "cell_type": "code",
      "metadata": {
        "id": "QOAaF9hwwhvp"
      },
      "source": [
        "df=pd.read_feather(\"Train_all_sentence.fth\")"
      ],
      "execution_count": 13,
      "outputs": []
    },
    {
      "cell_type": "code",
      "metadata": {
        "colab": {
          "base_uri": "https://localhost:8080/",
          "height": 467
        },
        "id": "iuWeGPxRw4um",
        "outputId": "3f210fe3-6b8d-47fd-96c3-12089af25473"
      },
      "source": [
        "df.head()"
      ],
      "execution_count": 14,
      "outputs": [
        {
          "output_type": "execute_result",
          "data": {
            "text/html": [
              "<div>\n",
              "<style scoped>\n",
              "    .dataframe tbody tr th:only-of-type {\n",
              "        vertical-align: middle;\n",
              "    }\n",
              "\n",
              "    .dataframe tbody tr th {\n",
              "        vertical-align: top;\n",
              "    }\n",
              "\n",
              "    .dataframe thead th {\n",
              "        text-align: right;\n",
              "    }\n",
              "</style>\n",
              "<table border=\"1\" class=\"dataframe\">\n",
              "  <thead>\n",
              "    <tr style=\"text-align: right;\">\n",
              "      <th></th>\n",
              "      <th>tweet_id</th>\n",
              "      <th>airline_sentiment</th>\n",
              "      <th>airline_sentiment_confidence</th>\n",
              "      <th>negativereason</th>\n",
              "      <th>negativereason_confidence</th>\n",
              "      <th>airline</th>\n",
              "      <th>airline_sentiment_gold</th>\n",
              "      <th>name</th>\n",
              "      <th>negativereason_gold</th>\n",
              "      <th>retweet_count</th>\n",
              "      <th>text</th>\n",
              "      <th>tweet_coord</th>\n",
              "      <th>tweet_created</th>\n",
              "      <th>tweet_location</th>\n",
              "      <th>user_timezone</th>\n",
              "      <th>clean_text</th>\n",
              "      <th>sentece_code</th>\n",
              "    </tr>\n",
              "  </thead>\n",
              "  <tbody>\n",
              "    <tr>\n",
              "      <th>0</th>\n",
              "      <td>570018445695148033</td>\n",
              "      <td>negative</td>\n",
              "      <td>1.0</td>\n",
              "      <td>Customer Service Issue</td>\n",
              "      <td>0.6560</td>\n",
              "      <td>United</td>\n",
              "      <td>None</td>\n",
              "      <td>tpensari</td>\n",
              "      <td>None</td>\n",
              "      <td>0</td>\n",
              "      <td>@united your customer service is terrible! Sto...</td>\n",
              "      <td>None</td>\n",
              "      <td>2015-02-23 16:32:42 -0800</td>\n",
              "      <td>None</td>\n",
              "      <td>None</td>\n",
              "      <td>your customer service is terrible stood inline...</td>\n",
              "      <td>[8325, 1798, 6541, 3856, 7342, 7023, 3734, 350...</td>\n",
              "    </tr>\n",
              "    <tr>\n",
              "      <th>1</th>\n",
              "      <td>568830255282040832</td>\n",
              "      <td>neutral</td>\n",
              "      <td>1.0</td>\n",
              "      <td>None</td>\n",
              "      <td>NaN</td>\n",
              "      <td>Southwest</td>\n",
              "      <td>None</td>\n",
              "      <td>leavenodoubt131</td>\n",
              "      <td>None</td>\n",
              "      <td>0</td>\n",
              "      <td>@SouthwestAir  I will dm you now</td>\n",
              "      <td>None</td>\n",
              "      <td>2015-02-20 09:51:15 -0800</td>\n",
              "      <td>None</td>\n",
              "      <td>Tijuana</td>\n",
              "      <td>i will do you now</td>\n",
              "      <td>[3551, 8173, 2175, 8319, 4965]</td>\n",
              "    </tr>\n",
              "    <tr>\n",
              "      <th>2</th>\n",
              "      <td>569296356143050754</td>\n",
              "      <td>negative</td>\n",
              "      <td>1.0</td>\n",
              "      <td>longlines</td>\n",
              "      <td>0.3462</td>\n",
              "      <td>United</td>\n",
              "      <td>None</td>\n",
              "      <td>ScottyNeuman</td>\n",
              "      <td>None</td>\n",
              "      <td>1</td>\n",
              "      <td>@united congratulations united. Fail again. Sk...</td>\n",
              "      <td>[39.85760174, -104.66669625]</td>\n",
              "      <td>2015-02-21 16:43:22 -0800</td>\n",
              "      <td>Montana, God's country\\n</td>\n",
              "      <td>Pacific Time (US &amp; Canada)</td>\n",
              "      <td>congratulations united fail again sky at a gat...</td>\n",
              "      <td>[1562, 7772, 2657, 153, 6712, 502, 1, 3029, 82...</td>\n",
              "    </tr>\n",
              "    <tr>\n",
              "      <th>3</th>\n",
              "      <td>569936640669581313</td>\n",
              "      <td>positive</td>\n",
              "      <td>1.0</td>\n",
              "      <td>None</td>\n",
              "      <td>NaN</td>\n",
              "      <td>United</td>\n",
              "      <td>None</td>\n",
              "      <td>koploperfan1992</td>\n",
              "      <td>None</td>\n",
              "      <td>0</td>\n",
              "      <td>@united look at this beauty 😉 dc 10 united air...</td>\n",
              "      <td>[51.322819, 5.3576218]</td>\n",
              "      <td>2015-02-23 11:07:38 -0800</td>\n",
              "      <td>Winterfell</td>\n",
              "      <td>None</td>\n",
              "      <td>look at this beauty do  united airlines</td>\n",
              "      <td>[4323, 502, 7402, 694, 2175, 7772, 197]</td>\n",
              "    </tr>\n",
              "    <tr>\n",
              "      <th>4</th>\n",
              "      <td>569542242983124992</td>\n",
              "      <td>positive</td>\n",
              "      <td>1.0</td>\n",
              "      <td>None</td>\n",
              "      <td>NaN</td>\n",
              "      <td>Delta</td>\n",
              "      <td>None</td>\n",
              "      <td>sandyy889</td>\n",
              "      <td>None</td>\n",
              "      <td>0</td>\n",
              "      <td>@JetBlue Landing! As usual great flight wiyh a...</td>\n",
              "      <td>None</td>\n",
              "      <td>2015-02-22 09:00:26 -0800</td>\n",
              "      <td>None</td>\n",
              "      <td>America/Detroit</td>\n",
              "      <td>landing as usual great flight wiyh a great cre...</td>\n",
              "      <td>[4092, 457, 7871, 3170, 2829, 8213, 1, 3170, 1...</td>\n",
              "    </tr>\n",
              "  </tbody>\n",
              "</table>\n",
              "</div>"
            ],
            "text/plain": [
              "             tweet_id  ...                                       sentece_code\n",
              "0  570018445695148033  ...  [8325, 1798, 6541, 3856, 7342, 7023, 3734, 350...\n",
              "1  568830255282040832  ...                     [3551, 8173, 2175, 8319, 4965]\n",
              "2  569296356143050754  ...  [1562, 7772, 2657, 153, 6712, 502, 1, 3029, 82...\n",
              "3  569936640669581313  ...            [4323, 502, 7402, 694, 2175, 7772, 197]\n",
              "4  569542242983124992  ...  [4092, 457, 7871, 3170, 2829, 8213, 1, 3170, 1...\n",
              "\n",
              "[5 rows x 17 columns]"
            ]
          },
          "metadata": {},
          "execution_count": 14
        }
      ]
    },
    {
      "cell_type": "code",
      "metadata": {
        "id": "FCq2m69A39g3"
      },
      "source": [
        "table=list(df[\"sentece_code\"]) # typo\n",
        "lens=max([len(x) for x in table])\n",
        "sentiment=list(df[\"airline_sentiment\"])\n"
      ],
      "execution_count": 15,
      "outputs": []
    },
    {
      "cell_type": "code",
      "metadata": {
        "id": "wGBReaGM6-zn"
      },
      "source": [
        "ytrain=[]\n",
        "for sent in sentiment:\n",
        "    if sent==\"negative\":\n",
        "        o=[1,0,0]\n",
        "    if sent==\"neutral\":\n",
        "        o=[0,1,0]\n",
        "    if sent==\"positive\":\n",
        "        o=[0,0,1]\n",
        "    ytrain.append(o)\n",
        "    "
      ],
      "execution_count": 16,
      "outputs": []
    },
    {
      "cell_type": "code",
      "metadata": {
        "id": "TNi-g2CNARwY"
      },
      "source": [
        "x0=[0 for _ in range(lens) ]\n",
        "xtrain=[]\n",
        "for sent in table:\n",
        "    o1=list(x0[0:lens-len(sent)]+list(sent))\n",
        "    xtrain.append(o1)"
      ],
      "execution_count": 17,
      "outputs": []
    },
    {
      "cell_type": "code",
      "metadata": {
        "id": "tRf3_wt9Bekb"
      },
      "source": [
        ""
      ],
      "execution_count": 17,
      "outputs": []
    },
    {
      "cell_type": "code",
      "metadata": {
        "id": "3JEpjcQSBWtx"
      },
      "source": [
        ""
      ],
      "execution_count": 17,
      "outputs": []
    },
    {
      "cell_type": "code",
      "metadata": {
        "colab": {
          "base_uri": "https://localhost:8080/"
        },
        "id": "41PgIpwlADTX",
        "outputId": "1a0d96c1-d8c5-4c7e-d712-82812b960a7e"
      },
      "source": [
        "print(lens)"
      ],
      "execution_count": 18,
      "outputs": [
        {
          "output_type": "stream",
          "name": "stdout",
          "text": [
            "33\n"
          ]
        }
      ]
    },
    {
      "cell_type": "code",
      "metadata": {
        "id": "59MTn_Fs3SvW"
      },
      "source": [
        "\n",
        "\n",
        "lstm_size=lens\n",
        "max_input_length=lens\n",
        "embedding_size=100\n",
        "n_words=len(table)"
      ],
      "execution_count": 19,
      "outputs": []
    },
    {
      "cell_type": "code",
      "metadata": {
        "id": "uvvPuVNSxNa7"
      },
      "source": [
        "\n",
        "# Importáld a megfelelő rétegeket\n",
        "from tensorflow.keras.layers import Input,Dense,Embedding,LSTM,TimeDistributed\n",
        "from tensorflow.keras.models import Model\n",
        "from tensorflow.keras.optimizers import Adadelta,Adam,SGD\n",
        "from tensorflow.keras.losses import sparse_categorical_crossentropy,categorical_crossentropy\n",
        "from tensorflow.keras import backend as K\n",
        "# Gondolj bele, hogy a hálóban az első réteg egy \"beágazás\" kell majd legyen\n",
        "# Ne feledd behozni a funkcionális vagy szekvenciális API-nak megfelelő \"fő\" osztályt\n",
        "# Adott esetben az optimalizálót\n",
        "# Nem külömben a \"bakcendet\", hogy jó gyakorlat szerint reseteld a gráfot\n",
        "#tf.reset_default_graph()\n",
        "K.clear_session\n",
        "x= Input(shape=(max_input_length,))\n",
        "embedded_x=Embedding(n_words+1,embedding_size, input_length=max_input_length-1, mask_zero=True)(x)\n",
        "lstm_output=LSTM(lstm_size,return_sequences=True)(embedded_x)\n",
        "lstm_output=LSTM(lstm_size,return_sequences=False)(lstm_output)\n",
        "predictions= Dense(3, activation=\"softmax\")(lstm_output)\n",
        "model=Model(inputs=x, outputs=predictions)\n",
        "\n"
      ],
      "execution_count": 20,
      "outputs": []
    },
    {
      "cell_type": "code",
      "metadata": {
        "colab": {
          "base_uri": "https://localhost:8080/"
        },
        "id": "NQpADS6gMHmd",
        "outputId": "f57b73d3-be83-43a8-a5e3-503bf6990a87"
      },
      "source": [
        "model.summary()"
      ],
      "execution_count": 21,
      "outputs": [
        {
          "output_type": "stream",
          "name": "stdout",
          "text": [
            "Model: \"model\"\n",
            "_________________________________________________________________\n",
            "Layer (type)                 Output Shape              Param #   \n",
            "=================================================================\n",
            "input_1 (InputLayer)         [(None, 33)]              0         \n",
            "_________________________________________________________________\n",
            "embedding (Embedding)        (None, 33, 100)           1200100   \n",
            "_________________________________________________________________\n",
            "lstm (LSTM)                  (None, 33, 33)            17688     \n",
            "_________________________________________________________________\n",
            "lstm_1 (LSTM)                (None, 33)                8844      \n",
            "_________________________________________________________________\n",
            "dense (Dense)                (None, 3)                 102       \n",
            "=================================================================\n",
            "Total params: 1,226,734\n",
            "Trainable params: 1,226,734\n",
            "Non-trainable params: 0\n",
            "_________________________________________________________________\n"
          ]
        }
      ]
    },
    {
      "cell_type": "code",
      "metadata": {
        "colab": {
          "base_uri": "https://localhost:8080/"
        },
        "id": "wutYc1k0HcL0",
        "outputId": "1a77492d-d198-4074-a3e3-7d1a23dc6058"
      },
      "source": [
        "x"
      ],
      "execution_count": 22,
      "outputs": [
        {
          "output_type": "execute_result",
          "data": {
            "text/plain": [
              "<KerasTensor: shape=(None, 33) dtype=float32 (created by layer 'input_1')>"
            ]
          },
          "metadata": {},
          "execution_count": 22
        }
      ]
    },
    {
      "cell_type": "code",
      "metadata": {
        "id": "SzJYM8QeJyvI"
      },
      "source": [
        "import numpy as np"
      ],
      "execution_count": 23,
      "outputs": []
    },
    {
      "cell_type": "code",
      "metadata": {
        "id": "WZSj92FGOebc"
      },
      "source": [
        "x_train=xtrain[0:-2000]\n",
        "y_train=ytrain[0:-2000]\n",
        "x_test=xtrain[-2000:]\n",
        "y_test=ytrain[-2000:]"
      ],
      "execution_count": 24,
      "outputs": []
    },
    {
      "cell_type": "code",
      "metadata": {
        "id": "ACrVf-TbJYDe"
      },
      "source": [
        "train_x = np.asarray(xtrain)\n",
        "train_y = np.asarray(ytrain)"
      ],
      "execution_count": 25,
      "outputs": []
    },
    {
      "cell_type": "code",
      "metadata": {
        "id": "Lj_fAh_eKaSl"
      },
      "source": [
        ""
      ],
      "execution_count": 25,
      "outputs": []
    },
    {
      "cell_type": "code",
      "metadata": {
        "id": "RWIM4DP36S2L"
      },
      "source": [
        "# Loss \n",
        "\n",
        "loss = categorical_crossentropy # One-hot enkódolt kimenetünk van. Mit is használunk?\n",
        "\n",
        "# Optimizer\n",
        "optimizer = Adam() #Ízlés szerint...\n",
        " \n",
        "# Compilation\n",
        "#############\n",
        "\n",
        "model.compile(optimizer=optimizer,loss=loss)"
      ],
      "execution_count": 26,
      "outputs": []
    },
    {
      "cell_type": "code",
      "metadata": {
        "colab": {
          "base_uri": "https://localhost:8080/"
        },
        "id": "op-I834SFpUX",
        "outputId": "1899c452-d9b8-44ea-b8a7-5af2b6a1cc34"
      },
      "source": [
        "# Illesszük az adatra a modellt. Használjunk 10% validációt\n",
        "history=model.fit(x=xtrain,y=ytrain,validation_data=( x_test,y_test), epochs=25, batch_size=100)\n",
        "# - nyelvmodellnél ez nem olyan lényeges\n",
        "# Használhatjuk a Keras beépített validációs splitjét.\n",
        "# Adjunk meg reális batch méretet!"
      ],
      "execution_count": null,
      "outputs": [
        {
          "output_type": "stream",
          "name": "stdout",
          "text": [
            "Epoch 1/25\n",
            "120/120 [==============================] - 9s 72ms/step - loss: 0.0444 - val_loss: 0.0397\n",
            "Epoch 2/25\n",
            "120/120 [==============================] - 8s 70ms/step - loss: 0.0414 - val_loss: 0.0353\n",
            "Epoch 3/25\n",
            "120/120 [==============================] - 8s 70ms/step - loss: 0.0414 - val_loss: 0.0332\n",
            "Epoch 4/25\n",
            "120/120 [==============================] - 8s 70ms/step - loss: 0.0392 - val_loss: 0.0324\n",
            "Epoch 5/25\n",
            "120/120 [==============================] - 8s 70ms/step - loss: 0.0318 - val_loss: 0.0305\n",
            "Epoch 6/25\n",
            "120/120 [==============================] - 8s 70ms/step - loss: 0.0353 - val_loss: 0.0262\n",
            "Epoch 7/25\n",
            "120/120 [==============================] - 8s 69ms/step - loss: 0.0287 - val_loss: 0.0241\n",
            "Epoch 8/25\n",
            "120/120 [==============================] - 8s 70ms/step - loss: 0.0267 - val_loss: 0.0244\n",
            "Epoch 9/25\n",
            "120/120 [==============================] - 8s 69ms/step - loss: 0.0292 - val_loss: 0.0264\n",
            "Epoch 10/25\n",
            "120/120 [==============================] - 8s 70ms/step - loss: 0.0294 - val_loss: 0.0302\n",
            "Epoch 11/25\n",
            "120/120 [==============================] - 8s 69ms/step - loss: 0.0335 - val_loss: 0.0238\n",
            "Epoch 12/25\n",
            "120/120 [==============================] - 8s 69ms/step - loss: 0.0324 - val_loss: 0.1026\n",
            "Epoch 13/25\n",
            "120/120 [==============================] - 8s 69ms/step - loss: 0.0448 - val_loss: 0.0397\n",
            "Epoch 14/25\n",
            " 89/120 [=====================>........] - ETA: 2s - loss: 0.0273"
          ]
        }
      ]
    }
  ]
}