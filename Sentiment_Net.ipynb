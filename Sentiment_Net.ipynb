{
  "nbformat": 4,
  "nbformat_minor": 0,
  "metadata": {
    "colab": {
      "name": "Sentiment_Net.ipynb",
      "provenance": [],
      "collapsed_sections": [],
      "authorship_tag": "ABX9TyPzMjpn42Fc1anJyAkR6uhK",
      "include_colab_link": true
    },
    "kernelspec": {
      "name": "python3",
      "display_name": "Python 3"
    },
    "language_info": {
      "name": "python"
    }
  },
  "cells": [
    {
      "cell_type": "markdown",
      "metadata": {
        "id": "view-in-github",
        "colab_type": "text"
      },
      "source": [
        "<a href=\"https://colab.research.google.com/github/sipocz/Twitter-Sentiment-Analysis-AI-Challenge/blob/main/Sentiment_Net.ipynb\" target=\"_parent\"><img src=\"https://colab.research.google.com/assets/colab-badge.svg\" alt=\"Open In Colab\"/></a>"
      ]
    },
    {
      "cell_type": "code",
      "metadata": {
        "id": "lS8T-dxnwfjO"
      },
      "source": [
        "import pandas as pd"
      ],
      "execution_count": null,
      "outputs": []
    },
    {
      "cell_type": "markdown",
      "metadata": {
        "id": "YDQLvAy5gI0C"
      },
      "source": [
        "##Szószedet"
      ]
    },
    {
      "cell_type": "code",
      "metadata": {
        "colab": {
          "base_uri": "https://localhost:8080/"
        },
        "id": "lDUZMjUkgIIe",
        "outputId": "079de5c5-6b3b-420c-eb2e-bc0cfb5f76ff"
      },
      "source": [
        "!rm *zip*\n",
        "!wget https://github.com/sipocz/Twitter-Sentiment-Analysis-AI-Challenge/raw/9674d3c8ef760a8d2c5cc2e3af8a71faa93edf7d/twitter_sentiment_analysis_ai_challenge-dataset.zip\n",
        "!unzip twitter_sentiment_analysis_ai_challenge-dataset.zip\n",
        "df=pd.read_csv(\"TEST.csv\")"
      ],
      "execution_count": null,
      "outputs": [
        {
          "output_type": "stream",
          "name": "stdout",
          "text": [
            "rm: cannot remove '*zip*': No such file or directory\n",
            "--2021-10-07 17:08:21--  https://github.com/sipocz/Twitter-Sentiment-Analysis-AI-Challenge/raw/9674d3c8ef760a8d2c5cc2e3af8a71faa93edf7d/twitter_sentiment_analysis_ai_challenge-dataset.zip\n",
            "Resolving github.com (github.com)... 140.82.112.4\n",
            "Connecting to github.com (github.com)|140.82.112.4|:443... connected.\n",
            "HTTP request sent, awaiting response... 302 Found\n",
            "Location: https://raw.githubusercontent.com/sipocz/Twitter-Sentiment-Analysis-AI-Challenge/9674d3c8ef760a8d2c5cc2e3af8a71faa93edf7d/twitter_sentiment_analysis_ai_challenge-dataset.zip [following]\n",
            "--2021-10-07 17:08:21--  https://raw.githubusercontent.com/sipocz/Twitter-Sentiment-Analysis-AI-Challenge/9674d3c8ef760a8d2c5cc2e3af8a71faa93edf7d/twitter_sentiment_analysis_ai_challenge-dataset.zip\n",
            "Resolving raw.githubusercontent.com (raw.githubusercontent.com)... 185.199.109.133, 185.199.111.133, 185.199.110.133, ...\n",
            "Connecting to raw.githubusercontent.com (raw.githubusercontent.com)|185.199.109.133|:443... connected.\n",
            "HTTP request sent, awaiting response... 200 OK\n",
            "Length: 1258171 (1.2M) [application/zip]\n",
            "Saving to: ‘twitter_sentiment_analysis_ai_challenge-dataset.zip’\n",
            "\n",
            "twitter_sentiment_a 100%[===================>]   1.20M  --.-KB/s    in 0.01s   \n",
            "\n",
            "2021-10-07 17:08:21 (104 MB/s) - ‘twitter_sentiment_analysis_ai_challenge-dataset.zip’ saved [1258171/1258171]\n",
            "\n",
            "Archive:  twitter_sentiment_analysis_ai_challenge-dataset.zip\n",
            "  inflating: SampleSubmission.csv    \n",
            "  inflating: TEST.csv                \n",
            "  inflating: TRAIN.csv               \n"
          ]
        }
      ]
    },
    {
      "cell_type": "code",
      "metadata": {
        "colab": {
          "base_uri": "https://localhost:8080/"
        },
        "id": "YDtEcJB5haQF",
        "outputId": "2488cb61-b4d7-454c-b01c-8ed537dcb82a"
      },
      "source": [
        "df.head()\n",
        "alltext1=df.text\n",
        "print (len(alltext1))"
      ],
      "execution_count": null,
      "outputs": [
        {
          "output_type": "stream",
          "name": "stdout",
          "text": [
            "2640\n"
          ]
        }
      ]
    },
    {
      "cell_type": "code",
      "metadata": {
        "colab": {
          "base_uri": "https://localhost:8080/"
        },
        "id": "dA8Mk878pUdU",
        "outputId": "b047e70c-ea2e-47c0-fad5-8f175810d4b2"
      },
      "source": [
        "df2=pd.read_csv(\"TRAIN.csv\")\n",
        "alltext2=df2.text\n",
        "print (len(alltext2))"
      ],
      "execution_count": null,
      "outputs": [
        {
          "output_type": "stream",
          "name": "stdout",
          "text": [
            "12000\n"
          ]
        }
      ]
    },
    {
      "cell_type": "code",
      "metadata": {
        "colab": {
          "base_uri": "https://localhost:8080/"
        },
        "id": "_P-xoaRAp9gy",
        "outputId": "48346fef-c0fd-4909-9099-96e86b8f126d"
      },
      "source": [
        "alltext1=list(alltext1)\n",
        "alltext2=list(alltext2)\n",
        "alltext=alltext1+alltext2\n",
        "print(f\" {len(alltext)}\")\n"
      ],
      "execution_count": null,
      "outputs": [
        {
          "output_type": "stream",
          "name": "stdout",
          "text": [
            " 14640\n"
          ]
        }
      ]
    },
    {
      "cell_type": "code",
      "metadata": {
        "id": "OczaGqbTqKgz"
      },
      "source": [
        ""
      ],
      "execution_count": null,
      "outputs": []
    },
    {
      "cell_type": "code",
      "metadata": {
        "id": "2vGSDdwGqneG"
      },
      "source": [
        ""
      ],
      "execution_count": null,
      "outputs": []
    },
    {
      "cell_type": "code",
      "metadata": {
        "colab": {
          "base_uri": "https://localhost:8080/"
        },
        "id": "tuRrm2HJja_6",
        "outputId": "172dea14-eb75-4a60-a0cf-900ad8cf0c2a"
      },
      "source": [
        "!pip install pyspellchecker\n",
        "from spellchecker import SpellChecker\n",
        "\n",
        "spell = SpellChecker()\n",
        "print(spell.correction(\"@frustrating\"))"
      ],
      "execution_count": null,
      "outputs": [
        {
          "output_type": "stream",
          "name": "stdout",
          "text": [
            "Requirement already satisfied: pyspellchecker in /usr/local/lib/python3.7/dist-packages (0.6.2)\n",
            "frustrating\n"
          ]
        }
      ]
    },
    {
      "cell_type": "code",
      "metadata": {
        "id": "RCN90l7Ijkb5"
      },
      "source": [
        "import re\n",
        "\n",
        "def remove_URL(text):\n",
        "    \"\"\"Remove URLs from a text string\"\"\"\n",
        "    return re.sub(r\"http\\S+\", \"\", text)\n",
        "\n",
        "def remove_emoji(string):\n",
        "    emoji_pattern = re.compile(\"[\"\n",
        "                           u\"\\U0001F600-\\U0001F64F\"  # emoticons\n",
        "                           u\"\\U0001F300-\\U0001F5FF\"  # symbols & pictographs\n",
        "                           u\"\\U0001F680-\\U0001F6FF\"  # transport & map symbols\n",
        "                           u\"\\U0001F1E0-\\U0001F1FF\"  # flags (iOS)\n",
        "                           u\"\\U00002702-\\U000027B0\"\n",
        "                           u\"\\U000024C2-\\U0001F251\"\n",
        "                           \"]+\", flags=re.UNICODE)\n",
        "    return emoji_pattern.sub(r'', string)\n",
        "\n",
        "def is_number(inp:str):\n",
        "    a=re.search(\"[\\d]\",inp)\n",
        "    if a==None: \n",
        "        return(False)\n",
        "    return(True)\n",
        "\n",
        "def strip_all_entities(text):\n",
        "    import re,string\n",
        "    entity_prefixes = ['“','@','#']\n",
        "    for separator in  string.punctuation:\n",
        "        if separator not in entity_prefixes :\n",
        "            text = text.replace(separator,' ')\n",
        "    words = []\n",
        "    for word in text.split():\n",
        "        word = word.strip()\n",
        "        if word:\n",
        "            if word[0] not in entity_prefixes:\n",
        "                words.append(word)\n",
        "    return ' '.join(words)\n",
        "\n",
        "def query_sentence(index):\n",
        "    print(f\"orig: {alltext[index]}\")\n",
        "    spell=SpellChecker()\n",
        "    inp=alltext[index]\n",
        "    inp=remove_URL(inp)\n",
        "    inp=remove_emoji(inp)\n",
        "    inp=strip_all_entities(inp)\n",
        "    \n",
        "    txt=inp.replace(\",\",\" \").replace(\".\",\" \").replace(\"!\",\" \").replace(\"#\",\" \").replace(\"???\",\" \").replace(\"??\",\" \").replace(\"?\",\" \").replace(\"  \",\" \").replace(\"  \",\" \").replace('\"',\"\").replace(\"“\",\"\")\n",
        "\n",
        "    #print(txt)\n",
        "    normal=\"\"\n",
        "    for i in txt.split(\" \"):\n",
        "        w1=i.lower().strip()\n",
        "        if w1 !=\"\":\n",
        "            w2=spell.correction(w1).strip()\n",
        "        else:\n",
        "            w2=\"\"\n",
        "        if w2==\"i\":\n",
        "            pass\n",
        "            #print(f\"chek: {w1}, {w2}\")\n",
        "        if is_number(w2):\n",
        "            w2=\"\"    \n",
        "        normal += w2+\" \"\n",
        "\n",
        "    print(f\"  conv: {normal}\")\n",
        "    return(normal)"
      ],
      "execution_count": null,
      "outputs": []
    },
    {
      "cell_type": "markdown",
      "metadata": {
        "id": "KzMOTKbN2G3R"
      },
      "source": [
        "##Mentés"
      ]
    },
    {
      "cell_type": "code",
      "metadata": {
        "colab": {
          "base_uri": "https://localhost:8080/",
          "height": 1000
        },
        "id": "N9ZUtwPWj2wv",
        "outputId": "e84aec3b-abdb-4366-a7e1-6296f692b0ae"
      },
      "source": [
        "t=[]\n",
        "for i in range(len(alltext)):\n",
        "    print(f\"{i}\", end=\" \")\n",
        "    t.append(query_sentence(i))\n"
      ],
      "execution_count": null,
      "outputs": [
        {
          "output_type": "stream",
          "name": "stdout",
          "text": [
            "0 orig: @united well someone should tell that to the employees at the Denver baggage claim. Still no bag!!!!\n",
            "  conv: well someone should tell that to the employees at the denver baggage claim still no bag \n",
            "1 orig: @AmericanAir Let's all have a extraordinary week and make it a year to remember #GoingForGreat 2015 thanks so much American Airlines!!!\n",
            "  conv: let i all have a extraordinary week and make it a year to remember  thanks so much american airlines \n",
            "2 orig: @united since I have an international connection at 9am, I'm hoping for the same thing!\n",
            "  conv: since i have an international connection at am i i hoping for the same thing \n",
            "3 orig: @JetBlue woulda been nice of you to let us know that or post it!!! Your boards still show the flight on time!!!\n",
            "  conv: woulda been nice of you to let us know that or post it your boards still show the flight on time \n",
            "4 orig: @USAirways contd.. They put her on 7 pm flite tonite. I think she's on now. Worst customer service ever! U need to fix it.\n",
            "  conv: cond they put her on  am elite tonite i think she i on now worst customer service ever u need to fix it \n",
            "5 orig: @JetBlue saving my sanity. Leaving it behind for sunshine. #escape #FL #bliss #travel #InDenial #WhatFrozenPipes http://t.co/6TtzEJV3hY\n",
            "  conv: saving my sanity leaving it behind for sunshine \n",
            "6 orig: @AmericanAir WORST SERVICE EVER!! Delayed flights for more than 5 hours plus you missed my bag! And your employees are rude 😡😡\n",
            "  conv: worst service ever delayed flights for more than  hours plus you missed my bag and your employees are rude \n",
            "7 orig: @USAirways, I'm expecting 400% reimbursement for the unprofessional decisions with US728 on 21 Feb. Check your very full complaint box.\n",
            "  conv: i i expecting  reimbursement for the unprofessional decisions with  on  feb check your very full complaint box \n",
            "8 orig: @AmericanAir I might look into that. My wife travels much more than I do. Could we both use the membership?\n",
            "  conv: i might look into that my wife travels much more than i do could we both use the membership \n",
            "9 orig: @JetBlue I thought being a mosaic member had 'perks' the best part is instead of checking the extra 5lbs I'm carrying it on 😒\n",
            "  conv: i thought being a mosaic member had perks the best part is instead of checking the extra plus i i carrying it on \n",
            "10 orig: @AmericanAir is there a probability that flight 1330 from DFW to DTW will be delayed or Cancelled Flighted?\n",
            "  conv: is there a probability that flight  from dew to dew will be delayed or cancelled lighted \n",
            "11 orig: @USAirways we already spoke to someone several times about the matter and no one is sympathetic or will fly us home early complimentary.\n",
            "  conv: we already spoke to someone several times about the matter and no one is sympathetic or will fly us home early complimentary \n",
            "12 orig: @united I am still in the airport waiting for my flight.\n",
            "  conv: i am still in the airport waiting for my flight \n",
            "13 orig: @USAirways you suck and you ruined my day. And my vacation isn't even until June.\n",
            "  conv: you suck and you ruined my day and my vacation isn i even until june \n",
            "14 orig: @AmericanAir please dm me\n",
            "  conv: please do me \n",
            "15 orig: @united can we get an explanation on why UA978 from São Paulo to Houston has been delayed? Now we're hearing from crew about Cancelled Flightlations.\n",
            "  conv: can we get an explanation on why  from so paulo to houston has been delayed now we re hearing from crew about cancelled flightlations \n",
            "16 orig: @SouthwestAir is there a way to know who checked my bag on the curb? She was awesome!!! And want to be sure she gets a high five!\n",
            "  conv: is there a way to know who checked my bag on the curb she was awesome and want to be sure she gets a high five \n",
            "17 orig: @united Your \"Loyalty Team\" basically flipped me off via phone, but thanks. Maybe Google \"loyalty\" and get back to me? ^LOL\n",
            "  conv: your loyalty team basically flipped me off via phone but thanks maybe google loyalty and get back to me lol \n",
            "18 orig: @USAirways  #USAirways disappoints AGAIN! #Cancelled Flighted flights #Missed appointments #Promised refund is a lie\n",
            "  conv: disappoints again lighted flights appointments refund is a lie \n",
            "19 orig: @USAirways I have fam thats supposed to fly 2/22 that are currently in the hosp.3 trys to speak to a human, yr phone sys cuts off. pls hlp!\n",
            "  conv: i have fam thats supposed to fly   that are currently in the hosp  trys to speak to a human yr phone sys cuts off plus help \n",
            "20 orig: @AmericanAir @MattThomasNews When did American Airlines start flying to and from Siberia? Wait, this is the USA? Oy!\n",
            "  conv: when did american airlines start flying to and from siberia wait this is the usa oy \n",
            "21 orig: @AmericanAir Thanks for your canned response that makes it look like you care about your customers. I'm sure all Twitter users fall for it..\n",
            "  conv: thanks for your canned response that makes it look like you care about your customers i i sure all twitter users fall for it \n",
            "22 orig: @united Just got demoted from Gold cuz my hubby got 100% of the PQD, tho there were enuf $ spent for 4 Golds.#spousal.discrimination/angry.\n",
            "  conv: just got demoted from gold cuz my hubby got  of the pod tho there were neuf spent for  golds discrimination angry \n",
            "23 orig: @united the lounge tells us they have no pillows for my grandma as one of the ladies opens the closet and I see 2 right there. #unitedlies\n",
            "  conv: the lounge tells us they have no pillows for my grandma as one of the ladies opens the closet and i see  right there \n",
            "24 orig: @AmericanAir robocalls me with another Cancelled Flightation. And then when I don’t accept the change it won’t let me connect to an agent. Just wow.\n",
            "  conv: robocall me with another cancelled flirtation and then when i don't accept the change it won't let me connect to an agent just wow \n",
            "25 orig: .@AmericanAir Hopefully it's all fixed. They've got a new aircraft for us- just waiting to board.\n",
            "  conv: hopefully it i all fixed they ve got a new aircraft for us just waiting to board \n",
            "26 orig: @SouthwestAir yea but I was hoping to avoid the ticket difference amount as a birthday courtesy? #flysouthwest #lovesouthwest #mybday\n",
            "  conv: yea but i was hoping to avoid the ticket difference amount as a birthday courtesy \n",
            "27 orig: @SouthwestAir while you clearly didn't care about our troubles yday thought I'd share bags took &gt;90min and came back absolutely drenched..\n",
            "  conv: while you clearly didn i care about our troubles day thought i i share bags took it min and came back absolutely drenched \n",
            "28 orig: @USAirways 4 hours . How do I change my flight that was Cancelled Flightled ?\n",
            "  conv:  hours how do i change my flight that was cancelled lighted \n",
            "29 orig: @SouthwestAir lol I already am ! I am a card member as well too lol i enjoy flying with you Guys\n",
            "  conv: lol i already am i am a card member as well too lol i enjoy flying with you guys \n",
            "30 orig: @united very poor customer service. I WILL think again befor Flight Booking Problems another United flight.\n",
            "  conv: very poor customer service i will think again befor flight booking problems another united flight \n",
            "31 orig: @SouthwestAir I love you guys! Had to take a few other airlines this week...makes me love and appreciate y'all so much more! #onlywaytofly\n",
            "  conv: i love you guys had to take a few other airlines this week makes me love and appreciate y all so much more \n",
            "32 orig: @AmericanAir and just bad cs! I will be back on @JetBlue  at least when you stuck they look out for you and apologize for any trouble\n",
            "  conv: and just bad is i will be back on at least when you stuck they look out for you and apologize for any trouble \n",
            "33 orig: @VirginAmerica to begin Dallas-Austin #flights in April - 88.9 KETR http://t.co/SSUVWwkyHH\n",
            "  conv: to begin dallas austin in april   kerr \n",
            "34 orig: “@JetBlue: Our fleet's on fleek. http://t.co/Vxn2J36M7V” this happened\n",
            "  conv: our fleet i on fleek this happened \n",
            "35 orig: @united Worked like a charm. Bag was waiting on the carousel when we got to baggage claim. #welldone #goodflight #friendlysky\n",
            "  conv: worked like a charm bag was waiting on the carousel when we got to baggage claim \n",
            "36 orig: @AmericanAir thanks!\n",
            "  conv: thanks \n",
            "37 orig: @united thanks! Will you guys be getting the A380s anytime soon?\n",
            "  conv: thanks will you guys be getting the  anytime soon \n",
            "38 orig: @AmericanAir your call center won't let me wait on hold, which I would happily do. Am I seriously supposed to just keep calling? Not great\n",
            "  conv: your call center won i let me wait on hold which i would happily do am i seriously supposed to just keep calling not great \n",
            "39 orig: @USAirways Today USAir Cancelled Flightled our rescheduled flight &amp; did not notify us except possibly to our home phone-not helpful since we are in CO\n",
            "  conv: today usain cancelled lighted our rescheduled flight amp did not notify us except possibly to our home phone not helpful since we are in co \n",
            "40 orig: @SouthwestAir Great flight yesterday from MSY to AUS!! Thank you for such great safety,service and beautiful skies!! http://t.co/X1EqYAHfvZ\n",
            "  conv: great flight yesterday from my to aus thank you for such great safety service and beautiful skies \n",
            "41 orig: @USAirways over the phone. I called the 6170 number and she picked up almost immediately.\n",
            "  conv: over the phone i called the  number and she picked up almost immediately \n",
            "42 orig: @JetBlue Did you discontinue nonstop service from SJC to BOS? Can't find 471 or 472 anywhere\n",
            "  conv: did you discontinue nonstop service from sec to bos can i find  or  anywhere \n",
            "43 orig: @USAirways thanks\n",
            "  conv: thanks \n",
            "44 orig: @JetBlue as requested, here's selfie somewhere over the Rocky's. #milehighselfieclub http://t.co/A1ChOxKPJp\n",
            "  conv: as requested here i selfie somewhere over the rocky i \n",
            "45 orig: @AmericanAir I have \"continued contacting\" your phone reps for 7 hours and am still unable to get through. That's absurd and I am livid.\n",
            "  conv: i have continued contacting your phone reps for  hours and am still unable to get through that i absurd and i am livid \n",
            "46 orig: @SouthwestAir @Imaginedragons #DestinationDragons Scavenger Hunt rules: http://t.co/vHgkiTzSaw\n",
            "  conv: scavenger hunt rules \n",
            "47 orig: @USAirways pilot for flight 729 didn't show until after departure ⌚️ &amp; now there's a broken computer. Next time flying @United. #ALWAYSLate Flight\n",
            "  conv: pilot for flight  didn i show until after departure i amp now there i a broken computer next time flying flight \n",
            "48 orig: @USAirways passengers sitting on plane for two hours flight #4663 from CMH!!!  All other flights have left #usairwaysfail #worstairlineever\n",
            "  conv: passengers sitting on plane for two hours flight from cme all other flights have left \n",
            "49 orig: “@JetBlue: @sylvie75015 Good morning, Sylvie! Have a great flight! #yourock” &gt; Thank you #JetBlue! @mxo42 @henrikwagner73 #JetBlueRocks\n",
            "  conv: good morning sylvie have a great flight it thank you \n",
            "50 orig: @SouthwestAir Just go ahead and start the scavenger hunt after 5 pm today when work is over ;) #DestinationDragons\n",
            "  conv: just go ahead and start the scavenger hunt after  am today when work is over \n",
            "51 orig: @united  your costumer service today in the Providence airport was sucked. Recommend your airline learn to check the weather and be honest\n",
            "  conv: your costumer service today in the providence airport was sucked recommend your airline learn to check the weather and be honest \n",
            "52 orig: @AmericanAir  beyond frustrated with no call back from auto hold or whatever you call it. Entered my number at 11:30 CST, still no call 2:26\n",
            "  conv: beyond frustrated with no call back from auto hold or whatever you call it entered my number at   cut still no call   \n",
            "53 orig: @JetBlue got it. thanks the quick reply.\n",
            "  conv: got it thanks the quick reply \n",
            "54 orig: @AmericanAir @British_Airways trying to speak with an agent about my flight to London tonight but can't get anyone from AA.  Can you help?\n",
            "  conv: airways trying to speak with an agent about my flight to london tonight but can i get anyone from a can you help \n",
            "55 orig: @SouthwestAir what robot is running this account. The same one that doesn't remember anything they ask. Same conversation over and over.\n",
            "  conv: what robot is running this account the same one that doesn i remember anything they ask same conversation over and over \n",
            "56 orig: @AmericanAir Here you go https://t.co/oM1vIEg74a\n",
            "  conv: here you go \n",
            "57 orig: @united ROC flight Cancelled Flightled. Love my snowy drive home with no useful substitutes\n",
            "  conv: roc flight cancelled lighted love my snowy drive home with no useful substitutes \n",
            "58 orig: @USAirways flt 1820 2rsw could have extended the courtsey of waiting 2min 4 10 of us.... gates closed in r faces.  Ur fired\n",
            "  conv: felt  grow could have extended the courtesy of waiting min   of us gates closed in i faces ur fired \n",
            "59 orig: Spend 1 HOUR on hold with @USAirways .\n",
            "  conv: spend  hour on hold with \n",
            "60 orig: @JetBlue could I get a free flight to Vegas since it's my bday😏☺️\n",
            "  conv: could i get a free flight to vegas since it i my day \n",
            "61 orig: @united thank you for listening to my compliant and doing the right thing. I appreciate you working with me\n",
            "  conv: thank you for listening to my compliant and doing the right thing i appreciate you working with me \n",
            "62 orig: Thank you for your help, Shannon! Great customer service, @SouthwestAir.\n"
          ]
        },
        {
          "output_type": "error",
          "ename": "KeyboardInterrupt",
          "evalue": "ignored",
          "traceback": [
            "\u001b[0;31m---------------------------------------------------------------------------\u001b[0m",
            "\u001b[0;31mKeyboardInterrupt\u001b[0m                         Traceback (most recent call last)",
            "\u001b[0;32m<ipython-input-175-8751644592d8>\u001b[0m in \u001b[0;36m<module>\u001b[0;34m()\u001b[0m\n\u001b[1;32m      2\u001b[0m \u001b[0;32mfor\u001b[0m \u001b[0mi\u001b[0m \u001b[0;32min\u001b[0m \u001b[0mrange\u001b[0m\u001b[0;34m(\u001b[0m\u001b[0mlen\u001b[0m\u001b[0;34m(\u001b[0m\u001b[0malltext\u001b[0m\u001b[0;34m)\u001b[0m\u001b[0;34m)\u001b[0m\u001b[0;34m:\u001b[0m\u001b[0;34m\u001b[0m\u001b[0;34m\u001b[0m\u001b[0m\n\u001b[1;32m      3\u001b[0m     \u001b[0mprint\u001b[0m\u001b[0;34m(\u001b[0m\u001b[0;34mf\"{i}\"\u001b[0m\u001b[0;34m,\u001b[0m \u001b[0mend\u001b[0m\u001b[0;34m=\u001b[0m\u001b[0;34m\" \"\u001b[0m\u001b[0;34m)\u001b[0m\u001b[0;34m\u001b[0m\u001b[0;34m\u001b[0m\u001b[0m\n\u001b[0;32m----> 4\u001b[0;31m     \u001b[0mt\u001b[0m\u001b[0;34m.\u001b[0m\u001b[0mappend\u001b[0m\u001b[0;34m(\u001b[0m\u001b[0mquery_sentence\u001b[0m\u001b[0;34m(\u001b[0m\u001b[0mi\u001b[0m\u001b[0;34m)\u001b[0m\u001b[0;34m)\u001b[0m\u001b[0;34m\u001b[0m\u001b[0;34m\u001b[0m\u001b[0m\n\u001b[0m",
            "\u001b[0;32m<ipython-input-174-64d3b917d7b5>\u001b[0m in \u001b[0;36mquery_sentence\u001b[0;34m(index)\u001b[0m\n\u001b[1;32m     38\u001b[0m \u001b[0;32mdef\u001b[0m \u001b[0mquery_sentence\u001b[0m\u001b[0;34m(\u001b[0m\u001b[0mindex\u001b[0m\u001b[0;34m)\u001b[0m\u001b[0;34m:\u001b[0m\u001b[0;34m\u001b[0m\u001b[0;34m\u001b[0m\u001b[0m\n\u001b[1;32m     39\u001b[0m     \u001b[0mprint\u001b[0m\u001b[0;34m(\u001b[0m\u001b[0;34mf\"orig: {alltext[index]}\"\u001b[0m\u001b[0;34m)\u001b[0m\u001b[0;34m\u001b[0m\u001b[0;34m\u001b[0m\u001b[0m\n\u001b[0;32m---> 40\u001b[0;31m     \u001b[0mspell\u001b[0m\u001b[0;34m=\u001b[0m\u001b[0mSpellChecker\u001b[0m\u001b[0;34m(\u001b[0m\u001b[0;34m)\u001b[0m\u001b[0;34m\u001b[0m\u001b[0;34m\u001b[0m\u001b[0m\n\u001b[0m\u001b[1;32m     41\u001b[0m     \u001b[0minp\u001b[0m\u001b[0;34m=\u001b[0m\u001b[0malltext\u001b[0m\u001b[0;34m[\u001b[0m\u001b[0mindex\u001b[0m\u001b[0;34m]\u001b[0m\u001b[0;34m\u001b[0m\u001b[0;34m\u001b[0m\u001b[0m\n\u001b[1;32m     42\u001b[0m     \u001b[0minp\u001b[0m\u001b[0;34m=\u001b[0m\u001b[0mremove_URL\u001b[0m\u001b[0;34m(\u001b[0m\u001b[0minp\u001b[0m\u001b[0;34m)\u001b[0m\u001b[0;34m\u001b[0m\u001b[0;34m\u001b[0m\u001b[0m\n",
            "\u001b[0;32m/usr/local/lib/python3.7/dist-packages/spellchecker/spellchecker.py\u001b[0m in \u001b[0;36m__init__\u001b[0;34m(self, language, local_dictionary, distance, tokenizer, case_sensitive)\u001b[0m\n\u001b[1;32m     63\u001b[0m                     \u001b[0;32mraise\u001b[0m \u001b[0mValueError\u001b[0m\u001b[0;34m(\u001b[0m\u001b[0mmsg\u001b[0m\u001b[0;34m)\u001b[0m\u001b[0;34m\u001b[0m\u001b[0;34m\u001b[0m\u001b[0m\n\u001b[1;32m     64\u001b[0m \u001b[0;34m\u001b[0m\u001b[0m\n\u001b[0;32m---> 65\u001b[0;31m                 \u001b[0mlang_dict\u001b[0m \u001b[0;34m=\u001b[0m \u001b[0mjson\u001b[0m\u001b[0;34m.\u001b[0m\u001b[0mloads\u001b[0m\u001b[0;34m(\u001b[0m\u001b[0mgzip\u001b[0m\u001b[0;34m.\u001b[0m\u001b[0mdecompress\u001b[0m\u001b[0;34m(\u001b[0m\u001b[0mjson_open\u001b[0m\u001b[0;34m)\u001b[0m\u001b[0;34m.\u001b[0m\u001b[0mdecode\u001b[0m\u001b[0;34m(\u001b[0m\u001b[0;34m\"utf-8\"\u001b[0m\u001b[0;34m)\u001b[0m\u001b[0;34m)\u001b[0m\u001b[0;34m\u001b[0m\u001b[0;34m\u001b[0m\u001b[0m\n\u001b[0m\u001b[1;32m     66\u001b[0m                 \u001b[0mself\u001b[0m\u001b[0;34m.\u001b[0m\u001b[0m_word_frequency\u001b[0m\u001b[0;34m.\u001b[0m\u001b[0mload_json\u001b[0m\u001b[0;34m(\u001b[0m\u001b[0mlang_dict\u001b[0m\u001b[0;34m)\u001b[0m\u001b[0;34m\u001b[0m\u001b[0;34m\u001b[0m\u001b[0m\n\u001b[1;32m     67\u001b[0m \u001b[0;34m\u001b[0m\u001b[0m\n",
            "\u001b[0;32m/usr/lib/python3.7/json/__init__.py\u001b[0m in \u001b[0;36mloads\u001b[0;34m(s, encoding, cls, object_hook, parse_float, parse_int, parse_constant, object_pairs_hook, **kw)\u001b[0m\n\u001b[1;32m    346\u001b[0m             \u001b[0mparse_int\u001b[0m \u001b[0;32mis\u001b[0m \u001b[0;32mNone\u001b[0m \u001b[0;32mand\u001b[0m \u001b[0mparse_float\u001b[0m \u001b[0;32mis\u001b[0m \u001b[0;32mNone\u001b[0m \u001b[0;32mand\u001b[0m\u001b[0;34m\u001b[0m\u001b[0;34m\u001b[0m\u001b[0m\n\u001b[1;32m    347\u001b[0m             parse_constant is None and object_pairs_hook is None and not kw):\n\u001b[0;32m--> 348\u001b[0;31m         \u001b[0;32mreturn\u001b[0m \u001b[0m_default_decoder\u001b[0m\u001b[0;34m.\u001b[0m\u001b[0mdecode\u001b[0m\u001b[0;34m(\u001b[0m\u001b[0ms\u001b[0m\u001b[0;34m)\u001b[0m\u001b[0;34m\u001b[0m\u001b[0;34m\u001b[0m\u001b[0m\n\u001b[0m\u001b[1;32m    349\u001b[0m     \u001b[0;32mif\u001b[0m \u001b[0mcls\u001b[0m \u001b[0;32mis\u001b[0m \u001b[0;32mNone\u001b[0m\u001b[0;34m:\u001b[0m\u001b[0;34m\u001b[0m\u001b[0;34m\u001b[0m\u001b[0m\n\u001b[1;32m    350\u001b[0m         \u001b[0mcls\u001b[0m \u001b[0;34m=\u001b[0m \u001b[0mJSONDecoder\u001b[0m\u001b[0;34m\u001b[0m\u001b[0;34m\u001b[0m\u001b[0m\n",
            "\u001b[0;32m/usr/lib/python3.7/json/decoder.py\u001b[0m in \u001b[0;36mdecode\u001b[0;34m(self, s, _w)\u001b[0m\n\u001b[1;32m    335\u001b[0m \u001b[0;34m\u001b[0m\u001b[0m\n\u001b[1;32m    336\u001b[0m         \"\"\"\n\u001b[0;32m--> 337\u001b[0;31m         \u001b[0mobj\u001b[0m\u001b[0;34m,\u001b[0m \u001b[0mend\u001b[0m \u001b[0;34m=\u001b[0m \u001b[0mself\u001b[0m\u001b[0;34m.\u001b[0m\u001b[0mraw_decode\u001b[0m\u001b[0;34m(\u001b[0m\u001b[0ms\u001b[0m\u001b[0;34m,\u001b[0m \u001b[0midx\u001b[0m\u001b[0;34m=\u001b[0m\u001b[0m_w\u001b[0m\u001b[0;34m(\u001b[0m\u001b[0ms\u001b[0m\u001b[0;34m,\u001b[0m \u001b[0;36m0\u001b[0m\u001b[0;34m)\u001b[0m\u001b[0;34m.\u001b[0m\u001b[0mend\u001b[0m\u001b[0;34m(\u001b[0m\u001b[0;34m)\u001b[0m\u001b[0;34m)\u001b[0m\u001b[0;34m\u001b[0m\u001b[0;34m\u001b[0m\u001b[0m\n\u001b[0m\u001b[1;32m    338\u001b[0m         \u001b[0mend\u001b[0m \u001b[0;34m=\u001b[0m \u001b[0m_w\u001b[0m\u001b[0;34m(\u001b[0m\u001b[0ms\u001b[0m\u001b[0;34m,\u001b[0m \u001b[0mend\u001b[0m\u001b[0;34m)\u001b[0m\u001b[0;34m.\u001b[0m\u001b[0mend\u001b[0m\u001b[0;34m(\u001b[0m\u001b[0;34m)\u001b[0m\u001b[0;34m\u001b[0m\u001b[0;34m\u001b[0m\u001b[0m\n\u001b[1;32m    339\u001b[0m         \u001b[0;32mif\u001b[0m \u001b[0mend\u001b[0m \u001b[0;34m!=\u001b[0m \u001b[0mlen\u001b[0m\u001b[0;34m(\u001b[0m\u001b[0ms\u001b[0m\u001b[0;34m)\u001b[0m\u001b[0;34m:\u001b[0m\u001b[0;34m\u001b[0m\u001b[0;34m\u001b[0m\u001b[0m\n",
            "\u001b[0;32m/usr/lib/python3.7/json/decoder.py\u001b[0m in \u001b[0;36mraw_decode\u001b[0;34m(self, s, idx)\u001b[0m\n\u001b[1;32m    351\u001b[0m         \"\"\"\n\u001b[1;32m    352\u001b[0m         \u001b[0;32mtry\u001b[0m\u001b[0;34m:\u001b[0m\u001b[0;34m\u001b[0m\u001b[0;34m\u001b[0m\u001b[0m\n\u001b[0;32m--> 353\u001b[0;31m             \u001b[0mobj\u001b[0m\u001b[0;34m,\u001b[0m \u001b[0mend\u001b[0m \u001b[0;34m=\u001b[0m \u001b[0mself\u001b[0m\u001b[0;34m.\u001b[0m\u001b[0mscan_once\u001b[0m\u001b[0;34m(\u001b[0m\u001b[0ms\u001b[0m\u001b[0;34m,\u001b[0m \u001b[0midx\u001b[0m\u001b[0;34m)\u001b[0m\u001b[0;34m\u001b[0m\u001b[0;34m\u001b[0m\u001b[0m\n\u001b[0m\u001b[1;32m    354\u001b[0m         \u001b[0;32mexcept\u001b[0m \u001b[0mStopIteration\u001b[0m \u001b[0;32mas\u001b[0m \u001b[0merr\u001b[0m\u001b[0;34m:\u001b[0m\u001b[0;34m\u001b[0m\u001b[0;34m\u001b[0m\u001b[0m\n\u001b[1;32m    355\u001b[0m             \u001b[0;32mraise\u001b[0m \u001b[0mJSONDecodeError\u001b[0m\u001b[0;34m(\u001b[0m\u001b[0;34m\"Expecting value\"\u001b[0m\u001b[0;34m,\u001b[0m \u001b[0ms\u001b[0m\u001b[0;34m,\u001b[0m \u001b[0merr\u001b[0m\u001b[0;34m.\u001b[0m\u001b[0mvalue\u001b[0m\u001b[0;34m)\u001b[0m \u001b[0;32mfrom\u001b[0m \u001b[0;32mNone\u001b[0m\u001b[0;34m\u001b[0m\u001b[0;34m\u001b[0m\u001b[0m\n",
            "\u001b[0;31mKeyboardInterrupt\u001b[0m: "
          ]
        }
      ]
    },
    {
      "cell_type": "code",
      "metadata": {
        "id": "ivPXsq3JoP0m"
      },
      "source": [
        "s=set()\n",
        "for sent in t:\n",
        "    wlist=sent.strip().split()\n",
        "    for w in wlist:\n",
        "        s.add(w)\n",
        "print (len(s))\n",
        "ordered=list(s)\n",
        "ordered.sort()"
      ],
      "execution_count": null,
      "outputs": []
    },
    {
      "cell_type": "code",
      "metadata": {
        "id": "Yi9MDCpq6bJv"
      },
      "source": [
        "print(ordered)"
      ],
      "execution_count": null,
      "outputs": []
    },
    {
      "cell_type": "code",
      "metadata": {
        "id": "IIoSRwse2GOY"
      },
      "source": [
        "sentence=pd.DataFrame(t)\n",
        "sentence.columns=[\"Sentence\"]\n",
        "sentence.to_csv(\"Sentences.csv\")"
      ],
      "execution_count": null,
      "outputs": []
    },
    {
      "cell_type": "code",
      "metadata": {
        "id": "fbDPRdUc6gnp"
      },
      "source": [
        "wordlist=pd.DataFrame(ordered)\n",
        "wordlist.columns=[\"Words\"]\n",
        "wordlist.to_csv(\"words.csv\")"
      ],
      "execution_count": null,
      "outputs": []
    },
    {
      "cell_type": "markdown",
      "metadata": {
        "id": "0RCD1OKy7kJr"
      },
      "source": [
        "###---------------------------------\n"
      ]
    },
    {
      "cell_type": "markdown",
      "metadata": {
        "id": "YdZa4d2H7nO8"
      },
      "source": [
        "###Adatbetöltés SZAVAK BETÖLTÉSE"
      ]
    },
    {
      "cell_type": "code",
      "metadata": {
        "id": "q7heTRRxuS2U"
      },
      "source": [
        "import pandas as pd"
      ],
      "execution_count": 1,
      "outputs": []
    },
    {
      "cell_type": "code",
      "metadata": {
        "id": "TIfoz1647-Cq"
      },
      "source": [
        "words_url=\"https://github.com/sipocz/Twitter-Sentiment-Analysis-AI-Challenge/raw/bc5a87c1da7a3fdcd674325ca8d1ef417075fbd0/words.csv\""
      ],
      "execution_count": 2,
      "outputs": []
    },
    {
      "cell_type": "code",
      "metadata": {
        "colab": {
          "base_uri": "https://localhost:8080/"
        },
        "id": "TZ8hnzVZ7iza",
        "outputId": "65767b21-a8f6-40e9-e54b-7cf77486156b"
      },
      "source": [
        "!wget $words_url"
      ],
      "execution_count": 3,
      "outputs": [
        {
          "output_type": "stream",
          "name": "stdout",
          "text": [
            "--2021-10-08 10:31:38--  https://github.com/sipocz/Twitter-Sentiment-Analysis-AI-Challenge/raw/bc5a87c1da7a3fdcd674325ca8d1ef417075fbd0/words.csv\n",
            "Resolving github.com (github.com)... 140.82.114.3\n",
            "Connecting to github.com (github.com)|140.82.114.3|:443... connected.\n",
            "HTTP request sent, awaiting response... 302 Found\n",
            "Location: https://raw.githubusercontent.com/sipocz/Twitter-Sentiment-Analysis-AI-Challenge/bc5a87c1da7a3fdcd674325ca8d1ef417075fbd0/words.csv [following]\n",
            "--2021-10-08 10:31:38--  https://raw.githubusercontent.com/sipocz/Twitter-Sentiment-Analysis-AI-Challenge/bc5a87c1da7a3fdcd674325ca8d1ef417075fbd0/words.csv\n",
            "Resolving raw.githubusercontent.com (raw.githubusercontent.com)... 185.199.111.133, 185.199.108.133, 185.199.109.133, ...\n",
            "Connecting to raw.githubusercontent.com (raw.githubusercontent.com)|185.199.111.133|:443... connected.\n",
            "HTTP request sent, awaiting response... 200 OK\n",
            "Length: 114745 (112K) [text/plain]\n",
            "Saving to: ‘words.csv’\n",
            "\n",
            "words.csv           100%[===================>] 112.06K  --.-KB/s    in 0.02s   \n",
            "\n",
            "2021-10-08 10:31:38 (5.10 MB/s) - ‘words.csv’ saved [114745/114745]\n",
            "\n"
          ]
        }
      ]
    },
    {
      "cell_type": "code",
      "metadata": {
        "id": "QOoEemS17h2s"
      },
      "source": [
        "words=pd.read_csv(\"words.csv\",index_col=0)\n",
        "words.head()\n",
        "words_list=list(words[\"Words\"])"
      ],
      "execution_count": 4,
      "outputs": []
    },
    {
      "cell_type": "code",
      "metadata": {
        "id": "y0UURG-L--8L"
      },
      "source": [
        "word_dict={v:i+1 for i,v in enumerate(words_list)}"
      ],
      "execution_count": 5,
      "outputs": []
    },
    {
      "cell_type": "markdown",
      "metadata": {
        "id": "zqnFYKaeCkda"
      },
      "source": [
        "### adatbetöltés mondatok betöltése"
      ]
    },
    {
      "cell_type": "code",
      "metadata": {
        "id": "ro6DsEKaCiwF"
      },
      "source": [
        "sentences_url=\"https://github.com/sipocz/Twitter-Sentiment-Analysis-AI-Challenge/raw/bc5a87c1da7a3fdcd674325ca8d1ef417075fbd0/Sentences.csv\""
      ],
      "execution_count": 6,
      "outputs": []
    },
    {
      "cell_type": "code",
      "metadata": {
        "colab": {
          "base_uri": "https://localhost:8080/"
        },
        "id": "Z94-mHYG_ISL",
        "outputId": "ce2a7608-c238-485a-b8b5-e17cda5a4e8e"
      },
      "source": [
        "!wget $sentences_url\n",
        "sentences=pd.read_csv(\"Sentences.csv\",index_col=0)\n",
        "sentences.head()\n",
        "sentences_list=list(sentences[\"Sentence\"])"
      ],
      "execution_count": 7,
      "outputs": [
        {
          "output_type": "stream",
          "name": "stdout",
          "text": [
            "--2021-10-08 10:31:38--  https://github.com/sipocz/Twitter-Sentiment-Analysis-AI-Challenge/raw/bc5a87c1da7a3fdcd674325ca8d1ef417075fbd0/Sentences.csv\n",
            "Resolving github.com (github.com)... 140.82.113.3\n",
            "Connecting to github.com (github.com)|140.82.113.3|:443... connected.\n",
            "HTTP request sent, awaiting response... 302 Found\n",
            "Location: https://raw.githubusercontent.com/sipocz/Twitter-Sentiment-Analysis-AI-Challenge/bc5a87c1da7a3fdcd674325ca8d1ef417075fbd0/Sentences.csv [following]\n",
            "--2021-10-08 10:31:38--  https://raw.githubusercontent.com/sipocz/Twitter-Sentiment-Analysis-AI-Challenge/bc5a87c1da7a3fdcd674325ca8d1ef417075fbd0/Sentences.csv\n",
            "Resolving raw.githubusercontent.com (raw.githubusercontent.com)... 185.199.108.133, 185.199.109.133, 185.199.110.133, ...\n",
            "Connecting to raw.githubusercontent.com (raw.githubusercontent.com)|185.199.108.133|:443... connected.\n",
            "HTTP request sent, awaiting response... 200 OK\n",
            "Length: 1313702 (1.3M) [text/plain]\n",
            "Saving to: ‘Sentences.csv’\n",
            "\n",
            "Sentences.csv       100%[===================>]   1.25M  --.-KB/s    in 0.05s   \n",
            "\n",
            "2021-10-08 10:31:39 (22.9 MB/s) - ‘Sentences.csv’ saved [1313702/1313702]\n",
            "\n"
          ]
        }
      ]
    },
    {
      "cell_type": "code",
      "metadata": {
        "colab": {
          "base_uri": "https://localhost:8080/"
        },
        "id": "fsQObqfegZ7M",
        "outputId": "68e62a83-510e-4145-cfe3-369cdb055097"
      },
      "source": [
        "sentences_list[2640:]"
      ],
      "execution_count": 8,
      "outputs": [
        {
          "output_type": "execute_result",
          "data": {
            "text/plain": [
              "['your customer service is terrible stood inline  hours no flights and  hours late flight still no bag disgutedindenver ',\n",
              " 'i will do you now ',\n",
              " 'congratulations united fail again sky at a gate with a plane full of people waiting on  weather gets worse now we can i leave ',\n",
              " 'look at this beauty do  united airlines ',\n",
              " 'landing as usual great flight wiyh a great crew hello sunny west palm beach ',\n",
              " 'the stand by i know it i frustrating and i do appreciate your patience while we try to get you on your way the ',\n",
              " 'fair enough i don i usually rant but it i good to know someone i listening ',\n",
              " ' minutes ',\n",
              " 'a nice trip back home after a looong vaca ',\n",
              " 'flight  is delayed  min be a missing screw and were in danger of missing flight  ',\n",
              " 'has  employees on social care team  staff the listening car at any time rest of spots filled by other areas ',\n",
              " 'i get sunday due to weather and ok monday they re busy but this is crazy ',\n",
              " 'i ve been on hold almost an hour i luv y all but ',\n",
              " 'united flight  after two delays just cancelled lighted no explanation amp no more flights to norfolk that aren i booked renting a car ',\n",
              " 'hah best flight attendant response if you not happy getting screwed over you have other carriers hahaha pathetic ',\n",
              " 'stuck in cae need relight booking problems for next flight possibly do for more info ',\n",
              " 'thank you seattle and here we come roe ',\n",
              " 'brought me to amp so much more with the ',\n",
              " 'thne lo ',\n",
              " 'happens every time in and out of newark ',\n",
              " 'superb choice swa i am a raving fan they even take stress out of weather relate flight glitches ',\n",
              " 'on hold   his trying to reschedule our flight can anyone there please help us ',\n",
              " 'thanks for finally letting me get through to book my flight frustration set in ',\n",
              " 'lol i our fleet i on fleek ',\n",
              " 'oh yeah great flight down to mexico with a wonderful crew thank you ',\n",
              " 'will tweet all day until i get a live cust rep i will make sure the world knows you don i care about your customers health ',\n",
              " 'you can do better than having someone on hold for over an he ',\n",
              " 'so you re saying the call center is understaffed ',\n",
              " 'should give me free baggage for this mess ',\n",
              " 'how do i redeem my pass to the admirals club i have  free visit with my barclay card membership and can i bring a companion ',\n",
              " 'sounds like fun ',\n",
              " 'anything for you ',\n",
              " 'that all a is for usain elite members it i one big disappointment in the way we are treated ',\n",
              " 'you guys are killing me ',\n",
              " 'safety back in dallas ',\n",
              " 'second day amp attempt trying to leave iad amp i i on another plane delayed for mechanical issues over an hour delayed ',\n",
              " 'my flight tomorrow is cancelled lighted you guys just keep letting me down ',\n",
              " 'thank you any help is appreciated ',\n",
              " 'yes i have thanks ',\n",
              " 'i hope so wanted an early flight to avoid the airport chaos but it i too late flight for that ',\n",
              " 'will we be able to watch the oscars on our flight tomorrow ',\n",
              " 'my bag reference id number is  thanks for looking at it ',\n",
              " 'hi was thank you ',\n",
              " 'i tried to book a hard and was told i couldnt bought tix on usain now a no choice didn i bother to adv with this sec ',\n",
              " \"it you've met your match got status on another airline upgrade rest \",\n",
              " 'this team added  mins on turnaround ',\n",
              " 'yes please get me the seats we paid for ',\n",
              " 'first officer of ua  checking our  prior to departure from ear yesterday while on his cell safety ',\n",
              " 'is that one on the picture ',\n",
              " 'gimme ',\n",
              " \"thanks for ruined my vacation for having poorly maintained aircrafts that can't fly safely out of set flightledflight \",\n",
              " 'looking forward to flying once again with on friday the airline ',\n",
              " 'you cancelled lighted both my flights and refused to give a voucher despite no flights for days ',\n",
              " 'i find it funny that responds but you don i your customer service is the worst ',\n",
              " 'thanks for update ',\n",
              " 'what i even better is the price changed in the  minutes since i talked to the lady and they still honored the cheap ',\n",
              " 'thank you ',\n",
              " 'outbound flight  hour delay i i air traffic amp  gate changes dividend miles member gets no email or text updates ',\n",
              " 'now telling me i don i have the correct tag for my luggage my luggage apparently is not in la or charlotte this is not ok ',\n",
              " 'but my bag is still missing ',\n",
              " 'i all check it out when i get to the airport thanks ',\n",
              " 'what are we going to do about the nightmare you guys out me through yesterday zero response from the tweet you last sent me ',\n",
              " 'lax is almost a mess for some reason the express bag drop is slower than the full service line ',\n",
              " 'flight  got delayed  hours due to a mechanical issue could use a free drink or  to make up for this inconvenience ',\n",
              " 'currently in minute  of being on hold with cust service do i need to do anything to add a lap child to my reservation ',\n",
              " 'thanks ',\n",
              " 'that may be true however after  weeks matter is still unresolved and i can not get through to a supervisor or manager to help ',\n",
              " 'you are easily the worst company i have ever experienced you have lost someone i personal possessions amp you couldn i care less ',\n",
              " 'ok to will tell the guy sitting next to me at the gate ',\n",
              " 'if i want to change my flight due to weather conditions in dallas this weekend i should be able to cover change fee with miles ',\n",
              " 'sure can just a second ',\n",
              " 'how about free wifi when your flights delayed only  mins allowed ',\n",
              " 'i leave jaipur tomorrow back to dehli only in delhi one night we need to use our abilities to make magic ',\n",
              " 'oh i will a on speed dial ',\n",
              " 'during the same round trip my non english speaking friend was stranded twice for  hours each time most staff members were rude ',\n",
              " 'don i worry you will ',\n",
              " 'madeit to the gate at   and they wouldn i let us on ',\n",
              " 'your crew on  tonight was outstanding god bless them and the medically trained passengers on board ',\n",
              " 'i guess that is your way of saying thanks for sharing but i can i help you good luck happy birthday to me ugh ',\n",
              " ' was phenomenal from gate sea to gate iad ',\n",
              " 'why are we waiting  min so far for our luggage ',\n",
              " 'thanks for telling me my flight was on time when the plane was broken you re an inferior airline ',\n",
              " 'when are you going to be flying in and out of nashville the deiner is in are you short on planes and is it tomorrow morning ',\n",
              " 'what i with your baggage handlers calling out at dew today no luggage onboard the planes ',\n",
              " 'i got an email asking me to checkin try for a flight i meant to book for   can someone please help ',\n",
              " 'got it squared away thank you i had a man on the inside help me out ',\n",
              " 'lovely flight back from mia to lor great crew thanks ',\n",
              " 'yes but i will nor fly i i missed my con flight be of a coffeemaker on  couldn i see my father be they put him in a coma ',\n",
              " 'george that doesn i look good please follow this link to start the refund process ',\n",
              " 'i was rebooked thru so but arrive  hours late flight and miss activities i asked to fly today with stop over was told i i have to pay ',\n",
              " 'we did check before going to de airport and everything was fine ',\n",
              " \"i filled out the form but i haven't received any sort of email confirmation that it's been received is that normal \",\n",
              " 'my flight cost me just under  and this is what happens i fly with and have no problems i come the us   times ',\n",
              " 'thank you ',\n",
              " 'but what i can always rely on when i fly usain or american is that employees will be rude and unhappy ',\n",
              " 'just discovered that they billed us  for the rescheduled flight which cost me a second day of lost work ',\n",
              " 'i can i keep dialing you guys all day can i get into the callback queue ',\n",
              " 'trying to check in but looks like your site is down ',\n",
              " 'you are over  please start acting your age and stop with the short shorts ',\n",
              " 'worse headed to laguardia delayed why is the tray table the size of a mouse pad and the overhead the size on my pocket ',\n",
              " 'i spent over an hour of my morning on hold i your customer support i want my confirmed flight to be taken care of ',\n",
              " 'my bags are est woman said it would be there on the next flight not there so now ive got nothing big wigs help me out ',\n",
              " 'unbelievable hypocrisy ',\n",
              " 'i ve been in line for over half hour trying to see a representative now i might even miss the next flight too unacceptable ',\n",
              " 'our fleet i on fleek ',\n",
              " 'i understand the intention but it pales in comparison to a day of lost wages for both my wife and i because of the delay ',\n",
              " 'understand that but this policy of targeting your passengers is not good for business and should be addressed with security ',\n",
              " 'craig no not helped one bit actually ended up driving home due to extreme disorganization and lack of communication ',\n",
              " 'oops sorry done ',\n",
              " 'we got  drink then i a sat in jump seat doing crosswords glasses picked up at landing just a very lazy service  first class ',\n",
              " 'also checked email you have on file for me and it is correct ',\n",
              " 'well lets see you could pay for my negro with bitcoin ',\n",
              " 'very disappointed by the service starting from gate operator at bos who was rude in stopping a carry on bag ',\n",
              " 'but jet blue had cancelled lighted my ticket amp never reissued it ',\n",
              " 'how can u not have gate ready or gate agent for going on hour two ',\n",
              " 'where should i fly by may ord ply advise ',\n",
              " 'we were rebooked on the   out of mow some drink coupons could help ',\n",
              " 'i ceo battles to appease passengers and wall street ',\n",
              " 'what a pointless tweet at least asked me to follow them to try and resolve ',\n",
              " 'help it says the payment is denied but my money has been taken out of my bank and it says i have no trips coming up ',\n",
              " 'you i think paying an extra  bucks it for luggage might afford you hiring an extra hand at ',\n",
              " 'name correct on original confirmation but spelled wrong on check in reminder first name and mi run together cause for concern ',\n",
              " 'on so it aus     my seat appears to have had a mite problem do recently confirmed over  bug bites were mites ',\n",
              " 'your service in philly is unacceptable look into better service a  yr old shouldnt have a hard time ',\n",
              " 'microsecond too late flight so very very sad ',\n",
              " 'upon i allow remake changes online force merit thru excess phone wait times amp still insist charging crazy fees thats service ',\n",
              " 'us  feb  arrive  his late flight checked car seat missing no replacement available has yet to arrive more than  hours late flight ',\n",
              " 'good morning wondering why my pre tsa check was not on my boarding pass this morning ',\n",
              " 'welcome anyone who works in those conditions deserves a thank you even though i am other side of lol ex ',\n",
              " 'so is it   am or   ord abs  i can i even take a walk without missing a change ',\n",
              " 'already contacted central baggage amp sent do is charging me for the dress that was in the lost suitcase ',\n",
              " 'thanks have emailed them how long should i expect for a response ',\n",
              " 'have been trying to call customer service since up after an hour was disconnected spoke to no one ',\n",
              " 'airways adds new charter to cuba wires blog ',\n",
              " 'twitter team you guys killed it for rescheduling me asap thank you ',\n",
              " 'getting extremely frustrated i the phone online service for merging frequent flyer miles ',\n",
              " 'we made it safe and sound thank you for the safe travels ',\n",
              " 'are pets allowed in first class ',\n",
              " 'sent do ',\n",
              " 'no please stop ',\n",
              " 'love all three but you really can i beat the classics ',\n",
              " 'i i not as sure as you are ',\n",
              " 'conf finally got through amp told the flight was completely booked that would have been better info than advise  call ',\n",
              " 'after an hour and a half then it came back damaged not happy ',\n",
              " 'spent hundreds to rectify the situation and you guys go quiet ',\n",
              " 'the late flight flight to charleston is leaving before the flight scheduled earlier that i so wrong ',\n",
              " 'i have  flights with you in the next two weeks let i make some good memories ',\n",
              " 'idiots took our plane amp gave it to someone else fudges flight  from philly to orlando ',\n",
              " 'how much longer united been on the phone for over an hour to straighten out a star alliance upgrade ',\n",
              " 'no i need you to have more than  agents at check in ',\n",
              " 'hey at least you guys are honest with your customers unlike ',\n",
              " 'my mom i baggage is lost in fly  fort lauderdale bogota today colombian employees treated us badly need help please ',\n",
              " 'gee that i like almost caring about pal more than think i i more int in having a trusted adult i daughter ',\n",
              " 'it really is nice though the snack fridge…that you can just get up and take stuff out like a dorm common room is genius ',\n",
              " 'would you consider honoring the original fare price if i were to try flight booking problems the ticket again ',\n",
              " 'hi you cancelled lighted our flight back to the us and now won i take our call what are we supposed to do ',\n",
              " 'will do on another airline that i more accommodating of its customers unable to simply change passengers with notice is simply ',\n",
              " 'i don i understand why i can i get my missing miles i was on the flight it was in my dividend miles account ',\n",
              " 'still waiting for a call back attempt and hour can i put a hold on an online tix we are within seven day window ',\n",
              " 'home to in back to ',\n",
              " 'thanks for the update ',\n",
              " \"that doesn't make any sense i've been ok for over  years and you're making it harder to keep me loyal \",\n",
              " 'love it they re cute ',\n",
              " 'this is too cool never been on ur planes but now i will ',\n",
              " 'lots of people scratching heads and looking at screens ignoring passengers ',\n",
              " 'it would be nice to just pull up to the gate still sitting here ',\n",
              " 'so you strand my bag in philly last sat and strand me in philly this sat thanks for the bullshit ',\n",
              " 'oh flight without a working screen for me and my friend and not possible to move to another place ',\n",
              " 'i can go i want to badly i don i know how to do can i e mail you help  com ',\n",
              " 'nothing to do with mother nature more like poor commutation ',\n",
              " 'i tried that amp they have been disrespectful not professional amp my and flight been cancelled lighted i have to get home for a surgeryhelp ',\n",
              " 'would help if you flew bigger planes into tlhe all my team mates made it to the training but me ',\n",
              " 'come scoop ',\n",
              " 'no worries we got thru eventually i was just curious best of luck to you dealing with the weather ',\n",
              " 'my do won i go through but it is  please let me know if you need anything else ',\n",
              " 'if the flight i selected online was what was ticketed i would not be missing my connection i need help getting to dew or ah ',\n",
              " 'yup mo  ',\n",
              " 'officially has the most inefficient boarding procedure there is no reason it should take  mins to board a plane ',\n",
              " 'i would appreciate an answer on why we weren i alerted flight had been cancelled lighted until plane landed ',\n",
              " 'still looking as we speak ',\n",
              " 'screwing me over twice in one month learned my lesson we are through ',\n",
              " 'still waiting captain reports he i called  times to get ground crew and still sitting on runway flight ',\n",
              " ' from denver we just boarded fingers crossed we get into the air ',\n",
              " 'follow for do please ',\n",
              " 'were boarding now i i really not impressed i ve learnt a very valuable lesson ',\n",
              " 'really that i good to hear thanks for the update we may make that business meeting after all ',\n",
              " 'thank you although we re using our miles from our card and flight booking problems companion tickets which can only be booked over the phone ',\n",
              " 'bluemanity brought tears to my eyes jetblue i commitment to giving back to the crewmembers and the community is aww inspiring ',\n",
              " 'between understaffing what looks like a labor slowdown weather incompetence and disregard for the customer ',\n",
              " 'i i assisting he is already rebooked agents rude unhelpful discourteous appalled unacceptable ',\n",
              " 'i i at the airport right now and your people didn i know how to react and help me with this situation very frustrated ',\n",
              " 'flight just cancelled lighted this is ridiculous ',\n",
              " 'brought it all the way across the country today i see ',\n",
              " 'stars and bars ',\n",
              " 'your airline is again rated the worst in america so you ve got your work cut out for you it i be you treat customers like garbage ',\n",
              " 'you are horrendous pull your shit together ',\n",
              " 'personal device entertainment system is great but with app crashing every   mins i i glad it i free for now ',\n",
              " 'a tweeted apology is not enough for delay fiasco none for insult from gate agent is worse except for mark i all bad at cut ',\n",
              " 'on the plane now hopefully no longer at the mercy of the playlist thanks ',\n",
              " 'i tweeted several times last week about flight info during storm always a timely tweet back the ',\n",
              " 'i am trying to change the time of a flight i already purchased and was told i have to pay a  change fee ridiculous ',\n",
              " 'my bags were supposed to be delivered to ny last night missing since thus but are not here can someone call me ',\n",
              " 'i do the best airline wifi ever thank you ',\n",
              " 'on aircraft change please have a better system in place not worth the paid upgrade ',\n",
              " 'customer service at all wi and pit have been terrible no one knows where his bags are his is on a job with no clothes amp gear ',\n",
              " 'are people in an exit row still supposed to give their verbal approvals i was never asked on the flight i i on ',\n",
              " 'from group to group i we have never got to sit next to each other on any south west flight not even on our honey moon ',\n",
              " 'any chance of a travel advisory or dna this weekend ',\n",
              " 'the for your quick response and action of will make good use of the voucher ',\n",
              " 'the with annual martha i vineyard african american film festival august    our attendees deserve a great flight to my ',\n",
              " 'if there are empty first class seats on my flight at check in why wouldn i i be automatically upgraded ',\n",
              " 'you have yourselves to blame for giving me the time to get drunk and tell you how i feel about your overpriced sub par airline ',\n",
              " 'we appreciate auto rescheduling our cancelled lighted flight but you have nothing sooner than tuesday can fly into alternate loc ',\n",
              " 'at gate can your gate agents are turning paying customers away in favor of non revs ',\n",
              " 'i i fly to an airline who actually gave a crap about its fliers outside of generic apologies jet blue is terrible ',\n",
              " 'yes it is in dulles and i need it delivered to the embassy suites in tendon va i i still in chicago from the fiasco in lax ',\n",
              " 'i send an email about my bad experience and you send back a generic response yet another reason why i all never fly with you again ',\n",
              " 'dragons ahah yes lauren ',\n",
              " 'i am trying to switch my flight to a  i am currently on a  at  am monday morn then a  help me ',\n",
              " 'is there another line i can call when i am on hold for  hours also how can i get compensated for this loss of time and money ',\n",
              " 'extremely disappointed in united left crew and posers stranded in rain gate with no cover left pangs  depart plane ',\n",
              " 'been dealing with a cancelled lighted flight since last night amp was booked to a   flight wouldve at least liked to see ella perform lol ',\n",
              " 'use another browser  amp a brand with a reputation built on tech response doesn i have a cross browser compatible website ',\n",
              " 'why did i have to stand at baggage claim for an hour waiting for a bag that you knew never made it on to the plane ',\n",
              " 'wife i flight to dal just got cancelled lighted what does she do to find options to get back home  pox it dal ',\n",
              " 'get ur act together start treating ur passengers i kinder have more sanitized planes take a page from perhaps ',\n",
              " 'here i a first both pilot and first officer in galley during flight ',\n",
              " 'we would have been up in the air by now now our new plane we ve been redirected to has mechanical errors aka more delays   ',\n",
              " 'do sent ',\n",
              " 'was earlier for relight booking problems flight i i on now didn i get a screencap just said unspecified error and to call swa ',\n",
              " 'like kelsey said really bad spot for locals do you know how long it takes to find parking then walking over to the fellatio ',\n",
              " 'everyone around us is sitting with their friends and family members they booked their tickets in october and december we bought ',\n",
              " 'what i up with flight  no gate agent or plane at pox be nice customer service ',\n",
              " 'then why did my whole team be able to put there carry ons under the plane ',\n",
              " 'i been on hold with u for mins wasting my time and amp i don i appreciate it ',\n",
              " 'maybe you should stop tweeting and start calling or make it available for people to wait on hold instead of hanging up on us ',\n",
              " 'no standby line update online or on app either is troubling ',\n",
              " 'a broken luggage and a mild case of food poisoning from ua lor ah who can i email about this ',\n",
              " 'hi ho hi ho it i off to work i go ',\n",
              " 'hi winter we advisory issued for sol snow amp ice amp cold oh my will you issue a travel advisory for that ',\n",
              " 'flights have been on time late slightly though ',\n",
              " 'yes but it hurt my feelings to walk by mint a fella can dream ',\n",
              " 'this is despicable i spoke to many diff people amp everyone is telling me something different i have a claim no i need my bag now ',\n",
              " 'do sent thank you ',\n",
              " 'hell is terrible gate agents and a three hour wait at the gate ',\n",
              " 'yes doesn i make that mistake any less absurd doesn i change the fact that i i very inconveniently missing my luggage tonight ',\n",
              " 'i was not the one traveling i was asking for my sister who was waiting on my nephew in midland flight eventually landed ',\n",
              " 'explain how come i can get a free upgrade on us as an eye plat but not exit row seating i out paying confused ',\n",
              " 'traveling with  young kids chose our original flights for a reason ',\n",
              " 'great operation you guys are running more mechanical issues and now taping piece of plane together lol ',\n",
              " 'works with google but not internet explorer ',\n",
              " 'i am blown away by stellar thank you it  ',\n",
              " 'yay yay prom ',\n",
              " 'by the grace of god i made it rig we don i have those powers in here we hope you can make that flight i ',\n",
              " 'and i can i get through on any phones ',\n",
              " 'thanks ',\n",
              " 'can we make every ex plane with why should austin be the only one getting nerd love ',\n",
              " 'how about a reservation phone system that actually works you know the  number is unreachable callbacks are dead air ',\n",
              " 'why don i you respond to my e mails of facebook mug i i still wating for my tickets i i getting really angry and disappointed ',\n",
              " 'is there a way to have someone contact me when you have an agent available need help flight booking problems an award flight ',\n",
              " 'what is happening with the flight from all to so why the delay and the reroute ',\n",
              " 'i had to travel to savannah ga once again on an airline i don i luv when i u going to fly me to savannah pleeease ',\n",
              " 'awe you guys are great can i wait to travel with you again soon ',\n",
              " 'leave bur ten minutes late flight and arrive in sec a minute before we were supposed to impressed ',\n",
              " 'new slogan should be if you don i want to arrive on time pick us ',\n",
              " 'or friendly tweets don i help drive accountability hope my hayes takes note ',\n",
              " 'i keep thinking this is a massive practical joke and someone is gonna appear out of thin air and take me to reno tonight ',\n",
              " 'if your air traffic crew could get their shit together no one would notice the rudeness of the ground staff ',\n",
              " 'you have cancelled lighted our flights  times over the past  days and the experience has been the worst never again ',\n",
              " 'but again united doesnt give  shits about their customers ',\n",
              " 'i u serious  with missed my connecting flight ',\n",
              " 'our fleet i on fleek ',\n",
              " 'i had a am flight i can get no rest because i have to wait another  hours to receive an automated phone call ',\n",
              " 'no it i weird i picked other cities just to test those worked not the one i want works on phone though so i all use that ',\n",
              " 'would be nice if partner tickets that don i provide full pum credit are more obvious before purchase lost   miles ',\n",
              " 'is there a way to do you ',\n",
              " 'thanks i did go through these motions shortly after my flight yesterday i wonder how quickly flight attendants are notified ',\n",
              " 'please stop spending met on branding ads use savings to improve ihr wait for luggage due to short staff is unacceptable ',\n",
              " 'that totally sucks my cousin worked at pal said ',\n",
              " 'mine is  husband is  can i do for some reason ',\n",
              " 'gate agent at ear if you are disabled or in a wheel chair it i time to board please step step up lol ',\n",
              " 'if you could get the gate crew to help us off felt  that would be great ',\n",
              " 'flight  dew still has all passengers sitting on the plane waiting for luggage to be loaded ',\n",
              " 'thank you i really would have preferred jet blue you guys have the best seats in the business ',\n",
              " 'where is your email address its not on this page ',\n",
              " 'has a flight  from san antonio to dallas been cancelled lighted ',\n",
              " 'you have to follow me in order for me to do come on now ',\n",
              " 'this is awful flight out of jak for our honeymoon is delayed again until  am and we lost money on a hotel now ',\n",
              " 'wifi wasn i working onboard alerted attendant re socket you sent me to a hotel for  hours with  vouchers no wifi at hotel ',\n",
              " 'hi i read there are weather warnings on the east coast of the us would a flight from lor to so be affected ',\n",
              " 'after a cancelled lighted flight and  delays you lost my luggage again you re the worst disgraceful awful company horrible service ',\n",
              " 'thank you for your offer all sorted out ',\n",
              " 'it i a new day and a new chance for you to do the right thing it i never too late flight to be honest ',\n",
              " 'this doesn i address my issue i am on hold for  min to speak with an agent ',\n",
              " 'what i don i understand isn i flight that i paid premium for getting cancelled lighted and the best you can do is next available flight ',\n",
              " 'waiting all day at atl since flight this am cancelled lighted  standby told no seats and group of  shows up late flight and gets on to pal ',\n",
              " 'yes please trying to get to pop in newark now ',\n",
              " 'everything for sorted out thanks for the help excited to get home tonight ',\n",
              " 'be chicago i hometown airline care about your neighbors ',\n",
              " 'shut up an turn on the tis music ',\n",
              " 'shout out to the crew on flight  headed back to the big apple they kept my glass half full the whole flight ',\n",
              " 'male agent in las threatens canadian cust when cust takes pic of him at gate after agents announce can i help rebook ',\n",
              " 'hopefully this flight seattle to boston up will have wifi our first one did not and we had to entertain ourselves ',\n",
              " 'the captain turned off the seat belt sign so people can get up and walk around that i not good ',\n",
              " 'i ceo battles to appease passengers and wall street waterboy republican american ',\n",
              " 'was never given one ',\n",
              " 'of course i work for and i i obsessed with the entire virgin family ',\n",
              " 'i was under the impression when there is an  hour delay in your flight because of equipment failure compensation is offered ',\n",
              " 'and my luggage has been broken up ',\n",
              " 'thank you ',\n",
              " 'you cancelled lighted my flight to ear felt  u also cancelled lighted flights to lga yet is flying on time to both with ',\n",
              " 'haha thanks jetblue ',\n",
              " 'thanks so much appreciate your kindness in adjusting our reservation even during snowstorms i still prefer southwest ',\n",
              " 'ok thank you what if i can i get a hold of someone to get a new flight ',\n",
              " 'it i not cool that my flight was cancelled lighted after sitting on the plane for over an hour ',\n",
              " 'i i fully aware it i just that your rules are harsh toward the client especially since you re going to resell my seat for more ',\n",
              " 'any particular reason it i  minutes and counting to speak to a human being ',\n",
              " 'it is possible to make a ticket change via twitter traveling internationally and can i make calls thanks in advance ',\n",
              " 'i ve been on hold with international award reservations for almost  hours    keeps calling me what is going on ',\n",
              " 'thanks it i ask miles from rob to europe to do a multiple destination so we could stop over in us on way way back mileage diff ',\n",
              " 'i ve experienced better service making connecting flight from and ',\n",
              " 'no they could be at laguardia jak or charlotte i have no idea where they are now tho ',\n",
              " 'i have  times and no one has been able to help me out ',\n",
              " 'gate agent gave me wrong departure info and caused me to miss my flight and now i am on stand by ',\n",
              " 'sorry to hear outsourcing plan boise is best staff cust service in the country ',\n",
              " 'another generic response guys cmon you re terrible how about an actual helpful person not all the rude employees at lax ',\n",
              " 'many people on  are going to miss connections due to long wait time in so tarmac seriously u can i find an empty gate ',\n",
              " 'i i not this person but i ve been sitting in denver for three hours and all i want to do is get on a plane please let me go home ',\n",
              " 'any official word whether flight  from wi to manchester is cancelled lighted i ve got an ihr drive in snow if it is ',\n",
              " 'why no preferred security line anymore my tsa pre check didn i pull on my partner flight ',\n",
              " 'will do just need to get cog and my bag too thanks ',\n",
              " 'how can we get refund instead of credit for flight that you cancelled lighted we couldn i switch to a flight tomorrow ',\n",
              " 'define appreciate i doubt the worst major airline in the usa acts on much feedback ',\n",
              " 'forgetting to fuel up realizing there was more cargo to add to plane one way to try and mask a delay ',\n",
              " 'now i understand ',\n",
              " 'wack ass terminal  no food no lounge no bueno never again ',\n",
              " 'we were told by united to carry over carry back for the refund ',\n",
              " 'sadly no i have the app but it also is experiencing difficulties the flight information boards are keeping me updated ',\n",
              " 'traditionally used sledge hammer low taking share from driving now scalpel approach through data science ',\n",
              " 'forget reservations thank you to the great leadership at your company i ve cancelled lighted my flight once again thank you ',\n",
              " 'you quite possibly ruined my entire first day in south florida be of your disorganization ',\n",
              " 'this always happens with you guys and it makes traveling incredibly stressful and uncomfortable is that good business to you ',\n",
              " 'was just at to a little over a month ago you guys are great thanks for everything ',\n",
              " 'i i a huge fan i would love tix to your show ',\n",
              " 'when will it be marked completed i i scared i i going to lose my reservation or my money is going to be refunded ',\n",
              " 'gabriela in miami is a very rude employee working the mia lga check in she made experience unpleasant ',\n",
              " 'officially a customer support game of wills  on hold who i the loser here oh yeah that i me ',\n",
              " 'some woman gets on plane and holds  seats in the bulkhead for her friends with i boarding passes i paid earlybird the ',\n",
              " 'do you know when the last chance is ',\n",
              " ' delayed further ',\n",
              " 'excited for my first flight i you today it i delayed though can you give me the  flight number  from boston to do ',\n",
              " 'thanks for the update apreciate it hope it gets here been delayed  days getting back ',\n",
              " 'my son is flying south west from nola orlando hope to enter for him to win this contest ',\n",
              " 'not a valid response in  for a multinational corp whose profits are measured in billions stop understaffing ',\n",
              " 'you re the best ',\n",
              " 'any reason why my  flight to chicago is boarding and i still don i have a seat assignment seriously ',\n",
              " 'please do me a way to get in touch with someone that can help i i platinum a and considering quitting a be of this ',\n",
              " 'where we trick you into making us look popular on twitter by being the worst airline ',\n",
              " 'oh look you just delayed our flight an additional half hour now arriving at  officially five hours after planned ',\n",
              " 'thanks for the reply something is off with the phones becoz after  dropped calls at  hours on hold i got through on  ring ',\n",
              " 'it eventually arrived just seemed really slow ',\n",
              " 'they didn i give you the wifi password suh ',\n",
              " 'is anyone working today anyone want to pick up a phone ',\n",
              " 'are my bags here yet they were at palm springs airport i was at lax how come i beat my bags here ',\n",
              " 'yes i will do just that as soon as i have a moment to gather my thoughts ',\n",
              " 'yes please ',\n",
              " \"i submitted a status match request a while back and still haven't heard i'm flying on monday can you look accelerate \",\n",
              " 'sounding like they just got bitch slapped by ',\n",
              " 'how can i change without penalty and not have to call customer service ',\n",
              " 'what is a going to do to fix their utterly embarrassing customer service you won i even answer the dang phone ',\n",
              " \"anxious to see how you all care for customers you've inconvenienced flightledflight \",\n",
              " 'indeed ',\n",
              " 'it i not letting me do you ',\n",
              " 'thanks for replying i sen i my conf i love aviation and southwest and all i wanted for my with was to fly swa for the day ',\n",
              " 'you flew me into chi instead and i got a ride to me u said my bags would go to me today is it on the cancelled lighted flight tho ',\n",
              " 'getting sorted thanks ',\n",
              " 'it i fine already done with my purchase but you should try it just go most of the way through then go back  ',\n",
              " 'i i thank you but you didn i help taking  hours to reply so i get a message in the middle of the night isn i actually helpful ',\n",
              " 'ok thank you ',\n",
              " 'i honestly couldn i tell you all i know is that originally we were going to have it brought in from the concourse ',\n",
              " 'flight  ',\n",
              " 'so upset with customer service i have a simple question and the phone system has disconnected me all day today and yesterday ',\n",
              " 'found someone to ask no answers landed almost  minutes ago ',\n",
              " 'nope called lost the seating preference i paid for and here i still sit we all see what happens i my flight late flight ',\n",
              " 'if i am enrolled in the atl companion pass offer and booked  flights already before may  when can i start using the pass ',\n",
              " 'bos to map map to aus aus to bos site doesn i seem to display fields for the middle trip when i add the ord ',\n",
              " 'my luggage has still not been found luggage is not scanned until final destination so no way of knowing where it is ',\n",
              " 'of course this morning i see a non stop from ah to so but that was not available yesterday ',\n",
              " 'talked to a manager and she offered we pay ex i in cash what we originally paid ',\n",
              " 'can i get thru to anyone on phone ',\n",
              " 'i agree it one airline is the fly away favorite at dia ',\n",
              " 'pleaseeee find my suitcase i want deodorant and a clean shirt for work tomorrow ',\n",
              " 'how long does it take for points from or shopping to post to my account got email saying i ve earned points but don i see em ',\n",
              " 'you might be dealing with frustrated passengers hope you all have a great day thank you very much for an amazing airline ',\n",
              " 'cool the only a couple more flights til i i can i wait will be easier to change flights when weathers bad ',\n",
              " 'flying gla mo in a few weeks how long do we have to be at airport for before departure for both international and domestic ta ',\n",
              " 'i all take  round trip tickets to the closest warmest place please ',\n",
              " 'finally made it to rep who solved my problem ',\n",
              " 'no i had to leave for work would have not been possible so i would love to have this replaced now ',\n",
              " 'i may need to i had a  minute layover and now have a  min delay on my first flight ',\n",
              " 'du flights expected to be ok this afternoon and tonight ',\n",
              " 'ok makes no sense tho since you all give me a free upgrade to first ',\n",
              " \"is the worst airline i've ever flown on you guys have treated me like garbage today \",\n",
              " 'what are the chances you will be cancelled fighting all flights in and out of nashville again ',\n",
              " 'has the most ass backwards process for using credits on flights even trying to get a hold of customer relations is impossible ',\n",
              " 'she has crossed  prior times with other carriers and no issue karen was rude untrained and unhelpful i also spoke ',\n",
              " 'you suck ',\n",
              " 'thank you ',\n",
              " 'how can i be stuck on a plane due to snow in boston when it i not actually snowing in boston usain flight  ',\n",
              " 'the for the pointer but im good with the big monitor any advice on who i should pick to come our of the western conf nba ',\n",
              " 'thanks ',\n",
              " 'has me stranded in texas and then hangs up on me when i i trying to figure out how to get home cool ',\n",
              " 'now arriving a day and a half late flight than supposed to lesson of the day don i believe verbal or written confirmations from united ',\n",
              " 'seems a few of my friends speak highly as well now we just need to find a decent priced way to go from yer to sea and overnight ',\n",
              " 'ann marie at lga is the best ticket agent ever ',\n",
              " 'i can legitimately say that i would have rather driven cross country than flown on us airways ',\n",
              " 'no wheelchairs ',\n",
              " 'what is your policy regarding large size passengers who cannot fit into a single coach class seat ',\n",
              " 'the person i talked to couldn i do anything not normally available online other than the no charge part ',\n",
              " 'am on web site requesting refund for cancelled lighted flight it requires numerical document number where get it ',\n",
              " 'yes it says bag is being delivered the local number says not open asked main for cust service got hung up on ',\n",
              " 'yes we ve been with the agents for the last  minutes one of the agents have been very rude but thankfully laden has been nice ',\n",
              " 'can i even get on hold to wait to speak to someone awesome ',\n",
              " 'why do you have to be  ',\n",
              " 'we re all standing here and no one is saying anything i all most likely be missing my flight to wi again ',\n",
              " 'ah did do no reply on hold now over this just spent over ok to get a united flight try to get home ',\n",
              " 'sorry in like a general way or sorry that incompetence understaffing is compounding weather issues ',\n",
              " 'how i u supposed to change flights when u can i get thru to reservations ',\n",
              " 'is it possible to add companion to only the and leg of a trip ',\n",
              " \"um no just hanging out what's new i you \",\n",
              " 'there is two hour wait ',\n",
              " 'kudos to the crew of flight  to err for making a very special memory for a sweet young passenger and her momma well done ',\n",
              " 'yes thanks i found those didn i see the gray tab at first ',\n",
              " 'well it is john hughes birthday but i will stick i the plane amp hold off on trains amp automobiles gate workers are doing well ',\n",
              " 'just sent thanks ',\n",
              " 'thanks for the miserable trip giv it it it fed on     ',\n",
              " 'i am a comedian and i promise i will make fun of you on stage tonight ',\n",
              " 'figure it out have had  cancelled lighted flights in the past week now coming home  hour delay and cart that pulls plane just broke ',\n",
              " ' gate changes two delays even the crew thinks the airline sucks ',\n",
              " 'thank you ',\n",
              " 'they were very understanding and helped me out the ',\n",
              " 'this delay of flight  has been painful i sure hope it doesn i cause me or my luggage to miss my ua flight to new delhi ',\n",
              " 'booked flight in sept to get best price for april to usa checked now and they are  cheaper what a con unhappy customer ',\n",
              " 'to add i have to get up to go to work tomorrow am i don i like having to wait up until  or late flight is sucks ',\n",
              " 'how often are airplane seats tray tables cleaned and sanitized rather have air purifier and clean seats than ',\n",
              " 'i have ad and ad embossed badges and patches superior to the ones you are currently using ',\n",
              " 'truly been the worst experience this weekend delayed rerouted ex now not boarding a  flight and says flight is on time ',\n",
              " 'got another flight thanks you ',\n",
              " 'can u get me on felt instead of it now ',\n",
              " 'leadership counts landed at   last night deplane at    minutes of that was waiting for the jetway inexcusable ',\n",
              " 'the departure time keeps getting late flight i all be lucky if i i home by am ',\n",
              " 'for our birthdays my fiance amp i want to travel late flight april you re our fave airline but frontier has this ',\n",
              " ' it i been a long day arrived from london at  this morning ',\n",
              " 'i was on felt  tomorrow they moved me to  i need it moved to tuesday the roads won i be better for flight  thanks ',\n",
              " 'lost  loyal customers and mileage plus card holders we could have driven to florida from pa quicker both ways worst trip ever ',\n",
              " 'now maintenance issues with flight  and more issues with passengers that will miss connections needing to get off ',\n",
              " 'any plans to make the southwest app for android not crappy ',\n",
              " 'sure email screenshot below link ',\n",
              " 'delayed because of salt on the floor from previous passengers the  of just just want to fly don i care about our shoes  ',\n",
              " 'has time to respond to everyone else i complaints but not mine you just lost a customer ',\n",
              " 'kudos to the crew of felt  today specially to carlton loved your new   keep up the good work a ',\n",
              " 'delayed in philly since  sitting tarmac since up flight  ply contact  com ',\n",
              " 'amazing view on the approach to lax tonight ',\n",
              " 'thank you for fixing my  hour delay ',\n",
              " 'all good beers and ar ',\n",
              " 'how hard is it to unload bags in order of arrival  mins and counting for flight  ',\n",
              " 'i have been on hold for over  hours please help ',\n",
              " 'do you happen to know if that plane will be repainted or fly off into the sunset ',\n",
              " 'omg omg nonstop dallas to austin on virgin ',\n",
              " 'always enjoy my time now on the plane to dew ',\n",
              " 'i left something on my flight from ord to so earlier today and believe it i on the plane back at ord now please help ',\n",
              " 'our fleet i on fleek ',\n",
              " 'yes i filed yesterday around noon i have a claim number but they haven i contacted me yet ',\n",
              " 'thanks for leaving me hanging here flights all fucked up now no help ',\n",
              " 'worst airline in the world  delays gate agent loses her mind over   labs and charges me  on top of the  i already paid ',\n",
              " 'i have a flight from omaha to chicago en route to ny and they are seating me and my partner separate please fix this res  ',\n",
              " 'please update your website ',\n",
              " 'almost missed flight long slow wi ticket line rather make a complaint or your flight ',\n",
              " 'one heck of an airline ',\n",
              " 'is jak still closed tryna get out of it lauderdale on flight  just want to get home to ny ',\n",
              " 'in flight wifi wifi calling makes for the best combination who doesn i love texting   feet in the air i ',\n",
              " 'ok thank you i hope so too ',\n",
              " 'know what i like about gate six nothin i like nothin bout yo gate ',\n",
              " 'any idea when the flight will actually take off ',\n",
              " 'emmaclifford no at jak you sort of have to guess things out it i a small airport so whatever ',\n",
              " 'if someone misses his connecting flight because of the airline and it was the last flight of the day how will you fix it ',\n",
              " 'glad that you wanted to help me but you didn i have an agent call me before i rant about shitty service every day ',\n",
              " 'so i i penalized for packing lightly having  bag and paying extra for a seat ',\n",
              " 'honestly how is it quickly as possible i ve been on hold sine   everyone that answers has to send me to someone else ',\n",
              " 'no worries even though i was talking about seat assignment ',\n",
              " 'batting   four flights in a month all four delayed ',\n",
              " 'any luck ',\n",
              " 'i have a receipt but no conf for a tour flight when i call for help i was literally hung up on i i of wait times help ',\n",
              " 'service staff to is less than friendly ',\n",
              " 'why is it from june  thru december  there are no bus first milesaaver awards available from cun to ny ',\n",
              " 'should i expect delays at dna for am departure going to orlando on flight  ',\n",
              " 'wish you would make austin to a hub missing you as my airline for all my biz travel since i moved from bos ',\n",
              " 'this is not a flight delay this is horrible planning on jet blue ',\n",
              " 'connecticut ',\n",
              " 'is there a number to call to modify reservation please help very frustrating with american and us air merger ',\n",
              " '  rock hit the plane in a delay now never an easy day with us airways ya never fail to let me down ',\n",
              " 'you guys continue to impress your crew mo gate helped our family with seat issues ',\n",
              " 'fair enough but it stinks to be the passenger on the plane that leaves the gate then sits on the tarmac for an hour before takeoff ',\n",
              " 'left us had to stay on other flight until they got bags off this sucks had to run with a baby and bags ',\n",
              " 'you will extend if i call the day it expires why can i it just be extended now ',\n",
              " 'cancelled lighted our flight and now are still delayed not cool ',\n",
              " 'what is the best credit card to use open to get miles with y all ',\n",
              " 'worst flying experience ever and they tried to blame it on atc i watched them load bags for min after boarding min late flight ',\n",
              " 'i need to change my flight thats scheduled in  hours and  min wait time on phone im calling intern help ',\n",
              " 'uh yeah flight boarded amp now  he late flight we still sit update on  to dna ',\n",
              " 'yep they moved me to a as they showed me flying standby ',\n",
              " 'all to mde great flight great customer service thanks  myths waiting to speak to a human at customer service ',\n",
              " 'sharon at customer service desk in charlotte was fantastic so helpful and smiling even after what sounds like long day reward her ',\n",
              " 'how can i get tickets for feb  imagine dragons show ',\n",
              " 'never heard back but this would help any chance i could bump up my flight time closer to up today i i on flight  ',\n",
              " 'thanks for the upgrade please try to get my company to approve more business class travel ',\n",
              " ' yrs of flying continental united exclusively i get why everyone hates you  ear ',\n",
              " 'to stream means i get to spend my flight watching  and  women i world cup finals ',\n",
              " 'flight from jak so was pure awesomeness mint class and tim our attendant was the best other airlines take notes ',\n",
              " 'is the absolute worst airline  women were inconvenienced due to maintenance issues stuck all over no care given ',\n",
              " 'why is flight  redirected ',\n",
              " 'very embarrassing ',\n",
              " 'so plot thickens we re on plane but no ground crew to get us off gate apparently under the weather in large numbers ',\n",
              " 'what a really great amp flattering story about you you should be very proud via ',\n",
              " 'can you please tell me where united flies to from sydney australia pref asia pac or us as i have a voucher to redeem ',\n",
              " 'go i will you have to agree that  hours late flight for arrival is unacceptable i only hope and pray my bag is here ',\n",
              " 'what is the status of flight  tomorrow ',\n",
              " 'flight cancelled lighted website refers to   the   hangs up on me not auto rebooked really horrible company ',\n",
              " 'connection at ord was on the exact same plane again checked carry on was apparently taken off amp left in chicago pretty ridiculous ',\n",
              " 'thanks to your attendant on flight for advising connect flight held ran with kids and flight departed poor service at miami ',\n",
              " 'need to work on your program at the very least clue in your flight attendants ',\n",
              " 'thanks ',\n",
              " 'here is the photo ',\n",
              " 'im flying with you from mi boston and then icelandic to iceland  hours between can we check our bags all the way ',\n",
              " 'how about a link that works plus nothing but complete frustration i usain last  his ',\n",
              " 'flight  from mem to dna delayed  hours now holding breath while they keep me trapped  hours to de ice ',\n",
              " ' es  es sell too cheap mad ny with airways are they trusted webs or is it a scam ',\n",
              " 'i need to get from albuquerque no usa to cell philippines i i providing educational help for  kids can you help me ',\n",
              " 'why did you interupt the stadium series on i dont need to see your stupid commercials or emergency info ',\n",
              " 'leisure military personnel for safety reason i highly recommended to not travel in uniform ',\n",
              " 'thank you so much ',\n",
              " 'ticks me off ',\n",
              " 'we appreciate the for roberto do confirmation code so we can forward ur kind words i confirmation code ',\n",
              " 'and aren i as merged as the marketing departments would have us believe maybe or can get me home ',\n",
              " 'i waited on hold for too long i shouldn i have to wait on hold forever when i never received a confirm in the est place ',\n",
              " 'rude grouchy agent at dulles check in just got my  hour trip off to a lousy start he needs a nap or something ',\n",
              " 'plane breaks unloads the passengers told to re enter to only come back off flight cancelled lighted missed wedding ',\n",
              " 'where are our pilots plane is here flight says it i still on time but we should of been off the ground  minutes ago ',\n",
              " 'she did she i still waiting on a callback the lack of follow through is what i concerning suh ',\n",
              " 'the issue is the lack of consideration of an announcement made so late flight when the gate agent had been there for over an hour ',\n",
              " 'the supervisor on situation stacey took all our details no claim number given to us ',\n",
              " 'it is an extreme inconvenience to make pal check bags when there i a lot of overhead space left you lie so you re not at fault ',\n",
              " ' phone calls  his of being sent back amp forth between two lines in the terminal and it i the skycap that finds a solution ',\n",
              " 'your customer service sucks you rep should not be yelling at a caller regarding the weather in dew hope you go bankrupt ',\n",
              " 'i don i like making a scene but this hasn i been addressed properly please have them do that ',\n",
              " 'if a passing requires wheelchair to it on plane then sits in an exit row old they i physically capable to help in emergency ',\n",
              " 'it is super frustrating that the folks at the united ticket counter in pittsburgh aren i honoring their own media rate ',\n",
              " 'this is what you missed next trip to the  ',\n",
              " 'how are conditions in bos today i i in  everything appears to be in time but i wanted to check ',\n",
              " 'you have a culture issue ',\n",
              " 'announces new nonstop connecting amp  intro ',\n",
              " 'so yesterday a flight i wanted to chicago was on sale within my points range and today it isn i any way you guys can still honor ',\n",
              " 'there must be  people waiting in line for customer service at den to deal with flight cancelled flirtations ',\n",
              " 'still no rep can talk  days late flight u i asking me to checkin to my flight try and my refund is being requested deal i this ',\n",
              " 'you re flight attendants suck and are always rude ith bad experience with jetblue tonight ',\n",
              " 'you denied a mom her am flight because she needed her breast pumping parts on a full flight please fix this asap ',\n",
              " 'customer service said it was a known problem that they were using same confirmation numbers for domestic and international ',\n",
              " 'fyi the link in your baggage incident email redirects to a  on mobile the link auto changes on mobile desktop works fine ',\n",
              " 'can you am me i answer if felt to  is still on time been on ground over an he i no gate need help plus ',\n",
              " 'she has the guy u served drinks  til he needed wheelchair to get off the plane is a more important then the assaulted women ',\n",
              " 'they said because there was no meal on my flight they would not what airline serves food anymore update in policy ',\n",
              " 'you allow shady ord party services to sell your tickets and then refuse to help the customer who i left holding the bag ',\n",
              " 'so i saw the promo for a list when i was on a plane this monday i fly two more times in the qualification period   ',\n",
              " 'are you fucking kidding me ',\n",
              " 'i did see that working on picking up a trip or two as we type ',\n",
              " 'i tried already and i am on the waiting list for a call back ',\n",
              " 'although you have no control of the weather you came through with a great customer service ',\n",
              " 'i get extended hold times due to the weather but    hours on hold and counting help ',\n",
              " 'i was denied use of a rear facing car seat on  an  can you confirm the actual policy ',\n",
              " 'terrible travel experience traveled  miles roundtrip but two cancelled flightlations of short hops cost me two days ',\n",
              " 'beats expectations shares take off santa cruz sentinel ',\n",
              " 'so  hotels for  people but feel like we are being held hostage because someone has our boarding passes so we can i leave ',\n",
              " 'broken entertainment system on my  hour ny flight terrible cabin crew service and online complaint form won i work ',\n",
              " 'hi get a solar charger from amazon game changer to plug usb into charge ',\n",
              " 'dragons lauren im screakjmf ',\n",
              " 'happy for so but hopefully you all add pox soon we added two new destinations all and so from las vegas in the last year i ',\n",
              " 'so glad i ve been waiting for  hour and  minutes and ive been transferred  times without resolving anything worst service ever ',\n",
              " 'why was southwest only airline to cancelled flight all flights from charleston was   flight cancelled flirtation really weather relate flight ',\n",
              " 'stranded in cold texas and getting sick because you overbooked the flight and gave my seat away ',\n",
              " 'stop the madness our fleet i on fleek ',\n",
              " 'and that you can choose the same seat for free after clicking  buttons ',\n",
              " 'i have just checked in flight to so from lax amp been told as atlantic flying club gold i get no benefits ',\n",
              " 'this is the year for van gogh fans to visit europe ',\n",
              " 'i requested my boarding pass to be texted to me but i still haven i received it ',\n",
              " 'a change fee of  same exact flight from atl hou is  why a charge of  the math doesn i add up ',\n",
              " 'the word failure means an act or instance of failing or proving unsuccessful lack of success nonperformance of something due ',\n",
              " 'you think i haven i tried that multiple times the status of my bag is that it should ve been here yesterday so disgusted ',\n",
              " 'question are there onboard  volt outlets in all planes if so where ',\n",
              " 'this says it was estimated to leave an hour ago it hasn i left yet so thanks for this useful information ',\n",
              " 'been on hold for over an hour still don i know where my bags are won i refund me my flight it wasn i weather ',\n",
              " 'beautiful view flying into san jose ca this evening ',\n",
              " 'your customer service in philly is deplorable rude amp unprofessional gate agents after delays amp cancelled flirtations ',\n",
              " 'is there a way to receive a refund on a trip that was cancelled flight online instead of calling your phone lines are super busy ',\n",
              " 'i i aware i fly a lot just sad i had to change my shoes boots ha ',\n",
              " 'any chance of adding lax it jak direct any time in the future ',\n",
              " 'really not acceptable just informed plane won i start chartering bus to take passengers to jak ',\n",
              " 'yes starting i flight  getting me home more than  hours late flight record locator sulu ',\n",
              " 'don i understand why i have zero felt info no email  he wait time on oh lines so much for adnan mem ',\n",
              " 'do new flights come out at midnight ',\n",
              " 'can you help me with a refund the phone guy couldn i help the website won i let me submit a reply ',\n",
              " 'keeping a up in the air my crew chief cousin alex espinosa in dew ',\n",
              " 'love the new planes for the jak lax run maybe one day i will be on one where the amenities all function ',\n",
              " 'i need you to get my cousin to pox she i on  days of travel now and we ve had to hire other sitters til she arrives the for that ',\n",
              " 'not appropriate to ask in public hence the do each united employee each a new answer your process was such a hassle i cancelled lighted ',\n",
              " 'well this one missed the mark she was in a snit from the minute i stepped up to the counter ',\n",
              " 'gave me a smile today with a zero award computers have some sense of humour ',\n",
              " 'hi is there a way we can check to track the flight that will arrive amp that will be our flight to depart ',\n",
              " 'and the from team to offer in access to journal digital journal ',\n",
              " 'your flight attendants are really funny the sass is giving me life ',\n",
              " 'i i stuck in fort lauderdale ',\n",
              " 'thank you ',\n",
              " 'them and ',\n",
              " 'still waiting for a flight i should get my money back ',\n",
              " 'hello my flight is cancelled lighted for and no one at your desk at ki knows what the fuck is happening ',\n",
              " 'nicole at quito airport took great care of us this week handled lost baggage seat changes very professional nice pat her back ',\n",
              " 'congrats on your call center customer service a guy named silencio answered and he went above amp beyond to help me ',\n",
              " 'more people would catch their flights if your attendants had more help ',\n",
              " 'with karen and found her unhelpful and rude called united at the time amp told she could board but karen would not accept ',\n",
              " 'finally through the ',\n",
              " 'thank you we all be in touch ',\n",
              " 'thanks for working in very rigorous weather conditions for all ',\n",
              " 'today i wait was a violation of ',\n",
              " 'i appreciate the speedy response but the longer you delay the more inconvenience you put on your customers please nix change fee ',\n",
              " 'on our way now ',\n",
              " 'is flight number  denver to las vegas  on sunday feb  cancelled lighted ',\n",
              " 'i see several economy plus can you put us in those we don i have to be seated together ',\n",
              " 'i will and i will share with many many others ',\n",
              " 'cancelled lighted my mileage plus award reservation  same day have yet to see my miles back despite agent confirmation ',\n",
              " 'ok so why is it late flight and for that matter why was my flight  cancelled lighted this morning i ve been in xyz since  am ',\n",
              " 'thank you for your time ',\n",
              " 'big ups to newark airport staff amp amp i dean i was also treated lovely while i was in town ',\n",
              " 'thank you so much for access to tonight at crying dying in ',\n",
              " 'y all just cancelled lighted the flight i rebooked after est was cancelled lighted help i need to be in ny schedule more flights tomorrow ',\n",
              " 'got it squared away someone picked up as soon as i tweeted should have tweeted sooner ',\n",
              " 'i have never seen such incompetency from a gate agent in years of business travel dew be gate agent needs training or new job ',\n",
              " 'take me here ',\n",
              " 'membership has no privileges anymore my son is in the army short window to see him no help ',\n",
              " 'worst experience of all time will never ever ever travel with you again ever ',\n",
              " 'your customer service is inferior to that of a nationalized third world nation i airline get it together ',\n",
              " 'how do i merge my miles accounts your sites tell me my info don i match even though i can i find a difference ',\n",
              " 'an update on flight  would be great ',\n",
              " 'denied me standby be of checked bag in cog  to pal  so i had to take delayed   his late flight except u lost bag in cog ',\n",
              " 'stuck on a plane at jak food was not on the plane now we need to wait crew to push back the plane good job a ',\n",
              " 'i have submitted my request i would appreciate a call by am eastern thank you ',\n",
              " 'why was flight  forced to return to ny when there was a malfunction why not land in the countless air strips surrounding chi ',\n",
              " 'thanks ',\n",
              " 'we are missing our connecting transportation in puerto rico as a result need to get to virtues today ',\n",
              " 'the pilot told us they would release bags as well as offer hotel vouchers neither happened ',\n",
              " 'booked mos early paid for early check in was assigned boarding here this early and you deleted me in error ',\n",
              " 'seriously i have shared my concerns four times already to no avail geeeeezzzzz flyer ',\n",
              " 'thats weak see ya hey ',\n",
              " 'first base already i like your style ',\n",
              " 'pushing five hours and my time is worth nothing to you relight booking problems not an option unfortunately ',\n",
              " 'no worries about the tweets we all should do what we can to make sure we as in your tag line fly the friendly skies ',\n",
              " 'see information on our boarding process up i get group  amp  just no reason on   ',\n",
              " 'flight is already over i think the airline should just have the flight attendants actually emphasize that vape is still smoking ',\n",
              " 'thne hopefully it i just on the not flight up i ve got  shows this wind worst case i all just turn my sweatshirt inside out ',\n",
              " 'ready to go to disneyworld for the ',\n",
              " 'can you tell me why i waited  mins and then was charged the  phone change fee even tho i wasn i allow to make change online ',\n",
              " 'just landed flight  any chance of making flight  phoenix to aus ',\n",
              " 'i have to spend more than the cost of the flight just to get a free room and transportation to and from the airport ',\n",
              " 'go south everyone ',\n",
              " 'i will if you can show me where this new program is beneficial to your longstanding loyal consumers ',\n",
              " 'used to exclusively fly so but late slightly direct flights amp cheaper costs have me switched why so few direct flights ',\n",
              " 'been stuck for  minutes due to lavatory issues no beverages no snacks no customer service felt  to pho ',\n",
              " 'what is with all the cancelled flightlations to fbi we have pax at dna that have been sent to  different lines between all and awe help ',\n",
              " 'you guys really suck i just spent  minutes on the phone linking my credits to my account they are still not there   ',\n",
              " 'love how you hold flight  in pox for late flight passengers and make us all over an hour late flight great job ',\n",
              " 'still waiting on a do response ',\n",
              " 'strives to be customer central in everything they do communications advertising customer journey etc ',\n",
              " 'you failed me last week at ah next into trip on delta small ual flight from lax booked that i it ',\n",
              " 'excited that i all be flying from syracuse to interview in dallas on friday for the fa position this is a goal amp dream of mine ',\n",
              " 'and time in a row i ve been over charged by  i of on my plane ticket why i shouldn i have to check my ca everytime ',\n",
              " 'you should spend all of the money you take for our tickets and update your planes each flight has a maintenance issue ',\n",
              " 'don i forget without your customers you would be out of business ',\n",
              " 'i have never been given a number for elite for usain only a i waited for  hours for an answer and by then my seat was gone ',\n",
              " 'thank you for being jetblue and not jetgreen or jeered blue is my favorite color and jet blue makes it better ',\n",
              " 'almost an hour on hold for swa is inexcusable ',\n",
              " 'enough already with the poor service old planes ridiculous routing ok and time to find a new airline with status match ',\n",
              " 'record i cabaret got email we couldn i get rescheduled on another flight but don i know if flight is cancelled lighted ',\n",
              " 'i even went to ticket counter and got no help ',\n",
              " 'i digg it ',\n",
              " 'thanks i just sent a few des ',\n",
              " 'really appreciate the great customer service one of your service agents just hung up on me when asking legitimate questions ',\n",
              " 'that i why i love jetblue ',\n",
              " 'what i the point of offering a free checked bag of you lose it ',\n",
              " 'after a crappy flight due to delays and rude staff members i i happy to report after paying  to check my luggage it i ruined ',\n",
              " 'how about fixing the wifi ord flight where it i not working  series plane so not like it i an old plane ',\n",
              " 'already booked my tickets for august with with can i wait for my vacation ',\n",
              " 'something is wrong with your phone system if you call someone and don i play the recorded flight notification is  late flight ',\n",
              " 'i do to as i have an afternoon conference in las vegas and i would rather plan ahead than run thru the airport and then attempt ',\n",
              " 'oh yes because i had loads of time running to my connecting flight after you delayed me for about  minutes ',\n",
              " 'frontier is currently offering their weather exceptions for this weekend when is united ',\n",
              " 'we are on the up flight all to pal and then connection to man however with the delays we might miss it can we go earlier ',\n",
              " 'dal is due for sleet sun eve didn i see it listed for cities that can re book fly to dna at   ',\n",
              " 'sign me up ',\n",
              " 'my flight  was cancelled lighted i need to be rebooked and i can i do it online and they aren i answering calls help ',\n",
              " 'i have a flight   am from fort lauderdale to wi can i cancelled flight that flight flight  trip i i  ',\n",
              " 'this isn i a one time thing either it i a shocking pattern of repeated neglect and disrespect ',\n",
              " 'to operated  from to airport replacing   between may sep instead till oct ',\n",
              " 'cancelled lighted flights and asshole phone support ',\n",
              " 'when will dates to fly go past august   ',\n",
              " 'is making dreams come true with their scavenger hunt you can win a chance to see imagine dragons go ',\n",
              " 'okey done ',\n",
              " 'let me assure you my travel time is him not him ',\n",
              " 'i just had an interview how long does it take before you hear back ',\n",
              " 'it wasn i weather this morning  diverted back to bos due to mechanical issues so far lost one of  days ',\n",
              " 'flight   departs enroute to airport ',\n",
              " 'thank you for leaving my  y o grandma stranded because connecting felt could not wait  minutes i will never fly you again ',\n",
              " 'please review and fix your baggage procedures at dulles because it happens every week when my sister travels there on your airline ',\n",
              " 'calling at am to tell me my flight has been rescheduled  hours late flight than it was supposed be to seems like a bad solution ',\n",
              " 'ten his late flight and still here on army cots airport waiting for am flight ',\n",
              " 'check do please ',\n",
              " 'thanks ',\n",
              " 'my wife and  month old might miss flight and next direct is  am mother in law been on hold with customer support for  ',\n",
              " 'so there were  early bird check ins because i was told there were no flythroughs good flight otherwise ',\n",
              " 'very frustrated saw seats avail online for pref alt flight unable to book online lost those seats during it  he phone hold ',\n",
              " 'at its worse can i figure how to pack plane screws up connects then claims no hot rooms in san fran for stranded pax way to go ',\n",
              " 'i i a chairman who was in est class on both my flights today system cancelled lighted my tickets and kicked me out of est ',\n",
              " 'will flight  that arrives at end be a penguin plane ',\n",
              " 'that i wonderful unfortunately doesn i help on this  he flight between to major u i cities ',\n",
              " 'dropped a track on you ',\n",
              " 'i know you are getting pummeled tonight we were one of the lucky out of just one more ',\n",
              " 'flying i infant for the est time can i bring a canister of powder formula for a carry on and or use my plastic formula divider ',\n",
              " 'i just got hanged up on trying to get to an agent can you help ',\n",
              " 'hi just do i info ',\n",
              " 'just downloaded the app for iphone notice drink coupon but nothing is displayed getting ready to fly ',\n",
              " 'green just received it actually thank you ',\n",
              " 'thank you for the confirmation ',\n",
              " 'i was so glad it was mentioned i took my first virgin flight a few years back and it was a transformative experience ',\n",
              " 'flight  cut to pal i was est on list someone else got spot rude employee in coach wouldt give id said he was cute red head ',\n",
              " 'can i get any kind of update on the delayed flight from boston to houston at   really need to be back home tonight ',\n",
              " 'call customer service and of course they just say theres nothing we can do and then offer a transfer and disconnect the line ',\n",
              " 'to battle on route via ',\n",
              " 'yes i ve been waiting for four hours and no one has been able to help me ',\n",
              " 'thanks she did her best staying the night in dallas new trial to detroit via atlanta tomorrow assuming no cancelled flightlations ',\n",
              " ' days in a row not buying it i suggest you review your policy i respect to unaccompanied minors should have had a seat on sun ',\n",
              " 'after pleading with car service to stay  his past pick up they left me and my family but it i ok i have water and crackers ',\n",
              " 'flight  ear to all ',\n",
              " 'i remained on hold for  his to resolve my flight schedule amp your system hung up on me ',\n",
              " 'thanks just was able to do it on the app myself still not customer service to be seen in xyz ',\n",
              " 'merging a and dividendmiles yield an error what are the exact steps to navigate the phone menu all i get is a computer ',\n",
              " 'thank you ',\n",
              " 'what does cabin functionality mean when i i taking a customer satisfaction survey ',\n",
              " 'never had a bad experience before but this one took the cake now extortion for carry on items as well ',\n",
              " 'i was told it was due to be on ua which flies direct to dublin so why did it go to london this is a complete shambles ',\n",
              " 'i i   for flight booking problems without major problems  isn i bad ',\n",
              " 'ah yes put the bags on the floor instead of the overhead bin so no one trips ',\n",
              " 'traveling from fra thru iad to mo tomorrow concerned abt iad weather can i change until advisory issued any advice ',\n",
              " 'it drops  when i take off the other two people and vice versa back and forth ',\n",
              " ' months and still no exec platinum member cards what gives ',\n",
              " 'that is certainly not the impression she i under ',\n",
              " 'kid just wants fucking money ',\n",
              " 'that i the number i called it wouldn i let me speak to an agent because of the issues with weather today ',\n",
              " 'close down ',\n",
              " 'saying my friend missed her flight when she clearly sat next to me on the plane amp now you re cancelled fighting her flight home wif ',\n",
              " 'no thanks i i sick of your company i lousy excuse for customer service i i never flying united again ',\n",
              " 'the come hell or high water ',\n",
              " 'please do something about boarding at dna six many delays buses to planes on tarmac despite empty gates disorganized mess ',\n",
              " 'i i flying into dna my bag is at iad i am already late flight for my meetings at work i will call the number when i land ',\n",
              " 'the flights weren i from this morning it was  flights  on thursday and  on monday which turned into tuesday ',\n",
              " 'debbie baldwin gave a performance of the safety demo this evening on  ',\n",
              " 'big thank you to your ticketing agent ute i at dulles washington for outstanding guest service to get me rebooked ',\n",
              " 'my friend bought a ticket last night for one of these routes from you and it cost way more can you help i ',\n",
              " 'the bag is in a state that i didn i travel to and the airports don i fly to each other looks like it all never show ',\n",
              " 'thanks for your assistance you guys rock ',\n",
              " 'my wife on the phone asking to switch flight times in mid switch gets disconnected now cancelled lighted no new time no call back ',\n",
              " '   he wait for bags if this is the a taste of the worlds largest airline heaven help aviation ',\n",
              " 'awesome customer service on from du they snuck my wife a warm cookie the ',\n",
              " 'how much does it cost to check in an additional bag traveling from newark to glasgow thank you ',\n",
              " 'yes but it i not looking the ticket agent at out terminal dismissed us and we missed a chance at a miami flight then to do ',\n",
              " 'he has no priority and iove it ',\n",
              " 'customer relations line had busy signal too called the normal line and the service rep thought i was dumb for not knowing ',\n",
              " 'to start daily  flights from oh to on aug ',\n",
              " 'my friends are stuck at kohl and not getting any help from anyone can you guys contact them please ',\n",
              " 'you left  people on a hot plane with no ventilation for over an hour and a half and then had to bus them to jak because of ',\n",
              " 'thank you ',\n",
              " 'i attempted to book a ticket  times and kept getting a error message i hope you didn i still charge me ',\n",
              " 'can you check on he status of my exp membership card need the physical card to access some international lounges soon ',\n",
              " 'airline sucks customer service sucks no courtesy incompetent passengers do not matter bet the ceo is just doing fine though ',\n",
              " 'what incentive do i have to give you another chance ',\n",
              " 'received an email requesting i call about a res but i keep getting kicked off of your phone system help ',\n",
              " 'you lost a customer today flight today was cancelled lighted and i had to find out by calling customer service yesterday ',\n",
              " 'yes please i am newly married and trying to update my last name on a preexisting international flight it seems so easy but ',\n",
              " 'i will be writing a very detailed letter to you all about this experience today i have never experienced such awful is ever ',\n",
              " 'i sent you my conf number yesterday ',\n",
              " 'my booked seat ended up being the last row which was labeled do no occupy had to play musical chairs for  mins unacceptable ',\n",
              " 'attached original ticket flight number was  isn i the experience i thought i would have terrible ',\n",
              " 'sitting in baltimore finish taxi and approved to takeoff oops not enough fuel ',\n",
              " 'mark i in austin was great handling my bag issue ',\n",
              " 'can you please do me i have a question for you ',\n",
              " 'are departing flights from boston heavily delayed flying out tomorrow morning ',\n",
              " 'hi im flying so lax sal clo my connecting time in lax is  is it enough time do i have to collect my bag and recheck on av ',\n",
              " 'you set a schedule try and keep it flight ',\n",
              " 'aw okay thanks ',\n",
              " 'thanks for the lack of help and the canned response from the ok desk ',\n",
              " 'my flight  to dallas from jacksonville fly has been cancelled lighted no one has notified me what i going on ',\n",
              " 'you ve inspired me to start my own airline to combat your weak ass airline sick of this shit ',\n",
              " 'why cant sapphire members reach anyone on the phone ',\n",
              " 'and get it together perfect combination for delays and cancelled flightlations ',\n",
              " 'thanks for the shout out candace enjoy the ride i always i adore american airlines ',\n",
              " 'still waiting on your reps to show now  mins into waiting in below freezing weather waiting for a cab ',\n",
              " 'flight from dew to lit tomorrow has been cancelled lighted what do i do next plus advise ',\n",
              " 'my or class would luv to know who i in charge of your twitter how many people write your tweets ',\n",
              " 'i filed a delayed bag report on saturday my flight was cancelled lighted and i never went anywhere ',\n",
              " 'got a call bag is to be delivered tonight thanks for your reply ',\n",
              " 'no chance in hell i i rather walk worst airline ever ',\n",
              " 'barzegar charges tourists  euros a night for their stay in the tent village he runs ',\n",
              " 'hopefully that will help someone in the future would there have been a different procedure if i had discovered the theft sooner ',\n",
              " 'make this delay go away maybe upgrade me and kats seats we are headed to columbus ',\n",
              " 'mo to lag two hour delay and sitting in tarmac going on  minutes with infants crying on plane get us off this plane ',\n",
              " 'i have many allergies and want to know if i can bring an coz bottle of benadryl on the flight along with my  epipens ',\n",
              " 'so disappointed least you could do is give us access to admirals club for an hour before our flight to our wedding ',\n",
              " 'i ve been on hold for  minutes this is terrible customer service you messed up my reservation ',\n",
              " 'really ',\n",
              " 'next once we arrived to atlanta we waited a full hour before our luggage was placed on a carousel one hour ',\n",
              " 'what do you call that ',\n",
              " 'you suck ',\n",
              " 'i will never be flying with ever again  for checked bags all under bulbs ',\n",
              " 'can you tell me jet airways award availability ',\n",
              " 'got transf to dividend miles need to change flight grandma just passed need to change ticket asap update on wait time ',\n",
              " 'your social listening capabilities are awful if this is the reply for the context in which you were mentioned ',\n",
              " 'oh and losing my luggage angrybird where skybax ',\n",
              " 'now in a black hole of your phone system ',\n",
              " 'unfriendly unhelpful agents unannounced gate changes delayed flight that we found out about by word of mouth ',\n",
              " 'thank you ',\n",
              " 'been dealing with multiple offices for the last  days youve completely lost me as a customer unless my bag is back to me ',\n",
              " 'flight  to ball hit turbulence babies cried kids vomited chaos flight attendant caroline was a superhero ',\n",
              " 'indeed it was not ',\n",
              " 'every flight flown by me personally about two round trips per month is full still hard to believe fly  hours thru atl no ',\n",
              " 'thank you truly appreciate the help just sent a do ',\n",
              " 'nice lofty view ',\n",
              " 'our fleet i on fleek masss jetblue tell them ',\n",
              " 'ok we are on day  trying to book a flight for  ur system still says due to weather call back late flight ',\n",
              " 'why are you still selling tickets when you haven i rebooked people to arrive at their destinations on time ',\n",
              " 'how i a direct flight all it so have unexpected layover in vegas  fuel yet peeps next to me bought for vegas flight ',\n",
              " 'does she need to complain on twitter for the refund or is it auto applied ',\n",
              " 'i emailed your customer service team let me know if you need the tracking number ',\n",
              " 'on a flight at   tomorrow ',\n",
              " 'not necessary i am confident the excellent in flight staff will make the appropriate report ',\n",
              " 'our fleet i on fleek ',\n",
              " 'greatest newark gate agents ever david dean norma liedholm and luz calderon just made me feel like a king ',\n",
              " 'suggestions tell customers approximate wait times when they are on hold  min now and allow them to cancelled flight online ',\n",
              " 'and the fact that we were treated disrespectfully and lied to by members of your airline that claims to strive for the best ',\n",
              " 'i want you to pay for my parking fee at orlando airport because your app told me my moms flight landed at   and it lied ',\n",
              " 'it takes a month ',\n",
              " 'do you have a further update on the suitcase today please ',\n",
              " 'seriously ua  delayed because of the copilot isn i here for   hours and he is only flying from raleigh disappointing ',\n",
              " 'hello i have a question for you and your phone lines have jammed ',\n",
              " 'i have a reservation for tomorrow morning but trying to get back  night be other flight was going to jak can i get on list at cog ',\n",
              " 'keeps delaying my flight horrible customer service ',\n",
              " 'i i disappointed my flight was cancelled lighted mostly because i was excited to listen to the song i i blue while flying on jetblue ',\n",
              " 'thanks ',\n",
              " 'this is ridiculous we are on   hours coming up of waiting to deplane there are are newborns on board ',\n",
              " 'doing best think not lousy way to run an airline why no online way to connect you be on hold for this amp then zip ',\n",
              " 'what if business as usual meant dropping the bully mentality and fostering inspiration for a greater business ',\n",
              " 'been on hold for  mins to cancelled flight my reservation can you assist ',\n",
              " 'did you cancelled flight all flights into dna today ',\n",
              " 'yeah sorry but there i always a problem with united and you have an international reputation for having problems ',\n",
              " 'just learning about your famous apology in social media marketing is twitter an asset for jet blue now mama ',\n",
              " 'do we get to pick which show ',\n",
              " 'why do you bother surveying me ',\n",
              " 'is there something wrong with the website no matter what flight i select it says it i no longer available ',\n",
              " 'had baggage lost last night no call from us airways and no bags and nobody answering phone ',\n",
              " 'and it i not a inconvenience it is a disaster it i a  phone bill from you that you refuse to pay ',\n",
              " 'will you please start offering more routes out of to more locations instead of just charlotte and atlanta ',\n",
              " 'was not on board you today just watched report unfold on twitter but still am very proud ',\n",
              " 'hi again any updates here ',\n",
              " 'i hate the internet lol ',\n",
              " 'are you guys alive i ve been on hold for  minutes and counting ',\n",
              " 'no announcement re extra baggage find an empty bin down to aisle  back up with baggage to my seat row  your agents argueing ',\n",
              " 'nice it vibe with the moonlight from takeoff to touchdown ',\n",
              " 'for the record romana at newark was lovely and helpful ',\n",
              " 'awwweesssooomee ',\n",
              " 'okay thank you ',\n",
              " 'your move policy really sucks united has a  hour policy for this with status i was wanting to move up from am to am ',\n",
              " 'i have two tight connections in and ',\n",
              " 'can you follow me so i can send the do ',\n",
              " 'thanks for the  hour flight from pit to pox with zero entertainment guess why i have a quarter million miles on delta ',\n",
              " 'no oscars on direct to on this flight we were so looking forward to it we were devastated ',\n",
              " 'can you help me get a flight out tonight to houston just don i want to be stuck here till monday with all this bad weather moving in ',\n",
              " 'i hope so too thank you for your help she traveled halfway across the globe and just wants her suitcase ',\n",
              " 'first ride on new   with new interior and in seat video nice improvement ',\n",
              " 'what is going on with the flight  it has been delay a lot ',\n",
              " 'if a business decision is made that inconveniences and possibly causes lost customers is it a good business decision ',\n",
              " 'i have been hanging here for almost an hour ',\n",
              " 'i i trying to get home to nashville i ve been stuck in dallas  days will my flight get out in the morning ',\n",
              " ' minutes on hold for a reservation ',\n",
              " 'i i so frustrated and nervous because of this ',\n",
              " 'reservation was made last july i want to know why i wasn i repeated this only happens on international itineraries ',\n",
              " 'still can i get a real person on the phone to book a flight ready to just go with since they care ',\n",
              " 'you should update your passbook passes with any gate changes ',\n",
              " 'so why do you put this at the bottom of ur baggage report for fun ',\n",
              " 'est flight of the morning flying with a toddler will the plane be heated to a comfortable temp before boarding starts ',\n",
              " 'your app is bad and you should feel bad ',\n",
              " 'big shoutout to the crews on  bos it jak amp  jak it roc amp gate crews at can bos amp  jak long day of delays made better by them ',\n",
              " 'i all be calling soon but going tomorrow like it shows on the app is not a good option ',\n",
              " 'can i get a refund i would like to book on a better airline ',\n",
              " 'why let someone from black twitter in their multimedia department ',\n",
              " 'wife i or its expired a few days ago were planning on flight booking problems trip today anything you can do for us on a tight budget ',\n",
              " ' hour mechanical delay killing me ',\n",
              " 'expanding ',\n",
              " 'ah if only we could get through we ve tried for over  his can we call ',\n",
              " 'yes but you are still human i hope dealing with all the horror stories people share i complained to dot everyone should ',\n",
              " 'what i a good number to call to speak with someone about how you can fix what you did to  people and their luggage on saturday ',\n",
              " 'raise a dispute with your ca provider and they will hopefully clear it for you ',\n",
              " 'sorry to report we are stuck on tarmac being held so ',\n",
              " 'hello we are doing a world record attempt on the amount of ball point pens in a collection please could you help with a pen ',\n",
              " 'its flight of that matters to you all hell next we all won i get our luggage properly transferred ',\n",
              " ' ear mo  feb wifi never connected but allowed me to purchase access twice amp charged me who do i need to file claim with ',\n",
              " 'but are your flight attendants fucking tho it our fleet i on fleek ',\n",
              " 'i need someone to help me out ',\n",
              " 'on flight  that has been delayed for hours over human errors like a food truck hitting the plane now the lines are frozen ',\n",
              " 'your so you fight is cancelled lighted several times each week why even bother ',\n",
              " 'thank you off to la to do something very special ',\n",
              " 'because your plane i toilet wasn i working and they needed gas this is flight  leaving dulles going to lax do some ',\n",
              " 'just sent it ',\n",
              " 'no human contact for  myths from cust relations or refund dept if ever a problem do u have humans i can talk to ',\n",
              " 'just want the money i paid for early bird refunded noone seemed to be able at three different so should have that worked out ',\n",
              " 'checked in at des moines lay over in ord final destination austin texas baggage was only checked to ord ',\n",
              " 'you call this customer service sitting in the tarmac for ihr lost bag and you give me a  voucher ',\n",
              " 'you have the nicest gate attendant at newark airport gate  right now multiple delays and she is still pleasant with everyone ',\n",
              " 'greetings ua club member here any idea if i can use the air canada lounge at yer flying ua tomorrow ',\n",
              " 'total win happy ith day on intercom chocolate flight kisses and a chance to hand out snacks thank you ',\n",
              " 'ta off site at should be a fun day ',\n",
              " 'stopped flying  yr ago be of aggressive policy on carryon listening to pssngrs forced to chk@preboard ',\n",
              " 'please reply to my do ',\n",
              " 'good luck i ve been waiting a week ',\n",
              " 'thanks so much can i wait to fly with you guys ',\n",
              " 'bag in possession but no clothes in bag ',\n",
              " 'i believe that the website said i could receive credit for upcoming flights since i cancelled lighted my last one is this true ',\n",
              " 'the just do i conf i  amp  any help appreciated ',\n",
              " 'no monkey business we luv swa ',\n",
              " 'your delayed flight out of wellington made me miss my flight out of charlotte figure out how to take off and arrive on time ',\n",
              " 'late slightly you ve always been late flight please get back to the old ',\n",
              " 'just had a great flight with damion he was the best ',\n",
              " 'so how about some help with suggested time i could call to avoid such long wait time ',\n",
              " 'we are on flight  and were returning to the gate can you provide any information ',\n",
              " 'congrats you ve just lost a customer for good when i made a united weather change free  min you guys  his on hold amp  ',\n",
              " 'appreciate the response but already spoke to a mo and their response was there is nothing we can do ink if that i what you mean ',\n",
              " 'when are you guys doing a dalam with ',\n",
              " 'ok the app doesn i seem to be working just use the mobile site ',\n",
              " 'my flight has been delayed amp i can i talk reach anyone in customer service because of high call volume ',\n",
              " 'was just on hold with you all for two hours and then got hung up on oh my god ',\n",
              " 'great but that still does not help me ',\n",
              " 'i would be eternally grateful for tickets to the vegas show i i i god bless ',\n",
              " ' on time and awesome flight great job american ',\n",
              " 'one lady helping the  of us with luggage ',\n",
              " 'flight to dew from iad cancelled lighted for mechanical can i get rental car to met my origin ',\n",
              " 'her name is jane and she wanted was a call    ',\n",
              " 'i was flying home for a  am event tomorrow you pushed back my flight now i have a  ticket that won i get me home in time ',\n",
              " 'hey think someone could meet me with my book when i arrive at at   it i yes please oscar took it ',\n",
              " 'is pri boarding for active military or only in uniform  can i travel in uniform for opsec reason even on official travel ',\n",
              " 'great flight experience again so jak dare i say it a consistent high quality on a legacy airline keep it up guys ',\n",
              " 'now  from ah to ear has broken entertainment system and no wifi despite info on app ',\n",
              " 'been on hold forever my first flight was cancelled lighted but my and flight is still on time help ',\n",
              " 'i o to for coming in clutch and finally taking me home ',\n",
              " 'would have had to fly real far south huh ',\n",
              " 'not happening also marie burroughs is the worst customer service rep ever ',\n",
              " 'i was  tomorrow i missed my meeting today amp it was pointless  pay hotel today when the purpose of my trip has been screwed ',\n",
              " 'check the website before you go to the airport ',\n",
              " 'denver boston   flight  and boston denver   flight  both planes visible snack crumbs on seats on all upon boarding ',\n",
              " 'sent ',\n",
              " 'on hold for  hours and then you hung up  cancelled lighted flights running out of daycare for our kids who are trapped at home ',\n",
              " 'we can i help you we don i put people up in hotels when you miss a flight it i against policy ',\n",
              " 'thank you twitter says i can i do someone unless they follow me can follows my twitter ',\n",
              " 'many trips coming up i will see you soon ',\n",
              " 'severely under staffed at ah ',\n",
              " 'thanks we did ',\n",
              " ' days and  planes with mechanical issues now over   his late flight sitting on this plane this is insane ',\n",
              " 'yes please going to drive the  hours ',\n",
              " 'what a joke hang up on customers ',\n",
              " 'i don i believe it i acceptable to have a ticket changed after check in time amp not be notified apparently that i standard ',\n",
              " 'yes would love an upgrade or voucher please give me a call  ',\n",
              " 'your agents and service on my weekend trip have been amazing thank you ',\n",
              " 'i tried all day have been disconnected due to heavy call volume ',\n",
              " 'the plane ',\n",
              " 'just deplane at o hare gate kid why don i you send a customer service rep to discuss my situation god knows ',\n",
              " 'sean keep in mind if you call plan on being on hold for  hours ',\n",
              " 'swa agent jacquie pitt sea rudely tells me you re not going  cabo today or manana back  pox flew ',\n",
              " 'i will be traveling from lax to cut to his i have been rebooked for tomorrow due to the travel advisory ',\n",
              " 'not one to complain much but really  hour minutes and still nothing agents or agent ',\n",
              " 'despite mother nature i best efforts i good humored folks got us home safely in an area heavily affected by winter storms ',\n",
              " 'tried for vip live in the vineyard but yr site went down by the time i got in  redeem its those packages gone ',\n",
              " 'check in staff at pox are awesome great traffic control for general boarding ',\n",
              " 'gate agent slavery is amazing ',\n",
              " 'what do i push to rebook with that  number ',\n",
              " 'disappointed we weren i allowed to bring on an aircraft approved carpet on an empty plane not cool ',\n",
              " 'have a crap machine for sleep apnea is this ok to carry on if i also have a small bag for clothes ',\n",
              " 'flight landed  hours ago  more flights cme iad last night and still no bag could have driven it from cme ',\n",
              " ...]"
            ]
          },
          "metadata": {},
          "execution_count": 8
        }
      ]
    },
    {
      "cell_type": "markdown",
      "metadata": {
        "id": "oqbe8kFxgJav"
      },
      "source": [
        "##Tanulás"
      ]
    },
    {
      "cell_type": "code",
      "metadata": {
        "id": "kHF2cpZxgh65",
        "outputId": "74b63786-f8d3-4251-bbd7-1845ffc38c3e",
        "colab": {
          "base_uri": "https://localhost:8080/"
        }
      },
      "source": [
        "!rm *zip*\n",
        "!wget https://github.com/sipocz/Twitter-Sentiment-Analysis-AI-Challenge/raw/9674d3c8ef760a8d2c5cc2e3af8a71faa93edf7d/twitter_sentiment_analysis_ai_challenge-dataset.zip\n",
        "!unzip twitter_sentiment_analysis_ai_challenge-dataset.zip\n"
      ],
      "execution_count": 10,
      "outputs": [
        {
          "output_type": "stream",
          "name": "stdout",
          "text": [
            "rm: cannot remove '*zip*': No such file or directory\n",
            "--2021-10-08 10:32:55--  https://github.com/sipocz/Twitter-Sentiment-Analysis-AI-Challenge/raw/9674d3c8ef760a8d2c5cc2e3af8a71faa93edf7d/twitter_sentiment_analysis_ai_challenge-dataset.zip\n",
            "Resolving github.com (github.com)... 140.82.113.4\n",
            "Connecting to github.com (github.com)|140.82.113.4|:443... connected.\n",
            "HTTP request sent, awaiting response... 302 Found\n",
            "Location: https://raw.githubusercontent.com/sipocz/Twitter-Sentiment-Analysis-AI-Challenge/9674d3c8ef760a8d2c5cc2e3af8a71faa93edf7d/twitter_sentiment_analysis_ai_challenge-dataset.zip [following]\n",
            "--2021-10-08 10:32:55--  https://raw.githubusercontent.com/sipocz/Twitter-Sentiment-Analysis-AI-Challenge/9674d3c8ef760a8d2c5cc2e3af8a71faa93edf7d/twitter_sentiment_analysis_ai_challenge-dataset.zip\n",
            "Resolving raw.githubusercontent.com (raw.githubusercontent.com)... 185.199.108.133, 185.199.109.133, 185.199.110.133, ...\n",
            "Connecting to raw.githubusercontent.com (raw.githubusercontent.com)|185.199.108.133|:443... connected.\n",
            "HTTP request sent, awaiting response... 200 OK\n",
            "Length: 1258171 (1.2M) [application/zip]\n",
            "Saving to: ‘twitter_sentiment_analysis_ai_challenge-dataset.zip’\n",
            "\n",
            "twitter_sentiment_a 100%[===================>]   1.20M  --.-KB/s    in 0.05s   \n",
            "\n",
            "2021-10-08 10:32:56 (22.1 MB/s) - ‘twitter_sentiment_analysis_ai_challenge-dataset.zip’ saved [1258171/1258171]\n",
            "\n",
            "Archive:  twitter_sentiment_analysis_ai_challenge-dataset.zip\n",
            "  inflating: SampleSubmission.csv    \n",
            "  inflating: TEST.csv                \n",
            "  inflating: TRAIN.csv               \n"
          ]
        }
      ]
    },
    {
      "cell_type": "code",
      "metadata": {
        "id": "QOAaF9hwwhvp"
      },
      "source": [
        "df=pd.read_csv(\"TRAIN.csv\")"
      ],
      "execution_count": 11,
      "outputs": []
    },
    {
      "cell_type": "code",
      "metadata": {
        "id": "iuWeGPxRw4um"
      },
      "source": [
        "df[\"clean_text\"]=sentences_list[2640:]"
      ],
      "execution_count": 12,
      "outputs": []
    },
    {
      "cell_type": "code",
      "metadata": {
        "id": "roFT4HvqBQpa"
      },
      "source": [
        "all_sent=[]\n",
        "for sentence in df.clean_text:\n",
        "    sent_list=sentence.strip().split()\n",
        "    out=[]\n",
        "    for word in sent_list:\n",
        "        out.append(word_dict[word]) \n",
        "    all_sent.append(out)"
      ],
      "execution_count": 13,
      "outputs": []
    },
    {
      "cell_type": "code",
      "metadata": {
        "id": "KrZFC5BAEb2k"
      },
      "source": [
        "df[\"sentence_code\"]=all_sent"
      ],
      "execution_count": 14,
      "outputs": []
    },
    {
      "cell_type": "code",
      "metadata": {
        "id": "FCq2m69A39g3"
      },
      "source": [
        "table=list(df[\"sentence_code\"]) # typo\n",
        "lens=max([len(x) for x in table])\n",
        "sentiment=list(df[\"airline_sentiment\"])\n"
      ],
      "execution_count": 15,
      "outputs": []
    },
    {
      "cell_type": "code",
      "metadata": {
        "id": "wGBReaGM6-zn"
      },
      "source": [
        "ytrain=[]\n",
        "for sent in sentiment:\n",
        "    if sent==\"negative\":\n",
        "        o=[1,0,0]\n",
        "    if sent==\"neutral\":\n",
        "        o=[0,1,0]\n",
        "    if sent==\"positive\":\n",
        "        o=[0,0,1]\n",
        "    ytrain.append(o)\n",
        "    "
      ],
      "execution_count": 16,
      "outputs": []
    },
    {
      "cell_type": "code",
      "metadata": {
        "id": "TNi-g2CNARwY"
      },
      "source": [
        "x0=[0 for _ in range(lens) ]\n",
        "xtrain=[]\n",
        "for sent in table:\n",
        "    o1=list(x0[0:lens-len(sent)]+list(sent))\n",
        "    xtrain.append(o1)"
      ],
      "execution_count": 17,
      "outputs": []
    },
    {
      "cell_type": "code",
      "metadata": {
        "id": "tRf3_wt9Bekb"
      },
      "source": [
        ""
      ],
      "execution_count": null,
      "outputs": []
    },
    {
      "cell_type": "code",
      "metadata": {
        "id": "3JEpjcQSBWtx"
      },
      "source": [
        ""
      ],
      "execution_count": null,
      "outputs": []
    },
    {
      "cell_type": "code",
      "metadata": {
        "colab": {
          "base_uri": "https://localhost:8080/"
        },
        "id": "41PgIpwlADTX",
        "outputId": "9dc57e13-84b9-421b-9ee5-a9448b7481f8"
      },
      "source": [
        "print(lens)"
      ],
      "execution_count": 18,
      "outputs": [
        {
          "output_type": "stream",
          "name": "stdout",
          "text": [
            "33\n"
          ]
        }
      ]
    },
    {
      "cell_type": "code",
      "metadata": {
        "id": "59MTn_Fs3SvW"
      },
      "source": [
        "\n",
        "\n",
        "lstm_size=lens\n",
        "max_input_length=lens\n",
        "embedding_size=150 #(100: 73%)\n",
        "n_words=len(table)"
      ],
      "execution_count": 19,
      "outputs": []
    },
    {
      "cell_type": "code",
      "metadata": {
        "id": "uvvPuVNSxNa7"
      },
      "source": [
        "\n",
        "# Importáld a megfelelő rétegeket\n",
        "from tensorflow.keras.layers import Input,Dense,Embedding,LSTM,TimeDistributed, Flatten\n",
        "from tensorflow.keras.models import Model\n",
        "from tensorflow.keras.optimizers import Adadelta,Adam,SGD\n",
        "from tensorflow.keras.losses import sparse_categorical_crossentropy,categorical_crossentropy\n",
        "from tensorflow.keras import backend as K\n",
        "\n",
        "K.clear_session\n",
        "x= Input(shape=(max_input_length,))\n",
        "embedded_x=Embedding(n_words+1,embedding_size, input_length=max_input_length-1, mask_zero=True)(x)\n",
        "lstm_output=LSTM(lstm_size,return_sequences=True)(embedded_x)\n",
        "lstm_output=LSTM(lstm_size,return_sequences=True)(lstm_output)\n",
        "lstm_output=LSTM(lstm_size,return_sequences=True)(lstm_output)\n",
        "\n",
        "lstm_output=Flatten()(lstm_output)\n",
        "Dense_out= Dense(33, activation=\"softmax\")(lstm_output)\n",
        "\n",
        "predictions= Dense(3, activation=\"softmax\")(Dense_out)\n",
        "model=Model(inputs=x, outputs=predictions)\n",
        "\n"
      ],
      "execution_count": 30,
      "outputs": []
    },
    {
      "cell_type": "code",
      "metadata": {
        "colab": {
          "base_uri": "https://localhost:8080/"
        },
        "id": "NQpADS6gMHmd",
        "outputId": "377562c6-bdf7-415c-db68-97a5bb721a0d"
      },
      "source": [
        "model.summary()"
      ],
      "execution_count": 31,
      "outputs": [
        {
          "output_type": "stream",
          "name": "stdout",
          "text": [
            "Model: \"model_2\"\n",
            "_________________________________________________________________\n",
            "Layer (type)                 Output Shape              Param #   \n",
            "=================================================================\n",
            "input_4 (InputLayer)         [(None, 33)]              0         \n",
            "_________________________________________________________________\n",
            "embedding_3 (Embedding)      (None, 33, 150)           1800150   \n",
            "_________________________________________________________________\n",
            "lstm_9 (LSTM)                (None, 33, 33)            24288     \n",
            "_________________________________________________________________\n",
            "lstm_10 (LSTM)               (None, 33, 33)            8844      \n",
            "_________________________________________________________________\n",
            "lstm_11 (LSTM)               (None, 33, 33)            8844      \n",
            "_________________________________________________________________\n",
            "flatten_1 (Flatten)          (None, 1089)              0         \n",
            "_________________________________________________________________\n",
            "dense_4 (Dense)              (None, 33)                35970     \n",
            "_________________________________________________________________\n",
            "dense_5 (Dense)              (None, 3)                 102       \n",
            "=================================================================\n",
            "Total params: 1,878,198\n",
            "Trainable params: 1,878,198\n",
            "Non-trainable params: 0\n",
            "_________________________________________________________________\n"
          ]
        }
      ]
    },
    {
      "cell_type": "code",
      "metadata": {
        "colab": {
          "base_uri": "https://localhost:8080/"
        },
        "id": "wutYc1k0HcL0",
        "outputId": "5a61389f-ad81-471b-cd72-7477da19166f"
      },
      "source": [
        "x"
      ],
      "execution_count": 32,
      "outputs": [
        {
          "output_type": "execute_result",
          "data": {
            "text/plain": [
              "<KerasTensor: shape=(None, 33) dtype=float32 (created by layer 'input_4')>"
            ]
          },
          "metadata": {},
          "execution_count": 32
        }
      ]
    },
    {
      "cell_type": "code",
      "metadata": {
        "id": "SzJYM8QeJyvI"
      },
      "source": [
        "import numpy as np"
      ],
      "execution_count": 33,
      "outputs": []
    },
    {
      "cell_type": "code",
      "metadata": {
        "id": "WZSj92FGOebc"
      },
      "source": [
        "x_train=xtrain[0:-2000]\n",
        "y_train=ytrain[0:-2000]\n",
        "x_test=xtrain[-2000:]\n",
        "y_test=ytrain[-2000:]"
      ],
      "execution_count": 34,
      "outputs": []
    },
    {
      "cell_type": "code",
      "metadata": {
        "id": "ACrVf-TbJYDe"
      },
      "source": [
        "train_x = np.asarray(xtrain)\n",
        "train_y = np.asarray(ytrain)"
      ],
      "execution_count": 35,
      "outputs": []
    },
    {
      "cell_type": "code",
      "metadata": {
        "id": "Lj_fAh_eKaSl"
      },
      "source": [
        ""
      ],
      "execution_count": 35,
      "outputs": []
    },
    {
      "cell_type": "code",
      "metadata": {
        "id": "RWIM4DP36S2L"
      },
      "source": [
        "# Loss \n",
        "\n",
        "loss = categorical_crossentropy # One-hot enkódolt kimenetünk van. Mit is használunk?\n",
        "\n",
        "# Optimizer\n",
        "optimizer = Adam() #Ízlés szerint...\n",
        " \n",
        "# Compilation\n",
        "#############\n",
        "\n",
        "model.compile(optimizer=optimizer,loss=loss)"
      ],
      "execution_count": 36,
      "outputs": []
    },
    {
      "cell_type": "code",
      "metadata": {
        "colab": {
          "base_uri": "https://localhost:8080/"
        },
        "id": "op-I834SFpUX",
        "outputId": "80ad3c34-d6ef-462a-9e44-3e5c3311e689"
      },
      "source": [
        "# Illesszük az adatra a modellt. Használjunk 10% validációt\n",
        "history=model.fit(x=xtrain,y=ytrain,validation_data=( x_test,y_test), epochs=50, batch_size=100)\n",
        "# - nyelvmodellnél ez nem olyan lényeges\n",
        "# Használhatjuk a Keras beépített validációs splitjét.\n",
        "# Adjunk meg reális batch méretet!"
      ],
      "execution_count": null,
      "outputs": [
        {
          "output_type": "stream",
          "name": "stdout",
          "text": [
            "Epoch 1/50\n",
            "120/120 [==============================] - 24s 137ms/step - loss: 0.9358 - val_loss: 0.8544\n",
            "Epoch 2/50\n",
            "120/120 [==============================] - 13s 110ms/step - loss: 0.8092 - val_loss: 0.7368\n",
            "Epoch 3/50\n",
            "120/120 [==============================] - 13s 109ms/step - loss: 0.7093 - val_loss: 0.6306\n",
            "Epoch 4/50\n",
            "120/120 [==============================] - 13s 110ms/step - loss: 0.6153 - val_loss: 0.5450\n",
            "Epoch 5/50\n",
            "120/120 [==============================] - 13s 111ms/step - loss: 0.5389 - val_loss: 0.4692\n",
            "Epoch 6/50\n",
            "120/120 [==============================] - 13s 111ms/step - loss: 0.4785 - val_loss: 0.4384\n",
            "Epoch 7/50\n",
            "120/120 [==============================] - 13s 110ms/step - loss: 0.4317 - val_loss: 0.3847\n",
            "Epoch 8/50\n",
            "120/120 [==============================] - 13s 111ms/step - loss: 0.3872 - val_loss: 0.3450\n",
            "Epoch 9/50\n",
            "120/120 [==============================] - 13s 110ms/step - loss: 0.3545 - val_loss: 0.3184\n",
            "Epoch 10/50\n",
            "120/120 [==============================] - 13s 110ms/step - loss: 0.3306 - val_loss: 0.2959\n",
            "Epoch 11/50\n",
            "120/120 [==============================] - 13s 112ms/step - loss: 0.3081 - val_loss: 0.2763\n",
            "Epoch 12/50\n",
            "120/120 [==============================] - 13s 111ms/step - loss: 0.2869 - val_loss: 0.2603\n",
            "Epoch 13/50\n",
            "120/120 [==============================] - 13s 110ms/step - loss: 0.2704 - val_loss: 0.2490\n",
            "Epoch 14/50\n",
            "120/120 [==============================] - 13s 112ms/step - loss: 0.2563 - val_loss: 0.2469\n",
            "Epoch 15/50\n",
            "120/120 [==============================] - 14s 113ms/step - loss: 0.2492 - val_loss: 0.2218\n",
            "Epoch 16/50\n",
            "120/120 [==============================] - 13s 111ms/step - loss: 0.2404 - val_loss: 0.2276\n"
          ]
        }
      ]
    },
    {
      "cell_type": "code",
      "metadata": {
        "id": "Y_CHGgYja_bB"
      },
      "source": [
        "pred=model.predict(x_train)"
      ],
      "execution_count": null,
      "outputs": []
    },
    {
      "cell_type": "code",
      "metadata": {
        "id": "CIFRZ753bMNi"
      },
      "source": [
        "for i in range(len(pred)):\n",
        "    print(f\"{i}, {pred[i]}, {y_train[i]}\")\n",
        "\n"
      ],
      "execution_count": null,
      "outputs": []
    },
    {
      "cell_type": "markdown",
      "metadata": {
        "id": "hlKyrRqfG6GP"
      },
      "source": [
        "### Model usage"
      ]
    },
    {
      "cell_type": "code",
      "metadata": {
        "id": "vvmmKvBIF4n8"
      },
      "source": [
        "test_df=pd.read_csv(\"TEST.csv\")"
      ],
      "execution_count": null,
      "outputs": []
    },
    {
      "cell_type": "code",
      "metadata": {
        "id": "Mc0vyTmcHRvY"
      },
      "source": [
        "print(len(test_df))"
      ],
      "execution_count": null,
      "outputs": []
    },
    {
      "cell_type": "code",
      "metadata": {
        "id": "e6y9O5tnHq9Z"
      },
      "source": [
        ""
      ],
      "execution_count": null,
      "outputs": []
    },
    {
      "cell_type": "code",
      "metadata": {
        "id": "5utaqxGNHU7y"
      },
      "source": [
        "test_df[\"clean_text\"]=sentences_list[:2640]"
      ],
      "execution_count": null,
      "outputs": []
    },
    {
      "cell_type": "code",
      "metadata": {
        "id": "_km2bK90Hydk"
      },
      "source": [
        "def code_sentences(df):\n",
        "    all_sent=[]\n",
        "    for sentence in df.clean_text:\n",
        "        sent_list=sentence.strip().split()\n",
        "        out=[]\n",
        "        for word in sent_list:\n",
        "            out.append(word_dict[word]) \n",
        "        all_sent.append(out)\n",
        "    df[\"sentence_code\"]=all_sent\n",
        "    return (df)"
      ],
      "execution_count": null,
      "outputs": []
    },
    {
      "cell_type": "code",
      "metadata": {
        "id": "ABUxosxoIkmI"
      },
      "source": [
        "test_df=code_sentences(test_df)"
      ],
      "execution_count": null,
      "outputs": []
    },
    {
      "cell_type": "code",
      "metadata": {
        "id": "YlMCct35I5Oe"
      },
      "source": [
        "def push_sentences(df,lens=33):\n",
        "    table=list(df[\"sentence_code\"]) # typo\n",
        "    \n",
        "    print(lens)\n",
        "    x0=[0 for _ in range(lens) ]\n",
        "    x=[]\n",
        "    for sent in table:\n",
        "        o1=list(x0[0:lens-len(sent)]+list(sent))\n",
        "        x.append(o1)\n",
        "    return(x)"
      ],
      "execution_count": null,
      "outputs": []
    },
    {
      "cell_type": "code",
      "metadata": {
        "id": "bhu_bX9mKx-i"
      },
      "source": [
        "xx=push_sentences(test_df)"
      ],
      "execution_count": null,
      "outputs": []
    },
    {
      "cell_type": "code",
      "metadata": {
        "id": "9bZFjo4TLE9R"
      },
      "source": [
        "test_out=model.predict(xx)"
      ],
      "execution_count": null,
      "outputs": []
    },
    {
      "cell_type": "code",
      "metadata": {
        "id": "lokLXV-uLs4-"
      },
      "source": [
        "test_out"
      ],
      "execution_count": null,
      "outputs": []
    },
    {
      "cell_type": "code",
      "metadata": {
        "id": "-LotAte_L8c9"
      },
      "source": [
        "def decode(model_out):\n",
        "    y=[]\n",
        "    for mo in model_out:\n",
        "        if mo[0]>mo[1] and mo[0]>mo[2]:\n",
        "            o=\"negative\"    \n",
        "        if mo[1]>mo[0] and mo[1]>mo[2]:\n",
        "            o=\"neutral\"    \n",
        "        if mo[2]>mo[0] and mo[2]>mo[1]:\n",
        "            o=\"positive\"    \n",
        "        y.append(o)\n",
        "    return(y)\n",
        "\n",
        "\n",
        "  "
      ],
      "execution_count": null,
      "outputs": []
    },
    {
      "cell_type": "code",
      "metadata": {
        "id": "u1vU8pV0NDLx"
      },
      "source": [
        "prediction=decode(test_out)"
      ],
      "execution_count": null,
      "outputs": []
    },
    {
      "cell_type": "code",
      "metadata": {
        "id": "sV7YM6GBYEYX"
      },
      "source": [
        "test_df[\"predicted\"]=prediction"
      ],
      "execution_count": null,
      "outputs": []
    },
    {
      "cell_type": "code",
      "metadata": {
        "id": "aERaT3-tNNMs"
      },
      "source": [
        "prediction_df=pd.DataFrame(prediction)"
      ],
      "execution_count": null,
      "outputs": []
    },
    {
      "cell_type": "code",
      "metadata": {
        "id": "Z-Y7T_cxNjar"
      },
      "source": [
        "prediction_df.columns=[\"Sentiment\"]"
      ],
      "execution_count": null,
      "outputs": []
    },
    {
      "cell_type": "code",
      "metadata": {
        "id": "r5SaPlp4OAWx"
      },
      "source": [
        "prediction_df.head()"
      ],
      "execution_count": null,
      "outputs": []
    },
    {
      "cell_type": "code",
      "metadata": {
        "id": "3OnUZvarOKWm"
      },
      "source": [
        "prediction_df.index.name=\"Index\""
      ],
      "execution_count": null,
      "outputs": []
    },
    {
      "cell_type": "code",
      "metadata": {
        "id": "hw4CUPobbH7A"
      },
      "source": [
        "from datetime  import datetime"
      ],
      "execution_count": null,
      "outputs": []
    },
    {
      "cell_type": "code",
      "metadata": {
        "id": "CAbhqmcPdF6U"
      },
      "source": [
        "a=datetime.now().strftime(\"%Y%m%d_%H%M%S\")"
      ],
      "execution_count": null,
      "outputs": []
    },
    {
      "cell_type": "code",
      "metadata": {
        "id": "MiOwO9UTdeUt"
      },
      "source": [
        "print(a)"
      ],
      "execution_count": null,
      "outputs": []
    },
    {
      "cell_type": "code",
      "metadata": {
        "id": "8ELciPC_OpWA"
      },
      "source": [
        "prediction_df.to_csv(\"submission_\"+a+\".csv\")"
      ],
      "execution_count": null,
      "outputs": []
    },
    {
      "cell_type": "code",
      "metadata": {
        "id": "wvmaQZGBYM_7"
      },
      "source": [
        "predcsv=test_df.loc[:,[\"text\",\"predicted\"]]\n",
        "\n",
        "predcsv.to_csv(\"mini.csv\")"
      ],
      "execution_count": null,
      "outputs": []
    },
    {
      "cell_type": "code",
      "metadata": {
        "id": "OrtPBTgcYwtg"
      },
      "source": [
        ""
      ],
      "execution_count": null,
      "outputs": []
    }
  ]
}