{
  "nbformat": 4,
  "nbformat_minor": 0,
  "metadata": {
    "colab": {
      "name": "Sentiment_Net.ipynb",
      "provenance": [],
      "collapsed_sections": [],
      "authorship_tag": "ABX9TyProE5ujnjk2tXMs+POD60T",
      "include_colab_link": true
    },
    "kernelspec": {
      "name": "python3",
      "display_name": "Python 3"
    },
    "language_info": {
      "name": "python"
    },
    "accelerator": "GPU"
  },
  "cells": [
    {
      "cell_type": "markdown",
      "metadata": {
        "id": "view-in-github",
        "colab_type": "text"
      },
      "source": [
        "<a href=\"https://colab.research.google.com/github/sipocz/Twitter-Sentiment-Analysis-AI-Challenge/blob/main/Sentiment_Net_dualis_extend.ipynb\" target=\"_parent\"><img src=\"https://colab.research.google.com/assets/colab-badge.svg\" alt=\"Open In Colab\"/></a>"
      ]
    },
    {
      "cell_type": "code",
      "metadata": {
        "id": "lS8T-dxnwfjO"
      },
      "source": [
        "import pandas as pd"
      ],
      "execution_count": 2,
      "outputs": []
    },
    {
      "cell_type": "code",
      "metadata": {
        "id": "xFjap2PTfYbv"
      },
      "source": [
        "#emoji_url=\"https://github.com/sipocz/Twitter-Sentiment-Analysis-AI-Challenge/raw/5e7d7d29f58be438f33fa0c0bc2fd251dea0b453/emoji.py\"\n",
        "#!rm emoji.py\n",
        "#!wget $emoji_url\n",
        "#import emoji"
      ],
      "execution_count": 3,
      "outputs": []
    },
    {
      "cell_type": "code",
      "metadata": {
        "id": "jkjAnXvu8Ot7"
      },
      "source": [
        ""
      ],
      "execution_count": 3,
      "outputs": []
    },
    {
      "cell_type": "code",
      "metadata": {
        "colab": {
          "base_uri": "https://localhost:8080/"
        },
        "id": "TVKfMbXhg0ZO",
        "outputId": "b4ad1831-1fab-42a3-ee01-392224bc36af"
      },
      "source": [
        "! pip install emoji\n",
        "import emoji"
      ],
      "execution_count": 4,
      "outputs": [
        {
          "output_type": "stream",
          "name": "stdout",
          "text": [
            "Collecting emoji\n",
            "  Downloading emoji-1.6.0.tar.gz (168 kB)\n",
            "\u001b[?25l\r\u001b[K     |██                              | 10 kB 19.7 MB/s eta 0:00:01\r\u001b[K     |███▉                            | 20 kB 10.3 MB/s eta 0:00:01\r\u001b[K     |█████▉                          | 30 kB 8.3 MB/s eta 0:00:01\r\u001b[K     |███████▊                        | 40 kB 7.8 MB/s eta 0:00:01\r\u001b[K     |█████████▊                      | 51 kB 4.2 MB/s eta 0:00:01\r\u001b[K     |███████████▋                    | 61 kB 4.5 MB/s eta 0:00:01\r\u001b[K     |█████████████▋                  | 71 kB 4.6 MB/s eta 0:00:01\r\u001b[K     |███████████████▌                | 81 kB 5.1 MB/s eta 0:00:01\r\u001b[K     |█████████████████▌              | 92 kB 4.6 MB/s eta 0:00:01\r\u001b[K     |███████████████████▍            | 102 kB 4.2 MB/s eta 0:00:01\r\u001b[K     |█████████████████████▍          | 112 kB 4.2 MB/s eta 0:00:01\r\u001b[K     |███████████████████████▎        | 122 kB 4.2 MB/s eta 0:00:01\r\u001b[K     |█████████████████████████▎      | 133 kB 4.2 MB/s eta 0:00:01\r\u001b[K     |███████████████████████████▏    | 143 kB 4.2 MB/s eta 0:00:01\r\u001b[K     |█████████████████████████████▏  | 153 kB 4.2 MB/s eta 0:00:01\r\u001b[K     |███████████████████████████████ | 163 kB 4.2 MB/s eta 0:00:01\r\u001b[K     |████████████████████████████████| 168 kB 4.2 MB/s \n",
            "\u001b[?25hBuilding wheels for collected packages: emoji\n",
            "  Building wheel for emoji (setup.py) ... \u001b[?25l\u001b[?25hdone\n",
            "  Created wheel for emoji: filename=emoji-1.6.0-py3-none-any.whl size=168256 sha256=408e05db5fe76e9ba755dbbbbfebb8f9defa9548f0206a0bf5a223f286337ac9\n",
            "  Stored in directory: /root/.cache/pip/wheels/f7/d7/74/c720aaf345a042b0c2d74361873258c5e8649b7f11b2ccce49\n",
            "Successfully built emoji\n",
            "Installing collected packages: emoji\n",
            "Successfully installed emoji-1.6.0\n"
          ]
        }
      ]
    },
    {
      "cell_type": "code",
      "metadata": {
        "colab": {
          "base_uri": "https://localhost:8080/",
          "height": 35
        },
        "id": "UMHsrRn4f7Ct",
        "outputId": "44bdeb16-fe4e-4701-d2a6-1fe1797e66fe"
      },
      "source": [
        "\n",
        "emoji.demojize(\"hello 👍\")"
      ],
      "execution_count": 5,
      "outputs": [
        {
          "output_type": "execute_result",
          "data": {
            "application/vnd.google.colaboratory.intrinsic+json": {
              "type": "string"
            },
            "text/plain": [
              "'hello :thumbs_up:'"
            ]
          },
          "metadata": {},
          "execution_count": 5
        }
      ]
    },
    {
      "cell_type": "markdown",
      "metadata": {
        "id": "YDQLvAy5gI0C"
      },
      "source": [
        "##Szószedet"
      ]
    },
    {
      "cell_type": "code",
      "metadata": {
        "colab": {
          "base_uri": "https://localhost:8080/"
        },
        "id": "lDUZMjUkgIIe",
        "outputId": "6d1e159d-debd-42cf-c505-dcdcb99cf5a4"
      },
      "source": [
        "!rm SampleSubmission*\n",
        "!rm TEST*\n",
        "!rm TRAIN*\n",
        "!rm *zip*\n",
        "!wget https://github.com/sipocz/Twitter-Sentiment-Analysis-AI-Challenge/raw/9674d3c8ef760a8d2c5cc2e3af8a71faa93edf7d/twitter_sentiment_analysis_ai_challenge-dataset.zip\n",
        "!unzip twitter_sentiment_analysis_ai_challenge-dataset.zip\n",
        "df=pd.read_csv(\"TEST.csv\")"
      ],
      "execution_count": 6,
      "outputs": [
        {
          "output_type": "stream",
          "name": "stdout",
          "text": [
            "rm: cannot remove 'SampleSubmission*': No such file or directory\n",
            "rm: cannot remove 'TEST*': No such file or directory\n",
            "rm: cannot remove 'TRAIN*': No such file or directory\n",
            "rm: cannot remove '*zip*': No such file or directory\n",
            "--2021-10-10 20:42:26--  https://github.com/sipocz/Twitter-Sentiment-Analysis-AI-Challenge/raw/9674d3c8ef760a8d2c5cc2e3af8a71faa93edf7d/twitter_sentiment_analysis_ai_challenge-dataset.zip\n",
            "Resolving github.com (github.com)... 13.114.40.48\n",
            "Connecting to github.com (github.com)|13.114.40.48|:443... connected.\n",
            "HTTP request sent, awaiting response... 302 Found\n",
            "Location: https://raw.githubusercontent.com/sipocz/Twitter-Sentiment-Analysis-AI-Challenge/9674d3c8ef760a8d2c5cc2e3af8a71faa93edf7d/twitter_sentiment_analysis_ai_challenge-dataset.zip [following]\n",
            "--2021-10-10 20:42:27--  https://raw.githubusercontent.com/sipocz/Twitter-Sentiment-Analysis-AI-Challenge/9674d3c8ef760a8d2c5cc2e3af8a71faa93edf7d/twitter_sentiment_analysis_ai_challenge-dataset.zip\n",
            "Resolving raw.githubusercontent.com (raw.githubusercontent.com)... 185.199.109.133, 185.199.108.133, 185.199.111.133, ...\n",
            "Connecting to raw.githubusercontent.com (raw.githubusercontent.com)|185.199.109.133|:443... connected.\n",
            "HTTP request sent, awaiting response... 200 OK\n",
            "Length: 1258171 (1.2M) [application/zip]\n",
            "Saving to: ‘twitter_sentiment_analysis_ai_challenge-dataset.zip’\n",
            "\n",
            "twitter_sentiment_a 100%[===================>]   1.20M  --.-KB/s    in 0.07s   \n",
            "\n",
            "2021-10-10 20:42:27 (17.4 MB/s) - ‘twitter_sentiment_analysis_ai_challenge-dataset.zip’ saved [1258171/1258171]\n",
            "\n",
            "Archive:  twitter_sentiment_analysis_ai_challenge-dataset.zip\n",
            "  inflating: SampleSubmission.csv    \n",
            "  inflating: TEST.csv                \n",
            "  inflating: TRAIN.csv               \n"
          ]
        }
      ]
    },
    {
      "cell_type": "code",
      "metadata": {
        "colab": {
          "base_uri": "https://localhost:8080/"
        },
        "id": "YDtEcJB5haQF",
        "outputId": "26553e1e-0e2a-4aaa-d6bc-8c8abe5e54da"
      },
      "source": [
        "df.head()\n",
        "alltext1=df.text\n",
        "print (len(alltext1))"
      ],
      "execution_count": 7,
      "outputs": [
        {
          "output_type": "stream",
          "name": "stdout",
          "text": [
            "2640\n"
          ]
        }
      ]
    },
    {
      "cell_type": "code",
      "metadata": {
        "colab": {
          "base_uri": "https://localhost:8080/"
        },
        "id": "dA8Mk878pUdU",
        "outputId": "6ff30bd9-c7d4-4cd1-ffe9-1638da3e0266"
      },
      "source": [
        "df2=pd.read_csv(\"TRAIN.csv\")\n",
        "alltext2=df2.text\n",
        "print (len(alltext2))"
      ],
      "execution_count": 8,
      "outputs": [
        {
          "output_type": "stream",
          "name": "stdout",
          "text": [
            "12000\n"
          ]
        }
      ]
    },
    {
      "cell_type": "code",
      "metadata": {
        "colab": {
          "base_uri": "https://localhost:8080/"
        },
        "id": "_P-xoaRAp9gy",
        "outputId": "0e771fb7-8825-482f-d2e4-bcdafacd89ef"
      },
      "source": [
        "alltext1=list(alltext1)\n",
        "alltext2=list(alltext2)\n",
        "alltext=alltext1+alltext2\n",
        "print(f\" {len(alltext)}\")\n"
      ],
      "execution_count": 9,
      "outputs": [
        {
          "output_type": "stream",
          "name": "stdout",
          "text": [
            " 14640\n"
          ]
        }
      ]
    },
    {
      "cell_type": "code",
      "metadata": {
        "id": "OczaGqbTqKgz"
      },
      "source": [
        ""
      ],
      "execution_count": null,
      "outputs": []
    },
    {
      "cell_type": "code",
      "metadata": {
        "id": "2vGSDdwGqneG"
      },
      "source": [
        ""
      ],
      "execution_count": null,
      "outputs": []
    },
    {
      "cell_type": "code",
      "metadata": {
        "colab": {
          "base_uri": "https://localhost:8080/"
        },
        "id": "tuRrm2HJja_6",
        "outputId": "7d140f1e-7e8e-4a7d-f104-30c4ce115ddf"
      },
      "source": [
        "!pip install pyspellchecker\n",
        "from spellchecker import SpellChecker\n",
        "\n",
        "spell = SpellChecker()\n",
        "print(spell.correction(\"@frustrating\"))"
      ],
      "execution_count": 10,
      "outputs": [
        {
          "output_type": "stream",
          "name": "stdout",
          "text": [
            "Collecting pyspellchecker\n",
            "  Downloading pyspellchecker-0.6.2-py3-none-any.whl (2.7 MB)\n",
            "\u001b[K     |████████████████████████████████| 2.7 MB 4.2 MB/s \n",
            "\u001b[?25hInstalling collected packages: pyspellchecker\n",
            "Successfully installed pyspellchecker-0.6.2\n",
            "frustrating\n"
          ]
        }
      ]
    },
    {
      "cell_type": "code",
      "metadata": {
        "id": "RCN90l7Ijkb5"
      },
      "source": [
        "import re\n",
        "\n",
        "def remove_URL(text):\n",
        "    \"\"\"Remove URLs from a text string\"\"\"\n",
        "    return re.sub(r\"http\\S+\", \"\", text)\n",
        "\n",
        "def remove_emoji(string):\n",
        "    emoji_pattern = re.compile(\"[\"\n",
        "                           u\"\\U0001F600-\\U0001F64F\"  # emoticons\n",
        "                           u\"\\U0001F300-\\U0001F5FF\"  # symbols & pictographs\n",
        "                           u\"\\U0001F680-\\U0001F6FF\"  # transport & map symbols\n",
        "                           u\"\\U0001F1E0-\\U0001F1FF\"  # flags (iOS)\n",
        "                           u\"\\U00002702-\\U000027B0\"\n",
        "                           u\"\\U000024C2-\\U0001F251\"\n",
        "                           \"]+\", flags=re.UNICODE)\n",
        "    return emoji_pattern.sub(r'', string)\n",
        "\n",
        "def is_number(inp:str):\n",
        "    a=re.search(\"[\\d]\",inp)\n",
        "    if a==None: \n",
        "        return(False)\n",
        "    return(True)\n",
        "\n",
        "def strip_all_entities(text):\n",
        "    import emoji\n",
        "    import re,string\n",
        "    entity_prefixes = ['“','@','#',\"!\",\"?\",\":\",\"_\"]\n",
        "    for separator in  string.punctuation:\n",
        "        if separator not in entity_prefixes :\n",
        "            text = text.replace(separator,' ')\n",
        "    words = []\n",
        "    for word in text.split():\n",
        "        word = word.strip()\n",
        "        if word:\n",
        "            if word[0] not in ['“','@','#',\"!\",\"?\"]:\n",
        "                words.append(word)\n",
        "\n",
        "    return ' '.join(words)\n",
        "\n",
        "def de_ex(txt):\n",
        "    txt=txt.lower()\n",
        "    exwords={\"it's\":\"it is\",\n",
        "    \"aren't\":\"are not\",\n",
        "    \"i've\":\"i have\",\n",
        "    \"can't\":\"can not\",\n",
        "    \"didn't\":\"did not\",\n",
        "    \"i'm\":\"i am\",\n",
        "    \"that's\":\"that is\",\n",
        "    \"let's\":\" let is\",\n",
        "    \"she's\":\"she is\",\n",
        "    \"we're\":\"we are\",\n",
        "    \"they've\":\"they have\",\n",
        "    \"fleet's\":\"fleet is \",\n",
        "    \"there's\":\"there is\",\n",
        "    \"i'll\": \"i will\"\n",
        "    }\n",
        "    txt_list=txt.split()\n",
        "    for w in txt_list:\n",
        "        if w in exwords:\n",
        "            txt=txt.replace(w,exwords[w])\n",
        "    return (txt)\n",
        "\n",
        "\n",
        "\n",
        "def query_sentence(index):\n",
        "    print(f\"orig: {alltext[index]}\")\n",
        "    spell=SpellChecker()\n",
        "    inp=alltext[index]\n",
        "    inp=remove_URL(inp)\n",
        "    inp=emoji.demojize(inp)\n",
        "    inp=de_ex(inp)\n",
        "    print(\"demojize: \",inp)\n",
        "    inp=strip_all_entities(inp)\n",
        "    print(\"STRIP: \",inp)\n",
        "    txt=inp.replace(\",\",\" \").replace(\".\",\" \").replace(\"!\",\" _exclamation_ \").replace(\"#\",\" \").replace(\"???\",\"?\").replace(\"??\",\"?\").replace(\"?\",\" _questionmark_ \").replace(\"  \",\" \").replace(\"  \",\" \").replace('\"',\"\").replace(\"“\",\"\")\n",
        "    print(\"after replace=\",txt)\n",
        "    #print(txt)\n",
        "    normal=\"\"\n",
        "    for i in txt.split(\" \"):\n",
        "        w1=i.lower().strip()\n",
        "        if \"_\" in w1 or \":\" in w1:\n",
        "            w2=w1\n",
        "        else:\n",
        "            if w1 !=\"\":\n",
        "                w2=spell.correction(w1).strip()\n",
        "            else:\n",
        "                w2=\"\"\n",
        "            if w2==\"i\":\n",
        "                pass\n",
        "                #print(f\"chek: {w1}, {w2}\")\n",
        "            if is_number(w2):\n",
        "                w2=\"\"    \n",
        "        normal += w2+\" \"\n",
        "    normal=normal.replace(\"::\",\": :\")\n",
        "    print(f\"  conv: {normal}\")\n",
        "    return(normal)"
      ],
      "execution_count": 11,
      "outputs": []
    },
    {
      "cell_type": "code",
      "metadata": {
        "id": "6jllOvViBwUU",
        "outputId": "2179bb88-0c24-4545-e0c2-398fe06648f5",
        "colab": {
          "base_uri": "https://localhost:8080/",
          "height": 205
        }
      },
      "source": [
        "df2.head(1)"
      ],
      "execution_count": 38,
      "outputs": [
        {
          "output_type": "execute_result",
          "data": {
            "text/html": [
              "<div>\n",
              "<style scoped>\n",
              "    .dataframe tbody tr th:only-of-type {\n",
              "        vertical-align: middle;\n",
              "    }\n",
              "\n",
              "    .dataframe tbody tr th {\n",
              "        vertical-align: top;\n",
              "    }\n",
              "\n",
              "    .dataframe thead th {\n",
              "        text-align: right;\n",
              "    }\n",
              "</style>\n",
              "<table border=\"1\" class=\"dataframe\">\n",
              "  <thead>\n",
              "    <tr style=\"text-align: right;\">\n",
              "      <th></th>\n",
              "      <th>tweet_id</th>\n",
              "      <th>airline_sentiment</th>\n",
              "      <th>airline_sentiment_confidence</th>\n",
              "      <th>negativereason</th>\n",
              "      <th>negativereason_confidence</th>\n",
              "      <th>airline</th>\n",
              "      <th>airline_sentiment_gold</th>\n",
              "      <th>name</th>\n",
              "      <th>negativereason_gold</th>\n",
              "      <th>retweet_count</th>\n",
              "      <th>text</th>\n",
              "      <th>tweet_coord</th>\n",
              "      <th>tweet_created</th>\n",
              "      <th>tweet_location</th>\n",
              "      <th>user_timezone</th>\n",
              "    </tr>\n",
              "  </thead>\n",
              "  <tbody>\n",
              "    <tr>\n",
              "      <th>0</th>\n",
              "      <td>570018445695148033</td>\n",
              "      <td>negative</td>\n",
              "      <td>1.0</td>\n",
              "      <td>Customer Service Issue</td>\n",
              "      <td>0.656</td>\n",
              "      <td>United</td>\n",
              "      <td>NaN</td>\n",
              "      <td>tpensari</td>\n",
              "      <td>NaN</td>\n",
              "      <td>0</td>\n",
              "      <td>@united your customer service is terrible! Sto...</td>\n",
              "      <td>NaN</td>\n",
              "      <td>2015-02-23 16:32:42 -0800</td>\n",
              "      <td>NaN</td>\n",
              "      <td>NaN</td>\n",
              "    </tr>\n",
              "  </tbody>\n",
              "</table>\n",
              "</div>"
            ],
            "text/plain": [
              "             tweet_id airline_sentiment  ...  tweet_location user_timezone\n",
              "0  570018445695148033          negative  ...             NaN           NaN\n",
              "\n",
              "[1 rows x 15 columns]"
            ]
          },
          "metadata": {},
          "execution_count": 38
        }
      ]
    },
    {
      "cell_type": "markdown",
      "metadata": {
        "id": "IQUAUIB1F_Ao"
      },
      "source": [
        "# az ötlet: A teszt adatbázisból ki lehet szűrni a negatív eseteket.\n",
        "### csak a szöveg kell az eredeti adatbázisból\n",
        "### a test adatokat negatívra vesszük.\n",
        "\n",
        "Persze ha továbbgondoljuk, akkor lehetne egy (positive, neutral) selectort tanítani. Hiszen a negatív kommentekről mindent tudunk.\n",
        "Ezeket könnyü is kiválogatni a rendszerből, kérdés hogy rakjuk majd össze. \n",
        "Ezt majd megoldjuk.\n",
        "A legfontosabb, hogy tanulna egy ilyen \"duális kimenetre a rendszerünk\"\n"
      ]
    },
    {
      "cell_type": "code",
      "metadata": {
        "id": "jepfGWCA80U8"
      },
      "source": [
        "def listing(dfx,printing=False):\n",
        "    t_selector=[]\n",
        "    count_neg=0\n",
        "    count_pos=0\n",
        "    for i in range(len(dfx)):\n",
        "    \n",
        "        reason=dfx.loc[i].negativereason\n",
        "        airline_sentiment=\"NONE\"\n",
        "        if \"airline_sentiment\" in dfx.columns:\n",
        "            airline_sentiment=dfx.loc[i].airline_sentiment\n",
        "            \n",
        "        txt=dfx.loc[i].text\n",
        "        cond=[reason==\"Flight Booking Problems\", \n",
        "                    reason==\"Bad Flight\", \n",
        "                    reason==\"Late Flight\", \n",
        "                    reason==\"Lost Luggage\", \n",
        "                    reason==\"Customer Service Issue\",\n",
        "                    reason==\"Cancelled Flight\",\n",
        "                    reason==\"Flight Attendant Complaints\",\n",
        "                    reason==\"longlines\",\n",
        "                    reason==\"Damaged Luggage\",\n",
        "                    reason==\"Can't Tell\"\n",
        "                    ]\n",
        "        if any(cond):\n",
        "            count_neg+=1\n",
        "            t_selector.append(True) # kell ez az adat nekünk\n",
        "            if printing:\n",
        "                print(f\"negative:{count_neg} --  {reason}  -- {airline_sentiment} -- {txt}\" )\n",
        "        else:\n",
        "            count_pos+=1\n",
        "            if printing:\n",
        "                print(f\"??:{count_pos} --  {reason}  -- {airline_sentiment} -- {txt}\" )\n",
        "            t_selector.append(False) # ez nem kell nem negatív\n",
        "            \n",
        "    print(f\"Summa: negative: {count_neg}   --  positive: {count_pos}\")\n",
        "    return(t_selector)"
      ],
      "execution_count": 78,
      "outputs": []
    },
    {
      "cell_type": "code",
      "metadata": {
        "id": "Wsbl39b8ABaC",
        "outputId": "8348e68e-fa2b-43cb-dfb3-e0f22d42530a",
        "colab": {
          "base_uri": "https://localhost:8080/"
        }
      },
      "source": [
        "print (len(df2))"
      ],
      "execution_count": 79,
      "outputs": [
        {
          "output_type": "stream",
          "name": "stdout",
          "text": [
            "12000\n"
          ]
        }
      ]
    },
    {
      "cell_type": "code",
      "metadata": {
        "id": "8aFmuv5i-Vv6",
        "outputId": "d633dba9-0bcc-439b-d6f6-27ed20ac1ab8",
        "colab": {
          "base_uri": "https://localhost:8080/"
        }
      },
      "source": [
        "selector=listing(df)"
      ],
      "execution_count": 80,
      "outputs": [
        {
          "output_type": "stream",
          "name": "stdout",
          "text": [
            "Summa: negative: 1661   --  positive: 979\n"
          ]
        }
      ]
    },
    {
      "cell_type": "code",
      "metadata": {
        "id": "n3IUtwB1I1Qd",
        "outputId": "143b464f-32dd-49d5-db96-432807229939",
        "colab": {
          "base_uri": "https://localhost:8080/"
        }
      },
      "source": [
        "print (len(selector))"
      ],
      "execution_count": 81,
      "outputs": [
        {
          "output_type": "stream",
          "name": "stdout",
          "text": [
            "2640\n"
          ]
        }
      ]
    },
    {
      "cell_type": "code",
      "metadata": {
        "id": "H7-qENGrJCVg"
      },
      "source": [
        "df_negativ_test=df[selector]"
      ],
      "execution_count": 82,
      "outputs": []
    },
    {
      "cell_type": "code",
      "metadata": {
        "id": "e-YLp-ggK4gi"
      },
      "source": [
        ""
      ],
      "execution_count": null,
      "outputs": []
    },
    {
      "cell_type": "code",
      "metadata": {
        "id": "xZxSwp1YF-YJ"
      },
      "source": [
        ""
      ],
      "execution_count": null,
      "outputs": []
    },
    {
      "cell_type": "markdown",
      "metadata": {
        "id": "KzMOTKbN2G3R"
      },
      "source": [
        "##Mentés"
      ]
    },
    {
      "cell_type": "code",
      "metadata": {
        "colab": {
          "base_uri": "https://localhost:8080/",
          "height": 1000
        },
        "id": "N9ZUtwPWj2wv",
        "outputId": "0b234738-3aa9-42f3-85a7-fbe52fbcb7eb"
      },
      "source": [
        "t=[]\n",
        "for i in range(len(alltext)):\n",
        "    print(f\"{i}\", end=\" \")\n",
        "    t.append(query_sentence(i))\n"
      ],
      "execution_count": 12,
      "outputs": [
        {
          "output_type": "stream",
          "name": "stdout",
          "text": [
            "0 orig: @united well someone should tell that to the employees at the Denver baggage claim. Still no bag!!!!\n",
            "demojize:  @united well someone should tell that to the employees at the denver baggage claim. still no bag!!!!\n",
            "STRIP:  well someone should tell that to the employees at the denver baggage claim still no bag!!!!\n",
            "after replace= well someone should tell that to the employees at the denver baggage claim still no bag _exclamation_ _exclamation_ _exclamation_ _exclamation_ \n",
            "  conv: well someone should tell that to the employees at the denver baggage claim still no bag _exclamation_ _exclamation_ _exclamation_ _exclamation_  \n",
            "1 orig: @AmericanAir Let's all have a extraordinary week and make it a year to remember #GoingForGreat 2015 thanks so much American Airlines!!!\n",
            "demojize:  @americanair  let is all have a extraordinary week and make it a year to remember #goingforgreat 2015 thanks so much american airlines!!!\n",
            "STRIP:  let is all have a extraordinary week and make it a year to remember 2015 thanks so much american airlines!!!\n",
            "after replace= let is all have a extraordinary week and make it a year to remember 2015 thanks so much american airlines _exclamation_ _exclamation_ _exclamation_ \n",
            "  conv: let is all have a extraordinary week and make it a year to remember  thanks so much american airlines _exclamation_ _exclamation_ _exclamation_  \n",
            "2 orig: @united since I have an international connection at 9am, I'm hoping for the same thing!\n",
            "demojize:  @united since i have an international connection at 9am, i am hoping for the same thing!\n",
            "STRIP:  since i have an international connection at 9am i am hoping for the same thing!\n",
            "after replace= since i have an international connection at 9am i am hoping for the same thing _exclamation_ \n",
            "  conv: since i have an international connection at am i am hoping for the same thing _exclamation_  \n",
            "3 orig: @JetBlue woulda been nice of you to let us know that or post it!!! Your boards still show the flight on time!!!\n",
            "demojize:  @jetblue woulda been nice of you to let us know that or post it!!! your boards still show the flight on time!!!\n",
            "STRIP:  woulda been nice of you to let us know that or post it!!! your boards still show the flight on time!!!\n",
            "after replace= woulda been nice of you to let us know that or post it _exclamation_ _exclamation_ _exclamation_ your boards still show the flight on time _exclamation_ _exclamation_ _exclamation_ \n",
            "  conv: woulda been nice of you to let us know that or post it _exclamation_ _exclamation_ _exclamation_ your boards still show the flight on time _exclamation_ _exclamation_ _exclamation_  \n",
            "4 orig: @USAirways contd.. They put her on 7 pm flite tonite. I think she's on now. Worst customer service ever! U need to fix it.\n",
            "demojize:  @usairways contd.. they put her on 7 pm flite tonite. i think she is on now. worst customer service ever! u need to fix it.\n",
            "STRIP:  contd they put her on 7 pm flite tonite i think she is on now worst customer service ever! u need to fix it\n",
            "after replace= contd they put her on 7 pm flite tonite i think she is on now worst customer service ever _exclamation_ u need to fix it\n",
            "  conv: cond they put her on  am elite tonite i think she is on now worst customer service ever _exclamation_ u need to fix it \n",
            "5 orig: @JetBlue saving my sanity. Leaving it behind for sunshine. #escape #FL #bliss #travel #InDenial #WhatFrozenPipes http://t.co/6TtzEJV3hY\n",
            "demojize:  @jetblue saving my sanity. leaving it behind for sunshine. #escape #fl #bliss #travel #indenial #whatfrozenpipes \n",
            "STRIP:  saving my sanity leaving it behind for sunshine\n",
            "after replace= saving my sanity leaving it behind for sunshine\n",
            "  conv: saving my sanity leaving it behind for sunshine \n",
            "6 orig: @AmericanAir WORST SERVICE EVER!! Delayed flights for more than 5 hours plus you missed my bag! And your employees are rude 😡😡\n",
            "demojize:  @americanair worst service ever!! delayed flights for more than 5 hours plus you missed my bag! and your employees are rude :pouting_face::pouting_face:\n",
            "STRIP:  worst service ever!! delayed flights for more than 5 hours plus you missed my bag! and your employees are rude :pouting_face::pouting_face:\n",
            "after replace= worst service ever _exclamation_ _exclamation_ delayed flights for more than 5 hours plus you missed my bag _exclamation_ and your employees are rude :pouting_face::pouting_face:\n",
            "  conv: worst service ever _exclamation_ _exclamation_ delayed flights for more than  hours plus you missed my bag _exclamation_ and your employees are rude :pouting_face: :pouting_face: \n",
            "7 orig: @USAirways, I'm expecting 400% reimbursement for the unprofessional decisions with US728 on 21 Feb. Check your very full complaint box.\n",
            "demojize:  @usairways, i am expecting 400% reimbursement for the unprofessional decisions with us728 on 21 feb. check your very full complaint box.\n",
            "STRIP:  i am expecting 400 reimbursement for the unprofessional decisions with us728 on 21 feb check your very full complaint box\n",
            "after replace= i am expecting 400 reimbursement for the unprofessional decisions with us728 on 21 feb check your very full complaint box\n",
            "  conv: i am expecting  reimbursement for the unprofessional decisions with  on  feb check your very full complaint box \n",
            "8 orig: @AmericanAir I might look into that. My wife travels much more than I do. Could we both use the membership?\n",
            "demojize:  @americanair i might look into that. my wife travels much more than i do. could we both use the membership?\n",
            "STRIP:  i might look into that my wife travels much more than i do could we both use the membership?\n",
            "after replace= i might look into that my wife travels much more than i do could we both use the membership _questionmark_ \n",
            "  conv: i might look into that my wife travels much more than i do could we both use the membership _questionmark_  \n",
            "9 orig: @JetBlue I thought being a mosaic member had 'perks' the best part is instead of checking the extra 5lbs I'm carrying it on 😒\n",
            "demojize:  @jetblue i thought being a mosaic member had 'perks' the best part is instead of checking the extra 5lbs i am carrying it on :unamused_face:\n",
            "STRIP:  i thought being a mosaic member had perks the best part is instead of checking the extra 5lbs i am carrying it on :unamused_face:\n",
            "after replace= i thought being a mosaic member had perks the best part is instead of checking the extra 5lbs i am carrying it on :unamused_face:\n",
            "  conv: i thought being a mosaic member had perks the best part is instead of checking the extra plus i am carrying it on :unamused_face: \n",
            "10 orig: @AmericanAir is there a probability that flight 1330 from DFW to DTW will be delayed or Cancelled Flighted?\n",
            "demojize:  @americanair is there a probability that flight 1330 from dfw to dtw will be delayed or cancelled flighted?\n",
            "STRIP:  is there a probability that flight 1330 from dfw to dtw will be delayed or cancelled flighted?\n",
            "after replace= is there a probability that flight 1330 from dfw to dtw will be delayed or cancelled flighted _questionmark_ \n",
            "  conv: is there a probability that flight  from dew to dew will be delayed or cancelled lighted _questionmark_  \n",
            "11 orig: @USAirways we already spoke to someone several times about the matter and no one is sympathetic or will fly us home early complimentary.\n",
            "demojize:  @usairways we already spoke to someone several times about the matter and no one is sympathetic or will fly us home early complimentary.\n",
            "STRIP:  we already spoke to someone several times about the matter and no one is sympathetic or will fly us home early complimentary\n",
            "after replace= we already spoke to someone several times about the matter and no one is sympathetic or will fly us home early complimentary\n",
            "  conv: we already spoke to someone several times about the matter and no one is sympathetic or will fly us home early complimentary \n",
            "12 orig: @united I am still in the airport waiting for my flight.\n",
            "demojize:  @united i am still in the airport waiting for my flight.\n",
            "STRIP:  i am still in the airport waiting for my flight\n",
            "after replace= i am still in the airport waiting for my flight\n",
            "  conv: i am still in the airport waiting for my flight \n",
            "13 orig: @USAirways you suck and you ruined my day. And my vacation isn't even until June.\n",
            "demojize:  @usairways you suck and you ruined my day. and my vacation isn't even until june.\n",
            "STRIP:  you suck and you ruined my day and my vacation isn t even until june\n",
            "after replace= you suck and you ruined my day and my vacation isn t even until june\n",
            "  conv: you suck and you ruined my day and my vacation isn i even until june \n",
            "14 orig: @AmericanAir please dm me\n",
            "demojize:  @americanair please dm me\n",
            "STRIP:  please dm me\n",
            "after replace= please dm me\n",
            "  conv: please do me \n",
            "15 orig: @united can we get an explanation on why UA978 from São Paulo to Houston has been delayed? Now we're hearing from crew about Cancelled Flightlations.\n",
            "demojize:  @united can we get an explanation on why ua978 from são paulo to houston has been delayed? now we are hearing from crew about cancelled flightlations.\n",
            "STRIP:  can we get an explanation on why ua978 from são paulo to houston has been delayed? now we are hearing from crew about cancelled flightlations\n",
            "after replace= can we get an explanation on why ua978 from são paulo to houston has been delayed _questionmark_ now we are hearing from crew about cancelled flightlations\n",
            "  conv: can we get an explanation on why  from so paulo to houston has been delayed _questionmark_ now we are hearing from crew about cancelled flightlations \n",
            "16 orig: @SouthwestAir is there a way to know who checked my bag on the curb? She was awesome!!! And want to be sure she gets a high five!\n",
            "demojize:  @southwestair is there a way to know who checked my bag on the curb? she was awesome!!! and want to be sure she gets a high five!\n",
            "STRIP:  is there a way to know who checked my bag on the curb? she was awesome!!! and want to be sure she gets a high five!\n",
            "after replace= is there a way to know who checked my bag on the curb _questionmark_ she was awesome _exclamation_ _exclamation_ _exclamation_ and want to be sure she gets a high five _exclamation_ \n",
            "  conv: is there a way to know who checked my bag on the curb _questionmark_ she was awesome _exclamation_ _exclamation_ _exclamation_ and want to be sure she gets a high five _exclamation_  \n",
            "17 orig: @united Your \"Loyalty Team\" basically flipped me off via phone, but thanks. Maybe Google \"loyalty\" and get back to me? ^LOL\n",
            "demojize:  @united your \"loyalty team\" basically flipped me off via phone, but thanks. maybe google \"loyalty\" and get back to me? ^lol\n",
            "STRIP:  your loyalty team basically flipped me off via phone but thanks maybe google loyalty and get back to me? lol\n",
            "after replace= your loyalty team basically flipped me off via phone but thanks maybe google loyalty and get back to me _questionmark_ lol\n",
            "  conv: your loyalty team basically flipped me off via phone but thanks maybe google loyalty and get back to me _questionmark_ lol \n",
            "18 orig: @USAirways  #USAirways disappoints AGAIN! #Cancelled Flighted flights #Missed appointments #Promised refund is a lie\n",
            "demojize:  @usairways  #usairways disappoints again! #cancelled flighted flights #missed appointments #promised refund is a lie\n",
            "STRIP:  disappoints again! flighted flights appointments refund is a lie\n",
            "after replace= disappoints again _exclamation_ flighted flights appointments refund is a lie\n",
            "  conv: disappoints again _exclamation_ lighted flights appointments refund is a lie \n",
            "19 orig: @USAirways I have fam thats supposed to fly 2/22 that are currently in the hosp.3 trys to speak to a human, yr phone sys cuts off. pls hlp!\n",
            "demojize:  @usairways i have fam thats supposed to fly 2/22 that are currently in the hosp.3 trys to speak to a human, yr phone sys cuts off. pls hlp!\n",
            "STRIP:  i have fam thats supposed to fly 2 22 that are currently in the hosp 3 trys to speak to a human yr phone sys cuts off pls hlp!\n",
            "after replace= i have fam thats supposed to fly 2 22 that are currently in the hosp 3 trys to speak to a human yr phone sys cuts off pls hlp _exclamation_ \n",
            "  conv: i have fam thats supposed to fly   that are currently in the hosp  trys to speak to a human yr phone sys cuts off plus help _exclamation_  \n",
            "20 orig: @AmericanAir @MattThomasNews When did American Airlines start flying to and from Siberia? Wait, this is the USA? Oy!\n",
            "demojize:  @americanair @mattthomasnews when did american airlines start flying to and from siberia? wait, this is the usa? oy!\n",
            "STRIP:  when did american airlines start flying to and from siberia? wait this is the usa? oy!\n",
            "after replace= when did american airlines start flying to and from siberia _questionmark_ wait this is the usa _questionmark_ oy _exclamation_ \n",
            "  conv: when did american airlines start flying to and from siberia _questionmark_ wait this is the usa _questionmark_ oy _exclamation_  \n",
            "21 orig: @AmericanAir Thanks for your canned response that makes it look like you care about your customers. I'm sure all Twitter users fall for it..\n",
            "demojize:  @americanair thanks for your canned response that makes it look like you care about your customers. i am sure all twitter users fall for it..\n",
            "STRIP:  thanks for your canned response that makes it look like you care about your customers i am sure all twitter users fall for it\n",
            "after replace= thanks for your canned response that makes it look like you care about your customers i am sure all twitter users fall for it\n",
            "  conv: thanks for your canned response that makes it look like you care about your customers i am sure all twitter users fall for it \n",
            "22 orig: @united Just got demoted from Gold cuz my hubby got 100% of the PQD, tho there were enuf $ spent for 4 Golds.#spousal.discrimination/angry.\n",
            "demojize:  @united just got demoted from gold cuz my hubby got 100% of the pqd, tho there were enuf $ spent for 4 golds.#spousal.discrimination/angry.\n",
            "STRIP:  just got demoted from gold cuz my hubby got 100 of the pqd tho there were enuf spent for 4 golds discrimination angry\n",
            "after replace= just got demoted from gold cuz my hubby got 100 of the pqd tho there were enuf spent for 4 golds discrimination angry\n",
            "  conv: just got demoted from gold cuz my hubby got  of the pod tho there were neuf spent for  golds discrimination angry \n",
            "23 orig: @united the lounge tells us they have no pillows for my grandma as one of the ladies opens the closet and I see 2 right there. #unitedlies\n",
            "demojize:  @united the lounge tells us they have no pillows for my grandma as one of the ladies opens the closet and i see 2 right there. #unitedlies\n",
            "STRIP:  the lounge tells us they have no pillows for my grandma as one of the ladies opens the closet and i see 2 right there\n",
            "after replace= the lounge tells us they have no pillows for my grandma as one of the ladies opens the closet and i see 2 right there\n",
            "  conv: the lounge tells us they have no pillows for my grandma as one of the ladies opens the closet and i see  right there \n",
            "24 orig: @AmericanAir robocalls me with another Cancelled Flightation. And then when I don’t accept the change it won’t let me connect to an agent. Just wow.\n",
            "demojize:  @americanair robocalls me with another cancelled flightation. and then when i don’t accept the change it won’t let me connect to an agent. just wow.\n",
            "STRIP:  robocalls me with another cancelled flightation and then when i don’t accept the change it won’t let me connect to an agent just wow\n",
            "after replace= robocalls me with another cancelled flightation and then when i don’t accept the change it won’t let me connect to an agent just wow\n",
            "  conv: robocall me with another cancelled flirtation and then when i don't accept the change it won't let me connect to an agent just wow \n",
            "25 orig: .@AmericanAir Hopefully it's all fixed. They've got a new aircraft for us- just waiting to board.\n",
            "demojize:  .@americanair hopefully it is all fixed. they have got a new aircraft for us- just waiting to board.\n",
            "STRIP:  hopefully it is all fixed they have got a new aircraft for us just waiting to board\n",
            "after replace= hopefully it is all fixed they have got a new aircraft for us just waiting to board\n",
            "  conv: hopefully it is all fixed they have got a new aircraft for us just waiting to board \n",
            "26 orig: @SouthwestAir yea but I was hoping to avoid the ticket difference amount as a birthday courtesy? #flysouthwest #lovesouthwest #mybday\n",
            "demojize:  @southwestair yea but i was hoping to avoid the ticket difference amount as a birthday courtesy? #flysouthwest #lovesouthwest #mybday\n",
            "STRIP:  yea but i was hoping to avoid the ticket difference amount as a birthday courtesy?\n",
            "after replace= yea but i was hoping to avoid the ticket difference amount as a birthday courtesy _questionmark_ \n",
            "  conv: yea but i was hoping to avoid the ticket difference amount as a birthday courtesy _questionmark_  \n",
            "27 orig: @SouthwestAir while you clearly didn't care about our troubles yday thought I'd share bags took &gt;90min and came back absolutely drenched..\n",
            "demojize:  @southwestair while you clearly did not care about our troubles yday thought i'd share bags took &gt;90min and came back absolutely drenched..\n",
            "STRIP:  while you clearly did not care about our troubles yday thought i d share bags took gt 90min and came back absolutely drenched\n",
            "after replace= while you clearly did not care about our troubles yday thought i d share bags took gt 90min and came back absolutely drenched\n",
            "  conv: while you clearly did not care about our troubles day thought i i share bags took it min and came back absolutely drenched \n",
            "28 orig: @USAirways 4 hours . How do I change my flight that was Cancelled Flightled ?\n",
            "demojize:  @usairways 4 hours . how do i change my flight that was cancelled flightled ?\n",
            "STRIP:  4 hours how do i change my flight that was cancelled flightled\n",
            "after replace= 4 hours how do i change my flight that was cancelled flightled\n",
            "  conv:  hours how do i change my flight that was cancelled lighted \n",
            "29 orig: @SouthwestAir lol I already am ! I am a card member as well too lol i enjoy flying with you Guys\n",
            "demojize:  @southwestair lol i already am ! i am a card member as well too lol i enjoy flying with you guys\n",
            "STRIP:  lol i already am i am a card member as well too lol i enjoy flying with you guys\n",
            "after replace= lol i already am i am a card member as well too lol i enjoy flying with you guys\n",
            "  conv: lol i already am i am a card member as well too lol i enjoy flying with you guys \n",
            "30 orig: @united very poor customer service. I WILL think again befor Flight Booking Problems another United flight.\n",
            "demojize:  @united very poor customer service. i will think again befor flight booking problems another united flight.\n",
            "STRIP:  very poor customer service i will think again befor flight booking problems another united flight\n",
            "after replace= very poor customer service i will think again befor flight booking problems another united flight\n",
            "  conv: very poor customer service i will think again befor flight booking problems another united flight \n",
            "31 orig: @SouthwestAir I love you guys! Had to take a few other airlines this week...makes me love and appreciate y'all so much more! #onlywaytofly\n",
            "demojize:  @southwestair i love you guys! had to take a few other airlines this week...makes me love and appreciate y'all so much more! #onlywaytofly\n",
            "STRIP:  i love you guys! had to take a few other airlines this week makes me love and appreciate y all so much more!\n",
            "after replace= i love you guys _exclamation_ had to take a few other airlines this week makes me love and appreciate y all so much more _exclamation_ \n",
            "  conv: i love you guys _exclamation_ had to take a few other airlines this week makes me love and appreciate y all so much more _exclamation_  \n",
            "32 orig: @AmericanAir and just bad cs! I will be back on @JetBlue  at least when you stuck they look out for you and apologize for any trouble\n",
            "demojize:  @americanair and just bad cs! i will be back on @jetblue  at least when you stuck they look out for you and apologize for any trouble\n",
            "STRIP:  and just bad cs! i will be back on at least when you stuck they look out for you and apologize for any trouble\n",
            "after replace= and just bad cs _exclamation_ i will be back on at least when you stuck they look out for you and apologize for any trouble\n",
            "  conv: and just bad is _exclamation_ i will be back on at least when you stuck they look out for you and apologize for any trouble \n",
            "33 orig: @VirginAmerica to begin Dallas-Austin #flights in April - 88.9 KETR http://t.co/SSUVWwkyHH\n",
            "demojize:  @virginamerica to begin dallas-austin #flights in april - 88.9 ketr \n",
            "STRIP:  to begin dallas austin in april 88 9 ketr\n",
            "after replace= to begin dallas austin in april 88 9 ketr\n",
            "  conv: to begin dallas austin in april   kerr \n",
            "34 orig: “@JetBlue: Our fleet's on fleek. http://t.co/Vxn2J36M7V” this happened\n",
            "demojize:  “@jetblue: our fleet is  on fleek.  this happened\n",
            "STRIP:  our fleet is on fleek this happened\n",
            "after replace= our fleet is on fleek this happened\n",
            "  conv: our fleet is on fleek this happened \n",
            "35 orig: @united Worked like a charm. Bag was waiting on the carousel when we got to baggage claim. #welldone #goodflight #friendlysky\n",
            "demojize:  @united worked like a charm. bag was waiting on the carousel when we got to baggage claim. #welldone #goodflight #friendlysky\n",
            "STRIP:  worked like a charm bag was waiting on the carousel when we got to baggage claim\n",
            "after replace= worked like a charm bag was waiting on the carousel when we got to baggage claim\n",
            "  conv: worked like a charm bag was waiting on the carousel when we got to baggage claim \n",
            "36 orig: @AmericanAir thanks!\n",
            "demojize:  @americanair thanks!\n",
            "STRIP:  thanks!\n",
            "after replace= thanks _exclamation_ \n",
            "  conv: thanks _exclamation_  \n",
            "37 orig: @united thanks! Will you guys be getting the A380s anytime soon?\n",
            "demojize:  @united thanks! will you guys be getting the a380s anytime soon?\n",
            "STRIP:  thanks! will you guys be getting the a380s anytime soon?\n",
            "after replace= thanks _exclamation_ will you guys be getting the a380s anytime soon _questionmark_ \n",
            "  conv: thanks _exclamation_ will you guys be getting the  anytime soon _questionmark_  \n",
            "38 orig: @AmericanAir your call center won't let me wait on hold, which I would happily do. Am I seriously supposed to just keep calling? Not great\n",
            "demojize:  @americanair your call center won't let me wait on hold, which i would happily do. am i seriously supposed to just keep calling? not great\n",
            "STRIP:  your call center won t let me wait on hold which i would happily do am i seriously supposed to just keep calling? not great\n",
            "after replace= your call center won t let me wait on hold which i would happily do am i seriously supposed to just keep calling _questionmark_ not great\n",
            "  conv: your call center won i let me wait on hold which i would happily do am i seriously supposed to just keep calling _questionmark_ not great \n",
            "39 orig: @USAirways Today USAir Cancelled Flightled our rescheduled flight &amp; did not notify us except possibly to our home phone-not helpful since we are in CO\n",
            "demojize:  @usairways today usair cancelled flightled our rescheduled flight &amp; did not notify us except possibly to our home phone-not helpful since we are in co\n",
            "STRIP:  today usair cancelled flightled our rescheduled flight amp did not notify us except possibly to our home phone not helpful since we are in co\n",
            "after replace= today usair cancelled flightled our rescheduled flight amp did not notify us except possibly to our home phone not helpful since we are in co\n",
            "  conv: today usain cancelled lighted our rescheduled flight amp did not notify us except possibly to our home phone not helpful since we are in co \n",
            "40 orig: @SouthwestAir Great flight yesterday from MSY to AUS!! Thank you for such great safety,service and beautiful skies!! http://t.co/X1EqYAHfvZ\n",
            "demojize:  @southwestair great flight yesterday from msy to aus!! thank you for such great safety,service and beautiful skies!! \n",
            "STRIP:  great flight yesterday from msy to aus!! thank you for such great safety service and beautiful skies!!\n",
            "after replace= great flight yesterday from msy to aus _exclamation_ _exclamation_ thank you for such great safety service and beautiful skies _exclamation_ _exclamation_ \n",
            "  conv: great flight yesterday from my to aus _exclamation_ _exclamation_ thank you for such great safety service and beautiful skies _exclamation_ _exclamation_  \n",
            "41 orig: @USAirways over the phone. I called the 6170 number and she picked up almost immediately.\n",
            "demojize:  @usairways over the phone. i called the 6170 number and she picked up almost immediately.\n",
            "STRIP:  over the phone i called the 6170 number and she picked up almost immediately\n",
            "after replace= over the phone i called the 6170 number and she picked up almost immediately\n",
            "  conv: over the phone i called the  number and she picked up almost immediately \n",
            "42 orig: @JetBlue Did you discontinue nonstop service from SJC to BOS? Can't find 471 or 472 anywhere\n",
            "demojize:  @jetblue did you discontinue nonstop service from sjc to bos? can not find 471 or 472 anywhere\n",
            "STRIP:  did you discontinue nonstop service from sjc to bos? can not find 471 or 472 anywhere\n",
            "after replace= did you discontinue nonstop service from sjc to bos _questionmark_ can not find 471 or 472 anywhere\n",
            "  conv: did you discontinue nonstop service from sec to bos _questionmark_ can not find  or  anywhere \n",
            "43 orig: @USAirways thanks\n",
            "demojize:  @usairways thanks\n",
            "STRIP:  thanks\n",
            "after replace= thanks\n",
            "  conv: thanks \n",
            "44 orig: @JetBlue as requested, here's selfie somewhere over the Rocky's. #milehighselfieclub http://t.co/A1ChOxKPJp\n",
            "demojize:  @jetblue as requested, here's selfie somewhere over the rocky's. #milehighselfieclub \n",
            "STRIP:  as requested here s selfie somewhere over the rocky s\n",
            "after replace= as requested here s selfie somewhere over the rocky s\n",
            "  conv: as requested here i selfie somewhere over the rocky i \n",
            "45 orig: @AmericanAir I have \"continued contacting\" your phone reps for 7 hours and am still unable to get through. That's absurd and I am livid.\n",
            "demojize:  @americanair i have \"continued contacting\" your phone reps for 7 hours and am still unable to get through. that is absurd and i am livid.\n",
            "STRIP:  i have continued contacting your phone reps for 7 hours and am still unable to get through that is absurd and i am livid\n",
            "after replace= i have continued contacting your phone reps for 7 hours and am still unable to get through that is absurd and i am livid\n",
            "  conv: i have continued contacting your phone reps for  hours and am still unable to get through that is absurd and i am livid \n",
            "46 orig: @SouthwestAir @Imaginedragons #DestinationDragons Scavenger Hunt rules: http://t.co/vHgkiTzSaw\n",
            "demojize:  @southwestair @imaginedragons #destinationdragons scavenger hunt rules: \n",
            "STRIP:  scavenger hunt rules:\n",
            "after replace= scavenger hunt rules:\n",
            "  conv: scavenger hunt rules: \n",
            "47 orig: @USAirways pilot for flight 729 didn't show until after departure ⌚️ &amp; now there's a broken computer. Next time flying @United. #ALWAYSLate Flight\n",
            "demojize:  @usairways pilot for flight 729 did not show until after departure :watch: &amp; now there is a broken computer. next time flying @united. #alwayslate flight\n",
            "STRIP:  pilot for flight 729 did not show until after departure :watch: amp now there is a broken computer next time flying flight\n",
            "after replace= pilot for flight 729 did not show until after departure :watch: amp now there is a broken computer next time flying flight\n",
            "  conv: pilot for flight  did not show until after departure :watch: amp now there is a broken computer next time flying flight \n",
            "48 orig: @USAirways passengers sitting on plane for two hours flight #4663 from CMH!!!  All other flights have left #usairwaysfail #worstairlineever\n",
            "demojize:  @usairways passengers sitting on plane for two hours flight #4663 from cmh!!!  all other flights have left #usairwaysfail #worstairlineever\n",
            "STRIP:  passengers sitting on plane for two hours flight from cmh!!! all other flights have left\n",
            "after replace= passengers sitting on plane for two hours flight from cmh _exclamation_ _exclamation_ _exclamation_ all other flights have left\n",
            "  conv: passengers sitting on plane for two hours flight from cme _exclamation_ _exclamation_ _exclamation_ all other flights have left \n",
            "49 orig: “@JetBlue: @sylvie75015 Good morning, Sylvie! Have a great flight! #yourock” &gt; Thank you #JetBlue! @mxo42 @henrikwagner73 #JetBlueRocks\n",
            "demojize:  “@jetblue: @sylvie75015 good morning, sylvie! have a great flight! #yourock” &gt; thank you #jetblue! @mxo42 @henrikwagner73 #jetbluerocks\n",
            "STRIP:  good morning sylvie! have a great flight! gt thank you\n",
            "after replace= good morning sylvie _exclamation_ have a great flight _exclamation_ gt thank you\n",
            "  conv: good morning sylvie _exclamation_ have a great flight _exclamation_ it thank you \n",
            "50 orig: @SouthwestAir Just go ahead and start the scavenger hunt after 5 pm today when work is over ;) #DestinationDragons\n",
            "demojize:  @southwestair just go ahead and start the scavenger hunt after 5 pm today when work is over ;) #destinationdragons\n",
            "STRIP:  just go ahead and start the scavenger hunt after 5 pm today when work is over\n",
            "after replace= just go ahead and start the scavenger hunt after 5 pm today when work is over\n",
            "  conv: just go ahead and start the scavenger hunt after  am today when work is over \n",
            "51 orig: @united  your costumer service today in the Providence airport was sucked. Recommend your airline learn to check the weather and be honest\n",
            "demojize:  @united  your costumer service today in the providence airport was sucked. recommend your airline learn to check the weather and be honest\n",
            "STRIP:  your costumer service today in the providence airport was sucked recommend your airline learn to check the weather and be honest\n",
            "after replace= your costumer service today in the providence airport was sucked recommend your airline learn to check the weather and be honest\n",
            "  conv: your costumer service today in the providence airport was sucked recommend your airline learn to check the weather and be honest \n",
            "52 orig: @AmericanAir  beyond frustrated with no call back from auto hold or whatever you call it. Entered my number at 11:30 CST, still no call 2:26\n",
            "demojize:  @americanair  beyond frustrated with no call back from auto hold or whatever you call it. entered my number at 11:30 cst, still no call 2:26\n",
            "STRIP:  beyond frustrated with no call back from auto hold or whatever you call it entered my number at 11:30 cst still no call 2:26\n",
            "after replace= beyond frustrated with no call back from auto hold or whatever you call it entered my number at 11:30 cst still no call 2:26\n",
            "  conv: beyond frustrated with no call back from auto hold or whatever you call it entered my number at 11:30 cut still no call 2:26 \n",
            "53 orig: @JetBlue got it. thanks the quick reply.\n",
            "demojize:  @jetblue got it. thanks the quick reply.\n",
            "STRIP:  got it thanks the quick reply\n",
            "after replace= got it thanks the quick reply\n",
            "  conv: got it thanks the quick reply \n",
            "54 orig: @AmericanAir @British_Airways trying to speak with an agent about my flight to London tonight but can't get anyone from AA.  Can you help?\n",
            "demojize:  @americanair @british_airways trying to speak with an agent about my flight to london tonight but can not get anyone from aa.  can you help?\n",
            "STRIP:  trying to speak with an agent about my flight to london tonight but can not get anyone from aa can you help?\n",
            "after replace= trying to speak with an agent about my flight to london tonight but can not get anyone from aa can you help _questionmark_ \n",
            "  conv: trying to speak with an agent about my flight to london tonight but can not get anyone from a can you help _questionmark_  \n",
            "55 orig: @SouthwestAir what robot is running this account. The same one that doesn't remember anything they ask. Same conversation over and over.\n",
            "demojize:  @southwestair what robot is running this account. the same one that doesn't remember anything they ask. same conversation over and over.\n",
            "STRIP:  what robot is running this account the same one that doesn t remember anything they ask same conversation over and over\n",
            "after replace= what robot is running this account the same one that doesn t remember anything they ask same conversation over and over\n",
            "  conv: what robot is running this account the same one that doesn i remember anything they ask same conversation over and over \n",
            "56 orig: @AmericanAir Here you go https://t.co/oM1vIEg74a\n",
            "demojize:  @americanair here you go \n",
            "STRIP:  here you go\n",
            "after replace= here you go\n",
            "  conv: here you go \n",
            "57 orig: @united ROC flight Cancelled Flightled. Love my snowy drive home with no useful substitutes\n",
            "demojize:  @united roc flight cancelled flightled. love my snowy drive home with no useful substitutes\n",
            "STRIP:  roc flight cancelled flightled love my snowy drive home with no useful substitutes\n",
            "after replace= roc flight cancelled flightled love my snowy drive home with no useful substitutes\n",
            "  conv: roc flight cancelled lighted love my snowy drive home with no useful substitutes \n",
            "58 orig: @USAirways flt 1820 2rsw could have extended the courtsey of waiting 2min 4 10 of us.... gates closed in r faces.  Ur fired\n",
            "demojize:  @usairways flt 1820 2rsw could have extended the courtsey of waiting 2min 4 10 of us.... gates closed in r faces.  ur fired\n",
            "STRIP:  flt 1820 2rsw could have extended the courtsey of waiting 2min 4 10 of us gates closed in r faces ur fired\n",
            "after replace= flt 1820 2rsw could have extended the courtsey of waiting 2min 4 10 of us gates closed in r faces ur fired\n",
            "  conv: felt  grow could have extended the courtesy of waiting min   of us gates closed in i faces ur fired \n",
            "59 orig: Spend 1 HOUR on hold with @USAirways .\n",
            "demojize:  spend 1 hour on hold with @usairways .\n",
            "STRIP:  spend 1 hour on hold with\n",
            "after replace= spend 1 hour on hold with\n",
            "  conv: spend  hour on hold with \n",
            "60 orig: @JetBlue could I get a free flight to Vegas since it's my bday😏☺️\n",
            "demojize:  @jetblue could i get a free flight to vegas since it is my bday:smirking_face::smiling_face:\n",
            "STRIP:  could i get a free flight to vegas since it is my bday:smirking_face::smiling_face:\n",
            "after replace= could i get a free flight to vegas since it is my bday:smirking_face::smiling_face:\n",
            "  conv: could i get a free flight to vegas since it is my bday:smirking_face: :smiling_face: \n",
            "61 orig: @united thank you for listening to my compliant and doing the right thing. I appreciate you working with me\n",
            "demojize:  @united thank you for listening to my compliant and doing the right thing. i appreciate you working with me\n",
            "STRIP:  thank you for listening to my compliant and doing the right thing i appreciate you working with me\n",
            "after replace= thank you for listening to my compliant and doing the right thing i appreciate you working with me\n",
            "  conv: thank you for listening to my compliant and doing the right thing i appreciate you working with me \n",
            "62 orig: Thank you for your help, Shannon! Great customer service, @SouthwestAir.\n",
            "demojize:  thank you for your help, shannon! great customer service, @southwestair.\n",
            "STRIP:  thank you for your help shannon! great customer service\n",
            "after replace= thank you for your help shannon _exclamation_ great customer service\n",
            "  conv: thank you for your help shannon _exclamation_ great customer service \n",
            "63 orig: @united Change made in just over 3 hours. For something that should have taken seconds online, I am not thrilled. Loved the agent, though.\n",
            "demojize:  @united change made in just over 3 hours. for something that should have taken seconds online, i am not thrilled. loved the agent, though.\n",
            "STRIP:  change made in just over 3 hours for something that should have taken seconds online i am not thrilled loved the agent though\n",
            "after replace= change made in just over 3 hours for something that should have taken seconds online i am not thrilled loved the agent though\n",
            "  conv: change made in just over  hours for something that should have taken seconds online i am not thrilled loved the agent though \n",
            "64 orig: @JetBlue our flight out no Tv. Now our flight back not seated together. B6 620. Maybe our fault still no fun.\n",
            "demojize:  @jetblue our flight out no tv. now our flight back not seated together. b6 620. maybe our fault still no fun.\n",
            "STRIP:  our flight out no tv now our flight back not seated together b6 620 maybe our fault still no fun\n",
            "after replace= our flight out no tv now our flight back not seated together b6 620 maybe our fault still no fun\n",
            "  conv: our flight out no to now our flight back not seated together be  maybe our fault still no fun \n",
            "65 orig: @AmericanAir why would I pay $200 to reactivate my points that are only useful for certain flights that aren't even worth $200?\n",
            "demojize:  @americanair why would i pay $200 to reactivate my points that are only useful for certain flights that are not even worth $200?\n",
            "STRIP:  why would i pay 200 to reactivate my points that are only useful for certain flights that are not even worth 200?\n",
            "after replace= why would i pay 200 to reactivate my points that are only useful for certain flights that are not even worth 200 _questionmark_ \n",
            "  conv: why would i pay  to reactivate my points that are only useful for certain flights that are not even worth  _questionmark_  \n",
            "66 orig: @JetBlue thanks. Home to MSY. TSA precheck agents directing people after photo until scan beyond rude. One grabbed and pushed children.\n",
            "demojize:  @jetblue thanks. home to msy. tsa precheck agents directing people after photo until scan beyond rude. one grabbed and pushed children.\n",
            "STRIP:  thanks home to msy tsa precheck agents directing people after photo until scan beyond rude one grabbed and pushed children\n",
            "after replace= thanks home to msy tsa precheck agents directing people after photo until scan beyond rude one grabbed and pushed children\n",
            "  conv: thanks home to my tsa recheck agents directing people after photo until scan beyond rude one grabbed and pushed children \n",
            "67 orig: @AmericanAir thanks for the DM rescheduling. Unfortunately your operations process at LAX is chaos &amp; the reps refused to print the ticket\n",
            "demojize:  @americanair thanks for the dm rescheduling. unfortunately your operations process at lax is chaos &amp; the reps refused to print the ticket\n",
            "STRIP:  thanks for the dm rescheduling unfortunately your operations process at lax is chaos amp the reps refused to print the ticket\n",
            "after replace= thanks for the dm rescheduling unfortunately your operations process at lax is chaos amp the reps refused to print the ticket\n",
            "  conv: thanks for the do rescheduling unfortunately your operations process at lax is chaos amp the reps refused to print the ticket \n",
            "68 orig: “@JetBlue: Our fleet's on fleek. http://t.co/H11jglw74L”ayyy 😎\n",
            "demojize:  “@jetblue: our fleet is  on fleek.  :smiling_face_with_sunglasses:\n",
            "STRIP:  our fleet is on fleek :smiling_face_with_sunglasses:\n",
            "after replace= our fleet is on fleek :smiling_face_with_sunglasses:\n",
            "  conv: our fleet is on fleek :smiling_face_with_sunglasses: \n",
            "69 orig: @AmericanAir yes and the auto rebook confirmed an outbound that departs after the return flight.  # fire the software programmers\n",
            "demojize:  @americanair yes and the auto rebook confirmed an outbound that departs after the return flight.  # fire the software programmers\n",
            "STRIP:  yes and the auto rebook confirmed an outbound that departs after the return flight fire the software programmers\n",
            "after replace= yes and the auto rebook confirmed an outbound that departs after the return flight fire the software programmers\n",
            "  conv: yes and the auto rebook confirmed an outbound that departs after the return flight fire the software programmers \n",
            "70 orig: @USAirways I have a voucher from a past trip that was delayed. I thought I had to talk to someone on the phone to use it. Is that not true?\n",
            "demojize:  @usairways i have a voucher from a past trip that was delayed. i thought i had to talk to someone on the phone to use it. is that not true?\n",
            "STRIP:  i have a voucher from a past trip that was delayed i thought i had to talk to someone on the phone to use it is that not true?\n",
            "after replace= i have a voucher from a past trip that was delayed i thought i had to talk to someone on the phone to use it is that not true _questionmark_ \n",
            "  conv: i have a voucher from a past trip that was delayed i thought i had to talk to someone on the phone to use it is that not true _questionmark_  \n",
            "71 orig: @SouthwestAir I was just sitting here talking at a tech conference about how awesome you guys are and this rolled across. Luv you guys! #LOL\n",
            "demojize:  @southwestair i was just sitting here talking at a tech conference about how awesome you guys are and this rolled across. luv you guys! #lol\n",
            "STRIP:  i was just sitting here talking at a tech conference about how awesome you guys are and this rolled across luv you guys!\n",
            "after replace= i was just sitting here talking at a tech conference about how awesome you guys are and this rolled across luv you guys _exclamation_ \n",
            "  conv: i was just sitting here talking at a tech conference about how awesome you guys are and this rolled across luv you guys _exclamation_  \n",
            "72 orig: @USAirways So we got her home, now we just need her bag. Is there a direct desk number for Savannah?\n",
            "demojize:  @usairways so we got her home, now we just need her bag. is there a direct desk number for savannah?\n",
            "STRIP:  so we got her home now we just need her bag is there a direct desk number for savannah?\n",
            "after replace= so we got her home now we just need her bag is there a direct desk number for savannah _questionmark_ \n",
            "  conv: so we got her home now we just need her bag is there a direct desk number for savannah _questionmark_  \n",
            "73 orig: @AmericanAir yes, it says it should be deliver within 6 hours after pick up line.\n",
            "demojize:  @americanair yes, it says it should be deliver within 6 hours after pick up line.\n",
            "STRIP:  yes it says it should be deliver within 6 hours after pick up line\n",
            "after replace= yes it says it should be deliver within 6 hours after pick up line\n",
            "  conv: yes it says it should be deliver within  hours after pick up line \n",
            "74 orig: @united thanks for the reply. To clarify, the airfare is similar to your likely intended peer group. The $3 beer charge, however, is not\n",
            "demojize:  @united thanks for the reply. to clarify, the airfare is similar to your likely intended peer group. the $3 beer charge, however, is not\n",
            "STRIP:  thanks for the reply to clarify the airfare is similar to your likely intended peer group the 3 beer charge however is not\n",
            "after replace= thanks for the reply to clarify the airfare is similar to your likely intended peer group the 3 beer charge however is not\n",
            "  conv: thanks for the reply to clarify the airfare is similar to your likely intended peer group the  beer charge however is not \n",
            "75 orig: @AmericanAir flight 1388 tomorrow 5:15 am, status please, thanks\n",
            "demojize:  @americanair flight 1388 tomorrow 5:15 am, status please, thanks\n",
            "STRIP:  flight 1388 tomorrow 5:15 am status please thanks\n",
            "after replace= flight 1388 tomorrow 5:15 am status please thanks\n",
            "  conv: flight  tomorrow 5:15 am status please thanks \n",
            "76 orig: @USAirways telling a man theres NO FLIGHTS for the next 10 hrs!!! NO standby! NOTHING! NO OPTIONS! trying to get to sick child! #FireVan!\n",
            "demojize:  @usairways telling a man theres no flights for the next 10 hrs!!! no standby! nothing! no options! trying to get to sick child! #firevan!\n",
            "STRIP:  telling a man theres no flights for the next 10 hrs!!! no standby! nothing! no options! trying to get to sick child!\n",
            "after replace= telling a man theres no flights for the next 10 hrs _exclamation_ _exclamation_ _exclamation_ no standby _exclamation_ nothing _exclamation_ no options _exclamation_ trying to get to sick child _exclamation_ \n",
            "  conv: telling a man theres no flights for the next  his _exclamation_ _exclamation_ _exclamation_ no standby _exclamation_ nothing _exclamation_ no options _exclamation_ trying to get to sick child _exclamation_  \n",
            "77 orig: @JetBlue Will do. Thanks!\n",
            "demojize:  @jetblue will do. thanks!\n",
            "STRIP:  will do thanks!\n",
            "after replace= will do thanks _exclamation_ \n",
            "  conv: will do thanks _exclamation_  \n",
            "78 orig: @JetBlue I clear that folder regularly and JetBlue is white listed so it never got to me.\n",
            "demojize:  @jetblue i clear that folder regularly and jetblue is white listed so it never got to me.\n",
            "STRIP:  i clear that folder regularly and jetblue is white listed so it never got to me\n",
            "after replace= i clear that folder regularly and jetblue is white listed so it never got to me\n",
            "  conv: i clear that folder regularly and jetblue is white listed so it never got to me \n",
            "79 orig: @AmericanAir Lets hope it stays that way.Big thanks to your ground/outside crews all across the US the last month. Great FB post yesterday.\n",
            "demojize:  @americanair lets hope it stays that way.big thanks to your ground/outside crews all across the us the last month. great fb post yesterday.\n",
            "STRIP:  lets hope it stays that way big thanks to your ground outside crews all across the us the last month great fb post yesterday\n",
            "after replace= lets hope it stays that way big thanks to your ground outside crews all across the us the last month great fb post yesterday\n",
            "  conv: lets hope it stays that way big thanks to your ground outside crews all across the us the last month great fu post yesterday \n",
            "80 orig: @united thanks. Just got on a couple of minutes ago. Great service on flight 479 btw. Please pass it to the team on that flight.\n",
            "demojize:  @united thanks. just got on a couple of minutes ago. great service on flight 479 btw. please pass it to the team on that flight.\n",
            "STRIP:  thanks just got on a couple of minutes ago great service on flight 479 btw please pass it to the team on that flight\n",
            "after replace= thanks just got on a couple of minutes ago great service on flight 479 btw please pass it to the team on that flight\n",
            "  conv: thanks just got on a couple of minutes ago great service on flight  bow please pass it to the team on that flight \n",
            "81 orig: @united to start 3xweekly #B737-900 flights from #NewOrleans to #Cancun on between 9MAY-5SEP #avgeek\n",
            "demojize:  @united to start 3xweekly #b737-900 flights from #neworleans to #cancun on between 9may-5sep #avgeek\n",
            "STRIP:  to start 3xweekly 900 flights from to on between 9may 5sep\n",
            "after replace= to start 3xweekly 900 flights from to on between 9may 5sep\n",
            "  conv: to start weekly  flights from to on between may sep \n",
            "82 orig: @united when will I hear? Guitar was damaged in December. I use my guitar to earn a living. Get your act together!\n",
            "demojize:  @united when will i hear? guitar was damaged in december. i use my guitar to earn a living. get your act together!\n",
            "STRIP:  when will i hear? guitar was damaged in december i use my guitar to earn a living get your act together!\n",
            "after replace= when will i hear _questionmark_ guitar was damaged in december i use my guitar to earn a living get your act together _exclamation_ \n",
            "  conv: when will i hear _questionmark_ guitar was damaged in december i use my guitar to earn a living get your act together _exclamation_  \n",
            "83 orig: @SouthwestAir got an email confirmation of wifi purchase on a recent flight. Trouble is, I've never flown with you. Ever. #concerned #scam?\n",
            "demojize:  @southwestair got an email confirmation of wifi purchase on a recent flight. trouble is, i have never flown with you. ever. #concerned #scam?\n",
            "STRIP:  got an email confirmation of wifi purchase on a recent flight trouble is i have never flown with you ever\n",
            "after replace= got an email confirmation of wifi purchase on a recent flight trouble is i have never flown with you ever\n",
            "  conv: got an email confirmation of wifi purchase on a recent flight trouble is i have never flown with you ever \n",
            "84 orig: @USAirways not given option for new flight! Why can't we get a plane PHL-MIA? 20years as an #eventprof this is worst travel experience ever\n",
            "demojize:  @usairways not given option for new flight! why can not we get a plane phl-mia? 20years as an #eventprof this is worst travel experience ever\n",
            "STRIP:  not given option for new flight! why can not we get a plane phl mia? 20years as an this is worst travel experience ever\n",
            "after replace= not given option for new flight _exclamation_ why can not we get a plane phl mia _questionmark_ 20years as an this is worst travel experience ever\n",
            "  conv: not given option for new flight _exclamation_ why can not we get a plane pal mia _questionmark_ years as an this is worst travel experience ever \n",
            "85 orig: @AmericanAir when should i expect a response from customer relations\n",
            "demojize:  @americanair when should i expect a response from customer relations\n",
            "STRIP:  when should i expect a response from customer relations\n",
            "after replace= when should i expect a response from customer relations\n",
            "  conv: when should i expect a response from customer relations \n",
            "86 orig: @JetBlue thanks so much!! ❤️✨ very relaxing flight!\n",
            "demojize:  @jetblue thanks so much!! :red_heart::sparkles: very relaxing flight!\n",
            "STRIP:  thanks so much!! :red_heart::sparkles: very relaxing flight!\n",
            "after replace= thanks so much _exclamation_ _exclamation_ :red_heart::sparkles: very relaxing flight _exclamation_ \n",
            "  conv: thanks so much _exclamation_ _exclamation_ :red_heart: :sparkles: very relaxing flight _exclamation_  \n",
            "87 orig: @SouthwestAir weather delays aren't your fault today but getting to hotel with two soaked suitcases and no dry clothes stinks frustrated\n",
            "demojize:  @southwestair weather delays are not your fault today but getting to hotel with two soaked suitcases and no dry clothes stinks frustrated\n",
            "STRIP:  weather delays are not your fault today but getting to hotel with two soaked suitcases and no dry clothes stinks frustrated\n",
            "after replace= weather delays are not your fault today but getting to hotel with two soaked suitcases and no dry clothes stinks frustrated\n",
            "  conv: weather delays are not your fault today but getting to hotel with two soaked suitcases and no dry clothes stinks frustrated \n",
            "88 orig: @united tell me something I don't know...not #keepingit100 #weaktea\n",
            "demojize:  @united tell me something i don't know...not #keepingit100 #weaktea\n",
            "STRIP:  tell me something i don t know not\n",
            "after replace= tell me something i don t know not\n",
            "  conv: tell me something i don i know not \n",
            "89 orig: @united Flight is awful only one lavatory functioning, and people lining up, bumping, etc. because can't use 1st class bathroom. Ridiculous\n",
            "demojize:  @united flight is awful only one lavatory functioning, and people lining up, bumping, etc. because can not use 1st class bathroom. ridiculous\n",
            "STRIP:  flight is awful only one lavatory functioning and people lining up bumping etc because can not use 1st class bathroom ridiculous\n",
            "after replace= flight is awful only one lavatory functioning and people lining up bumping etc because can not use 1st class bathroom ridiculous\n",
            "  conv: flight is awful only one lavatory functioning and people lining up bumping etc because can not use est class bathroom ridiculous \n",
            "90 orig: @JetBlue just a very rude rep while trying to book family vacation using trvl credit. on phone w/ new rep now who is being very helpful\n",
            "demojize:  @jetblue just a very rude rep while trying to book family vacation using trvl credit. on phone w/ new rep now who is being very helpful\n",
            "STRIP:  just a very rude rep while trying to book family vacation using trvl credit on phone w new rep now who is being very helpful\n",
            "after replace= just a very rude rep while trying to book family vacation using trvl credit on phone w new rep now who is being very helpful\n",
            "  conv: just a very rude rep while trying to book family vacation using trol credit on phone i new rep now who is being very helpful \n",
            "91 orig: @JetBlue hello! my husband bought us a trip last night &amp; just noticed my last name is misspelled! What can I do? Thanks!\n",
            "demojize:  @jetblue hello! my husband bought us a trip last night &amp; just noticed my last name is misspelled! what can i do? thanks!\n",
            "STRIP:  hello! my husband bought us a trip last night amp just noticed my last name is misspelled! what can i do? thanks!\n",
            "after replace= hello _exclamation_ my husband bought us a trip last night amp just noticed my last name is misspelled _exclamation_ what can i do _questionmark_ thanks _exclamation_ \n",
            "  conv: hello _exclamation_ my husband bought us a trip last night amp just noticed my last name is misspelled _exclamation_ what can i do _questionmark_ thanks _exclamation_  \n",
            "92 orig: @JetBlue we are bringing 2 guitars. can we bring them as carry on?\n",
            "demojize:  @jetblue we are bringing 2 guitars. can we bring them as carry on?\n",
            "STRIP:  we are bringing 2 guitars can we bring them as carry on?\n",
            "after replace= we are bringing 2 guitars can we bring them as carry on _questionmark_ \n",
            "  conv: we are bringing  guitars can we bring them as carry on _questionmark_  \n",
            "93 orig: @USAirways FYI your customer service rep Carol is an absolute delight. So pleasant to with with and rebooked me in lightning speed! Thanks!\n",
            "demojize:  @usairways fyi your customer service rep carol is an absolute delight. so pleasant to with with and rebooked me in lightning speed! thanks!\n",
            "STRIP:  fyi your customer service rep carol is an absolute delight so pleasant to with with and rebooked me in lightning speed! thanks!\n",
            "after replace= fyi your customer service rep carol is an absolute delight so pleasant to with with and rebooked me in lightning speed _exclamation_ thanks _exclamation_ \n",
            "  conv: fyi your customer service rep carol is an absolute delight so pleasant to with with and rebooked me in lightning speed _exclamation_ thanks _exclamation_  \n",
            "94 orig: @VirginAmerica You have the best flight attendant ever!!! http://t.co/PxdEL1nq3l\n",
            "demojize:  @virginamerica you have the best flight attendant ever!!! \n",
            "STRIP:  you have the best flight attendant ever!!!\n",
            "after replace= you have the best flight attendant ever _exclamation_ _exclamation_ _exclamation_ \n",
            "  conv: you have the best flight attendant ever _exclamation_ _exclamation_ _exclamation_  \n",
            "95 orig: @USAirways : i was told my ticket expired but  i never recvd any notice  before it expired .This sucks.i paid 40k miles &amp; $125 for the tckt\n",
            "demojize:  @usairways : i was told my ticket expired but  i never recvd any notice  before it expired .this sucks.i paid 40k miles &amp; $125 for the tckt\n",
            "STRIP:  : i was told my ticket expired but i never recvd any notice before it expired this sucks i paid 40k miles amp 125 for the tckt\n",
            "after replace= : i was told my ticket expired but i never recvd any notice before it expired this sucks i paid 40k miles amp 125 for the tckt\n",
            "  conv: : i was told my ticket expired but i never read any notice before it expired this sucks i paid ask miles amp  for the that \n",
            "96 orig: @USAirways is it policy to tell customers \"We can't help you?\" I'm sorry but this is unacceptable\n",
            "demojize:  @usairways is it policy to tell customers \"we can not help you?\" i am sorry but this is unacceptable\n",
            "STRIP:  is it policy to tell customers we can not help you? i am sorry but this is unacceptable\n",
            "after replace= is it policy to tell customers we can not help you _questionmark_ i am sorry but this is unacceptable\n",
            "  conv: is it policy to tell customers we can not help you _questionmark_ i am sorry but this is unacceptable \n",
            "97 orig: @AmericanAir wait times of 2 hours to talk with an exec plt agent, what is going on!!!\n",
            "demojize:  @americanair wait times of 2 hours to talk with an exec plt agent, what is going on!!!\n",
            "STRIP:  wait times of 2 hours to talk with an exec plt agent what is going on!!!\n",
            "after replace= wait times of 2 hours to talk with an exec plt agent what is going on _exclamation_ _exclamation_ _exclamation_ \n",
            "  conv: wait times of  hours to talk with an exec put agent what is going on _exclamation_ _exclamation_ _exclamation_  \n",
            "98 orig: @USAirways Flight 4210 been sitting @Bradley_Airport gate 27 for 10 min w door open since we arrived. Still no jet bridge. Can someone help?\n",
            "demojize:  @usairways flight 4210 been sitting @bradley_airport gate 27 for 10 min w door open since we arrived. still no jet bridge. can someone help?\n",
            "STRIP:  flight 4210 been sitting gate 27 for 10 min w door open since we arrived still no jet bridge can someone help?\n",
            "after replace= flight 4210 been sitting gate 27 for 10 min w door open since we arrived still no jet bridge can someone help _questionmark_ \n",
            "  conv: flight  been sitting gate  for  min i door open since we arrived still no jet bridge can someone help _questionmark_  \n",
            "99 orig: @SouthwestAir boarding passes now compatible with #iPhone #Passbook \n",
            "http://t.co/1ESmMnIZEk\n",
            "demojize:  @southwestair boarding passes now compatible with #iphone #passbook \n",
            "\n",
            "STRIP:  boarding passes now compatible with\n",
            "after replace= boarding passes now compatible with\n",
            "  conv: boarding passes now compatible with \n",
            "100 orig: @JetBlue and they are telling me I got to get another hotel and food...so spend more money because you guys made me miss my connection\n",
            "demojize:  @jetblue and they are telling me i got to get another hotel and food...so spend more money because you guys made me miss my connection\n",
            "STRIP:  and they are telling me i got to get another hotel and food so spend more money because you guys made me miss my connection\n",
            "after replace= and they are telling me i got to get another hotel and food so spend more money because you guys made me miss my connection\n",
            "  conv: and they are telling me i got to get another hotel and food so spend more money because you guys made me miss my connection \n",
            "101 orig: @united https://t.co/jpd7NsGRT7. Fyi your staff are telling customers to try other carriers\n",
            "demojize:  @united  fyi your staff are telling customers to try other carriers\n",
            "STRIP:  fyi your staff are telling customers to try other carriers\n",
            "after replace= fyi your staff are telling customers to try other carriers\n",
            "  conv: fyi your staff are telling customers to try other carriers \n",
            "102 orig: @SouthwestAir Thank you for taking good care of people with ALS! http://t.co/m1yyWAFkFI @KevinSwan_ @ALSTDI @A_Life_Story_\n",
            "demojize:  @southwestair thank you for taking good care of people with als!  @kevinswan_ @alstdi @a_life_story_\n",
            "STRIP:  thank you for taking good care of people with als!\n",
            "after replace= thank you for taking good care of people with als _exclamation_ \n",
            "  conv: thank you for taking good care of people with als _exclamation_  \n",
            "103 orig: @AmericanAir is rude a hiring requirement at key west airport shaking my head\n"
          ]
        },
        {
          "output_type": "error",
          "ename": "KeyboardInterrupt",
          "evalue": "ignored",
          "traceback": [
            "\u001b[0;31m---------------------------------------------------------------------------\u001b[0m",
            "\u001b[0;31mKeyboardInterrupt\u001b[0m                         Traceback (most recent call last)",
            "\u001b[0;32m<ipython-input-12-8751644592d8>\u001b[0m in \u001b[0;36m<module>\u001b[0;34m()\u001b[0m\n\u001b[1;32m      2\u001b[0m \u001b[0;32mfor\u001b[0m \u001b[0mi\u001b[0m \u001b[0;32min\u001b[0m \u001b[0mrange\u001b[0m\u001b[0;34m(\u001b[0m\u001b[0mlen\u001b[0m\u001b[0;34m(\u001b[0m\u001b[0malltext\u001b[0m\u001b[0;34m)\u001b[0m\u001b[0;34m)\u001b[0m\u001b[0;34m:\u001b[0m\u001b[0;34m\u001b[0m\u001b[0;34m\u001b[0m\u001b[0m\n\u001b[1;32m      3\u001b[0m     \u001b[0mprint\u001b[0m\u001b[0;34m(\u001b[0m\u001b[0;34mf\"{i}\"\u001b[0m\u001b[0;34m,\u001b[0m \u001b[0mend\u001b[0m\u001b[0;34m=\u001b[0m\u001b[0;34m\" \"\u001b[0m\u001b[0;34m)\u001b[0m\u001b[0;34m\u001b[0m\u001b[0;34m\u001b[0m\u001b[0m\n\u001b[0;32m----> 4\u001b[0;31m     \u001b[0mt\u001b[0m\u001b[0;34m.\u001b[0m\u001b[0mappend\u001b[0m\u001b[0;34m(\u001b[0m\u001b[0mquery_sentence\u001b[0m\u001b[0;34m(\u001b[0m\u001b[0mi\u001b[0m\u001b[0;34m)\u001b[0m\u001b[0;34m)\u001b[0m\u001b[0;34m\u001b[0m\u001b[0;34m\u001b[0m\u001b[0m\n\u001b[0m",
            "\u001b[0;32m<ipython-input-11-516e3426adae>\u001b[0m in \u001b[0;36mquery_sentence\u001b[0;34m(index)\u001b[0m\n\u001b[1;32m     65\u001b[0m \u001b[0;32mdef\u001b[0m \u001b[0mquery_sentence\u001b[0m\u001b[0;34m(\u001b[0m\u001b[0mindex\u001b[0m\u001b[0;34m)\u001b[0m\u001b[0;34m:\u001b[0m\u001b[0;34m\u001b[0m\u001b[0;34m\u001b[0m\u001b[0m\n\u001b[1;32m     66\u001b[0m     \u001b[0mprint\u001b[0m\u001b[0;34m(\u001b[0m\u001b[0;34mf\"orig: {alltext[index]}\"\u001b[0m\u001b[0;34m)\u001b[0m\u001b[0;34m\u001b[0m\u001b[0;34m\u001b[0m\u001b[0m\n\u001b[0;32m---> 67\u001b[0;31m     \u001b[0mspell\u001b[0m\u001b[0;34m=\u001b[0m\u001b[0mSpellChecker\u001b[0m\u001b[0;34m(\u001b[0m\u001b[0;34m)\u001b[0m\u001b[0;34m\u001b[0m\u001b[0;34m\u001b[0m\u001b[0m\n\u001b[0m\u001b[1;32m     68\u001b[0m     \u001b[0minp\u001b[0m\u001b[0;34m=\u001b[0m\u001b[0malltext\u001b[0m\u001b[0;34m[\u001b[0m\u001b[0mindex\u001b[0m\u001b[0;34m]\u001b[0m\u001b[0;34m\u001b[0m\u001b[0;34m\u001b[0m\u001b[0m\n\u001b[1;32m     69\u001b[0m     \u001b[0minp\u001b[0m\u001b[0;34m=\u001b[0m\u001b[0mremove_URL\u001b[0m\u001b[0;34m(\u001b[0m\u001b[0minp\u001b[0m\u001b[0;34m)\u001b[0m\u001b[0;34m\u001b[0m\u001b[0;34m\u001b[0m\u001b[0m\n",
            "\u001b[0;32m/usr/local/lib/python3.7/dist-packages/spellchecker/spellchecker.py\u001b[0m in \u001b[0;36m__init__\u001b[0;34m(self, language, local_dictionary, distance, tokenizer, case_sensitive)\u001b[0m\n\u001b[1;32m     63\u001b[0m                     \u001b[0;32mraise\u001b[0m \u001b[0mValueError\u001b[0m\u001b[0;34m(\u001b[0m\u001b[0mmsg\u001b[0m\u001b[0;34m)\u001b[0m\u001b[0;34m\u001b[0m\u001b[0;34m\u001b[0m\u001b[0m\n\u001b[1;32m     64\u001b[0m \u001b[0;34m\u001b[0m\u001b[0m\n\u001b[0;32m---> 65\u001b[0;31m                 \u001b[0mlang_dict\u001b[0m \u001b[0;34m=\u001b[0m \u001b[0mjson\u001b[0m\u001b[0;34m.\u001b[0m\u001b[0mloads\u001b[0m\u001b[0;34m(\u001b[0m\u001b[0mgzip\u001b[0m\u001b[0;34m.\u001b[0m\u001b[0mdecompress\u001b[0m\u001b[0;34m(\u001b[0m\u001b[0mjson_open\u001b[0m\u001b[0;34m)\u001b[0m\u001b[0;34m.\u001b[0m\u001b[0mdecode\u001b[0m\u001b[0;34m(\u001b[0m\u001b[0;34m\"utf-8\"\u001b[0m\u001b[0;34m)\u001b[0m\u001b[0;34m)\u001b[0m\u001b[0;34m\u001b[0m\u001b[0;34m\u001b[0m\u001b[0m\n\u001b[0m\u001b[1;32m     66\u001b[0m                 \u001b[0mself\u001b[0m\u001b[0;34m.\u001b[0m\u001b[0m_word_frequency\u001b[0m\u001b[0;34m.\u001b[0m\u001b[0mload_json\u001b[0m\u001b[0;34m(\u001b[0m\u001b[0mlang_dict\u001b[0m\u001b[0;34m)\u001b[0m\u001b[0;34m\u001b[0m\u001b[0;34m\u001b[0m\u001b[0m\n\u001b[1;32m     67\u001b[0m \u001b[0;34m\u001b[0m\u001b[0m\n",
            "\u001b[0;32m/usr/lib/python3.7/json/__init__.py\u001b[0m in \u001b[0;36mloads\u001b[0;34m(s, encoding, cls, object_hook, parse_float, parse_int, parse_constant, object_pairs_hook, **kw)\u001b[0m\n\u001b[1;32m    346\u001b[0m             \u001b[0mparse_int\u001b[0m \u001b[0;32mis\u001b[0m \u001b[0;32mNone\u001b[0m \u001b[0;32mand\u001b[0m \u001b[0mparse_float\u001b[0m \u001b[0;32mis\u001b[0m \u001b[0;32mNone\u001b[0m \u001b[0;32mand\u001b[0m\u001b[0;34m\u001b[0m\u001b[0;34m\u001b[0m\u001b[0m\n\u001b[1;32m    347\u001b[0m             parse_constant is None and object_pairs_hook is None and not kw):\n\u001b[0;32m--> 348\u001b[0;31m         \u001b[0;32mreturn\u001b[0m \u001b[0m_default_decoder\u001b[0m\u001b[0;34m.\u001b[0m\u001b[0mdecode\u001b[0m\u001b[0;34m(\u001b[0m\u001b[0ms\u001b[0m\u001b[0;34m)\u001b[0m\u001b[0;34m\u001b[0m\u001b[0;34m\u001b[0m\u001b[0m\n\u001b[0m\u001b[1;32m    349\u001b[0m     \u001b[0;32mif\u001b[0m \u001b[0mcls\u001b[0m \u001b[0;32mis\u001b[0m \u001b[0;32mNone\u001b[0m\u001b[0;34m:\u001b[0m\u001b[0;34m\u001b[0m\u001b[0;34m\u001b[0m\u001b[0m\n\u001b[1;32m    350\u001b[0m         \u001b[0mcls\u001b[0m \u001b[0;34m=\u001b[0m \u001b[0mJSONDecoder\u001b[0m\u001b[0;34m\u001b[0m\u001b[0;34m\u001b[0m\u001b[0m\n",
            "\u001b[0;32m/usr/lib/python3.7/json/decoder.py\u001b[0m in \u001b[0;36mdecode\u001b[0;34m(self, s, _w)\u001b[0m\n\u001b[1;32m    335\u001b[0m \u001b[0;34m\u001b[0m\u001b[0m\n\u001b[1;32m    336\u001b[0m         \"\"\"\n\u001b[0;32m--> 337\u001b[0;31m         \u001b[0mobj\u001b[0m\u001b[0;34m,\u001b[0m \u001b[0mend\u001b[0m \u001b[0;34m=\u001b[0m \u001b[0mself\u001b[0m\u001b[0;34m.\u001b[0m\u001b[0mraw_decode\u001b[0m\u001b[0;34m(\u001b[0m\u001b[0ms\u001b[0m\u001b[0;34m,\u001b[0m \u001b[0midx\u001b[0m\u001b[0;34m=\u001b[0m\u001b[0m_w\u001b[0m\u001b[0;34m(\u001b[0m\u001b[0ms\u001b[0m\u001b[0;34m,\u001b[0m \u001b[0;36m0\u001b[0m\u001b[0;34m)\u001b[0m\u001b[0;34m.\u001b[0m\u001b[0mend\u001b[0m\u001b[0;34m(\u001b[0m\u001b[0;34m)\u001b[0m\u001b[0;34m)\u001b[0m\u001b[0;34m\u001b[0m\u001b[0;34m\u001b[0m\u001b[0m\n\u001b[0m\u001b[1;32m    338\u001b[0m         \u001b[0mend\u001b[0m \u001b[0;34m=\u001b[0m \u001b[0m_w\u001b[0m\u001b[0;34m(\u001b[0m\u001b[0ms\u001b[0m\u001b[0;34m,\u001b[0m \u001b[0mend\u001b[0m\u001b[0;34m)\u001b[0m\u001b[0;34m.\u001b[0m\u001b[0mend\u001b[0m\u001b[0;34m(\u001b[0m\u001b[0;34m)\u001b[0m\u001b[0;34m\u001b[0m\u001b[0;34m\u001b[0m\u001b[0m\n\u001b[1;32m    339\u001b[0m         \u001b[0;32mif\u001b[0m \u001b[0mend\u001b[0m \u001b[0;34m!=\u001b[0m \u001b[0mlen\u001b[0m\u001b[0;34m(\u001b[0m\u001b[0ms\u001b[0m\u001b[0;34m)\u001b[0m\u001b[0;34m:\u001b[0m\u001b[0;34m\u001b[0m\u001b[0;34m\u001b[0m\u001b[0m\n",
            "\u001b[0;32m/usr/lib/python3.7/json/decoder.py\u001b[0m in \u001b[0;36mraw_decode\u001b[0;34m(self, s, idx)\u001b[0m\n\u001b[1;32m    351\u001b[0m         \"\"\"\n\u001b[1;32m    352\u001b[0m         \u001b[0;32mtry\u001b[0m\u001b[0;34m:\u001b[0m\u001b[0;34m\u001b[0m\u001b[0;34m\u001b[0m\u001b[0m\n\u001b[0;32m--> 353\u001b[0;31m             \u001b[0mobj\u001b[0m\u001b[0;34m,\u001b[0m \u001b[0mend\u001b[0m \u001b[0;34m=\u001b[0m \u001b[0mself\u001b[0m\u001b[0;34m.\u001b[0m\u001b[0mscan_once\u001b[0m\u001b[0;34m(\u001b[0m\u001b[0ms\u001b[0m\u001b[0;34m,\u001b[0m \u001b[0midx\u001b[0m\u001b[0;34m)\u001b[0m\u001b[0;34m\u001b[0m\u001b[0;34m\u001b[0m\u001b[0m\n\u001b[0m\u001b[1;32m    354\u001b[0m         \u001b[0;32mexcept\u001b[0m \u001b[0mStopIteration\u001b[0m \u001b[0;32mas\u001b[0m \u001b[0merr\u001b[0m\u001b[0;34m:\u001b[0m\u001b[0;34m\u001b[0m\u001b[0;34m\u001b[0m\u001b[0m\n\u001b[1;32m    355\u001b[0m             \u001b[0;32mraise\u001b[0m \u001b[0mJSONDecodeError\u001b[0m\u001b[0;34m(\u001b[0m\u001b[0;34m\"Expecting value\"\u001b[0m\u001b[0;34m,\u001b[0m \u001b[0ms\u001b[0m\u001b[0;34m,\u001b[0m \u001b[0merr\u001b[0m\u001b[0;34m.\u001b[0m\u001b[0mvalue\u001b[0m\u001b[0;34m)\u001b[0m \u001b[0;32mfrom\u001b[0m \u001b[0;32mNone\u001b[0m\u001b[0;34m\u001b[0m\u001b[0;34m\u001b[0m\u001b[0m\n",
            "\u001b[0;31mKeyboardInterrupt\u001b[0m: "
          ]
        }
      ]
    },
    {
      "cell_type": "code",
      "metadata": {
        "id": "ivPXsq3JoP0m",
        "colab": {
          "base_uri": "https://localhost:8080/"
        },
        "outputId": "64843afa-5f41-4577-b3ca-2d7e0c74b8d4"
      },
      "source": [
        "s=set()\n",
        "for sent in t:\n",
        "    wlist=sent.strip().split()\n",
        "    for w in wlist:\n",
        "        s.add(w)\n",
        "print (len(s))\n",
        "ordered=list(s)\n",
        "ordered.sort()"
      ],
      "execution_count": 13,
      "outputs": [
        {
          "output_type": "stream",
          "name": "stdout",
          "text": [
            "666\n"
          ]
        }
      ]
    },
    {
      "cell_type": "code",
      "metadata": {
        "id": "Yi9MDCpq6bJv",
        "colab": {
          "base_uri": "https://localhost:8080/"
        },
        "outputId": "d53e3512-bac4-4577-b89e-05d7c6bd1d01"
      },
      "source": [
        "print(ordered)"
      ],
      "execution_count": null,
      "outputs": [
        {
          "output_type": "stream",
          "name": "stdout",
          "text": [
            "['0_0', '10:00p', '10:00pm', '10:01', '10:01pm', '10:05am', '10:05pm', '10:07p', '10:10', '10:14am', '10:15am', '10:20', '10:20pm', '10:30', '10:30a', '10:30pm', '10:35', '10:39', '10:45', '10:45pm', '10:50am', '10:51', '10:51pm', '10:55', '10:55pm', '11:00', '11:00pm', '11:10p', '11:15', '11:15p', '11:20', '11:21p', '11:23', '11:30', '11:30a', '11:30am', '11:30pm', '11:31', '11:35', '11:40', '11:40am', '11:45am', '11:47', '11:50', '11:50pm', '11:51', '11:55am', '11:56', '11:59', '12:00', '12:08', '12:13pm', '12:15', '12:17pm', '12:20', '12:26pm', '12:30', '12:30am', '12:40', '15:30', '1:', '1:00pm', '1:02', '1:05', '1:10', '1:15', '1:23', '1:30', '1:30am', '1:30pm', '1:34', '1:36', '1:40pm', '1:45', '1:45pm', '1pm10:15', '2:', '2:00', '2:00pm', '2:10pm', '2:12', '2:14', '2:15', '2:20', '2:26', '2:30', '2:35pm', '2:45', '2:45hrs', '2:50pm', '2:55', '2:55pm', '2day:', '3:', '3:00am', '3:05pm', '3:15', '3:22', '3:30', '3:30am', '3:30pm', '3:35', '3:50', '3:55', '3:55pm', '3a:right_arrow:8c', '42:', '4:00', '4:00a', '4:05', '4:08', '4:15', '4:17pm', '4:30', '4:30am', '4:36', '4:40pm', '4:41', '4:45', '4:45pm', '4:50', '59:57', '5:00', '5:05', '5:10pm', '5:15', '5:26', '5:30', '5:39', '5:40', '5:40pm', '5:44pm', '5:50', '5:51', '5:55', '6:00', '6:00am', '6:05', '6:05pm', '6:07', '6:15', '6:18', '6:20', '6:23', '6:30', '6:30am', '6:35', '6:40', '6:44', '6:47', '6:48', '6:50am', '6:55', '6:55am', '7:10', '7:15', '7:16', '7:20', '7:21', '7:30', '7:30am', '7:34pm', '7:38', '7:40', '7:40pm', '7:44', '7:50', '7:50pm', '7:54pm', '7:55', '8:00', '8:03', '8:05am', '8:10', '8:15p', '8:16', '8:20', '8:20pm', '8:23', '8:25', '8:30', '8:30a', '8:30am', '8:30pm', '8:38', '8:41am', '8:45am', '8:50', '8:55', '8:55pm', '8:57am', '918j_a', '9:04', '9:05', '9:05am', '9:05pm', '9:08', '9:11', '9:15', '9:19', '9:19pm', '9:20', '9:25', '9:30', '9:30a', '9:30am', '9:30pm', '9:35pm', '9:40pm', '9:45', '9:48', '9:50', '9:50am', '9:50pm', '9:51pm', '9:56', '9:58', ':', ':15', ':airplane:', ':airplane:anywhere', ':airplane:tampa', ':angry_face:', ':angry_face_with_horns:', ':arrived', ':astonished_face:', ':backhand_index_pointing_right:', ':beaming_face_with_smiling_eyes:', ':blue_circle:', ':blue_heart:', ':broken_heart:', ':check_mark:', ':check_mark_button:', ':clapping_hands:', ':clinking_beer_mugs:', ':cocktail_glass:', ':confounded_face:', ':confused_face:', ':cross_mark:', ':crying_face:', ':d', ':disappointed_face:', ':door:rt', ':downcast_face_with_sweat:', ':expressionless_face:', ':expressionless_face:@jetblue:', ':eyes:', ':face_blowing_a_kiss:', ':face_savoring_food:', ':face_savoring_food:i', ':face_screaming_in_fear:', ':face_with_crossed', ':face_with_medical_mask:', ':face_with_open_mouth:', ':face_with_steam_from_nose:', ':face_with_tears_of_joy:', ':face_with_tears_of_joy:@virginamerica', ':face_with_tears_of_joy:omg', ':flexed_biceps:', ':flushed_face:', ':folded_hands:', ':frowning_face_with_open_mouth:', ':game_die:', ':globe_showing_asia', ':glowing_star:', ':goblin:', ':grimacing_face:', ':grinning_face:', ':grinning_face:@tinman2ironman', ':grinning_face_with_big_eyes:', ':grinning_face_with_big_eyes:cool', ':grinning_face_with_smiling_eyes:', ':grinning_face_with_sweat:', ':grinning_squinting_face:', ':growing_heart:', ':hear', ':heart_suit:', ':heart_with_arrow:', ':heart_with_ribbon:', ':heart_with_ribbon:too', ':high', ':horse_face:', ':hot_beverage:', ':hundred_points:', ':left', ':loudly_crying_face:', ':mobile_phone:', ':mobile_phone_with_arrow:', ':musical_note:', ':neutral_face:', ':ng_button:', ':ok_hand:', ':oncoming_fist:', ':p', ':palm_tree:', ':party_popper:', ':pensive_face:', ':persevering_face:', ':person_gesturing_no:', ':person_tipping_hand:', ':person_walking:', ':pile_of_poo:', ':poodle:', ':pouting_face:', ':princess:', ':prohibited:', ':purple_heart:', ':purple_heart:@united:', ':raising_hands:', ':red_exclamation_mark:', ':red_heart:', ':red_heart:@jetblue:', ':red_heart:from', ':red_heart:im', ':red_heart:ny', ':red_heart:you', ':ribbon:', ':right_arrow_curving_down:', ':right_arrow_curving_down:for', ':right_arrow_curving_up:', ':sad_but_relieved_face:', ':seat:', ':see', ':sleepy_face:', ':smiling_cat_with_heart', ':smiling_face:', ':smiling_face_with_heart', ':smiling_face_with_horns:', ':smiling_face_with_smiling_eyes:', ':smiling_face_with_sunglasses:', ':smirking_face:', ':snowflake:', ':snowman_without_snow:', ':sos_button:', ':sparkles:', ':spouting_whale:', ':star:', ':sun:', ':sun_with_face:', ':take', ':thumbs_down:', ':thumbs_up:', ':tired_face:', ':tomato:', ':two_hearts:', ':unamused_face:', ':united_kingdom:', ':united_states:', ':victory_hand:', ':victory_hand:out', ':watch:', ':waving_hand:', ':weary_face:', ':weary_face:@jetblue:', ':weary_face:rt', ':wine_glass:', ':winking_face:', ':winking_face_with_tongue:', ':x', '@jetblue:', '@southwestair:', '_', '_exact_', '_exclamation_', '_questionmark_', 'a', 'aa1224:', 'ab', 'aback', 'abandon', 'abandoned', 'abandonment', 'abbreve', 'abc', 'abducted', 'abi', 'abilities', 'ability', 'able', 'aboard', 'aboout', 'abounds', 'about', 'above', 'abroad', 'abs', 'absolute', 'absolutely', 'absorb', 'absorber', 'absurd', 'absurdity', 'absurdly', 'abt', 'abundance', 'abuse', 'abused', 'abysmal', 'ac', 'acc', 'accelerate', 'accept', 'acceptable', 'accepted', 'accepting', 'acces', 'access', 'accessible', 'accessing', 'accident', 'accidentally', 'accidents', 'accommodate', 'accommodated', 'accommodates', 'accommodating', 'accommodation', 'accommodations', 'accompaniments', 'accompany', 'accomplish', 'accomplished', 'accomplished:', 'according', 'accordingly', 'account', 'accountability', 'accountable', 'accounts', 'accrue', 'accruing', 'accumulation', 'accurate', 'accurately', 'accused', 'achieve', 'achieves', 'achieving', 'aching', 'ack', 'acknowledge', 'acknowledgement', 'acknowledgment', 'acosta', 'acoustic', 'acquire', 'acquired', 'acquisition', 'across', 'act', 'acted', 'acting', 'action', 'actions', 'activate', 'activated', 'active', 'actively', 'activities', 'activity', 'acts', 'actual', 'actually', 'actualy', 'ad', 'ada', 'adam', 'adams', 'adapted', 'add', 'added', 'adderall', 'adding', 'addition', 'additional', 'additionally', 'addr', 'address', 'addressed', 'addresses', 'addressing', 'adds', 'adios', 'adjacent', 'adjusting', 'adjustment', 'adjustments', 'admin', 'admiral', 'admirals', 'admit', 'admitted', 'adnan', 'adolf', 'adopted', 'adopting', 'adore', 'adress', 'ads', 'adult', 'adv', 'advance', 'advantage', 'adventure', 'advertise', 'advertised', 'advertising', 'advice', 'advise', 'advised', 'advising', 'advisories', 'advisory', 'aesthetics', 'af', 'affairs', 'affect', 'affected', 'affecting', 'affects', 'affiliate', 'affiliated', 'affiliates', 'afford', 'affordable', 'aflame', 'aforementioned', 'afraid', 'african', 'aft', 'after', 'afternoon', 'afterward', 'again', 'again:', 'again:disappointed_face:', 'against', 'age', 'aged', 'agencies', 'agency', 'agent', 'agents', 'agents…no', 'ages', 'aggravated', 'aggravating', 'aggravation', 'aggressive', 'agian', 'aging', 'ago', 'ago…still', 'agree', 'agreed', 'agreement', 'ah', 'aha', 'ahah', 'ahah:grinning_face_with_big_eyes:', 'ahead', 'ahem', 'ahghgh', 'ahold', 'ahoy', 'ahs', 'ailing', 'aim', 'aimed', 'ain', 'air', 'air:', 'airborne', 'airbus', 'aircraft', 'aircrafts', 'aired', 'aires', 'airfare', 'airfares', 'airite', 'airline', 'airlinegave', 'airliner', 'airlines', 'airlines:', 'airman', 'airplane', 'airplanes', 'airport', 'airportcardio', 'airports', 'airserv', 'airspace', 'airstrips', 'airway', 'airways', 'ais', 'aisle', 'aisles', 'aka', 'akron', 'al', 'alabama', 'alamo', 'alan', 'alarm', 'alas', 'alaska', 'albany', 'albeit', 'albums', 'albuquer', 'albuquerque', 'alcohol', 'alert', 'alerted', 'alerts', 'alex', 'ali', 'alicia', 'aligned', 'alison', 'alittle', 'alittlebetter', 'alive', 'all', 'allah', 'allan', 'alleged', 'allergic', 'allergies', 'allergy', 'alleviate', 'alliance', 'alll', 'allow', 'allowable', 'allowance', 'allowances', 'allowed', 'allowing', 'allows', 'allready', 'allright', 'almost', 'alone', 'along', 'alot', 'already', 'alright', 'als', 'also', 'alt', 'alternate', 'alternative', 'alternatively', 'alternatives', 'although', 'altitude', 'alway', 'always', 'am', 'amarillo', 'amateur', 'amateurish', 'amateurs', 'amaze', 'amazed', 'amazing', 'amazing:sparkling_heart:', 'amazingly', 'amazon', 'ambassador', 'ambivalence', 'amen', 'amend', 'amenities', 'amenity', 'america', 'american', 'americans', 'amex', 'amid', 'amiga', 'amm', 'among', 'amongst', 'amount', 'amounts', 'amp', 'ams', 'amsterdam', 'amtrak', 'amy', 'an', 'ana', 'analyst', 'analysts', 'analytics', 'anarchy', 'anchorage', 'and', 'anderson', 'andrew', 'andrews', 'android', 'angel', 'angeles', 'angelo', 'angering', 'angle', 'angriest', 'angry', 'angrybird', 'angst', 'animal', 'animals', 'ann', 'anna', 'annamarie', 'anni', 'anniversary', 'annnndddd', 'annnnddddd', 'annnnnd', 'announce', 'announced', 'announcement', 'announcements', 'announcer', 'announces', 'announcing', 'annoyed', 'annoying', 'annual', 'another', 'ans', 'answer', 'answered', 'answering', 'answers', 'ant', 'anthony', 'anti', 'anticipate', 'anticipating', 'anticipation', 'antigua', 'antonio', 'anxiety', 'anxious', 'any', 'anybody', 'anyhelp', 'anymore', 'anyone', 'anythin', 'anything', 'anytime', 'anyway', 'anyways', 'anywhere', 'ap', 'apart', 'apathetic', 'apathy', 'ape', 'api', 'apnea', 'apologies', 'apologise', 'apologize', 'apologized', 'apologizes', 'apologizing', 'apology', 'apostrophe', 'app', 'app:', 'appalled', 'appalling', 'apparent', 'apparently', 'appealing', 'appear', 'appeared', 'appears', 'appease', 'applaud', 'applauded', 'applause', 'apple', 'appleton', 'applicable', 'application', 'applications', 'applied', 'applies', 'apply', 'applying', 'appointed', 'appointment', 'appointments', 'appreciate', 'appreciated', 'appreciates', 'appreciation', 'approach', 'approaching', 'appropriate', 'appropriately', 'appropriation', 'approval', 'approvals', 'approve', 'approved', 'approx', 'approximate', 'approximately', 'apps', 'apr', 'apreciate', 'april', 'apron', 'apt', 'aquadilla', 'ar', 'arab', 'arbitrarily', 'arbitrary', 'arc', 'archaic', 'ardent', 'are', 'area', 'areas', 'aren', \"aren't\", 'arena', 'arent', 'ares', 'argentina', 'argh', 'argue', 'argued', 'argueing', 'arguing', 'argument', 'arizona', 'ark', 'arkansas', 'arlington', 'armada', 'armand', 'armrest', 'arms', 'army', 'arose', 'around', 'arrange', 'arranged', 'arrangement', 'arrangements', 'arrival', 'arrivals', 'arrive', 'arrived', 'arrives', 'arriving', 'arrogant', 'art', 'article', 'artisanal', 'aruba', 'aruna', 'as', 'as:', 'asap', 'ase', 'asha', 'ashamed', 'ashes', 'ashley', 'asia', 'aside', 'ask', 'asked', 'asking', 'asking:', 'asks', 'asleep', 'aspen', 'ass', 'assaulted', 'assed', 'asses', 'assess', 'asset', 'assets', 'asshole', 'assholes', 'assign', 'assigned', 'assigned:', 'assignment', 'assignments', 'assist', 'assistance', 'assistant', 'assisted', 'assisting', 'associated', 'assuage', 'assult', 'assume', 'assumed', 'assuming', 'assurance', 'assurances', 'assure', 'assured', 'assuring', 'astoria', 'astounded', 'astounding', 'astounds', 'asus', 'at', 'at:flushed_face:', 'atc', 'ath', 'athlete', 'athletes', 'atl', 'atlanta', 'atlantic', 'atleast', 'atrocious', 'atrocities', 'att', 'attach', 'attached', 'attained', 'attempt', 'attempted', 'attempting', 'attempts', 'attend', 'attendant', 'attendants', 'attendants:', 'attended', 'attendees', 'attending', 'attention', 'attentive', 'attentiveness', 'attic', 'attire', 'attitude', 'attitudes', 'au', 'auction', 'audience', 'audio', 'audition', 'auditorium', 'auf', 'aug', 'august', 'aunt', 'aunties', 'aunts', 'aus', 'aussie', 'austin', 'australia', 'australia:', 'austrian', 'authoritative', 'authority', 'authorize', 'authors', 'auto', 'automated', 'automatic', 'automatically', 'automobiles', 'autoresponse', 'av', 'avail', 'availability', 'available', 'available:', 'availible', 'avatars', 'avenue', 'average', 'averaging', 'averted', 'aviation', 'avis', 'aviv', 'avoid', 'avoidable', 'avoided', 'avoiding', 'avon', 'aw', 'await', 'awaiting', 'awake', 'award', 'awards', 'aware', 'away', 'awe', 'aweful', 'awesome', 'awesomeness', 'awful', 'awfully', 'awfulness', 'awhile', 'awkward', 'awol', 'aww', 'awwweesssooomee', 'ay', 'aye', 'az', 'ba', 'babies', 'baby', 'bach', 'back', 'back:', 'backed', 'backing', 'backlog', 'backpack', 'backpacks', 'backroads', 'backs', 'backup', 'backwards', 'backyard', 'bad', 'badbadbad', 'badge', 'badges', 'badly', 'bae', 'bag', 'bag:', 'bagage', 'baggage', 'baggagefail', 'baggages', 'bags', 'bahamas', 'bailed', 'bailey', 'bait', 'baked', 'baking', 'balance', 'balancing', 'baldwin', 'ball', 'ballad', 'ballin', 'balloons', 'balls', 'baltimore', 'banana', 'band', 'bands', 'bandwidth', 'bang', 'bangkok', 'bank', 'bankrupt', 'bankruptcies', 'bankruptcy', 'banned', 'banning', 'bar', 'barbados', 'barbara', 'barclay', 'barclays', 'barcodes', 'barely', 'barking', 'barnum', 'baron', 'barrel', 'barrier', 'barriers', 'bars', 'barzegar', 'base', 'based', 'bashing', 'basic', 'basically', 'basics', 'basket', 'basketball', 'bass', 'bassinet', 'bathroom', 'bathrooms', 'batman', 'batteries', 'battery', 'batting', 'battle', 'battles', 'battling', 'bay', 'bday:smirking_face:', 'be', 'beach', 'beaches', 'beam', 'beanie', 'beans', 'bear', 'bearable', 'beat', 'beating', 'beatriz', 'beats', 'beautiful', 'beautifull', 'beautifully', 'beauty', 'bec', 'became', 'because', 'becky', 'become', 'becomes', 'becoming', 'becoz', 'becuase', 'bed', 'been', 'beer', 'beers', 'befor', 'before', 'beg', 'began', 'begging', 'begin', 'beginning', 'begins', 'begrudgingly', 'begun', 'behalf', 'behave', 'behaves', 'behavior', 'behind', 'beijing', 'bein', 'being', 'bel', 'belabor', 'belbridge', 'belfast', 'belief', 'believable', 'believe', 'believing', 'belize', 'belligerent', 'belong', 'belongings', 'beloved', 'below', 'belt', 'ben', 'benadryl', 'bench', 'bene', 'beneficial', 'benefit', 'benefits', 'bereavement', 'bergstrom', 'berlin', 'bernard', 'bernice', 'beset', 'besides', 'best', 'bestfriend', 'bet', 'bet:', 'beta', 'betsy', 'better', 'better:', 'betting', 'betty', 'between', 'bev', 'beverage', 'beverages', 'bevies', 'beware', 'beyond', 'bible', 'biceps', 'bicycle', 'bicycles', 'bid', 'big', 'bigger', 'biggest', 'biggie', 'bigness', 'bike', 'bikes', 'bil', 'bila', 'bill', 'billed', 'billing', 'billions', 'billmelate', 'bills', 'bin', 'bingo', 'bins', 'bio', 'bird', 'birder', 'birds', 'birmingham', 'birth', 'birthdate', 'birthday', 'birthdays', 'births', 'biscuits', 'bish', 'bit', 'bitch', 'bitchy', 'bitcoin', 'bite', 'bites', 'bitty', 'biz', 'bizarre', 'black', 'blacked', 'blackish', 'blacklist', 'blackmailed', 'blade', 'blah', 'blame', 'blamed', 'blames', 'blaming', 'blanc', 'blank', 'blanket', 'blankets', 'blast', 'blasting', 'blatant', 'blatantly', 'blazer', 'bleed', 'bleh', 'bless', 'blew', 'blind', 'blindsided', 'blink', 'blizzard', 'bloated', 'block', 'blocked', 'blocking', 'blog', 'blood', 'bloody', 'blow', 'blowing', 'blown', 'blows', 'blu', 'blue', 'bluemanity', 'board', 'boarded', 'boarding', 'boardingpass', 'boards', 'boat', 'bobbi', 'body', 'boeing', 'boffin', 'boggling', 'bogota', 'boho', 'boiled', 'boise', 'bok', 'bold', 'bom', 'bone', 'bonnie', 'bonus', 'bonuses', 'boo', 'book', 'booked', 'booking', 'booklet', 'books', 'boom', 'boost', 'booster', 'boot', 'booted', 'bootleg', 'boots', 'booze', 'bops', 'bora', 'border', 'borderline', 'bored', 'born', 'borrow', 'bos', 'bosnia', 'boson', 'boss', 'boston', 'bot', 'botched', 'both', 'bother', 'bothered', 'bots', 'bottle', 'bottles', 'bottom', 'bought', 'bougth', 'bounce', 'bounced', 'bouncer', 'bounces', 'bound', 'boundless', 'bountiful', 'bourbon', 'bout', 'bow', 'bowl', 'box', 'boy', 'boycott', 'boyfriend', 'boyfriends', 'boys', 'bozos', 'bpdfpp', 'bra', 'bracket', 'bradley', 'brag', 'bragged', 'bragging', 'brain', 'brancato', 'brand', 'brandi', 'branding', 'brands', 'brands:', 'brave', 'braved', 'braving', 'bravo', 'brazil', 'breach', 'bread', 'break', 'breakdown', 'breaker', 'breakfast', 'breaking', 'breaks', 'breast', 'breastfeeding', 'breath', 'breathe', 'breathing', 'breeze', 'breezy', 'brendan', 'brent', 'brian', 'bride', 'bridesmaid', 'bridge', 'bridges', 'briefings', 'bright', 'brighter', 'brilliant', 'bring', 'bringin', 'bringing', 'brings', 'brink', 'brisk', 'brittany', 'bro', 'broad', 'broadway', 'brochure', 'broke', 'broken', 'brooding', 'brooklyn', 'bros', 'brotha', 'brothaaaaaa', 'brother', 'brothers', 'brought', 'browser', 'browsers', 'bruh', 'bruins', 'brush', 'brushing', 'brussels', 'brutal', 'bryant', 'btw:smirking_face:', 'bubbly', 'buck', 'bucket', 'buckland', 'bucks', 'budapest', 'buddies', 'buddy', 'budget', 'bueno', 'buenos', 'buf', 'buffalo', 'bug', 'bugging', 'buggy', 'build', 'building', 'built', 'buisness', 'bulb', 'bulbs', 'bulkhead', 'bull', 'bullshit', 'bully', 'bum', 'bummed', 'bummer', 'bump', 'bumped', 'bumper', 'bumping', 'bums', 'bunch', 'bundle', 'bur', 'burbank', 'burden', 'bureau', 'burg', 'burger', 'burgundy', 'burn', 'burned', 'burning', 'burrito', 'burroughs', 'burst', 'bus', 'buses', 'bush', 'busiest', 'business', 'businessfirst', 'busses', 'bussines', 'busted', 'busy', 'but', 'butnot', 'butt', 'button', 'buttons', 'buy', 'buyback', 'buyer', 'buying', 'buys', 'buzz', 'buzzkill', 'by', 'bye', 'bypass', 'ca', 'cab', 'cabaret', 'cabin', 'cabins', 'cable', 'cabo', 'cabs', 'cac', 'cache', 'caching', 'cae', 'cafe', 'caffeine', 'cage', 'cak', 'cake', 'cal', 'calamity', 'calderon', 'calendar', 'calgary', 'cali', 'calibrated', 'california', 'call', 'callback', 'callbacks', 'called', 'caller', 'callers', 'calling', 'callings', 'calls', 'calming', 'calves', 'came', 'camera', 'cameras', 'camp', 'campaign', 'campers', 'campus', 'can', \"can't\", 'cana', 'canada', 'canadaair', 'canadian', 'canadians', 'cancel', 'cancelled', 'cancer', 'cancun', 'candace', 'candice', 'candy', 'caned', 'canister', 'canned', 'cannot', 'cans', 'cant', 'cap', 'capabilities', 'capability', 'capable', 'capacity', 'capital', 'capitalized', 'capt', 'captain', 'captive', 'captiveaudience', 'capture', 'captured', 'car', 'card', 'cardholder', 'cards', 'care', 'cared', 'career', 'careers', 'cares', 'cargo', 'caribbean', 'caring', 'carlton', 'carmen', 'carol', 'carolina', 'carolinas', 'caroline', 'carousel', 'carpet', 'carrie', 'carried', 'carrier', 'carriers', 'carry', 'carrying', 'carryon', 'cars', 'cart', 'carta', 'cartage', 'carts', 'cascino@gmail', 'case', 'cases', 'case—nothing', 'cash', 'castella', 'casual', 'cat', 'catch', 'catching', 'category', 'cater', 'catered', 'catering', 'cathy', 'cats', 'cattle', 'caught', 'cause', 'caused', 'causes', 'causing', 'caution', 'cava', 'cavalry', 'cave', 'cc:', 'ccndjp', 'ceases', 'celebrate', 'celebrates', 'celebrating', 'celebration', 'celebs', 'cell', 'cellphone', 'cement', 'center', 'centers', 'central', 'centre', 'cents', 'century', 'ceo', 'cert', 'certain', 'certainly', 'certificate', 'certificates', 'certs', 'cessna', 'cesspool', 'cha', 'chad', 'chain', 'chair', 'chairman', 'chairs', 'chalk', 'challenge', 'challenge:', 'challenges', 'challenging', 'champagne', 'championship', 'chance', 'chances', 'change', 'changed', 'changer', 'changes', 'changing', 'channel', 'channels', 'chantilly', 'chaos', 'chaotic', 'chaperone', 'chapman', 'chapter', 'char', 'chara', 'character', 'characterize', 'characters', 'charge', 'charged', 'charger', 'chargers', 'charges', 'charging', 'chariot', 'charity', 'charles', 'charleston', 'charlotte', 'charm', 'chart', 'charter', 'chartering', 'chase', 'chasing', 'chat', 'chatles', 'chats', 'chatted', 'chatting', 'cheap', 'cheaper', 'cheapest', 'cheat', 'cheated', 'check', 'checked', 'checkers', 'checkin', 'checking', 'checkout', 'checkpoint', 'checks', 'cheek', 'cheer', 'cheers', 'cheese', 'cheesy', 'chef', 'chemistry', 'cheque', 'cherry', 'chewed', 'chi', 'chicago', 'chicken', 'chief', 'child', 'childish', 'children', 'childrens', 'chill', 'chilly', 'china', 'chinese', 'ching', 'chipper', 'chips', 'chk@preboard', 'cho', 'chocked', 'chocolate', 'choice', 'choices', 'choking', 'choose', 'choosing', 'choppy', 'chose', 'chosen', 'christine', 'christmas', 'chrome', 'chronological', 'chuckle', 'church', 'churn', 'cid', 'cigarettes', 'cinch', 'cincinnati', 'cinnabon', 'circle', 'circles', 'circling', 'circuit', 'circulation', 'circumstances', 'cities', 'citing', 'citizen', 'city', 'civilized', 'cking', 'claim', 'claimed', 'claiming', 'claims', 'clarence', 'clarification', 'clarify', 'clarifying', 'clarion', 'clarity', 'class', 'classed', 'classes', 'classic', 'classics', 'classy', 'claudia', 'cle', 'clean', 'cleaned', 'cleaning', 'cleanliness', 'clear', 'clearance', 'cleared', 'clearing', 'clearly', 'cleveland', 'clever', 'click', 'clicked', 'clicking', 'clicks', 'client', 'clients', 'clifton', 'clincher', 'cling', 'clint', 'clo', 'clockwork', 'clog', 'close', 'closed', 'closer', 'closes', 'closest', 'closet', 'closing', 'closings', 'closure', 'clothes', 'clothing', 'cloud', 'clouds', 'clown', 'clowns', 'club', 'club_', 'clubs', 'clue', 'clueless', 'clues', 'clunky', 'cluster', 'clusterfuck', 'clutch', 'cme', 'cmon', 'cncdld', 'co', 'coach', 'coached', 'coast', 'coasts:', 'coat', 'coathanging', 'coats', 'cockpit', 'cockroaches', 'cocktail', 'cocktails', 'code', 'code:', 'coded', 'codes', 'coffee', 'coffeemaker', 'coffin', 'cog', 'coin', 'coincidence', 'coke', 'cold', 'colder', 'coldly', 'coles', 'colleague', 'colleagues', 'collect', 'collection', 'collectively', 'college', 'colliding', 'colo', 'colombia', 'colombian', 'colonist', 'color', 'colored', 'colors', 'colossal', 'colours', 'columbia', 'columbian', 'columbus', 'com', 'coma', 'combat', 'combative', 'combination', 'combine', 'combined', 'combo', 'come', 'comedian', 'comedic', 'comedy', 'comes', 'comfort', 'comfortable', 'comfortably', 'comforting', 'comically', 'comin', 'coming', 'comm', 'command', 'commands', 'commence', 'commend', 'comment', 'commented', 'comments', 'commercial', 'commercials', 'commission', 'commit', 'commitment', 'commitments', 'committed', 'common', 'comms', 'communicate', 'communicated', 'communicating', 'communication', 'communications', 'communist', 'community', 'commutation', 'commute', 'comp', 'compact', 'companies', 'companion', 'companions', 'company', 'comparable', 'compare', 'compared', 'compares', 'comparing', 'comparison', 'compartments', 'compassion', 'compassionate', 'compatible', 'comped', 'compensate', 'compensated', 'compensates', 'compensating', 'compensation', 'compete', 'competent', 'competes', 'competing', 'competition', 'competitively', 'competitor', 'competitors', 'comping', 'complain', 'complained', 'complainer', 'complainers', 'complaining', 'complains', 'complaint', 'complaints', 'complete', 'completed', 'completely', 'completing', 'complex', 'compliant', 'complicated', 'compliment', 'complimentary', 'complimenting', 'compliments', 'comply', 'compounded', 'compounding', 'comps', 'compton', 'computer', 'computers', 'computers@were@down', 'comunity', 'con', 'concentrate', 'concentrate:loudly_crying_face:', 'concept', 'concern', 'concerned', 'concerning', 'concerns', 'concert', 'concerts', 'concierge', 'concourse', 'concrete', 'cond', 'condescending', 'condescension', 'condition', 'conditioning', 'conditions', 'condo', 'condolences', 'condom', 'condone', 'conf', 'conf:', 'conference', 'confidence', 'confident', 'config', 'confirm', 'confirmation', 'confirmations', 'confirmed', 'confirming', 'conflict', 'conflicting', 'confrontational', 'confused', 'confuses', 'confusing', 'confusion', 'congested', 'congrats', 'congratulation', 'congratulations', 'conjunction', 'conn', 'connect', 'connected', 'connecticut:snowflake:', 'connecting', 'connection', 'connections', 'connector', 'connectors', 'connects', 'conned', 'connolly', 'consecutive', 'consequence', 'consider', 'considerable', 'considerably', 'considerate', 'consideration', 'considered', 'considering', 'consistency', 'consistent', 'consistently', 'consolation', 'consoled', 'constant', 'constantly', 'constitution', 'construction', 'constructive', 'consult', 'consultant', 'consumer', 'consumers', 'consumption', 'cont', 'contact', 'contacted', 'contactees', 'contacting', 'contagious', 'contain', 'container', 'contains', 'contempt', 'contend', 'content', 'contents', 'contest', 'context', 'conti', 'continental', 'contingencies', 'contingency', 'continually', 'continue', 'continued', 'continues', 'continuing', 'continuous', 'contract', 'contractors', 'contracts', 'contradictory', 'contribution', 'control', 'controllable', 'controlled', 'controller', 'controllers', 'controlthe', 'conv', 'convenience', 'convenient', 'conveniently', 'conversation', 'conversational', 'conversations', 'conversed', 'conversion', 'convey', 'conveyer', 'conveyor', 'convince', 'convinced', 'convo', 'cooker', 'cookie', 'cookies', 'cool', 'cooler', 'coordinate', 'cop', 'copa', 'copilot', 'copy', 'core', 'corner', 'corny', 'corp', 'corporate', 'corporation', 'correct', 'corrected', 'correctly', 'correctness', 'correlate', 'correspondence', 'corrupt', 'cory', 'cos', 'cosmetic', 'cost', 'costa', 'costing', 'costs', 'costumer', 'costumers', 'cot', 'cots', 'cough', 'coughed', 'could', 'couldn', \"couldn't\", 'couldnt', 'count', 'counted', 'counter', 'counterparts', 'counters', 'counting', 'counting…just', 'countless', 'countries', 'country', 'counts', 'county', 'couple', 'coupled', 'coupon', 'coupons', 'courier', 'course', 'courses', 'court', 'courteous', 'courtesy', 'courtney', 'cousin', 'cousins', 'cover', 'coverage', 'covered', 'covering', 'covert', 'cowardly', 'cowboy', 'cowgirl', 'coworker', 'coworkers', 'cox', 'coz', 'cozy', 'crabby', 'cracker', 'crackers', 'craft', 'cramming', 'cramped', 'cranky', 'crap', 'crappiest', 'crappy', 'crash', 'crashed', 'crashes', 'crashing', 'crated', 'craving', 'crawling', 'craziness', 'crazy', 'cream', 'create', 'created', 'creates', 'creating', 'creative', 'credentials', 'credibility', 'credit', 'credited', 'credits', 'crepe', 'crew', 'crewe', 'crewmember', 'crewmembers', 'crews', 'cri', 'crib', 'crickets', 'cried', 'criminal', 'cris', 'crisis', 'cristian', 'criteria', 'criticism', 'crook', 'cross', 'crossed', 'crossing', 'crosswinds', 'crosswords', 'crowd', 'crowded', 'crucial', 'cruel', 'cruise', 'crumbs', 'crutches', 'cruz', 'cry', 'crying', 'crystal', 'cstsvc', 'cuba', 'cud', 'cue', 'cullen', 'cultural', 'culture', 'cun', 'cup', 'cups', 'cur', 'curb', 'curbside', 'curfew', 'curiosity', 'curious', 'current', 'currently', 'curse', 'curt', 'curtesy', 'cus', 'cushion', 'cushions', 'cushy', 'cussed', 'cust', 'customary', 'customer', 'customers', 'customers:', 'customerservice', 'customs', 'cut', 'cute', 'cutest', 'cutoff', 'cuts', 'cutting', 'cuz', 'cycled', 'cycles', 'cyndi', 'da', 'dab', 'dad', 'daddy', 'dads', 'daily', 'dakota', 'dal', 'dalam', 'dale', 'dallas', 'dam', 'damage', 'damaged', 'damages', 'damion', 'damn', 'damper', 'dan', 'danbury', 'dance', 'dancing', 'dandy', 'dang', 'danger', 'dangerous', 'dani', 'daniel', 'danny', 'dare', 'dark', 'darn', 'dart', 'daryl', 'data', 'date', 'dated', 'dates', 'dating', 'dauber', 'daughter', 'daughters', 'david', 'davidson', 'dawn', 'day', 'day:', 'daycare', 'daydreaming', 'days', 'days:', 'daytona', 'dci', 'de', 'deactivate', 'deactivated', 'dead', 'deadhead', 'deaf', 'deal', 'deal:winking_face:', 'dealing', 'dealings', 'deals', 'dealt', 'dean', 'dear', 'death', 'debacle', 'debating', 'debbie', 'debit', 'deboard', 'deborah', 'dec', 'deceiving', 'december', 'decency', 'decent', 'deceptive', 'decide', 'decided', 'decides', 'deciding', 'decision', 'decisions', 'deck', 'declaration', 'declared', 'decline', 'declined', 'decorum', 'dedicated', 'dedication', 'deed', 'deedee', 'deemed', 'deep', 'deeply', 'def', 'defective', 'defend', 'deferring', 'defiantly', 'defibrillator', 'deficiency', 'definately', 'define', 'defines', 'definitely', 'definition', 'definitive', 'deflector', 'degree', 'degrees', 'dehli', 'dehydrated', 'deicing', 'deiner', 'del', 'delaney', 'delay', 'delay:', 'delayed', 'delayed:', 'delaying', 'delays', 'delays:ok_hand:', 'delete', 'deleted', 'delhi', 'deli', 'deliberate', 'delicious', 'delight', 'delighted', 'delightful', 'delinquent', 'deliver', 'delivered', 'delivering', 'delivery', 'delta', 'demand', 'demanded', 'demanding', 'demo', 'demolish', 'demonstration', 'demoted', 'den', 'den:phx', 'denied', 'denise', 'dented', 'denver', 'deny', 'deodorant', 'dep', 'depart', 'departed', 'departing', 'department', 'departments', 'departs', 'departure', 'departures', 'dependable', 'dependents', 'depending', 'depends', 'deplane', 'deplaning', 'deplorable', 'deployment', 'depot', 'depressing', 'depression', 'dept', 'der', 'derek', 'derrick', 'des', 'descending', 'descent', 'describe', 'describing', 'description', 'desert', 'deserve', 'deserved', 'deserves', 'desicion', 'design', 'designated', 'designed', 'designer', 'designs', 'desirable', 'desired', 'desires', 'desk', 'desks', 'desktop', 'desperate', 'desperately', 'despicable', 'despise', 'despite', 'dest', 'destin', 'destination', 'destinationdragons', 'destinations', 'destroy', 'destroyed', 'destroying', 'detail', 'detailed', 'details', 'detective', 'detectors', 'deter', 'deteriorating', 'determination', 'determined', 'detroit', 'dev', 'devaluation', 'devalue', 'devalued', 'devastated', 'develop', 'developers', 'development', 'device', 'devices', 'devs', 'dew', 'dia', 'diabetic', 'dial', 'dialing', 'dialogue', 'diamond', 'diane', 'diapers', 'dice', 'diced', 'dick', 'dickheads', 'dicks', 'did', 'didn', \"didn't\", 'didnt', 'die', 'died', 'diego', 'dies', 'diet', 'diff', 'differ', 'difference', 'different', 'differently', 'difficult', 'difficult:', 'difficulties', 'difficulty', 'diffused', 'dig', 'digg', 'digging', 'digit', 'digital', 'dignity', 'dildo', 'dilemma', 'diligent', 'dim', 'dime', 'dimensions', 'diminishes', 'dimmed', 'ding', 'dining', 'dinner', 'dinosaur', 'dinosaurs', 'direct', 'directed', 'directing', 'direction', 'directional', 'directly', 'directs', 'dirt', 'dirtiest', 'dirty', 'dis', 'disability', 'disabled', 'disallows', 'disappear', 'disappeared', 'disappearing', 'disappears', 'disappoint', 'disappointed', 'disappointing', 'disappointment', 'disappointments', 'disappoints', 'disapptment', 'disaster', 'disbelief', 'disciplined', 'disclose', 'discomfort', 'disconnect', 'disconnected', 'disconnecting', 'disconnection', 'disconnects', 'discontinue', 'discontinued', 'discount', 'discounting', 'discounts', 'discouraging', 'discourteous', 'discover', 'discovered', 'discrimination', 'discuss', 'discusses', 'discussing', 'disgrace', 'disgraceful', 'disgruntled', 'disguised', 'disgusted', 'disgusting', 'disgutedindenver', 'disheartening', 'dishonest', 'dishonoring', 'disinfectant', 'dislike', 'disloyal', 'dismissed', 'dismissive', 'disney', 'disneyworld', 'disorganised', 'disorganization', 'disorganized', 'dispatch', 'dispatcher', 'displaced', 'display', 'displayed', 'displays', 'displeased', 'displeasure', 'disproportionate', 'dispute', 'disputed', 'disregard', 'disrespect', 'disrespected', 'disrespectful', 'disrespectfully', 'disrupted', 'disruptions', 'dissapointed', 'dissapointment', 'dissatisfaction', 'dissatisfied', 'dissemination', 'distance', 'distances', 'distinct', 'distinguish', 'distress', 'distressed', 'distribution', 'distributor', 'disturb', 'div', 'diverged', 'diversion', 'diversions', 'divert', 'diverted', 'diverting', 'divided', 'dividend', 'dividendmiles', 'dividends', 'divider', 'dmangen@visualclubconcepts', 'dmsc@usairways', 'dna', 'do', 'doc', 'docs', 'doctor', 'doctors', 'document', 'documentation', 'documented', 'does', 'doesn', \"doesn't\", 'doesnt', 'dog', 'dogs', 'doin', 'doing', 'doll', 'dollar', 'dollars', 'domestic', 'domingo', 'dominican', 'dominick', 'don', \"don't\", 'donate', 'donation', 'done', 'donkey', 'donna', 'dont', 'donut', 'donuts', 'doo', 'doom', 'door', 'doors', 'doorstep', 'dope', 'dorm', 'dory', 'dos', 'dot', 'double', 'doubled', 'doubt', 'doubtful', 'doug', 'douglas', 'dounotwantmybusiness', 'down', 'downgrade', 'downgraded', 'downgrading', 'downhill', 'download', 'downloaded', 'downnnnn', 'downright', 'downs', 'downstairs', 'downtown', 'dozen', 'dozens', 'dpdfpp', 'draft', 'drag', 'dragon', 'dragons', 'drain', 'dramatically', 'draw', 'drawing', 'draws', 'dre', 'dread', 'dreadful', 'dreading', 'dream', 'dreaming', 'dreamlike', 'dreams', 'drenched', 'dress', 'dressed', 'drift', 'drink', 'drinker', 'drinking', 'drinks', 'drive', 'driven', 'driver', 'drivers', 'drives', 'driving', 'drone', 'drop', 'droped', 'dropped', 'droppeditoffyet', 'dropping', 'drops', 'drove', 'drunk', 'drunks', 'dry', 'dryden', 'du', 'dub', 'dubai', 'dublin', 'duck', 'duct', 'dude', 'due', 'due:', 'dueto', 'duffle', 'duh', 'duke', 'dulles', 'dumb', 'dump', 'dumped', 'dumping', 'dumps', 'dungeon', 'dunking', 'dunno', 'duped', 'durango', 'during', 'dust', 'duty', 'dwell', 'dying', 'dynamite', 'dyslexia', 'e', 'ea', 'each', 'eager', 'eagle', 'ear', 'earlier', 'earliest', 'early', 'earlybird', 'earn', 'earned', 'earning', 'earnings', 'earphone', 'earring', 'earrings', 'earth', 'earthquake', 'ease', 'easier', 'easiest', 'easily', 'east', 'easter', 'eastern', 'easy', 'eat', 'eaten', 'eating', 'eatur', 'eb', 'ebokeers', 'ebola', 'ec', 'eccentricity', 'eco', 'econ', 'economic', 'economy', 'ecuador', 'ed', 'edf', 'edge', 'edgy', 'edinburgh', 'edit', 'edition', 'edits:', 'educate', 'education', 'educational', 'eep', 'ees', 'effect', 'effective', 'efficiency', 'efficient', 'efficiently', 'effin', 'effing', 'effort', 'effortless', 'efforts', 'egregious', 'eh', 'eight', 'either', 'el', 'elaborate', 'elbows', 'elderly', 'elected', 'electric', 'electrical', 'electronic', 'electronics', 'elevate', 'elevateuser', 'elevator', 'eligible', 'elise', 'elite', 'eliza', 'elizabeth', 'elk', 'ella', 'ellen', 'elm', 'els', 'else', 'elsewhere', 'em', 'email', 'emailed', 'emailing', 'emailmailto:customer', 'emails', 'embarrassed', 'embarrassing', 'embarrassment', 'embassy', 'embed', 'embody', 'embossed', 'emerald', 'emerg', 'emergencies', 'emergency', 'emerging', 'emil', 'emily', 'emotional', 'emp', 'empathetic', 'empathize', 'empathizes', 'empathy', 'emphasize', 'employ', 'employee', 'employees', 'employees:victory_hand:', 'employer', 'emptied', 'empty', 'ems', 'en', 'encounter', 'encountered', 'encourage', 'encouraged', 'encouragement', 'end', 'end:', 'ended', 'ending', 'endless', 'endlessly', 'ends', 'enemy', 'energy', 'enforce', 'enforcement', 'enforcing', 'engaged', 'engagement', 'engagements', 'engaging', 'engine', 'engineer', 'england', 'english', 'enhance', 'enjoy', 'enjoyable', 'enjoyed', 'enjoying', 'enormous', 'enough', 'enquires', 'enraging', 'enroll', 'enrolled', 'enroute', 'ensued', 'ensure', 'ensured', 'ensuring', 'enter', 'entered', 'entering', 'enterprise', 'enters', 'entertain', 'entertained', 'entertaining', 'entertainment', 'entertainment:', 'entire', 'entirely', 'entitled', 'entrance', 'entree', 'entrees', 'entrusted', 'entry', 'environment', 'envoy', 'enzo', 'eould', 'ep', 'epic', 'epipens', 'eps', 'equal', 'equalizer', 'equally', 'equals', 'equip', 'equipment', 'equipped', 'equivalent', 'era', 'erased', 'eri', 'erie', 'erin', 'err', 'erring', 'error', 'errors', 'ers', 'es', 'escalate', 'escape', 'escaping', 'escorted', 'eservice@united', 'esp', 'especially', 'espinosa', 'essence', 'essential', 'essentially', 'essentials', 'est', 'establish', 'established', 'estelle', 'estimate', 'estimated', 'et', 'eta', 'etc', 'etched', 'eternal', 'eternally', 'ethan', 'ethics', 'ethiopia', 'etiquette', 'eu', 'europe', 'european', 'euros', 'evacuated', 'evaluate', 'evasive', 'eve', 'even', 'evening', 'evennotified', 'event', 'events', 'eventually', 'ever', 'ever:', 'everglades', 'every', 'everybody', 'everyone', 'everyone:', 'everyones', 'everything', 'everytime', 'everywhere', 'evidence', 'evidently', 'evil', 'evil_monkey:', 'evolved', 'evry', 'ex', 'exacerbates', 'exact', 'exactly', 'example', 'example:', 'exams', 'exasperating', 'exceed', 'excellence', 'excellent', 'except', 'exception', 'exceptional', 'exceptionally', 'exceptions', 'excess', 'exchange', 'excited', 'excitement', 'exciting', 'exclusive', 'exclusively', 'excruciatingly', 'excusable', 'excuse', 'excuses', 'exec', 'execution', 'executive', 'executives', 'exercise', 'exes', 'exhausted', 'exhausting', 'exhaustion', 'exhibited', 'exist', 'existence', 'existent', 'existing', 'exists', 'exit', 'exiting', 'exits', 'exp', 'expand', 'expanded', 'expanding', 'expansion', 'expect', 'expectations', 'expected', 'expecting', 'expects', 'expedient', 'expedite', 'expedited', 'expeditious', 'expense', 'expenses', 'expensive', 'experience', 'experience:', 'experienced', 'experiences', 'experiencing', 'expert', 'experts', 'expiration', 'expire', 'expired', 'expires', 'expiring', 'explain', 'explained', 'explaining', 'explains', 'explanation', 'explanations', 'explore', 'explorer', 'exposed', 'express', 'expressed', 'expressing', 'extend', 'extended', 'extending', 'extension', 'extent', 'extenuating', 'extinct', 'extortion', 'extra', 'extractions', 'extraordinaire', 'extraordinary', 'extravaganza', 'extreme', 'extremely', 'ey', 'eye', 'eyeglasses', 'eyes', 'eyes:', 'eyewitness', 'eyyyy', 'fa', 'faa', 'faaaannntastic', 'fab', 'fabric', 'fabulous', 'face', 'facebook', 'faced', 'faceless', 'faces', 'facilities', 'facing', 'fact', 'facts', 'fail', 'failed', 'failing', 'fails', 'failure', 'failures', 'faint', 'fair', 'fairbanks', 'faire', 'fairfax', 'fairly', 'fairs', 'fairway', 'faith', 'faithful', 'fake', 'fall', 'fallback', 'fallen', 'falling', 'fallow', 'falls', 'false', 'fam', 'fam:loudly_crying_face:', 'familiar', 'families', 'family', 'famous', 'fan', 'fancy', 'fans', 'fantastic', 'fantasy', 'far', 'farce', 'fare', 'fares', 'farmington', 'farms', 'fas', 'fashion', 'fashioned', 'fast', 'fasten', 'faster', 'fastest', 'fat', 'fate', 'father', 'fault', 'faults', 'faulty', 'fav', 'fave', 'faves', 'favor', 'favorite', 'fax', 'fay', 'fbi', 'fe', 'fear', 'fearing', 'feat', 'featherless', 'feature', 'feature:', 'feb', 'february', 'feces', 'feck', 'fed', 'federal', 'fedexed', 'fedora', 'fee', 'fee:', 'feed', 'feedback', 'feel', 'feeling', 'feelings', 'feels', 'fees', 'feet', 'feet:zzz:', 'feline', 'fell', 'fella', 'fellatio', 'felt', 'female', 'fend', 'ferry', 'festival', 'festivities', 'fete', 'few', 'fewer', 'fi', 'fiance', 'fiancee', 'fiasco', 'fib', 'fiction', 'field', 'fields', 'fifth', 'fifty', 'fight', 'fighting', 'fights', 'figure', 'figured', 'figures', 'file', 'filed', 'filing', 'fill', 'filled', 'filling', 'film', 'films', 'filters', 'filthy', 'final', 'finale', 'finalizing', 'finally', 'finals', 'financial', 'find', 'finder', 'finding', 'finds', 'fine', 'finest', 'finger', 'fingers', 'finish', 'finishes', 'finna', 'fire', 'firebox', 'fired', 'firefighters', 'firing', 'firm', 'first', 'fiscal', 'fist', 'fistfights', 'fit', 'fits', 'fitz', 'five', 'fix', 'fixed', 'fixed:certain', 'fixes', 'fixing', 'fjbfsc', 'fla', 'flagging', 'flailing', 'flamethrowers', 'flashlight', 'flat', 'flatiron', 'flattering', 'flavors', 'flaw', 'flawed', 'fleek', 'fleet', 'fleets', 'flew', 'flex', 'flexes', 'flexibility', 'flexible', 'flier', 'fliers', 'flies', 'flight', 'flight:', 'flight:cocktail_glass:', 'flight:ua1750', 'flightations:', 'flightd…incompetence', 'flightedflight', 'flightlation', 'flightlations', 'flightledflight', 'flightmare', 'flights', 'flights:', 'flights:pensive_face:', 'flighty', 'flintstone', 'flip', 'flipped', 'flipping', 'flirtation', 'flirtations', 'floor', 'floors', 'florida', 'flow', 'flowers', 'flown', 'flu', 'fluctuated', 'fluid', 'flustered', 'flutter', 'fly', 'flyer', 'flyers', 'flying', 'flythroughs', 'fmjtyl', 'fo', 'focus', 'focused', 'fog', 'fol', 'fold', 'folder', 'folding', 'folk', 'folks', 'follow', 'followback', 'followed', 'followers', 'following', 'follows', 'fong', 'food', 'fool', 'foolish', 'foot', 'footage', 'for', 'force', 'forced', 'forces', 'forcing', 'forecast', 'forecasted', 'forecasts', 'foreign', 'forelock', 'foresight', 'forest', 'forever', 'forever:grinning_face_with_big_eyes:', 'foreverrrrrr', 'forfeit', 'forfeited', 'forfeits', 'forget', 'forgets', 'forgetting', 'forgive', 'forgiven', 'forgot', 'forgotten', 'form', 'formal', 'formality', 'formally', 'format', 'formed', 'former', 'forms', 'formula', 'fort', 'forth', 'fortunately', 'forty', 'forum', 'forward', 'forwarding', 'fostering', 'found', 'foundation', 'four', 'fourth', 'fra', 'fraction', 'frame', 'fran', 'france', 'francisco', 'frank', 'frank@postsecret', 'frankfurt', 'frankly', 'frantic', 'fraud', 'freaked', 'freakin', 'freaking', 'freaks', 'freaky', 'fred', 'freddie', 'free', 'freeze', 'freezes', 'freezing', 'french', 'freq', 'frequency', 'frequent', 'frequently', 'fresh', 'fresno', 'freyasfund', 'fri', 'fricken', 'friday', 'friday:', 'fridge…that', 'friend', 'friendliest', 'friendly', 'friends', 'frigid', 'fritz', 'frizz', 'fro', 'from', 'fron', 'front', 'frontier', 'frontrunner', 'frown', 'frowny', 'frozen', 'fruit', 'frustrated', 'frustrating', 'frustratingly', 'frustration', 'frustrations', 'fry', 'fsqthg', 'fu', 'fuck', 'fucked', 'fucken', 'fuckin', 'fucking', 'fudges', 'fudging', 'fuel', 'fueled', 'fuk', 'fuking', 'fulfill', 'fulfilled', 'full', 'fully', 'fun', 'function', 'functional', 'functionality', 'functionally', 'functioning', 'funds', 'funeral', 'funerals', 'funny', 'furious', 'furnish', 'furrow', 'further', 'fuselage', 'future', 'fyi', 'fyi:', 'fyvrfn', 'ga', 'gabriela', 'gaga', 'gah', 'gain', 'gainesville', 'gains', 'gal', 'gala', 'galaxy', 'galley', 'game', 'gameboy', 'gang', 'gangway', 'gap', 'garage', 'garbage', 'garcia', 'gary', 'gas', 'gassing', 'gate', 'gates', 'gather', 'gave', 'gay', 'gear', 'gears', 'gee', 'geeeeezzzzz', 'geeks', 'geez', 'gem', 'gems', 'general', 'generally', 'generated', 'generic', 'geneva', 'genius', 'gent', 'gentleman', 'gently', 'gents', 'genuine', 'genuinely', 'geography', 'george', 'georgia', 'geraghty', 'geraldine', 'german', 'germany', 'germs', 'gerne', 'gesture', 'get', 'getae', 'getaway', 'gether', 'gets', 'gettin', 'getting', 'giant', 'giants', 'gif', 'gift', 'gifting', 'gifts', 'gig', 'giggled', 'gills', 'gimme', 'gin', 'girl', 'girlfriend', \"girlfriend's\", 'girls', 'gist', 'giv', 'give', 'given', 'gives', 'giving', 'gla', 'glad', 'gladly', 'gladys', 'glance', 'glasgow', 'glass', 'glassdoor', 'glasses', 'glenn', 'glitch', 'glitches', 'glitchy', 'global', 'globe', 'gloves', 'glowing', 'gluten', 'gmail', 'go', 'goal', 'goal:', 'god', 'goddamn', 'goes', 'gofundme', 'gogh', 'gogo', 'goin', 'going', 'gold', 'golden', 'golds', 'golf', 'golfball', 'gone', 'gong', 'gonna', 'good', 'goodbye', 'goodness', 'goodnight', 'goods', 'goodwill', 'google', 'goose', 'gorgeous', 'gosh', 'got', 'gotcha', 'gotta', 'gotten', 'gov', 'government', 'governor', 'govt', 'gra', 'grab', 'grabbed', 'grace', 'gracias', 'gracious', 'graded', 'grader', 'grades', 'graduate', 'graduation', 'grand', 'grandbabies', 'grandfather', 'grandkids', 'grandma', 'grandmother', 'grandmothers', 'grandpa', 'grandparents', 'granny', 'grant', 'granting', 'graphic', 'graphics', 'gras', 'grasp', 'grasshopper', 'grassy', 'grateful', 'gratitude', 'gravity', 'gray', 'great', 'greatcustomerservice', 'greater', 'greatest', 'greatly', 'greed', 'greedy', 'greeeaat', 'green', 'greenfield', 'greenville', 'greeted', 'greeting', 'greetings', 'greg', 'grief', 'grievance', 'grinding', 'grip', 'groan', 'gross', 'grossed', 'grouchy', 'ground', 'grounded', 'grounds', 'group', 'grouping', 'groups', 'grow', 'growing', 'grown', 'grrrrrr', 'grrrrrrrr', 'grub', 'grumpy', 'gsa', 'gtsvyb', 'gu', 'guacamole', 'guam', 'guarantee', 'guaranteed', 'guardia', 'guatemala', 'guess', 'guess:flight', 'guessing', 'guesstimate', 'guest', 'guests', 'guidance', 'guide', 'guidelines', 'guilty', 'guinea', 'guitar', 'guitars', 'gum', 'gun', 'gunna', 'guns', 'guru', 'gusty', 'guy', 'guys', 'guys:smiling_face_with_heart', 'guys…see', 'guyyyys', 'ha', 'habitrails', 'habitually', 'hacked', 'hacks', 'had', 'hadn', 'hah', 'haha', 'hahaha', 'hahahaha', 'hahahahaha', 'hail', 'hair', 'haiti', 'half', 'halfway', 'hall', 'hammer', 'hamsters', 'hand', 'handbag', 'handed', 'handedly', 'handicap', 'handicapped', 'handily', 'handing', 'handle', 'handled', 'handler', 'handlers', 'handles', 'handling', 'hands', 'handshake', 'handy', 'hang', 'hangar', 'hanged', 'hanger', 'hanging', 'hangs', 'hangup', 'hannah', 'happen', 'happend', 'happened', 'happening', 'happens', 'happier', 'happiest', 'happily', 'happiness', 'happy', 'harass', 'harbor', 'hard', 'hardcase', 'harder', 'hardest', 'hardly', 'hardworking', 'hare', 'harsh', 'hartford', 'has', 'hashtag', 'hasn', 'hassle', 'hassles', 'hasty', 'hat', 'hatch', 'hate', 'hated', 'hates', 'hating', 'hats', 'haul', 'hav', 'havana', 'have', 'haven', \"haven't\", 'havent', 'havin', 'having', 'havoc', 'hawaii', 'hawaiian', 'hayden', 'hayes', 'hazard', 'he', 'head', 'headache', 'headaches', 'headed', 'header', 'heading', 'headlines', 'headphone', 'headphones', 'heads', 'healing', 'health', 'hear', 'heard', 'hearing', 'heart', 'heart:two_hearts:', 'heartbroken', 'heartless', 'hearts', 'heat', 'heated', 'heathrow', 'heaven', 'heavily', 'heavy', 'heck', 'hectic', 'heel', 'heeled_shoe:', 'heels', 'heh', 'height', 'hel', 'held', 'helene', 'hell', 'hella', 'heller', 'hello', 'help', 'help:', 'help:smiling_face_with_heart', 'helpa', 'helped', 'helper', 'helpful', 'helpfulness', 'helping', 'helpless', 'helpline', 'helps', 'hemisphere', 'hemispheres', 'hemophilia', 'hen', 'hence', 'hep', 'hepburn', 'her', 'herb', 'herbal', 'herbs', 'herded', 'here', 'here:', 'herman', 'hero', 'heroes', 'herself', 'hesitant', 'hey', 'heyday', 'hfjkto', 'hi', 'hiccups', 'hid', 'hidden', 'hide', 'higgs', 'high', 'higher', 'highest', 'highlight', 'highly', 'highway', 'hike', 'hilarious', 'hill', 'hilton', 'him', 'hime', 'himself', 'hindered', 'hint:', 'hinted', 'hints', 'hip', 'hipster', 'hire', 'hired', 'hiring', 'his', 'historical', 'historically', 'history', 'hit', 'hitch', 'hits', 'hitting', 'ho', 'hockey', 'hogs', 'hold', 'holder', 'holders', 'holding', 'holds', 'holdup', 'hole', 'holiday', 'holidays', 'holla', 'holler', 'hollow', 'hollywood', 'holy', 'home', 'home:', 'homegirl', 'homeless', 'homeschool', 'hometown', 'homeward', 'homosexual', 'hon', 'honest', 'honestly', 'honesty', 'honey', 'honeymoon', 'honolulu', 'honor', 'honorable', 'honored', 'honoring', 'honors', 'honour', 'hoo', 'hood', 'hoodlums', 'hoodoo', 'hook', 'hooked', 'hooking', 'hooples', 'hoops', 'hooray', 'hoot', 'hop', 'hope', 'hoped', 'hopeful', 'hopefully', 'hopeless', 'hopes', 'hopin', 'hoping', 'hopkins', 'hopped', 'hops', 'hordes', 'horizon', 'hormonal', 'hormones', 'horns', 'horrendous', 'horrible', 'horribly', 'horrid', 'horrific', 'horror', 'horse', 'hosp', 'hospice', 'hospitality', 'hospitals', 'hostage', 'hostel', 'hostile', 'hosting', 'hot', 'hotel', 'hotels', 'hotline', 'hotspot', 'hotter', 'hottest', 'hou', 'hour', 'hours', 'house', 'house:waving_hand:', 'housing', 'houston', 'hover', 'how', 'howdy', 'however', 'hub', 'hubby', 'hubs', 'hug', 'huge', 'hugeeeee', 'hugely', 'hughes', 'huh', 'human', 'humanity', 'humans', 'humiliated', 'humiliating', 'humor', 'humored', 'humour', 'humphrey', 'hundred', 'hundreds', 'hung', 'hungary', 'hungry', 'hungupnohelp', 'hunky', 'hunt', 'hunting', 'huntsville', 'hurl', 'hurricane', 'hurry', 'hurt', 'hurting', 'hurts', 'hury', 'husband', 'husbands', 'huxleyesque', 'hve', 'hyperlinked', 'hypocrisy', 'i', \"i'd\", \"i'ii\", \"i'll\", \"i'm\", \"i've\", 'i:red_heart:usair', 'iad', 'iberian', 'ice', 'icecream', 'iced', 'iceland', 'icelandic', 'icing', 'icloud', 'iconography', 'icu', 'icy', 'id', 'idaho', 'idea', 'idea:', 'ideal', 'ideas', 'identical', 'ideologies', 'idiot', 'idiotic', 'idiots', 'idols', 'ids', 'if', 'ife', 'ifl', 'ignorant', 'ignore', 'ignored', 'ignores', 'ignoring', 'iguana', 'ihop', 'ihr', 'il', 'ill', 'illegal', 'illiterate', 'illness', 'illogical', 'ils', 'im', 'images', 'imagine', 'imagined', 'imma', 'immediate', 'immediately', 'immensely', 'impact', 'impacts', 'impaired', 'impatience', 'impatient', 'impediment', 'impending', 'impersonal', 'impersonator', 'implement', 'impolite', 'important', 'impossible', 'impossibly', 'impress', 'impressed', 'impression', 'impressions', 'impressive', 'improper', 'improve', 'improved', 'improvement', 'improvements', 'improves', 'improving', 'in', 'in:united_states:2y', 'inability', 'inaccessibility', 'inaccurate', 'inactivity', 'inadequate', 'inappropriate', 'inappropriately', 'inbound', 'inbox', 'inc', 'incapable', 'incas', 'incase', 'incentive', 'inch', 'inches', 'incident', 'incident:', 'incidentally', 'incidentals', 'incidents', 'inclement', 'include', 'included', 'includes', 'including', 'inclusion', 'income', 'incoming', 'incompetence', 'incompetency', 'incompetent', 'incompetentmanagers', 'incomprehensible', 'inconceivable', 'inconsiderate', 'inconsistent', 'inconvenience', 'inconvenienced', 'inconveniences', 'inconvenient', 'inconveniently', 'incorrect', 'incorrectly', 'increase', 'increased', 'increasing', 'incredible', 'incredibly', 'incremental', 'increments', 'incur', 'incurred', 'incurring', 'ind', 'indeed', 'independence', 'india', 'indian', 'indianapolis', 'indicate', 'indicated', 'indicates', 'indicating', 'indication', 'indignation', 'individual', 'induce', 'industry', 'indy', 'inebriated', 'inedible', 'inefficiency', 'inefficient', 'ineligible', 'inept', 'inevitable', 'inexcusable', 'inexpensive', 'inexperienced', 'infant', 'infant:', 'infants', 'inferior', 'infinite', 'infinity', 'inflatable', 'inflating', 'inflation', 'inflexible', 'inflight', 'influx', 'info', 'info@virginamerica', 'infographic', 'inform', 'information', 'informative', 'informed', 'informing', 'informs', 'infrastructure', 'infringement', 'infuriated', 'infuriating', 'ing', 'ingredients', 'inhumane', 'initial', 'initiated', 'initiative', 'injured', 'injuries', 'injury', 'ink', 'inline', 'inner', 'innovation', 'ino', 'inoperable', 'input', 'inputted', 'inquire', 'inquired', 'inquiries', 'inquiring', 'inquiry', 'ins', 'insane', 'insanely', 'insanity', 'insensitive', 'inserted', 'inside', 'insider', 'insight', 'insist', 'insisted', 'inspected', 'inspiration', 'inspired', 'inspiring', 'inst', 'insta', 'instagram', 'installation', 'installed', 'installing', 'instance', 'instant', 'instantly', 'instead', 'institutional', 'instructed', 'instructions', 'instrument', 'instruments', 'insubstantial', 'insufficient', 'insulin', 'insult', 'insulted', 'insulting', 'insurance', 'insure', 'int', 'intact', 'integrate', 'integrating', 'integration', 'integrity', 'intel', 'intelligence', 'intelligent', 'intend', 'intended', 'intent', 'intention', 'intentional', 'intentionally', 'interaction', 'interchangeably', 'intercom', 'intercontinental', 'interest', 'interested', 'interesting', 'interferes', 'interfering', 'interim', 'interior', 'interiors', 'intern', 'internal', 'internally', 'international', 'internationally', 'internet', 'interns', 'internship', 'internships', 'interpreting', 'interrogated', 'interrupted', 'interupt', 'interview', 'interviewed', 'interviews', 'intimate', 'into', 'intra', 'intro', 'intro:', 'intrusive', 'inv', 'invalid', 'invalid_loyalty_member_account_status', 'inventory', 'invest', 'investigate', 'investigated', 'investigated—my', 'investigation', 'investment', 'investor', 'investors', 'invitation', 'invitational', 'invite', 'invited', 'invoice', 'invoices', 'involuntarily', 'involve', 'involved', 'ios', 'iove', 'iowa', 'ipad', 'iphone', 'iq', 'iraq', 'irate', 'ireland', 'irene', 'irina', 'irons', 'irony', 'irregularity', 'irreplaceable', 'irresponsible', 'irritated', 'irritating', 'irrlcd', 'is', 'is:', 'isabelle', 'ish', 'isis', 'isit', 'island', 'islands', 'isle', 'isn', \"isn't\", 'isnt', 'isolate', 'isp', 'israel', 'issue', 'issued', 'issues', 'issuing', 'istanbul', 'it', \"it'll\", \"it's\", 'it:', 'it:smiling_face_with_smiling_eyes:', 'italian', 'italy', 'item', 'items', 'ith', 'ithaca', 'itin', 'itineraries', 'itinerary', 'itis', 'itl', 'ito', 'its', 'itself', 'ive', 'ivy', 'iwas', 'iy', 'jack', 'jackass', 'jacked', 'jacket', 'jackpot', 'jackson', 'jacksonville', 'jacqueline', 'jacquie', 'jail', 'jaipur', 'jak', 'jal', 'jam', 'jamaica', 'james', 'jamie', 'jammed', 'jan', 'jana', 'jane', 'janet', 'january', 'jaramillo', 'jason', 'javascript', 'jax', 'je', 'jealous', 'jeanette', 'jeanine', 'jeans', 'jebediah', 'jeered', 'jeff', 'jennifer', 'jennings', 'jeopardy', 'jerk', 'jerko', 'jerks', 'jersey', 'jessie', 'jesus', 'jet', 'jetblue', 'jetblue:ok_hand:', 'jetblue…', 'jetgreen', 'jets', 'jetway', 'jetway—why', 'jewel', 'jfk:', 'jh:', 'jihad', 'jilted', 'jim', 'jimmy', 'joanna', 'joanne', 'job', 'jobs', 'jockeying', 'joe', 'john', 'join', 'joined', 'joke', 'jokers', 'joking', 'jon', 'joni', 'joplin', 'jorge', 'jose', 'journal', 'journalist', 'journey', 'joy', 'juan', 'judas', 'judo', 'jug', 'juice', 'jul', 'julian', 'julie', 'july', 'jump', 'jumped', 'jumping', 'jun', 'junction', 'june', 'junk', 'jurassic', 'just', 'justifiable', 'justify', 'kalua', 'kangaroos', 'kansas', 'karate', 'karen', 'karma', 'kashmir', 'kat', 'kate', 'kathryn', 'katie', 'kats', 'kauri', 'kay', 'ke', 'keep', 'keeper', 'keeping', 'keeps', 'keepy', 'kelly', 'kelsey', 'kept', 'ker', 'kerr', 'kerry', 'kevin', 'kewl', 'key', 'keys', 'ki', 'kick', 'kicked', 'kickin', 'kicking', 'kid', 'kidding', 'kidnapped', 'kids', 'kill', 'killed', 'killin', 'killing', 'kim', 'kin', 'kind', 'kinda', 'kinder', 'kindle', 'kindly', 'kindness', 'king', 'kiosk', 'kiosks', 'kisses', 'kit', 'kitchen', 'kits', 'kitties', 'kitty', 'kn:', 'knack', 'knees', 'knew', 'kno', 'knock', 'know', 'knowing', 'knowledge', 'knowledgeable', 'known', 'knows', 'knoxville', 'koa', 'kohl', 'korea', 'kosher', 'kristin', 'kristy', 'kthxbai', 'ku', 'kuala', 'kudos', 'kung', 'kurt', 'kuzco', 'ky', 'la', 'la:grinning_face_with_smiling_eyes:flying', 'lab', 'labeled', 'labor', 'laboratories', 'labrador', 'labs', 'labyrinth', 'lac', 'lack', 'lacked', 'lacking', 'lacks', 'laden', 'ladies', 'ladoo', 'lady', 'lag', 'lagging', 'lagos', 'laguardia', 'laissez', 'lake', 'lama', 'lame', 'lamp', 'lan', 'land', 'landed', 'landing', 'landings', 'lands', 'lane', 'lanes', 'language', 'languages', 'lao', 'lap', 'laps', 'lapse', 'laptop', 'large', 'larger', 'largest', 'larry', 'las', 'lasalle', 'last', 'lasted', 'lastly', 'lastnight', 'late', 'latinamerican', 'latrine', 'latte', 'latter', 'lauderdale', 'laugh', 'laughed', 'laughing', 'laughter', 'launched', 'launder', 'laundry', 'laura', 'lauren', 'lav', 'lavatory', 'law', 'laws', 'lawsuit', 'lawyer', 'lax', 'lay', 'layaway', 'layout', 'layover', 'layovers', 'lazy', 'lda', 'lea', 'lead', 'leader', 'leadership', 'leading', 'leads', 'league', 'leah', 'leak', 'leaking', 'learn', 'learned', 'learning', 'learnt', 'lease', 'least', 'leather', 'leathery', 'leave', 'leaved', 'leaves', 'leaving', 'led', 'leeds', 'leeway', 'left', 'left:', 'leg', 'legacy', 'legal', 'legalize', 'legally', 'legit', 'legitimate', 'legitimately', 'legroom', 'legs', 'lehman', 'leinenkugels', 'leisure', 'lekvhg', 'lemme', 'lend', 'length', 'lengthy', 'lenses', 'less', 'lessening', 'lesson', 'let', 'lets', 'letter', 'letters', 'letting', 'level', 'levels', 'leverage', 'levi', 'lex', 'lexington', 'lga', 'lgby', 'lhrdfw', 'liable', 'liar', 'liars', 'liberty', 'library', 'license', 'lick', 'lie', 'lied', 'liedholm', 'lies', 'life', 'lifeless', 'lifeline', 'lifesaver', 'lifetime', 'lift', 'lifting', 'light', 'lightbulb', 'lighted', 'lighting', 'lightly', 'lightness', 'lightning', 'lights', 'lightyears', 'lik', 'like', 'liked', 'likelihood', 'likely', 'likes', 'liking', 'lil', 'lile', 'lilly', 'lima', 'limbo', 'limit', 'limited', 'limits', 'limo', 'lin', 'lindsay', 'lindsey', 'line', 'line:', 'lined', 'lines', 'lineup', 'lingo', 'lining', 'link', 'link:', 'linked', 'linking', 'links', 'lip', 'lipstick', 'lisa', 'list', 'listed', 'listen', 'listened', 'listening', 'listens', 'lister', 'listing', 'lists', 'lit', 'lite', 'literally', 'literary', 'literate', 'litter', 'little', 'live', 'lived', 'lively', 'livery', 'lives', 'livid', 'livin', 'living', 'liz', 'liza', 'lizzie', 'lli', 'lloyd', 'lmaoooo', 'lmfaooo', 'lmfaooooo', 'lo', 'load', 'loaded', 'loading', 'loads', 'loan', 'loaned', 'loaner', 'loans', 'loc', 'loc:tjycqh', 'local', 'localized', 'locally', 'locals', 'locate', 'located', 'locating', 'location', 'locations', 'locator', 'locator:', 'lock', 'locked', 'lodge', 'lodging', 'loft', 'lofty', 'log', 'logan', 'logged', 'logging', 'logic', 'logical', 'logically', 'login', 'logistically', 'logistics', 'logo', 'logout', 'logs', 'lol', 'lola', 'loll', 'lololololol', 'lon', 'london', 'lone', 'loner', 'long', 'long:unamused_face:', 'longer', 'longing', 'longstanding', 'look', 'lookay', 'looked', 'lookin', 'looking', 'looks', 'looong', 'looooong', 'loop', 'looped', 'loose', 'loosing', 'lor', 'lord', 'los', 'lose', 'loser', 'losers', 'loses', 'losing', 'loss', 'lost', 'lot', 'lots', 'lotttttttt', 'lou', 'loud', 'louder', 'loudly', 'loudspeaker', 'louis', 'louisville', 'lounge', 'lounges', 'lousy', 'love', 'loved', 'lovely', 'loves', 'lovethe', 'loving', 'low', 'lowdown', 'lower', 'lowercase', 'lowered', 'lowest', 'loyal', 'loyalty', 'ltaljx', 'lubbock', 'lucas', 'lucia', 'luck', 'luckily', 'lucky', 'lufthansa', 'luggage', 'luggages', 'lugging', 'lump', 'lunch', 'lunchtime', 'lung', 'lungs', 'luv', 'luxuries', 'luxurious', 'luxury', 'luz', 'lve', 'lying', 'lymph', 'lynchburg', 'lynn', 'ma', 'mac', 'machine', 'machines', 'mad', 'maddening', 'made', 'madeit', 'madhouse', 'madness', 'madrid', 'mae', 'mag', 'magazine', 'magic', 'magical', 'magically', 'maiden', 'mail', 'mailbox', 'mailing', 'mails', 'maimi:loudly_crying_face:', 'main', 'maine', 'mainline', 'maintain', 'maintained', 'maintenance', 'major', 'majority', 'make', 'makers', 'makes', 'makeup', 'making', 'malaysia', 'malcom', 'male', 'malfunction', 'malfunctioning', 'malik', 'mall', 'maltese', 'mammoth', 'man', 'manage', 'managed', 'management', 'manager', 'managers', 'managing', 'manana', 'manchester', 'mandatory', 'maneuver', 'manifests', 'manilla', 'manned', 'manner', 'manners', 'mans', 'manual', 'manually', 'manuel', 'manufactured', 'many', 'map', 'maps', 'mar', 'marathon', 'march', 'marcos', 'marcus', 'mardi', 'margo', 'maria', 'marie', 'mario', 'marisol', 'mark', 'marked', 'market', 'marketing', 'markets', 'marks', 'marriage', 'married', 'marriott', 'marry', 'marsh', 'marsha', 'marshaled', 'marshall', 'marten', 'martha', 'martin', 'marty', 'mary', 'maryland', 'mas', 'mashing', 'mask', 'mason', 'mass', 'massages', 'massive', 'masss', 'mastercard', 'masters', 'mat', 'match', 'mates', 'math', 'matt', 'matter', 'matters', 'maui', 'maverick', 'max', 'maximization', 'may', 'may:red_heart:', 'maybe', 'maybemange', 'mayweather', 'mba', 'mcgraw', 'mclaren', 'mdbeei', 'mde', 'mdma', 'me', 'me:', 'me:loudly_crying_face:', 'me:person_tipping_hand:', 'meal', 'meals', 'mean', 'meaning', 'meaningful', 'means', 'means:', 'meant', 'meantime', 'meanwhile', 'measles', 'measly', 'measure', 'measured', 'measurements', 'meat', 'mech', 'mechanic', 'mechanical', 'mechanics', 'med', 'medal', 'medallion', 'media', 'medical', 'medically', 'medication', 'medicine', 'mediocre', 'meds', 'meehan', 'meet', 'meeting', 'meetings', 'mega', 'megan', 'meh', 'mejia', 'mel', 'melanie', 'melbourne', 'melinda', 'melissa', 'mellie', 'melon', 'melting', 'mem', 'member', 'member:unamused_face:', 'members', 'membership', 'memo', 'memo:', 'memorial', 'memories', 'memorize', 'memory', 'memphis', 'men', 'ment', 'mentality', 'mention', 'mentioned', 'mentioning', 'mentions', 'menu', 'menus', 'mercy', 'mere', 'merge', 'merged', 'merger', 'merging', 'merit', 'mess', 'message', 'message:', 'messaged', 'messages', 'messaging', 'messed', 'messes', 'messing', 'met', 'metal', 'meters', 'method', 'methods', 'metro', 'mex', 'mexico', 'mi', 'mia', 'miami', 'michael', 'michele', 'michelle', 'microsecond', 'mid', 'middle', 'mideast', 'midland', 'midnight', 'midterm', 'midway', 'might', 'mightmismybrosgraduation', 'mighty', 'miguel', 'mike', 'mikes', 'mil', 'milageplus', 'milan', 'mild', 'mile', 'mileage', 'mileageplus', 'miles', 'miles:pouting_face:', 'milesaaver', 'milestone', 'military', 'million', 'millions', 'mils', 'milwaukee', 'mimosa', 'min', 'mind', 'mindset', 'mine', 'mines', 'mini', 'minimal', 'minimum', 'minneapolis', 'minnie', 'minor', 'minors', 'mins', 'mint', 'minus', 'minute', 'minutes', 'minx', 'miracle', 'miracles', 'miraculously', 'miranda', 'miriam', 'mis', 'misbehavior', 'miscalculation', 'miscommunicated', 'miserable', 'miserably', 'misery', 'misfortune', 'misguided', 'mishaps', 'misinformation', 'misjudging', 'mislead', 'misleading', 'mismanagement', 'misplace', 'misplaced', 'misread', 'miss', 'missed', 'misses', 'missin', 'missing', 'mission', 'misspelled', 'mistake', 'mistakefurious', 'mistaken', 'mistakes', 'mistreated', 'mistreatment', 'misunderstanding', 'misunderstood', 'mitchell', 'mite', 'mites', 'mix', 'mixtape', 'mkwlkr', 'ml”:3:15', 'mne', 'mo', 'mobil', 'mobile', 'mobility', 'mod', 'model', 'moderate', 'modifications', 'modify', 'moines', 'mojave', 'mold', 'mom', \"mom's\", 'moment', 'moments', 'momma', 'mommy', 'moms', 'mon', 'monday', 'monetary', 'money', 'monica', 'monika', 'monitor', 'monitoring', 'monkey', 'monopoly', 'mons', 'monsoon', 'mont', 'montana', 'montereyregionalairport', 'montero', 'month', 'monthly', 'months', 'montreal', 'montrose', 'mood', 'mooks', 'moon', 'moonlight', 'moonlighting', 'moose', 'mor', 'moray', 'more', 'more:goblin:', 'more@blacklist', 'morn', 'morning', 'morons', 'morrow', 'mortified', 'mos', 'mosaic', 'most', 'mostly', 'mot', 'motel', 'mother', 'motion', 'motions', 'motor', 'motto:', 'mountains', 'mouse', 'mouth', 'move', 'moved', 'movement', 'movements', 'moves', 'movie', 'movies', 'moving', 'mow', 'mri', 'muc', 'much', 'muchas', 'mug', 'mugged', 'mugs', 'muh', 'multi', 'multibillion', 'multimedia', 'multimillion', 'multinational', 'multiple', 'multiplier', 'mumbled', 'mundane', 'munich', 'murdering', 'murdock', 'muscles', 'music', 'musical', 'musician', 'musicians', 'must', 'muzak', 'mwa', 'my', 'myers', 'myrtle', 'myself', 'mysterious', 'mysteriously', 'mystery', 'myths', 'na', 'nada', 'nade', 'nader', 'nah', 'nail', 'nailed', 'naisho', 'nak', 'name', 'name:', 'named', 'names', 'naming', 'nancy', 'nano', 'nantucket', 'nap', 'napkins', 'naples', 'narayan', 'naritai', 'narrow', 'narrower', 'narrowly', 'nary', 'nas', 'nasdaq', 'nasdaq:jblu', 'nashville', 'nassau', 'nastiest', 'nasty', 'nat', 'nation', 'national', 'nationalized', 'nationwide', 'nature', 'naval', 'navigate', 'navigating', 'navy', 'nba', 'ne', 'near', 'nearby', 'nearly', 'necessary', 'necessities', 'necessity', 'need', 'needed', 'needing', 'needlessly', 'needs', 'negative', 'negatively', 'neglect', 'neglected', 'negligence', 'negligent', 'negotiate', 'negro', 'neighboring', 'neighbors', 'neither', 'nelson', 'nephew', 'nerd', 'nerds', 'nerves', 'nervous', 'net', 'netherlands', 'network', 'neuf', 'neurosurgery', 'nev', 'never', 'neverflyunited', 'nevermind', 'new', 'newark', 'newborn', 'newborns', 'newburgh', 'newest', 'newly', 'news', 'newspaper', 'next', 'nexus', 'nha', 'niagara', 'nice', 'nicely', 'nicer', 'nicest', 'nick', 'nickel', 'nicole', 'niece', 'nigeria', 'nigga', 'niggaz', 'night', 'night:', 'nightlife', 'nightmare', 'nightmarish', 'nights', 'nikon', 'nil', 'nine', 'nines', 'nippon', 'nit', 'nite', 'nitrogen', 'nix', 'nny', 'no', 'no@jetblue:', 'noah', 'nobody', 'noc', 'nod', 'nola', 'nolo', 'nom', 'nominated', 'non', 'none', 'nonetheless', 'nonexistent', 'nonperformance', 'nonprofit', 'nonprofits', 'nonrefundable', 'nonsense', 'nonstop', 'nonstops', 'nonworking', 'noob', 'noodles', 'noon', 'noone', 'noooo', 'nooooo', 'nooooooo', 'noooooooooooooooooo', 'noooooooooooooooooooooope', 'nope', 'nor', 'noreply@usairwaysmobile', 'norfolk', 'norm', 'norma', 'normal', 'normally', 'norris', 'north', 'northeast', 'northern', 'norway', 'nose', 'nosedive', 'nostalgic', 'not', 'notahappytraveler', 'notch', 'note', 'note:', 'noted', 'notes', 'notgood', 'nothin', 'nothing', 'nothings', 'notice', 'noticed', 'noticing', 'notification', 'notifications', 'notified', 'notify', 'notifying', 'noting', 'notion', 'notmy', 'nov', 'novel', 'november', 'now', 'now:', 'nowhere', 'nowhereland', 'noxtralegroom', 'nozzle', 'nudgenudge', 'nukes', 'nullified', 'num', 'number', 'number:', 'numbered', 'numbers', 'numerical', 'numerous', 'numofpointsavailable', 'nut', 'nutella', 'nuts', 'ny', 'nyc…as', 'o', \"o'donnell\", 'oak', 'oakland', 'oatmeal', 'ob', 'obama', 'obey', 'obnoxious', 'obscene', 'observation', 'observe', 'observer', 'obsessed', 'obsolete', 'obtain', 'obvious', 'obviously', 'oc', 'occasion', 'occasions', 'occupied', 'occupy', 'occur', 'occurred', 'occurs', 'ocean', 'oct', 'october', 'odd', 'odds', 'of', 'off', 'off:face_with_tears_of_joy:', 'offended', 'offenders', 'offensive', 'offensively', 'offer', 'offered', 'offering', 'offers', 'office', 'officer', 'offices', 'official', 'officially', 'offline', 'offload', 'offloading', 'offworld', 'often', 'ogg', 'ogre', 'oh', 'ohio', 'oil', 'ok', 'okaaaaay', 'okay', 'okayyyy', 'okey', 'okie', 'olavarria', 'old', 'older', 'olds', 'olives', 'olympic', 'oma', 'omaha', 'omar', 'omg', 'omg:smiling_face_with_heart', 'on', 'onboard', 'once', 'one', 'one:', 'ones', 'onetime', 'ongoing', 'onion', 'online', 'only', 'ons', 'ont', 'ontario', 'onto', 'ooh', 'oops', 'op', 'opal', 'opaque', 'open', 'opened', 'opening', 'opens', 'operate', 'operated', 'operating', 'operation', 'operational', 'operations', 'operator', 'operators', 'opinion', 'opinions', 'opportunities', 'opportunity', 'opposed', 'opposite', 'oprah', 'ops', 'opsec', 'opt', 'option', 'options', 'or', 'orange', 'orbit', 'ord', 'ordeal', 'order', 'ordered', 'ordering', 'oregon', 'oreos', 'orf', 'org', 'organization', 'organizational', 'organizations', 'organized', 'origami', 'origin', 'original', 'originally', 'originating', 'orl', 'orlando', 'orleans', 'orphan', 'orphanage', 'os', 'osaka', 'oscar', 'oscar:grinning_face_with_smiling_eyes:', 'oscars', 'other', 'others', 'otherwise', 'otis', 'ots', 'ottawa', 'ou', 'ouch', 'ought', 'oui', 'our', 'ourguest', 'ours', 'ourselves', 'oust', 'out', 'out:airplane:', 'out_eyes:', 'outage', 'outbound', 'outbreak', 'outclass', 'outcome', 'outdated', 'outdoor', 'outfit', 'outfitted', 'outlets', 'outline', 'outlook', 'outpost', 'outrage', 'outraged:pouting_face:', 'outrageous', 'outright', 'outside', 'outsource', 'outsourced', 'outsourcing', 'outstanding', 'outta', 'outward', 'over', 'overall', 'overbook', 'overbooked', 'overcharge', 'overcharged', 'overcharging', 'overcoming', 'overfilled', 'overflight', 'overflow', 'overflowed', 'overhaul', 'overhead', 'overheads', 'overheard', 'overheating', 'overkill', 'overloaded', 'overloads', 'overlooking', 'overnight', 'overpriced', 'overreacting', 'overseas', 'overselling', 'oversize', 'oversized', 'oversleeping', 'oversold', 'overtime', 'overweight', 'overwhelmed', 'overwhelming', 'overzealous', 'ow', 'owe', 'owed', 'owen', 'owes', 'own', 'owner', 'ownership', 'owning', 'oxygen', 'oy', 'oyu', 'pa', 'pac', 'pace', 'pacific', 'pacify', 'pack', 'package', 'packages', 'packed', 'packing', 'pacquiao', 'pact', 'pad', 'paean', 'page', 'page:', 'paged', 'pages', 'paid', 'pain', 'painful', 'painfully', 'painless', 'paint', 'painted', 'pair', 'pairing', 'pairings', 'pairs', 'pal', 'pales', 'palm', 'pamper', 'panama', 'pandora', 'pandu', 'pangs', 'panic', 'panicked', 'pant', 'pants', 'paper', 'papers', 'paperwork', 'par', 'paradise', 'parameters', 'paranoid', 'parent', 'parents', 'paris', 'park', 'parked', 'parker', 'parking', 'parody', 'part', 'part:', 'partial', 'participate', 'particular', 'particularly', 'particulars', 'partly', 'partner', 'partnered', 'partnering', 'partnerrewards', 'partners', 'partnership', 'partnership:', 'partnerships', 'parts', 'party', 'pas', 'pascucci', 'paso', 'pass', 'passbook', 'passed', 'passenger', 'passengers', 'passes', 'passing', 'passive', 'passport', 'password', 'past', 'pasta', 'paste', 'pasting', 'pastor', 'pat', 'patches', 'path', 'pathetic', 'patience', 'patient', 'patiently', 'patriarch', 'patricia', 'patrick', 'patron', 'patronizing', 'pats', 'pattern', 'patterns', 'paul', 'paulo', 'paw', 'paws', 'pax', 'pay', 'paycheck', 'payed', 'paying', 'payment', 'paypal', 'pays', 'pe', 'peace', 'peak', 'peanut', 'peanuts', 'pearl', 'peas', 'peculiar', 'pedophile', 'pedro', 'peeled', 'peeps', 'peer', 'peggy', 'pela', 'pen', 'penalized', 'penalty', 'pending', 'penguin', 'pennies', 'pens', 'pensacola', 'people', 'peoplein', 'pepper', 'peppering', 'per', 'perceived', 'percentage', 'perfect', 'perfectly', 'perform', 'performance', 'performing', 'performs', 'perhaps', 'peri', 'period', 'periods', 'periolodicly', 'perk', 'perks', 'perks:', 'permanent', 'permanently', 'permission', 'permissions', 'persia', 'persisting', 'person', 'personable', 'personal', 'personality', 'personalized', 'personally', 'personnel', 'perspective', 'perth', 'pesky', 'pet', 'peter', 'petition', 'pets', 'petty', 'peyton', 'pgfryz', 'phantom', 'phenomenal', 'phew', 'phi', 'phil', 'philadelphia', 'philippines', 'phillip', 'philly', 'phishing', 'pho', 'phoenix', 'phone', 'phone:', 'phoneeeee', 'phones', 'photo', 'photography', 'photos', 'photos:', 'phrase', 'phrased', 'phx:', 'physical', 'physically', 'pia', 'pic', 'pic:', 'pick', 'picked', 'picking', 'picks', 'pics', 'picture', 'pictures', 'pid', 'pie', 'piece', 'pieces', 'pig', 'pigeon', 'pigs', 'pile', 'pillow', 'pillows', 'pilot', 'pilot:', 'pilots', 'pimento', 'pin', 'ping', 'pink', 'pins', 'pipes', 'piss', 'pissed', 'pissing', 'pistol', 'pit', 'pita', 'pits', 'pitt', 'pitts', 'pittsburgh', 'pity', 'pizza', 'place', 'place:', 'placed', 'places', 'placing', 'plague', 'plain', 'plainly', 'plains', 'plan', 'plane', 'plane:pouting_face:', 'planes', 'planet', 'planing', 'planned', 'planner', 'planning', 'plans', 'plants', 'plastic', 'plat', 'plate', 'platinum', 'platinumeventually', 'platitudes', 'platter', 'play', 'playa', 'played', 'player', 'players', 'playing', 'playlist', 'pleading', 'pleads', 'pleasant', 'pleasantly', 'please', 'pleased', 'pleaseeee', 'pleaseeeeee', 'pleasent', 'pleasure', 'plebes', 'pleeease', 'pleeeeeeeease', 'plenty', 'plot', 'ploughs', 'plow', 'plowing', 'plows', 'plug', 'plumber', 'plundering', 'plus', 'ply', 'pocket', 'pockets', 'pod', 'podium', 'pods', 'point', 'point:', 'point:raising_hands:', 'pointed', 'pointer', 'pointing', 'pointless', 'points', 'pointy', 'poisoning', 'poker', 'poles', 'police', 'policies', 'policy', 'polite', 'politely', 'poms', 'pooch', 'pool', 'pooling', 'poop', 'poor', 'poorest', 'poorly', 'poorplanning', 'pop', 'popped', 'popping', 'pops', 'popular', 'populate', 'porn', 'port', 'portable', 'portal', 'portfolio', 'portion', 'portland', 'portrayed', 'ports', 'portsmouth', 'pos', 'posers', 'position', 'positions', 'positive', 'possession', 'possessions', 'possibilities', 'possibility', 'possible', 'possibly', 'post', 'postcode', 'posted', 'posting', 'postpone', 'posts', 'potable', 'potatoes', 'potential', 'potentially', 'potus', 'poughkeepsie', 'pound', 'pounding', 'pounds', 'pouting', 'powder', 'power', 'powered', 'powers', 'pox', 'pple', 'practical', 'practice', 'practices', 'praise', 'praised', 'praises', 'prank', 'pray', 'prayer', 'praying', 'pre', 'preboarding', 'precious', 'precipitation', 'precludes', 'predict', 'predictable', 'predicted', 'predictive', 'preemptive', 'preexisting', 'pref', 'prefer', 'preferably', 'preference', 'preferences', 'preferred', 'preflight', 'prefundia:', 'pregame', 'preggo', 'pregnant', 'prem', 'premier', 'premiere', 'premiers', 'premium', 'preoccupied', 'prep', 'preparation', 'preparations', 'prepare', 'prepared', 'preparedness', 'prepares', 'prerecorded', 'preregistration', 'pres', 'prescreen', 'present', 'presentation', 'presented', 'presenting', 'president', 'presidential', 'press', 'pressed', 'pressure', 'pressurization', 'presumably', 'pretend', 'pretending', 'pretty', 'pretzels', 'prevent', 'preventable', 'preventative', 'prevented', 'preventing', 'prevention', 'previous', 'previously', 'pri', 'price', 'priced', 'priceless', 'prices', 'pricey', 'pricing', 'pricy', 'pride', 'prime', 'prince', 'princess', 'princesses', 'principle', 'print', 'printed', 'printer', 'printers', 'prior', 'priorities', 'prioritize', 'priority', 'prison', 'priv', 'private', 'privilege', 'privileges', 'prize', 'prized', 'pro', 'proactive', 'proactively', 'prob', 'probability', 'probably', 'probes', 'problem', 'problematic', 'problems', 'probs', 'procedure', 'procedures', 'proceed', 'proceeded', 'process', 'process:', 'processed', 'processes', 'processing', 'produce', 'produced', 'product', 'productivity', 'prof', 'professional', 'professionalism', 'professionals', 'professor', 'professors', 'proficient', 'profile', 'profit', 'profitability', 'profitable', 'profiting', 'profits', 'program', 'program:', 'programmers', 'programming', 'programs', 'progress', 'progressed', 'prohibits', 'project', 'projects', 'prolly', 'prolonged', 'prom', 'promise', 'promised', 'promises', 'promising', 'promo', 'promos', 'promoting', 'promotion', 'promotions', 'prompt', 'prompted', 'prompting', 'promptly', 'prompts', 'pronounce', 'proof', 'proof:', 'proper', 'properly', 'property', 'proportion', 'proposal', 'propositioned', 'props', 'pros', 'prospective', 'protect', 'protected', 'protection', 'protest', 'protocol', 'protocols', 'proud', 'prove', 'provide', 'provided', 'providence', 'providenciales', 'provider', 'provides', 'providing', 'proving', 'provo', 'ps:', 'psa', 'pseudo', 'pssngrs', 'psych', 'psychological', 'pty', 'pu', 'pub', 'public', 'publicity', 'publicly', 'published', 'puerto', 'pull', 'pulled', 'pullin', 'pulling', 'pulls', 'pulse', 'pum', 'pummeled', 'pump', 'pumping', 'pumps', 'punished', 'punta', 'puppy', 'purchase', 'purchased', 'purchasing', 'pure', 'purely', 'purifier', 'purpose', 'purse', 'push', 'pushback', 'pushed', 'pushing', 'pushy', 'put', 'puts', 'putting', 'q:', 'qantas', 'qi', 'qqbmug', 'qsvgru', 'quadruples', 'qualification', 'qualified', 'qualifies', 'qualify', 'quality', 'quantas', 'quarter', 'que', 'queensboro', 'queries', 'query', 'question', 'question:', 'question:are', 'questions', 'queue', 'queues', 'queuing', 'quiche', 'quick', 'quicker', 'quickest', 'quickie', 'quickly', 'quiet', 'quietly', 'quintana', 'quirkiness', 'quirky', 'quit', 'quite', 'quito', 'quitting', 'quotations', 'quote', 'quoted', 'quoting', 'rabbits', 'race', 'races', 'rachel', 'racist', 'rack', 'rad', 'radio', 'radish', 'raft', 'rage', 'ragtag', 'railed', 'rain', 'rainy', 'raise', 'raised', 'raising', 'raleigh', 'ralph', 'ramp', 'ramps', 'ran', 'random', 'randomly', 'rang', 'range', 'ranging', 'ranked', 'rant', 'ranting', 'rapid', 'rapidly', 'rapids', 'raps', 'rare', 'rarely', 'ratchet', 'rate', 'rated', 'rates', 'rather', 'rating', 'ratings', 'rats', 'raving', 'ravioli', 'ray', 'razor', 're', 're:', 're:weather', 'reach', 'reachable', 'reached', 'reaches', 'reaching', 'react', 'reactions', 'reactivate', 'reactivation', 'reactive', 'read', 'reader', 'readers', 'readied', 'readily', 'reading', 'reads', 'ready', 'reagan', 'real', 'realise', 'realistic', 'realistically', 'reality', 'realize', 'realized', 'realizing', 'really', 'realtime', 'reappeared', 'rear', 'rearrange', 'reason', 'reason:', 'reasonable', 'reasonably', 'reasons', 'reassess', 'reassign', 'reassigned', 'rebecca', 'reboard', 'rebook', 'rebooked', 'reboot', 'rebooting', 'rebuilding', 'rec', 'recap', 'receipt', 'receipts', 'receive', 'received', 'received:', 'receives', 'receiving', 'recent', 'recently', 'recharging', 'recheck', 'rechecked', 'recieved', 'reciprocate', 'reckless', 'reclaim', 'recline', 'reclining', 'recognition', 'recognize', 'recognized', 'recommend', 'recommendation', 'recommended', 'reconnected', 'reconsider', 'reconsidering', 'record', 'record:', 'recorded', 'recording', 'recordings', 'records', 'recouping', 'recourse', 'recover', 'recovered', 'recovering', 'recovery', 'recruiter', 'recruiting', 'rectified', 'rectify', 'recycle', 'red', 'reddit', 'redeem', 'redeemed', 'redeeming', 'redemption', 'redesign', 'redeye', 'redirect', 'redirected', 'redirects', 'redo', 'reduce', 'reduced', 'reduction', 'reeks', 'reevaluate', 'ref', 'refer', 'reference', 'referencing', 'referral', 'referred', 'referring', 'refers', 'reflect', 'reflection', 'reform', 'refrain', 'refresh', 'refreshed', 'refresher', 'refreshes', 'refreshing', 'refreshments', 'refs', 'refuel', 'refueled', 'refueling', 'refund', 'refundable', 'refunded', 'refunding', 'refunds', 'refurbish', 'refuse', 'refused', 'refuses', 'refusing', 'regains', 'regard', 'regarding', 'regardless', 'regards', 'regina', 'regional', 'register', 'registered', 'registering', 'registers', 'registration', 'regret', 'regretting', 'regular', 'regularly', 'regulation', 'regulations', 'reigning', 'reimburse', 'reimbursed', 'reimbursement', 'reinforcements', 'reinstate', 'reinstated', 'reinstating', 'reinvest', 'reissue', 'reissued', 'reiterate', 'rejected', 'rejecting', 'relate', 'relations', 'relations@aa', 'relations@usairways', 'relationship', 'relationships', 'relative', 'relatives', 'relax', 'relaxing', 'relay', 'relayed', 'release', 'released', 'releasing', 'relevant', 'reliability', 'reliable', 'relied', 'relief', 'relieved', 'relight', 'reload', 'reluctant', 'rely', 'relying', 'rem', 'remain', 'remained', 'remaining', 'remains', 'remake', 'remarks', 'remedy', 'remember', 'remembered', 'remembering', 'remembers', 'remind', 'reminded', 'reminder', 'reminder:', 'reminding', 'reminds', 'remorse', 'remote', 'remotely', 'removal', 'remove', 'removed', 'removes', 'removing', 'renewed', 'reno', 'rent', 'rental', 'rentals', 'rented', 'renting', 'reopen', 'reopened', 'reopens', 'rep', 'repaid', 'repainted', 'repair', 'repaired', 'repartee', 'repeat', 'repeatable', 'repeated', 'repeatedly', 'repeating', 'replace', 'replaced', 'replacement', 'replacing', 'replicate', 'replied', 'replies', 'reply', 'replying', 'report', 'reported', 'reporter', 'reporting', 'reports', 'reposted', 'repping', 'reprehensible', 'represent', 'representative', 'representatives', 'representing', 'represents', 'reproach', 'reps', 'republic', 'republican', 'reputation', 'req', 'request', 'request:', 'requested', 'requesting', 'requests', 'require', 'required', 'requirement', 'requirements', 'requires', 'requiring', 'reroute', 'rerouted', 'rerunning', 'res', 'reschedule', 'rescheduled', 'rescheduling', 'rescue', 'rescued', 'research', 'researching', 'resell', 'resend', 'resent', 'resenting', 'reservation', 'reservations', 'reserve', 'reserved', 'reset', 'residing', 'resolution', 'resolutions', 'resolve', 'resolved', 'resolving', 'resort', 'resorting', 'resource', 'resources', 'respect', 'respectful', 'respects', 'respond', 'responded', 'responding', 'responds', 'response', 'response:', 'responses', 'responsibility', 'responsible', 'responsive', 'responsiveness', 'rest', 'restating', 'resting', 'restless', 'restore', 'restored', 'restriction', 'restrictions', 'restroom', 'restrooms', 'restructured', 'result', 'result:', 'resulted', 'resulting', 'results', 'resume', 'retailer', 'retain', 'retaining', 'retains', 'retards', 'rethink', 'rethinking', 'retire', 'retired', 'retiring', 'retook', 'retracted', 'retrain', 'retribution', 'retrieve', 'retrieved', 'retroactively', 'return', 'returned', 'returning', 'returns', 'retweet', 'retweeted', 'retweets', 'reunion', 'reunited', 'reuniting', 'reuse', 'reveal', 'reveals', 'revenue', 'revers', 'reverse', 'reversed', 'reverted', 'review', 'reviewed', 'reviewing', 'revision', 'revisiting', 'revive', 'revolt', 'revs', 'revue', 'reward', 'rewards', 'rez', 'rhonda', 'ri', 'ric', 'rica', 'ricardo', 'rich', 'richard', 'rick', 'ricky', 'rico', 'rid', 'ride', 'rides', 'rideshare', 'ridic', 'ridicules', 'ridiculous', 'ridiculously', 'riedel', 'rifle', 'rig', 'right', 'right_arrow:', 'rights', 'rigorous', 'rim', 'ring', 'ringing', 'ringling', 'rings', 'riot', 'rip', 'ripoff', 'ripped', 'ripping', 'rise', 'rising', 'risk', 'rita', 'ritz', 'rivals', 'rivets', 'rly', 'rndtrp', 'road', 'roadmap', 'roads', 'roadtrip', 'roanoke', 'roar', 'roasted', 'rob', 'robbed', 'robbing', 'robert', 'roberto', 'roberts', 'robin', 'robinson', 'robocall', 'robot', 'robotic', 'robotweeting', 'robyn', 'roc', 'rochelle', 'rock', 'rock:smiling_face_with_sunglasses:', 'rocked', 'rockers', 'rockies', 'rocking', 'rocks', 'rocky', 'rodeo', 'roger', 'role', 'roll', 'rollaboard', 'rolled', 'rollerboards', 'rollercoaster', 'rollers', 'rolling', 'romana', 'roo', 'rookie', 'room', 'rooms', 'rosetta', 'rotten', 'rough', 'round', 'roundtrip', 'route', 'routed', 'router', 'routes', 'routine', 'routinely', 'routing', 'row', 'rows', 'royal', 'royally', 'rse', 'rt@jetblue:', 'ru', 'rubbed', 'rubber', 'rubbish', 'rubs', 'rude', 'rudely', 'rudeness', 'rudest', 'rudestaff', 'ruin', 'ruined', 'ruining', 'ruins', 'rule', 'rules', 'rules:', 'rum', 'rumor', 'rumors', 'run', 'runaround', 'runners', 'runnin', 'running', 'runs', 'runway', 'runways', 'rush', 'rushed', 'russ', 'russell', 'russia', 'rustic', 'rusty', 'ruth', 'sabe', 'sabotaging', 'sabre', 'sac', 'sacramento', 'sacs', 'sad', 'saddened', 'saddening', 'saddens', 'sadly', 'saf', 'safari', 'safe', 'safely', 'safer', 'safety', 'saga', 'said', 'saidi', 'sailed', 'sailor', 'saipan', 'sal', 'salad', 'sale', 'salem', 'sales', 'salisbury', 'sally', 'salon', 'salt', 'salted', 'salvaged', 'sam', 'samantha', 'samartzis', 'same', 'sample', 'san', 'sand', 'sandra', 'sandwich', 'sandwiches', 'sang', 'sanitized', 'sanitizer', 'sanity', 'santa', 'santo', 'sao', 'sap', 'sapphire', 'sarah', 'sarcasm', 'sarcastic', 'sarcastically', 'sardine', 'sarita', 'sass', 'sat', 'satellite', 'satisfaction', 'satisfactorily', 'satisfactory', 'satisfy', 'sato', 'saturday', 'saturdays', 'sauce', 'sauna', 'sauvignon', 'sav', 'savannah', 'save', 'saved', 'saver', 'saves', 'saving', 'savings', 'saviour', 'saw', 'say', 'sayin', 'saying', 'says', 'says:', 'scale', 'scalpel', 'scam', 'scan', 'scandal', 'scanned', 'scare', 'scared', 'scarf', 'scarran', 'scary', 'scattered', 'scavenger', 'scenario', 'scenarios', 'scene', 'scenes', 'scent', 'sched', 'schedule', 'scheduled', 'schedules', 'scheduling', 'scheme', 'scheming', 'schiphol', 'school', 'schooler', 'schoolgirl', 'schools', 'science', 'scolding', 'scollegelondon', 'scooby', 'scoop', 'scoot', 'scope', 'scotch', 'scott', 'scramble', 'scratching', 'screakjmf', 'scream', 'screaming', 'screen', 'screencap', 'screening', 'screenings', 'screens', 'screensand', 'screenshot', 'screw', 'screwed', 'screwing', 'screws', 'scroll', 'scrum', 'scud', 'sea', 'sea:airplane:bos', 'seam', 'seamless', 'seams', 'sean', 'search', 'searched', 'searching', 'season', 'seasonal', 'seat', 'seatback', 'seatbelt', 'seated', 'seating', 'seats', 'seats:', 'seattle', 'sec', 'second', 'secondary', 'secondly', 'seconds', 'secret', 'secrets', 'secs', 'section', 'sections', 'sector', 'secure', 'secured', 'securing', 'security', 'see', 'seeing', 'seek', 'seeking', 'seeks', 'seem', 'seemed', 'seems', 'seen', 'sees', 'seet', 'seetonight', 'seg', 'segment', 'segments', 'segway', 'sehr', 'select', 'selected', 'selected:thumbs_down:', 'selecting', 'selection', 'selections', 'selects', 'self', 'selfie', 'selfies', 'sell', 'selling', 'sellout', 'selves', 'semantics', 'semester', 'sen', 'send', 'sending', 'sends', 'senior', 'sense', 'senseless', 'senses', 'sensitive', 'sent', 'sentiment', 'sentimental', 'sentinel', 'sep', 'separate', 'separated', 'separately', 'separating', 'sept', 'september', 'ser', 'series', 'serious', 'seriously', 'seriousness', 'serv', 'serve', 'served', 'servers', 'serves', 'service', 'service:', 'service:victory_hand:', 'serviced', 'services', 'servicing', 'serving', 'session', 'set', 'sets', 'setting', 'settle', 'settled', 'setup', 'sev', 'seven', 'several', 'severally', 'severe', 'severely', 'sex', 'sexual', 'sexually', 'sexy', 'shade', 'shades', 'shadier', 'shady', 'shaker', 'shaking', 'shaky', 'shall', 'sham', 'shambles', 'shame', 'shameful', 'shampoo', 'shanghai', 'shannon', 'shaquille', 'share', 'shared', 'shares', 'sharing', 'sharon', 'sharp', 'shattered', 'shawn', 'she', 'sheer', 'sheesh', 'sheila', 'shelf', 'shenanigans', 'shes', 'shift', 'shifts', 'shin', 'shined', 'ship', 'shipped', 'shipping', 'shirt', 'shirts', 'shit', 'shits', 'shitting', 'shitty', 'shiver', 'shiz', 'shock', 'shocked', 'shocker', 'shocking', 'shoddy', 'shoe', 'shoes', 'shoot', 'shopping', 'short', 'short:', 'shortage', 'shortcomings', 'shortcuts', 'shortly', 'shorts', 'shot', 'shots', 'should', \"should've\", 'shoulda', 'shoulder', 'shoulders', 'shouldn', 'shouldnt', 'shout', 'shoutout', 'show', 'showed', 'shower', 'showing', 'shown', 'shows', 'shrimp', 'shrug', 'shrugging', 'shucks', 'shuffle', 'shush', 'shut', 'shutting', 'shuttle', 'shuttles', 'siberia', 'sibling', 'siblings', 'sick', 'sickcrew', 'side', 'sided', 'sides', 'sigh', 'sighed', 'sight', 'sign', 'signage', 'signal', 'signed', 'significant', 'significantly', 'signing', 'signs', 'signup', 'sil', 'silence', 'silencio', 'silicon', 'sill', 'silly', 'silver', 'similar', 'simple', 'simplify', 'simply', 'simultaneously', 'since', 'sincere', 'sincerely', 'sine', 'sing', 'singapore', 'singer', 'singing', 'single', 'sink', 'sinuses', 'sir', 'sirius', 'sis', 'sister', 'sisters', 'sit', 'site', 'site:', 'sites', 'site—it', 'siting', 'sits', 'sitters', 'sittin', 'sitting', 'situation', 'situations', 'siva', 'six', 'size', 'sized', 'skateboard', 'skateboards', 'sked', 'ski', 'skies', 'skiing', 'skilled', 'skillful', 'skills', 'skin', 'skip', 'skipper', 'skis', 'sky', 'skybax', 'skycap', 'skymall', 'skype…well', 'skys', 'skyscanner', 'slammed', 'slapped', 'slash', 'slavery', 'sledge', 'sleekmoney', 'sleep', 'sleeping', 'sleepless', 'sleepy', 'sleet', 'slept', 'slew', 'sliced', 'slide', 'slides', 'slight', 'slightly', 'slime', 'slip', 'sliver', 'slog', 'slogan', 'slopes', 'sloppy', 'slots', 'slow', 'slowdown', 'slower', 'slowest', 'slowing', 'slowly', 'slowness', 'sly', 'sma', 'small', 'smaller', 'smallest', 'smalls', 'smart', 'smarter', 'smashed', 'smattering', 'smell', 'smelled', 'smells', 'smelly', 'smile', 'smiles', 'smiling', 'smisek:', 'smith', 'smo', 'smoking', 'smooth', 'smoothest', 'smoothie', 'smoothly', 'snack', 'snacks', 'snacks:winking_face:', 'snafu', 'snag', 'snagging', 'snags', 'snapchat', 'snapped', 'snaps', 'sneaky', 'snit', 'snobby', 'snoop', 'snow', 'snowballed', 'snowboard', 'snowbound', 'snowfall', 'snowing', 'snowstorm', 'snowstorms', 'snowy', 'snuck', 'so', 'soaked', 'soaking', 'sobbed', 'sobbing', 'soc', 'social', 'society', 'sock', 'socket', 'soda', 'soft', 'software', 'sol', 'solar', 'sold', 'sole', 'solid', 'solo', 'solution', 'solutions', 'solve', 'solved', 'solves', 'solving', 'sombras', 'some', 'somebody', 'somehow', 'someone', 'someones', 'someother', 'something', 'sometime', 'sometimes', 'somewhat', 'somewhere', 'somthing', 'son', 'song', 'songs', 'sons', 'soon', 'sooner', 'sooo', 'soooo', 'sooooo', 'soooooo', 'sop', 'sorr', 'sorry', 'sort', 'sorta', 'sorted', 'sorting', 'sos', 'soul', 'sound', 'sounded', 'sounding', 'sounds', 'sour', 'soured', 'sous', 'south', 'southern', 'southwest', 'sox', 'space', 'spaced', 'spaces', 'spade', 'spaghetti', 'spagnuolo', 'spain', 'spam', 'span', 'spanish', 'spare', 'sparkled', 'speak', 'speaking', 'speaks', 'spear', 'spec', 'special', 'specialist', 'specially', 'specials', 'specific', 'specifically', 'specifics', 'specified', 'spectacular', 'speechless', 'speed', 'speeds', 'speedy', 'spell', 'spelled', 'spelling', 'spend', 'spending', 'spends', 'spent', 'spiced', 'spilled', 'spin', 'spirit', 'spirited', 'spirits', 'spite', 'split', 'splits', 'splitting', 'spoil', 'spoiled', 'spoke', 'spoken', 'sponsor', 'sponsorship', 'spontaneously', 'spook', 'spooky', 'sporadically', 'sport', 'sporting', 'sports', 'spot', 'spots', 'spotting', 'spotty', 'sprawled', 'spread', 'spreading', 'spring', 'springs', 'sprinkled', 'sprint', 'sprinted', 'sprinting', 'spruce', 'spy', 'squared', 'squarely', 'squashed', 'squawked', 'squawking', 'squeaks', 'squished', 'sre', 'sri', 'srv:', 'stable', 'stacey', 'stackhouse', 'stacy', 'stadium', 'staff', 'staffed', 'staffer', 'staffers', 'staffing', 'stage', 'stagnant', 'stahhppp', 'stains', 'stair', 'stairs', 'stairway', 'stall', 'stamp', 'stand', 'standard', 'standards', 'standby', 'standbys', 'standing', 'stanford', 'star', 'starboard', 'starbucks', 'stare', 'staring', 'stars', 'start', 'started', 'starting', 'startled', 'startling', 'starts', 'starving', 'stat', 'state', 'stated', 'statement', 'states', 'states:', 'static', 'stating', 'station', 'stationary', 'stations', 'stats', 'status', 'status:', 'stay', 'stayed', 'staying', 'stays', 'steal', 'stealing', 'steam', 'steamboat', 'steamed', 'steaming', 'steel', 'steep', 'steered', 'steering', 'stellar', 'step', 'stepped', 'stepping', 'steps', 'steve', 'stevie', 'steward', 'stewardess', 'stewardesses', 'stewardesses:', 'stewart', 'sti', 'stick', 'sticker', 'sticking', 'sticks', 'stiiiil', 'still', 'stilling', 'stink', 'stinkiest', 'stinks', 'stock', 'stocking', 'stoked', 'stole', 'stolen', 'stone', 'stonewalled', 'stood', 'stop', 'stopover', 'stopped', 'stopping', 'stops', 'storage', 'store', 'stories', 'storm', 'storms', 'story', 'story:', 'stow', 'stowaway', 'straight', 'straighten', 'straightened', 'strand', 'stranded', 'stranding', 'strange', 'stranger', 'strangers', 'strategy', 'stray', 'strayed', 'straying', 'stream', 'streaming', 'streamline', 'street', 'streets', 'streetwise', 'strength', 'stress', 'stressed', 'stressful', 'stressors', 'stretch', 'stretching', 'strict', 'strike', 'strikes', 'string', 'strip', 'strips', 'strive', 'strives', 'stroller', 'strollers', 'strong', 'strongly', 'structure', 'structures', 'struggle', 'struggling', 'struts', 'stubborn', 'stubbornly', 'stuck', 'stucked', 'student', 'students', 'study', 'studying', 'stuff', 'stuffing', 'stuffy', 'stunned', 'stunning', 'stupid', 'stupidity', 'stupidly', 'style', 'stylesheets', 'styling', 'su', 'sub', 'submit', 'submits', 'submitted', 'submitting', 'subpar', 'subscribe', 'subscription', 'subsequent', 'subsequently', 'substandard', 'substantial', 'substitute', 'substitutes', 'subterfuge', 'subtlety', 'success', 'successful', 'such', 'suck', 'sucked', 'sucking', 'sucks', 'sudden', 'suddenly', 'sudeep', 'sue', 'suffer', 'suffered', 'suffering', 'sufficiently', 'sugar', 'sugary', 'suggest', 'suggested', 'suggesting', 'suggestion', 'suggestion:', 'suggestions', 'suggestions:', 'suggests', 'suh', 'suicide', 'suit', 'suitcase', 'suitcases', 'suite', 'suites', 'suits', 'sulu', 'sum', 'summer', 'summit', 'sums', 'sun', 'sunburn', 'sunday', 'sundays', 'sundown', 'sunglasses', 'sunny', 'sunrises', 'sunset', 'sunshine', 'sup', 'super', 'superb', 'superhero', 'superior', 'superiors', 'supers', 'superstars', 'supervisor', 'supervisors', 'supp', 'supplies', 'supply', 'support', 'supported', 'supporter', 'supporting', 'suppose', 'supposed', 'supposedly', 'suprise', 'surcharge', 'sure', 'sure:ok_hand:', 'surely', 'surf', 'surfboard', 'surfboardbag', 'surfer', 'surgeries', 'surgery', 'surgeryhelp', 'surliness', 'surly', 'surname', 'surprise', 'surprised', 'surprises', 'surprisingly', 'surreal', 'surrounding', 'survey', 'surveying', 'surveys', 'survive', 'susan', 'suspect', 'suspended', 'suuuuper', 'sux', 'svu', 'sw:airplane:', 'swa', 'swag', 'swallowed', 'swamped', 'swanky', 'swap', 'swapped', 'swapping', 'sway', 'swear', 'sweat', 'sweatshirt', 'sweaty', 'sweeps', 'sweepstakes', 'sweet', 'sweetheart', 'sweethearts', 'swell', 'swift', 'swimsuits', 'swindle', 'swing', 'swipe', 'swiss', 'switch', 'switched', 'switching', 'swivel', 'swooped', 'sw”followed', 'sybil', 'syd', 'sydney', 'sylvie', 'sympathetic', 'sympathize', 'sympathy', 'sync', 'synch', 'synergy', 'synonymous', 'syracuse', 'sys', 'system', 'systemic', 'systems', 'systemwide', 'ta', 'tab', 'tabitha', 'table', 'tables', 'tablet', 'tablets', 'tabs', 'tac', 'tacky', 'tactic', 'tactics', 'tad', 'tag', 'tag:', 'tagged', 'tagging', 'tags', 'tahiti', 'tail', 'tailfin', 'tails', 'tailwind', 'tailwinds', 'taiwan', 'take', 'taken', 'takeoff', 'takers', 'takes', 'taking', 'talent', 'talents', 'talk', 'talked', 'talking', 'talks', 'tallahassee:', 'taller', 'tamara', 'tammy', 'tampa', 'tan', 'tandoori', 'tank', 'tanked', 'tanya', 'tap', 'taped', 'taping', 'tar', 'tara', 'target', 'targeting', 'tarmac', 'tasha', 'taste', 'tastes', 'tasty', 'tatiana', 'tattoo', 'tax', 'taxes', 'taxi', 'taxies', 'taxiing', 'taxing', 'taxis', 'taxiway', 'taylor', 'tea', 'teach', 'teaching', 'team', 'teammate', 'teams', 'tear', 'tears', 'tech', 'technical', 'technically', 'technology', 'ted', 'tedious', 'teeming', 'teen', 'teenager', 'teens', 'teeth', 'tel', 'telephone', 'telephones', 'teleportation', 'television', 'tell', 'telling', 'tells', 'temp', 'temper', 'temperature', 'template', 'temporary', 'temps', 'tempting', 'ten', 'tenant', 'tendon', 'tennis', 'tense', 'tent', 'tequila', 'term', 'terminal', 'terminals', 'terminology', 'terms', 'terra', 'terri', 'terrible', 'terribly', 'terrific', 'terrifyingly', 'terror', 'terry', 'test', 'testing', 'tests', 'texarkana', 'texas', 'text', 'texted', 'texting', 'texts', 'thai', 'thaiairways', 'thailand', 'than', 'thank', 'thanked', 'thankful', 'thankfully', 'thanking', 'thanks', 'thankyou', 'thanx', 'that', \"that's\", 'thats', 'thatthis', 'thaw', 'the', 'thee', 'theft', 'their', 'them', 'themed', 'themselves', 'then', 'there', \"there's\", 'therefore', 'theres', 'these', \"thev're\", 'thevery', 'they', \"they're\", 'thick', 'thickens', 'thier', 'thieves', 'thin', 'thing', 'things', 'think', 'thinking', 'thinkof', 'thinks', 'thinner', 'third', 'thirty', 'this', 'this:', 'this:folded_hands:', 'thne', 'tho', 'thomas', 'thor', 'those', 'those:face_with_tears_of_joy:', 'thou', 'though', 'thought', 'thoughtful', 'thoughts', 'thoughts:', 'thousand', 'thousands', 'thousandth', 'thre', 'thread', 'threat', 'threatened', 'threatening', 'threatens', 'three', 'threw', 'thrilled', 'thrombosis', 'throne', 'throug', 'through', 'throughout', 'throw', 'thrower', 'throwing', 'thrown', 'thru', 'thu', 'thursday', 'thus', 'thy', 'tia', 'tic', 'tick', 'ticked', 'ticket', 'ticketed', 'ticketing', 'tickets', 'ticks', 'tico', 'tidbit', 'tide', 'tides', 'tied', 'tier', 'ties', 'tiffany', 'tight', 'tighter', 'til', 'till', 'tim', 'time', 'time:pouting_face:', 'timed', 'timeliness', 'timeliness:', 'timely', 'times', 'timing', 'tiny', 'tip', 'tips', 'tire', 'tired', 'tiredandwanttogohome', 'tiredcustomer', 'tis', 'tissues', 'tit', 'title', 'tits', 'tix', 'tke', 'tlhe', 'to', 'toby', 'tock', 'today', 'today:', 'todays', 'toddler', 'toddlers', 'toes', 'together', 'toilet', 'toiletries', 'toilets', 'tok', 'token', 'tokyo', 'told', 'toledo', 'tolerable', 'toll', 'tollfree:', 'tom', 'tomo', 'tomorro', 'tomorrow', 'tomorrows', 'ton', 'tone', 'tones', 'tongue', 'tonic', 'tonight', 'tonite', 'tonnes', 'tons', 'too', 'too:smiling_face_with_smiling_eyes:', 'too:thumbs_up:', 'took', 'tool', 'tooling', 'tools', 'toothpaste', 'top', 'toplay', 'topping', 'tops', 'tore', 'toronto', 'torture', 'tortured', 'tory', 'tos', 'toss', 'tossed', 'total', 'totaled', 'totally', 'totes', 'totoro', 'touch', 'touchdown', 'touched', 'touching', 'tough', 'tour', 'tourist', 'tourist:', 'tourists', 'touting', 'tow', 'toward', 'towards', 'towed', 'tower', 'town', 'towns', 'toys', 'tpa', 'trace', 'tracing', 'track', 'tracker', 'tracking', 'tracks', 'trade', 'trading', 'traditionally', 'traditions', 'traffic', 'train', 'trained', 'training', 'trains', 'transaction', 'transactional', 'transactions', 'transatlantic', 'transcontinental', 'transf', 'transfer', 'transferable', 'transferred', 'transferring', 'transfers', 'transformative', 'transit', 'transition', 'translation:', 'transpacific', 'transparency', 'transparent', 'transpired', 'transport', 'transportation', 'transported', 'transports', 'trap', 'trapped', 'traps', 'trash', 'trashy', 'travel', 'travelbank', 'traveled', 'traveler', 'travelers', 'traveling', 'travelled', 'traveller', 'travellers', 'travelling', 'travelocity', 'travelpulse', 'travels', 'travis', 'tray', 'treacherous', 'treasure', 'treat', 'treated', 'treating', 'treatment', 'treats', 'treble', 'tree', 'trees', 'tremendous', 'tremendously', 'trend', 'trending', 'trent', 'triage', 'trial', 'trials', 'trick', 'trickling', 'tricks', 'tried', 'tries', 'trip', 'trip:', 'tripitpro', 'triple', 'tripping', 'trips', 'trite', 'trivia', 'trivialize', 'trol', 'troops', 'tropic', 'troubadour', 'trouble', 'troubles', 'troubleshoot', 'troubling', 'troy', 'tru', 'truck', 'true', 'truly', 'trumping', 'trust', 'trusted', 'truth', 'truthful', 'try', 'tryin', 'trying', 'tryna', 'tryng', 'trys', 'tsa', 'tsaprecheck', 'tu', 'tub', 'tucking', 'tucson', 'tue', 'tues', 'tuesday', 'tug', 'tulsa', 'tummy', 'tuned', 'turbulence', 'turkish', 'turn', 'turnaround', 'turned', 'turning', 'turns', 'turquoise', 'tus', 'tux', 'twa', 'tweak', 'tweet', 'tweeted', 'tweeter', 'tweeting', 'tweets', 'twelve', 'twenty', 'twice', 'twin', 'twins', 'twist', 'twitter', 'twitter:', 'two', 'ty', 'tym', 'type', 'typical', 'typically', 'typing', 'typo', 'tyr', 'tyson', 'u', 'u:smiling_cat_with_heart', 'ua', 'ual', 'ud', 'uf', 'ufc', 'ugh', 'uh', 'uk', 'ultimately', 'ultralight', 'um', 'umm', 'ummm', 'ump', 'umpteen', 'un', 'unable', 'unacceptable', 'unaccomidating', 'unaccompanied', 'unaccounted', 'unamerican', 'unannounced', 'unanswered', 'unanticipated', 'unapologetic', 'unavailable', 'unavoidable', 'unaware', 'unbalanced', 'unbelievable', 'unbelievably', 'uncalled', 'uncaring', 'uncertainty', 'uncharacteristic', 'uncle', 'unclear', 'uncomfortable', 'uncompromising', 'unconscionable', 'uncontrollable', 'uncontrollably', 'uncool', 'und', 'undefined', 'under', 'undergoing', 'undermines', 'underserved', 'understaffed', 'understaffing', 'understand', 'understandable', 'understandably', 'understanding', 'understands', 'understatement', 'understood', 'underway', 'underweight', 'undetermined', 'undies', 'undignified', 'undone', 'undue', 'uneducated', 'unemployment', 'uneventful', 'unexpectable', 'unexpected', 'unexplained', 'unfair', 'unfamiliar', 'unfold', 'unfollow', 'unforeseeable', 'unfortunate', 'unfortunately', 'unfriendly', 'unhappy', 'unheard', 'unhelpful', 'uniform', 'unimpressed', 'uninformed', 'unite', 'united', 'united:', 'unitedfail', 'unitedfirst', 'universally', 'university', 'unknown', 'unless', 'unlike', 'unlikely', 'unload', 'unloaded', 'unloading', 'unloads', 'unlucky', 'unmanned', 'unmet', 'unmissable', 'unmonitored', 'unmoving', 'unnecessarily', 'unnecessary', 'unnerved', 'unnerving', 'unnoticed', 'unorganized', 'unplanned', 'unpleasant', 'unprecedented', 'unpredictable', 'unprepared', 'unproductive', 'unprofessional', 'unprofessionally', 'unreachable', 'unreal', 'unrealistic', 'unreasonable', 'unrelated', 'unreliable', 'unresolved', 'unrivalled', 'unsafe', 'unscheduled', 'unseat', 'unsecured', 'unserviceable', 'unsettling', 'unsolicited', 'unspecified', 'unsuccessful', 'unsuitable', 'unsure', 'unsympathetic', 'unt', 'until', 'unto', 'untrained', 'untrue', 'untruthful', 'unusable', 'unused', 'unusual', 'unveils', 'unwilling', 'unwind', 'unwise', 'up', 'up:', 'upcoming', 'update', 'update:', 'updated', 'updates', 'updating', 'upgrade', 'upgrade:winking_face:', 'upgraded', 'upgrades', 'upgrading', 'uphold', 'upholding', 'uplink', 'upload', 'upon', 'upp', 'ups', 'upsell', 'upset', 'upsetting', 'upstate', 'ur', 'urged', 'urgency', 'urgent', 'urgently', 'us', 'us:', 'usa', 'usable', 'usage', 'usain', 'usaiways', 'usb', 'usd', 'use', 'useable', 'used', 'useful', 'useless', 'user', 'username', 'users', 'uses', 'usi', 'using', 'usual', 'usually', 'usurious', 'utah', 'ute', 'utevgw', 'utilize', 'utmost', 'utterly', 'va', 'vaca', 'vacancies', 'vacate', 'vacation', 'vacationing', 'vacations', 'vacay', 'vaderland', 'vague', 'vail', 'valentine', 'valentines', 'valet', 'valid', 'validity', 'vallarta', 'valley', 'valleys', 'valuable', 'valuables', 'value', 'valued', 'values', 'valuing', 'van', 'vancouver', 'vanished', 'vanity', 'vape', 'various', 'vary', 'vastly', 've', 'veers', 'veg', 'vegan', 'vegas', 'vegetarian', 'veggies', 'vein', 'velcro', 'velour', 'vendor', 'venetian', 'venezuela', 'vent', 'ventilation', 'vents', 'venture', 'verbal', 'verbally', 'verbiage', 'verification', 'verified', 'verifies', 'verify', 'vermont', 'versa', 'versace', 'version', 'versions', 'versus', 'very', 'vet', 'veterans', 'vets', 'via', 'viable', 'vibe', 'vibrant', 'vice', 'vicky', 'victim', 'victoria', 'video', 'videos', 'videos:', 'view', 'views', 'vile', 'village', 'villages', 'vineyard', 'vino', 'vinyl', 'violation', 'vip', 'vipswagbags@', 'virgin', 'virgin:sparkles:', 'virginamerica', 'virginia', 'virtual', 'virtually', 'virtues', 'virus', 'visa', 'visible', 'visibly', 'vision', 'visit', 'visiting', 'visors', 'vital', 'vmsg:', 'vocab', 'voice', 'voicemail', 'voided', 'volkswagen', 'volleyball', 'volt', 'volume', 'volumes', 'voluntarily', 'volunteer', 'volunteers', 'vomit', 'vomited', 'vote', 'voted', 'voucher', 'vouchers', 'vouchers…any', 'vows', 'vulnerable', 'wa', 'waa', 'waaaaaaiting', 'wack', 'wadda', 'wages', 'wailing', 'wait', 'waited', 'waitin', 'waiting', 'waitingforbags', 'waitlisted', 'waits', 'waive', 'waived', 'waiver', 'waivers', 'waives', 'waiving', 'wake', 'wakes', 'waking', 'waldorf', 'walk', 'walked', 'walking', 'walks', 'walkway', 'wall', 'wallet', 'walls', 'wallstreet', 'walmart', 'walton', 'wandered', 'wanna', 'want', 'wantcharge', 'wanted', 'wanting', 'wants', 'warehouse', 'warm', 'warmer', 'warmest', 'warmth', 'warn', 'warning', 'warnings', 'warrants', 'was', 'was:', 'wasappreciated', 'washington', 'wasn', \"wasn't\", 'wasnt', 'waste', 'wasted', 'wasting', 'wat', 'watch', 'watched', 'watching', 'water', 'waterboy', 'watered', 'waters', 'wating', 'watson', 'wave', 'waved', 'way', 'way@silverairwsys', 'waylaid', 'wayne', 'ways', 'we', \"we'll\", \"we've\", 'weak', 'wear', 'wearing', 'weary', 'weasel', 'weather', 'weather:airplane:', 'weathered', 'weathers', 'web', 'webpage', 'webs', 'website', 'websites', 'wed', 'wedding', 'wednesday', 'weds', 'week', 'weekday', 'weekend', 'weekends', 'weekly', 'weeks', 'weigh', 'weighed', 'weighing', 'weighs', 'weight', 'weights', 'weird', 'welcome', 'welcomed', 'welcomes', 'welcoming', 'welfare', 'well', 'wellington', 'welllllll', 'wendell', 'wendi', 'wens', 'went', 'were', 'weren', \"weren't\", 'west', 'westchester', 'westen', 'western', 'westward', 'wet', 'wether', 'weve', 'whacked', 'whammied', 'what', \"what's\", 'whatever', 'whats', 'whatsoever', 'wheel', 'wheelchair', 'wheelchairs', 'wheels', 'wheeze', 'when', 'whenever', 'where', 'whereabouts', 'whereas', 'whereby', 'whether', 'which', 'whichever', 'while', 'whilst', 'whining', 'whiny', 'whiplash', 'whipped', 'whiskey', 'whisper', 'whispering', 'white', 'who', 'whoa', 'whoever', 'whole', 'wholly', 'whom', 'whooo', 'whose', 'why', 'why@jetblue:', 'wi', 'wichita', 'wide', 'wiedersehen', 'wif', 'wife', 'wifeless', 'wifes', 'wifey', 'wifi', 'wifi:', 'wig', 'wiggle', 'wigs', 'wiil', 'wilco', 'will', 'williams', 'willie', 'willing', 'willl', 'wills', 'wilson', 'win', 'win:', 'wind', 'windchill', 'window', 'windows', 'winds', 'windy', 'wine', 'wing', 'wings', 'winks', 'winner', 'winners', 'winning', 'wins', 'winston', 'winter', 'winters', 'wipe', 'wiped', 'wipes', 'wired', 'wireless', 'wires', 'wise', 'wiser', 'wish', 'wishing', 'wit', 'with', 'withheld', 'within', 'without', 'witness', 'witnessed', 'witty', 'wiyh', 'wk:', 'wo', 'woeful', 'woke', 'woman', 'women', 'won', \"won't\", 'wonder', 'wonder:', 'wondered', 'wonderful', 'wonderfully', 'wondering', 'wong', 'wont', 'woo', 'woodland', 'woody', 'woof', 'woohoo', 'word', 'worded', 'words', 'words:', 'wore', 'work', 'workable', 'workaround', 'worked', 'worker', 'workers', 'workforce', 'workin', 'working', 'workng', 'workout', 'works', 'world', 'worlds', 'worldwide', 'worm', 'worn', 'worried', 'worries', 'worrisome', 'worry', 'worrying', 'worse', 'worse:', 'worst', 'worth', 'worthless', 'worthy', 'would', 'woulda', 'wouldn', \"wouldn't\", 'wouldnt', 'wouldt', 'wouldve', 'wounded', 'woven', 'wow', 'wrap', 'wrath', 'wreck', 'wrecked', 'wrecking', 'wrench', 'wrestle', 'wretched', 'write', 'writers', 'writes', 'writing', 'written', 'wrong', 'wrongfully', 'wrote', 'wse', 'wway', 'wylie', 'wyoming', 'x____x', 'x__x', 'xmas', 'xoxo', 'xu', 'xyz', 'xzmscw', 'y', \"y'all\", 'ya', 'yall', 'yards', 'yay', 'yea', 'yeah', 'year', 'yearly', 'years', 'yeehaw', 'yell', 'yelled', 'yelling', 'yellow', 'yep', 'yep—used', 'yer', 'yes', 'yessir', 'yesterday', 'yet', 'yhe', 'yield', 'yikes', 'yo', 'yoga', 'yogurt', 'york', 'you', \"you're\", \"you've\", 'you:smiling_face_with_smiling_eyes:', 'youareonyourown', 'youd', 'youi', 'young', 'younger', 'your', 'youre', 'yours', 'yourself', 'yourselves', 'yout', 'youth', 'youve', 'yow', 'yponthebeat', 'ypu', 'yr', 'yrs', 'yuck', 'yul', 'yuma', 'yummy', 'yup', 'yvonne', 'ywo', 'zabsonre', 'zagging', 'zambia', 'ze', 'zee', 'zero', 'zig', 'zip', 'zippers', 'zone', 'zones', 'zoom', 'zurich']\n"
          ]
        }
      ]
    },
    {
      "cell_type": "code",
      "metadata": {
        "id": "IIoSRwse2GOY"
      },
      "source": [
        "sentence=pd.DataFrame(t)\n",
        "sentence.columns=[\"Sentence\"]\n",
        "sentence.to_csv(\"Sentences_emoji.csv\")"
      ],
      "execution_count": null,
      "outputs": []
    },
    {
      "cell_type": "code",
      "metadata": {
        "id": "fbDPRdUc6gnp"
      },
      "source": [
        "wordlist=pd.DataFrame(ordered)\n",
        "wordlist.columns=[\"Words\"]\n",
        "wordlist.to_csv(\"words_emoji.csv\")"
      ],
      "execution_count": null,
      "outputs": []
    },
    {
      "cell_type": "markdown",
      "metadata": {
        "id": "0RCD1OKy7kJr"
      },
      "source": [
        "###---------------------------------\n"
      ]
    },
    {
      "cell_type": "markdown",
      "metadata": {
        "id": "YdZa4d2H7nO8"
      },
      "source": [
        "###Adatbetöltés SZAVAK BETÖLTÉSE"
      ]
    },
    {
      "cell_type": "code",
      "metadata": {
        "id": "q7heTRRxuS2U"
      },
      "source": [
        "import pandas as pd"
      ],
      "execution_count": null,
      "outputs": []
    },
    {
      "cell_type": "code",
      "metadata": {
        "id": "TIfoz1647-Cq"
      },
      "source": [
        "#words_url=\"https://github.com/sipocz/Twitter-Sentiment-Analysis-AI-Challenge/raw/bc5a87c1da7a3fdcd674325ca8d1ef417075fbd0/words.csv\"\n",
        "words_url=\"https://github.com/sipocz/Twitter-Sentiment-Analysis-AI-Challenge/raw/5b6a8293d5c08614e7997e477df13d6044dfad01/words_emoji_2.csv\"\n",
        "words_url=\"https://github.com/sipocz/Twitter-Sentiment-Analysis-AI-Challenge/raw/5de86fcaa648f3b456cfcc6514b6a045ca095c17/words_emoji_3.csv\"\n"
      ],
      "execution_count": null,
      "outputs": []
    },
    {
      "cell_type": "code",
      "metadata": {
        "colab": {
          "base_uri": "https://localhost:8080/"
        },
        "id": "TZ8hnzVZ7iza",
        "outputId": "ca2ac461-51bf-4256-a5c5-bd8335309010"
      },
      "source": [
        "!rm words* \n",
        "!wget $words_url"
      ],
      "execution_count": null,
      "outputs": [
        {
          "output_type": "stream",
          "name": "stdout",
          "text": [
            "--2021-10-10 11:26:53--  https://github.com/sipocz/Twitter-Sentiment-Analysis-AI-Challenge/raw/5de86fcaa648f3b456cfcc6514b6a045ca095c17/words_emoji_3.csv\n",
            "Resolving github.com (github.com)... 140.82.113.4\n",
            "Connecting to github.com (github.com)|140.82.113.4|:443... connected.\n",
            "HTTP request sent, awaiting response... 302 Found\n",
            "Location: https://raw.githubusercontent.com/sipocz/Twitter-Sentiment-Analysis-AI-Challenge/5de86fcaa648f3b456cfcc6514b6a045ca095c17/words_emoji_3.csv [following]\n",
            "--2021-10-10 11:26:53--  https://raw.githubusercontent.com/sipocz/Twitter-Sentiment-Analysis-AI-Challenge/5de86fcaa648f3b456cfcc6514b6a045ca095c17/words_emoji_3.csv\n",
            "Resolving raw.githubusercontent.com (raw.githubusercontent.com)... 185.199.110.133, 185.199.111.133, 185.199.109.133, ...\n",
            "Connecting to raw.githubusercontent.com (raw.githubusercontent.com)|185.199.110.133|:443... connected.\n",
            "HTTP request sent, awaiting response... 200 OK\n",
            "Length: 123520 (121K) [text/plain]\n",
            "Saving to: ‘words_emoji_3.csv’\n",
            "\n",
            "words_emoji_3.csv   100%[===================>] 120.62K  --.-KB/s    in 0.02s   \n",
            "\n",
            "2021-10-10 11:26:54 (5.49 MB/s) - ‘words_emoji_3.csv’ saved [123520/123520]\n",
            "\n"
          ]
        }
      ]
    },
    {
      "cell_type": "code",
      "metadata": {
        "id": "QOoEemS17h2s"
      },
      "source": [
        "words=pd.read_csv(\"words_emoji_3.csv\",index_col=0)\n",
        "words.head()\n",
        "words_list=list(words[\"Words\"])"
      ],
      "execution_count": null,
      "outputs": []
    },
    {
      "cell_type": "code",
      "metadata": {
        "id": "y0UURG-L--8L"
      },
      "source": [
        "word_dict={v:i+1 for i,v in enumerate(words_list)}"
      ],
      "execution_count": null,
      "outputs": []
    },
    {
      "cell_type": "markdown",
      "metadata": {
        "id": "zqnFYKaeCkda"
      },
      "source": [
        "### adatbetöltés mondatok betöltése"
      ]
    },
    {
      "cell_type": "code",
      "metadata": {
        "id": "ro6DsEKaCiwF"
      },
      "source": [
        "sentences_url=\"https://github.com/sipocz/Twitter-Sentiment-Analysis-AI-Challenge/raw/bc5a87c1da7a3fdcd674325ca8d1ef417075fbd0/Sentences.csv\"\n",
        "sentences_url=\"https://github.com/sipocz/Twitter-Sentiment-Analysis-AI-Challenge/raw/b9567d54968bba4d03ce8c3cac5ecdc4fe1c6031/Sentences_emoji.csv\"\n",
        "sentences_url=\"https://github.com/sipocz/Twitter-Sentiment-Analysis-AI-Challenge/raw/5b6a8293d5c08614e7997e477df13d6044dfad01/Sentences_emoji_2.csv\"\n",
        "sentences_url=\"https://github.com/sipocz/Twitter-Sentiment-Analysis-AI-Challenge/raw/5de86fcaa648f3b456cfcc6514b6a045ca095c17/Sentences_emoji_3.csv\"\n"
      ],
      "execution_count": null,
      "outputs": []
    },
    {
      "cell_type": "code",
      "metadata": {
        "colab": {
          "base_uri": "https://localhost:8080/"
        },
        "id": "Z94-mHYG_ISL",
        "outputId": "32339b46-5c56-40d5-8139-63a938473a7d"
      },
      "source": [
        "!rm Sentences*\n",
        "!wget $sentences_url\n",
        "sentences=pd.read_csv(\"Sentences_emoji_3.csv\",index_col=0)\n",
        "sentences.head()\n",
        "sentences_list=list(sentences[\"Sentence\"])"
      ],
      "execution_count": null,
      "outputs": [
        {
          "output_type": "stream",
          "name": "stdout",
          "text": [
            "--2021-10-10 11:27:08--  https://github.com/sipocz/Twitter-Sentiment-Analysis-AI-Challenge/raw/5de86fcaa648f3b456cfcc6514b6a045ca095c17/Sentences_emoji_3.csv\n",
            "Resolving github.com (github.com)... 140.82.113.4\n",
            "Connecting to github.com (github.com)|140.82.113.4|:443... connected.\n",
            "HTTP request sent, awaiting response... 302 Found\n",
            "Location: https://raw.githubusercontent.com/sipocz/Twitter-Sentiment-Analysis-AI-Challenge/5de86fcaa648f3b456cfcc6514b6a045ca095c17/Sentences_emoji_3.csv [following]\n",
            "--2021-10-10 11:27:08--  https://raw.githubusercontent.com/sipocz/Twitter-Sentiment-Analysis-AI-Challenge/5de86fcaa648f3b456cfcc6514b6a045ca095c17/Sentences_emoji_3.csv\n",
            "Resolving raw.githubusercontent.com (raw.githubusercontent.com)... 185.199.108.133, 185.199.109.133, 185.199.110.133, ...\n",
            "Connecting to raw.githubusercontent.com (raw.githubusercontent.com)|185.199.108.133|:443... connected.\n",
            "HTTP request sent, awaiting response... 200 OK\n",
            "Length: 1470690 (1.4M) [text/plain]\n",
            "Saving to: ‘Sentences_emoji_3.csv’\n",
            "\n",
            "Sentences_emoji_3.c 100%[===================>]   1.40M  --.-KB/s    in 0.06s   \n",
            "\n",
            "2021-10-10 11:27:09 (25.2 MB/s) - ‘Sentences_emoji_3.csv’ saved [1470690/1470690]\n",
            "\n"
          ]
        }
      ]
    },
    {
      "cell_type": "code",
      "metadata": {
        "id": "fsQObqfegZ7M"
      },
      "source": [
        ""
      ],
      "execution_count": null,
      "outputs": []
    },
    {
      "cell_type": "markdown",
      "metadata": {
        "id": "oqbe8kFxgJav"
      },
      "source": [
        "##Tanulás"
      ]
    },
    {
      "cell_type": "code",
      "metadata": {
        "id": "kHF2cpZxgh65",
        "colab": {
          "base_uri": "https://localhost:8080/"
        },
        "outputId": "f23c1453-85c3-4475-8973-ae7d7259cd2c"
      },
      "source": [
        "!rm *zip*\n",
        "!rm TEST*\n",
        "!rm TRAIN*\n",
        "!rm SampleSubmission*\n",
        "!wget https://github.com/sipocz/Twitter-Sentiment-Analysis-AI-Challenge/raw/9674d3c8ef760a8d2c5cc2e3af8a71faa93edf7d/twitter_sentiment_analysis_ai_challenge-dataset.zip\n",
        "!unzip twitter_sentiment_analysis_ai_challenge-dataset.zip\n"
      ],
      "execution_count": null,
      "outputs": [
        {
          "output_type": "stream",
          "name": "stdout",
          "text": [
            "--2021-10-10 11:27:18--  https://github.com/sipocz/Twitter-Sentiment-Analysis-AI-Challenge/raw/9674d3c8ef760a8d2c5cc2e3af8a71faa93edf7d/twitter_sentiment_analysis_ai_challenge-dataset.zip\n",
            "Resolving github.com (github.com)... 140.82.112.3\n",
            "Connecting to github.com (github.com)|140.82.112.3|:443... connected.\n",
            "HTTP request sent, awaiting response... 302 Found\n",
            "Location: https://raw.githubusercontent.com/sipocz/Twitter-Sentiment-Analysis-AI-Challenge/9674d3c8ef760a8d2c5cc2e3af8a71faa93edf7d/twitter_sentiment_analysis_ai_challenge-dataset.zip [following]\n",
            "--2021-10-10 11:27:18--  https://raw.githubusercontent.com/sipocz/Twitter-Sentiment-Analysis-AI-Challenge/9674d3c8ef760a8d2c5cc2e3af8a71faa93edf7d/twitter_sentiment_analysis_ai_challenge-dataset.zip\n",
            "Resolving raw.githubusercontent.com (raw.githubusercontent.com)... 185.199.111.133, 185.199.110.133, 185.199.108.133, ...\n",
            "Connecting to raw.githubusercontent.com (raw.githubusercontent.com)|185.199.111.133|:443... connected.\n",
            "HTTP request sent, awaiting response... 200 OK\n",
            "Length: 1258171 (1.2M) [application/zip]\n",
            "Saving to: ‘twitter_sentiment_analysis_ai_challenge-dataset.zip’\n",
            "\n",
            "twitter_sentiment_a 100%[===================>]   1.20M  --.-KB/s    in 0.06s   \n",
            "\n",
            "2021-10-10 11:27:18 (21.3 MB/s) - ‘twitter_sentiment_analysis_ai_challenge-dataset.zip’ saved [1258171/1258171]\n",
            "\n",
            "Archive:  twitter_sentiment_analysis_ai_challenge-dataset.zip\n",
            "  inflating: SampleSubmission.csv    \n",
            "  inflating: TEST.csv                \n",
            "  inflating: TRAIN.csv               \n"
          ]
        }
      ]
    },
    {
      "cell_type": "code",
      "metadata": {
        "id": "QOAaF9hwwhvp"
      },
      "source": [
        "df=pd.read_csv(\"TRAIN.csv\")"
      ],
      "execution_count": null,
      "outputs": []
    },
    {
      "cell_type": "code",
      "metadata": {
        "id": "2TMATt2G-MKD"
      },
      "source": [
        "df.head(4)"
      ],
      "execution_count": null,
      "outputs": []
    },
    {
      "cell_type": "code",
      "metadata": {
        "id": "ugzlGNzhZZiZ"
      },
      "source": [
        "for i in range(len(df)):\n",
        "    if \"😊\" in df.loc[i].text:\n",
        "        print (f\"{i:6}. {df.loc[i].airline_sentiment:9} -- {df.loc[i].retweet_count:5} --  {df.loc[i].text}\")"
      ],
      "execution_count": null,
      "outputs": []
    },
    {
      "cell_type": "code",
      "metadata": {
        "id": "7ofBIKg2AIT3"
      },
      "source": [
        "for i in range(len(df)):\n",
        "    if df.loc[i].retweet_count>0:\n",
        "        print (f\"{i:6}. {df.loc[i].airline_sentiment:9} -- {df.loc[i].retweet_count:5} --  {df.loc[i].text}\")"
      ],
      "execution_count": null,
      "outputs": []
    },
    {
      "cell_type": "code",
      "metadata": {
        "id": "NOi4JkKGCil7"
      },
      "source": [
        "sentences_list[10420]"
      ],
      "execution_count": null,
      "outputs": []
    },
    {
      "cell_type": "code",
      "metadata": {
        "id": "6dYhqbq6UaRX"
      },
      "source": [
        "df.head(1)"
      ],
      "execution_count": null,
      "outputs": []
    },
    {
      "cell_type": "code",
      "metadata": {
        "id": "iuWeGPxRw4um"
      },
      "source": [
        "df[\"clean_text\"]=sentences_list[2640:]"
      ],
      "execution_count": null,
      "outputs": []
    },
    {
      "cell_type": "code",
      "metadata": {
        "id": "jf0HEnrsTCYn"
      },
      "source": [
        "def print_df(df,start=0,stop=0):\n",
        "    for i in range(start,stop):\n",
        "        print(f\"{i:4}.  --{df.loc[i].text} -- {df.loc[i].clean_text}\")"
      ],
      "execution_count": null,
      "outputs": []
    },
    {
      "cell_type": "code",
      "metadata": {
        "id": "bP3343atT-vB"
      },
      "source": [
        "print_df(df,1,10)"
      ],
      "execution_count": null,
      "outputs": []
    },
    {
      "cell_type": "code",
      "metadata": {
        "id": "roFT4HvqBQpa"
      },
      "source": [
        "all_sent=[]\n",
        "for sentence in df.clean_text:\n",
        "    sent_list=sentence.strip().split()\n",
        "    out=[]\n",
        "    for word in sent_list:\n",
        "        out.append(word_dict[word]) \n",
        "    all_sent.append(out)"
      ],
      "execution_count": null,
      "outputs": []
    },
    {
      "cell_type": "code",
      "metadata": {
        "id": "KrZFC5BAEb2k"
      },
      "source": [
        "df[\"sentence_code\"]=all_sent"
      ],
      "execution_count": null,
      "outputs": []
    },
    {
      "cell_type": "code",
      "metadata": {
        "id": "FCq2m69A39g3"
      },
      "source": [
        "table=list(df[\"sentence_code\"]) # typo\n",
        "lens=max([len(x) for x in table])\n",
        "sentiment=list(df[\"airline_sentiment\"])\n"
      ],
      "execution_count": null,
      "outputs": []
    },
    {
      "cell_type": "code",
      "metadata": {
        "id": "wGBReaGM6-zn"
      },
      "source": [
        "def ylabel_convert(sentiment):\n",
        "    ytrain=[]\n",
        "    for sent in sentiment:\n",
        "        if sent==\"negative\":\n",
        "            o=[1,0]\n",
        "        if sent==\"neutral\":\n",
        "            o=[0.5,0.5]\n",
        "        if sent==\"positive\":\n",
        "            o=[0,1]\n",
        "        ytrain.append(o)\n",
        "    return(ytrain)\n",
        "\n",
        "def ylabel_convert3(sentiment):\n",
        "    ytrain=[]\n",
        "    for sent in sentiment:\n",
        "        if sent==\"negative\":\n",
        "            o=[1,0,0]\n",
        "        if sent==\"neutral\":\n",
        "            o=[0,1,0]\n",
        "        if sent==\"positive\":\n",
        "            o=[0,0,1]\n",
        "        ytrain.append(o)\n",
        "    return(ytrain)\n",
        "\n",
        "        "
      ],
      "execution_count": null,
      "outputs": []
    },
    {
      "cell_type": "code",
      "metadata": {
        "id": "4QGQRyHcwtC6"
      },
      "source": [
        "ytrain=ylabel_convert3(sentiment)"
      ],
      "execution_count": null,
      "outputs": []
    },
    {
      "cell_type": "code",
      "metadata": {
        "id": "TNi-g2CNARwY"
      },
      "source": [
        "x0=[0 for _ in range(lens) ]\n",
        "xtrain=[]\n",
        "for sent in table:\n",
        "    o1=list(x0[0:lens-len(sent)]+list(sent))\n",
        "    xtrain.append(o1)"
      ],
      "execution_count": null,
      "outputs": []
    },
    {
      "cell_type": "code",
      "metadata": {
        "id": "tRf3_wt9Bekb"
      },
      "source": [
        ""
      ],
      "execution_count": null,
      "outputs": []
    },
    {
      "cell_type": "code",
      "metadata": {
        "id": "3JEpjcQSBWtx"
      },
      "source": [
        ""
      ],
      "execution_count": null,
      "outputs": []
    },
    {
      "cell_type": "code",
      "metadata": {
        "id": "WZSj92FGOebc"
      },
      "source": [
        "x_train=xtrain[0:-20]\n",
        "y_train=ytrain[0:-20]\n",
        "x_test=xtrain[-20:]\n",
        "y_test=ytrain[-20:]"
      ],
      "execution_count": null,
      "outputs": []
    },
    {
      "cell_type": "code",
      "metadata": {
        "id": "59MTn_Fs3SvW"
      },
      "source": [
        "\n",
        "\n",
        "lstm_size=lens\n",
        "max_input_length=lens\n",
        "embedding_size=190 #(100: 73%)\n",
        "n_words=len(table)\n",
        "n_out=len(y_train[0])"
      ],
      "execution_count": null,
      "outputs": []
    },
    {
      "cell_type": "code",
      "metadata": {
        "id": "BS2bWgXsz2zc"
      },
      "source": [
        "lens\n",
        "n_out"
      ],
      "execution_count": null,
      "outputs": []
    },
    {
      "cell_type": "code",
      "metadata": {
        "id": "uvvPuVNSxNa7"
      },
      "source": [
        "\n",
        "# Importáld a megfelelő rétegeket\n",
        "from tensorflow.keras.layers import Input,Dense,Embedding,LSTM,TimeDistributed, Flatten, Bidirectional\n",
        "from tensorflow.keras.models import Model\n",
        "from tensorflow.keras.optimizers import Adadelta,Adam,SGD\n",
        "from tensorflow.keras.losses import sparse_categorical_crossentropy,categorical_crossentropy, mean_squared_error\n",
        "from tensorflow.keras import backend as K\n",
        "\n",
        "K.clear_session\n",
        "x= Input(shape=(max_input_length,))\n",
        "embedded_x=Embedding(n_words+1,embedding_size, input_length=max_input_length-1, mask_zero=True)(x)\n",
        "lstm_output= LSTM(lstm_size,return_sequences=True)(embedded_x)\n",
        "lstm_output= LSTM(lstm_size,return_sequences=True)(lstm_output)\n",
        "\n",
        "\n",
        "lstm_output=Flatten()(lstm_output)\n",
        "#Dense_out= Dense(33, activation=\"softmax\")(lstm_output)\n",
        "\n",
        "predictions= Dense(n_out, activation=\"softmax\")(lstm_output)\n",
        "model=Model(inputs=x, outputs=predictions,)\n",
        "\n"
      ],
      "execution_count": null,
      "outputs": []
    },
    {
      "cell_type": "code",
      "metadata": {
        "id": "NQpADS6gMHmd"
      },
      "source": [
        "model.summary()"
      ],
      "execution_count": null,
      "outputs": []
    },
    {
      "cell_type": "code",
      "metadata": {
        "id": "wutYc1k0HcL0"
      },
      "source": [
        "x"
      ],
      "execution_count": null,
      "outputs": []
    },
    {
      "cell_type": "code",
      "metadata": {
        "id": "SzJYM8QeJyvI"
      },
      "source": [
        "import numpy as np"
      ],
      "execution_count": null,
      "outputs": []
    },
    {
      "cell_type": "code",
      "metadata": {
        "id": "ACrVf-TbJYDe"
      },
      "source": [
        "#train_x = np.asarray(xtrain)\n",
        "#train_y = np.asarray(ytrain)"
      ],
      "execution_count": null,
      "outputs": []
    },
    {
      "cell_type": "code",
      "metadata": {
        "id": "Lj_fAh_eKaSl"
      },
      "source": [
        ""
      ],
      "execution_count": null,
      "outputs": []
    },
    {
      "cell_type": "code",
      "metadata": {
        "id": "RWIM4DP36S2L"
      },
      "source": [
        "# Loss \n",
        "\n",
        "loss = mean_squared_error #categorical_crossentropy # One-hot enkódolt kimenetünk van. Mit is használunk?\n",
        "\n",
        "# Optimizer\n",
        "optimizer = Adam() #Ízlés szerint...\n",
        " \n",
        "# Compilation\n",
        "#############\n",
        "\n",
        "model.compile(optimizer=optimizer,loss=loss)"
      ],
      "execution_count": null,
      "outputs": []
    },
    {
      "cell_type": "code",
      "metadata": {
        "id": "op-I834SFpUX"
      },
      "source": [
        "# Illesszük az adatra a modellt.\n",
        "history=model.fit(x=xtrain,y=ytrain,validation_data=( x_test,y_test), epochs=6, batch_size=50,)\n"
      ],
      "execution_count": null,
      "outputs": []
    },
    {
      "cell_type": "code",
      "metadata": {
        "id": "Y_CHGgYja_bB"
      },
      "source": [
        "pred=model.predict(x_train)"
      ],
      "execution_count": null,
      "outputs": []
    },
    {
      "cell_type": "code",
      "metadata": {
        "id": "CIFRZ753bMNi"
      },
      "source": [
        "for i in range(len(pred)):\n",
        "    print(f\"{i}, {pred[i]}, {y_train[i]}\")\n",
        "\n"
      ],
      "execution_count": null,
      "outputs": []
    },
    {
      "cell_type": "markdown",
      "metadata": {
        "id": "hlKyrRqfG6GP"
      },
      "source": [
        "### Model usage"
      ]
    },
    {
      "cell_type": "code",
      "metadata": {
        "id": "vvmmKvBIF4n8"
      },
      "source": [
        "test_df=pd.read_csv(\"TEST.csv\")"
      ],
      "execution_count": null,
      "outputs": []
    },
    {
      "cell_type": "code",
      "metadata": {
        "id": "Mc0vyTmcHRvY"
      },
      "source": [
        "print(len(test_df))"
      ],
      "execution_count": null,
      "outputs": []
    },
    {
      "cell_type": "code",
      "metadata": {
        "id": "e6y9O5tnHq9Z"
      },
      "source": [
        "test_df.head(130)"
      ],
      "execution_count": null,
      "outputs": []
    },
    {
      "cell_type": "code",
      "metadata": {
        "id": "5utaqxGNHU7y"
      },
      "source": [
        "test_df[\"clean_text\"]=sentences_list[:2640]"
      ],
      "execution_count": null,
      "outputs": []
    },
    {
      "cell_type": "code",
      "metadata": {
        "id": "_km2bK90Hydk"
      },
      "source": [
        "def code_sentences(df):\n",
        "    all_sent=[]\n",
        "    for sentence in df.clean_text:\n",
        "        sent_list=sentence.strip().split()\n",
        "        out=[]\n",
        "        for word in sent_list:\n",
        "            out.append(word_dict[word]) \n",
        "        all_sent.append(out)\n",
        "    df[\"sentence_code\"]=all_sent\n",
        "    return (df)"
      ],
      "execution_count": null,
      "outputs": []
    },
    {
      "cell_type": "code",
      "metadata": {
        "id": "ABUxosxoIkmI"
      },
      "source": [
        "test_df=code_sentences(test_df)"
      ],
      "execution_count": null,
      "outputs": []
    },
    {
      "cell_type": "code",
      "metadata": {
        "id": "YlMCct35I5Oe"
      },
      "source": [
        "def push_sentences(df,lens=33):\n",
        "    table=list(df[\"sentence_code\"]) # typo\n",
        "    \n",
        "    print(lens)\n",
        "    x0=[0 for _ in range(lens) ]\n",
        "    x=[]\n",
        "    for sent in table:\n",
        "        o1=list(x0[0:lens-len(sent)]+list(sent))\n",
        "        x.append(o1)\n",
        "    return(x)"
      ],
      "execution_count": null,
      "outputs": []
    },
    {
      "cell_type": "code",
      "metadata": {
        "id": "fOG4CqMmIQUC"
      },
      "source": [
        "test_df.head(1)"
      ],
      "execution_count": null,
      "outputs": []
    },
    {
      "cell_type": "code",
      "metadata": {
        "id": "bhu_bX9mKx-i"
      },
      "source": [
        "\n",
        "xx=push_sentences(test_df,lens=59)"
      ],
      "execution_count": null,
      "outputs": []
    },
    {
      "cell_type": "code",
      "metadata": {
        "id": "9bZFjo4TLE9R"
      },
      "source": [
        "test_out=model.predict(xx)"
      ],
      "execution_count": null,
      "outputs": []
    },
    {
      "cell_type": "code",
      "metadata": {
        "id": "lokLXV-uLs4-"
      },
      "source": [
        "test_out"
      ],
      "execution_count": null,
      "outputs": []
    },
    {
      "cell_type": "code",
      "metadata": {
        "id": "-LotAte_L8c9"
      },
      "source": [
        "def decode3(model_out):\n",
        "    y=[]\n",
        "    for mo in model_out:\n",
        "        if mo[0]>mo[1] and mo[0]>mo[2]:\n",
        "            o=\"negative\"    \n",
        "        if mo[1]>mo[0] and mo[1]>mo[2]:\n",
        "            o=\"neutral\"    \n",
        "        if mo[2]>mo[0] and mo[2]>mo[1]:\n",
        "            o=\"positive\"    \n",
        "        y.append(o)\n",
        "    return(y)\n",
        "\n",
        "\n",
        "  "
      ],
      "execution_count": null,
      "outputs": []
    },
    {
      "cell_type": "code",
      "metadata": {
        "id": "0Qf1AhjuObA-"
      },
      "source": [
        "def decode(model_out):\n",
        "    y=[]\n",
        "    for mo in model_out:\n",
        "        dif=abs(mo[0]-mo[1])\n",
        "        if dif < 0.2 :\n",
        "            o=\"neutral\"\n",
        "        else:\n",
        "            if mo[0]>mo[1] :\n",
        "                o=\"negative\"    \n",
        "            else:\n",
        "                o=\"positive\"    \n",
        "        y.append(o)\n",
        "    return(y)\n",
        "\n"
      ],
      "execution_count": null,
      "outputs": []
    },
    {
      "cell_type": "code",
      "metadata": {
        "id": "u1vU8pV0NDLx"
      },
      "source": [
        "prediction=decode3(test_out)"
      ],
      "execution_count": null,
      "outputs": []
    },
    {
      "cell_type": "code",
      "metadata": {
        "id": "8hHhbmhlA7Z9"
      },
      "source": [
        "def listing(status):\n",
        "    counti=0\n",
        "    for i in range(len(prediction)):\n",
        "    \n",
        "        predi=prediction[i]\n",
        "        reason=test_df.loc[i].negativereason\n",
        "        airline_sentiment=test_df.loc[i].airline_sentiment_gold\n",
        "        if predi==status:\n",
        "            counti+=1\n",
        "            print(f\"{i:4}. {counti:3}. =  {prediction[i]} -- {reason:15}--{airline_sentiment} -- {test_df.loc[i].text}\")\n",
        "            cond=[reason==\"Flight Booking Problems\", \n",
        "                    reason==\"Bad Flight\", \n",
        "                    reason==\"Late Flight\", \n",
        "                    reason==\"Lost Luggage\", \n",
        "                    reason==\"Customer Service Issue\",\n",
        "                    reason==\"Cancelled Flight\",\n",
        "                    reason==\"Flight Attendant Complaints\",\n",
        "                    reason==\"longlines\",\n",
        "                    reason==\"Damaged Luggage\"\n",
        "                    ]\n",
        "            if any(cond):\n",
        "                prediction[i]=\"negative\"\n"
      ],
      "execution_count": null,
      "outputs": []
    },
    {
      "cell_type": "code",
      "metadata": {
        "id": "2C-QAZjhBjlh"
      },
      "source": [
        "df.head(1)"
      ],
      "execution_count": null,
      "outputs": []
    },
    {
      "cell_type": "code",
      "metadata": {
        "id": "STwFh1eDGNjQ"
      },
      "source": [
        ""
      ],
      "execution_count": null,
      "outputs": []
    },
    {
      "cell_type": "code",
      "metadata": {
        "id": "AIcGxrmXBV_l"
      },
      "source": [
        "def retweet_converter():\n",
        "    counti=0\n",
        "    for i in range(len(prediction)):\n",
        "    \n",
        "        predi=prediction[i]\n",
        "        reason=test_df.loc[i].negativereason\n",
        "        retweet=test_df.loc[i].retweet_count\n",
        "        if retweet>0:\n",
        "            prediction[i]=\"negative\""
      ],
      "execution_count": null,
      "outputs": []
    },
    {
      "cell_type": "code",
      "metadata": {
        "id": "VBeoA9mQNCnL"
      },
      "source": [
        "listing(\"neutral\")\n",
        "#retweet_converter()"
      ],
      "execution_count": null,
      "outputs": []
    },
    {
      "cell_type": "code",
      "metadata": {
        "id": "sV7YM6GBYEYX"
      },
      "source": [
        "test_df[\"predicted\"]=prediction"
      ],
      "execution_count": null,
      "outputs": []
    },
    {
      "cell_type": "code",
      "metadata": {
        "id": "aERaT3-tNNMs"
      },
      "source": [
        "prediction_df=pd.DataFrame(prediction)"
      ],
      "execution_count": null,
      "outputs": []
    },
    {
      "cell_type": "code",
      "metadata": {
        "id": "Z-Y7T_cxNjar"
      },
      "source": [
        "prediction_df.columns=[\"Sentiment\"]"
      ],
      "execution_count": null,
      "outputs": []
    },
    {
      "cell_type": "code",
      "metadata": {
        "id": "r5SaPlp4OAWx"
      },
      "source": [
        "prediction_df.head()"
      ],
      "execution_count": null,
      "outputs": []
    },
    {
      "cell_type": "code",
      "metadata": {
        "id": "3OnUZvarOKWm"
      },
      "source": [
        "prediction_df.index.name=\"Index\""
      ],
      "execution_count": null,
      "outputs": []
    },
    {
      "cell_type": "code",
      "metadata": {
        "id": "hw4CUPobbH7A"
      },
      "source": [
        "from datetime  import datetime"
      ],
      "execution_count": null,
      "outputs": []
    },
    {
      "cell_type": "code",
      "metadata": {
        "id": "CAbhqmcPdF6U"
      },
      "source": [
        "a=datetime.now().strftime(\"%Y%m%d_%H%M%S\")"
      ],
      "execution_count": null,
      "outputs": []
    },
    {
      "cell_type": "code",
      "metadata": {
        "id": "MiOwO9UTdeUt"
      },
      "source": [
        "print(a)"
      ],
      "execution_count": null,
      "outputs": []
    },
    {
      "cell_type": "code",
      "metadata": {
        "id": "8ELciPC_OpWA"
      },
      "source": [
        "prediction_df.to_csv(\"submission_\"+a+\".csv\")"
      ],
      "execution_count": null,
      "outputs": []
    },
    {
      "cell_type": "code",
      "metadata": {
        "id": "wvmaQZGBYM_7"
      },
      "source": [
        "predcsv=test_df.loc[:,[\"text\",\"predicted\"]]\n",
        "\n",
        "predcsv.to_csv(\"mini.csv\")"
      ],
      "execution_count": null,
      "outputs": []
    },
    {
      "cell_type": "code",
      "metadata": {
        "id": "OrtPBTgcYwtg"
      },
      "source": [
        "print_df(test_df,95,145)"
      ],
      "execution_count": null,
      "outputs": []
    },
    {
      "cell_type": "code",
      "metadata": {
        "id": "3npyMAv1c555"
      },
      "source": [
        "def de_ex(txt):\n",
        "    txt=txt.lower()\n",
        "    exwords={\"it's\":\"it is\",\n",
        "    \"aren't\":\"are not\",\n",
        "    \"i've\":\"i have\",\n",
        "    \"can't\":\"can not\",\n",
        "    \"didn't\":\"did not\",\n",
        "    \"i'm\":\"i am\",\n",
        "    \"that's\":\"that is\",\n",
        "    \"let's\":\" let is\",\n",
        "    \"she's\":\"she is\",\n",
        "    \"we're\":\"we are\",\n",
        "    \"they've\":\"they have\",\n",
        "    \"fleet's\":\"fleet is \",\n",
        "    \"there's\":\"there is\"\n",
        "    \"i'll\": \"i will\"\n",
        "    }\n",
        "    txt_list=txt.split()\n",
        "    for w in txt_list:\n",
        "        if w in exwords:\n",
        "            txt=txt.replace(w,exwords[w])\n",
        "    return (txt)\n"
      ],
      "execution_count": null,
      "outputs": []
    },
    {
      "cell_type": "code",
      "metadata": {
        "id": "x2AIFqEfmDmR"
      },
      "source": [
        "de_ex(\"hello i'm bond, james bond\")"
      ],
      "execution_count": null,
      "outputs": []
    },
    {
      "cell_type": "code",
      "metadata": {
        "id": "SgsX1vHRdyXV"
      },
      "source": [
        "def print_char_df(df,character,start=0,stop=0):\n",
        "    for i in range(start,stop):\n",
        "        if character in df.loc[i].text:\n",
        "            print(f\"{i:4}.  --{df.loc[i].text} -- {df.loc[i].clean_text}\")"
      ],
      "execution_count": null,
      "outputs": []
    },
    {
      "cell_type": "code",
      "metadata": {
        "id": "jDCpdClueCJO"
      },
      "source": [
        "print_char_df(test_df,\"'\",0,100)"
      ],
      "execution_count": null,
      "outputs": []
    }
  ]
}