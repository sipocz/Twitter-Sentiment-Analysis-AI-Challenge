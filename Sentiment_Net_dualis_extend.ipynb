{
  "nbformat": 4,
  "nbformat_minor": 0,
  "metadata": {
    "colab": {
      "name": "Sentiment_Net.ipynb",
      "provenance": [],
      "collapsed_sections": [],
      "authorship_tag": "ABX9TyO4Gf5L860Hf0N2ED1wEHFQ",
      "include_colab_link": true
    },
    "kernelspec": {
      "name": "python3",
      "display_name": "Python 3"
    },
    "language_info": {
      "name": "python"
    },
    "accelerator": "GPU"
  },
  "cells": [
    {
      "cell_type": "markdown",
      "metadata": {
        "id": "view-in-github",
        "colab_type": "text"
      },
      "source": [
        "<a href=\"https://colab.research.google.com/github/sipocz/Twitter-Sentiment-Analysis-AI-Challenge/blob/main/Sentiment_Net_dualis_extend.ipynb\" target=\"_parent\"><img src=\"https://colab.research.google.com/assets/colab-badge.svg\" alt=\"Open In Colab\"/></a>"
      ]
    },
    {
      "cell_type": "code",
      "metadata": {
        "id": "lS8T-dxnwfjO"
      },
      "source": [
        "import pandas as pd"
      ],
      "execution_count": 2,
      "outputs": []
    },
    {
      "cell_type": "code",
      "metadata": {
        "id": "xFjap2PTfYbv"
      },
      "source": [
        "#emoji_url=\"https://github.com/sipocz/Twitter-Sentiment-Analysis-AI-Challenge/raw/5e7d7d29f58be438f33fa0c0bc2fd251dea0b453/emoji.py\"\n",
        "#!rm emoji.py\n",
        "#!wget $emoji_url\n",
        "#import emoji"
      ],
      "execution_count": 3,
      "outputs": []
    },
    {
      "cell_type": "code",
      "metadata": {
        "id": "jkjAnXvu8Ot7"
      },
      "source": [
        ""
      ],
      "execution_count": 3,
      "outputs": []
    },
    {
      "cell_type": "code",
      "metadata": {
        "colab": {
          "base_uri": "https://localhost:8080/"
        },
        "id": "TVKfMbXhg0ZO",
        "outputId": "b4ad1831-1fab-42a3-ee01-392224bc36af"
      },
      "source": [
        "! pip install emoji\n",
        "import emoji"
      ],
      "execution_count": 4,
      "outputs": [
        {
          "output_type": "stream",
          "name": "stdout",
          "text": [
            "Collecting emoji\n",
            "  Downloading emoji-1.6.0.tar.gz (168 kB)\n",
            "\u001b[?25l\r\u001b[K     |██                              | 10 kB 19.7 MB/s eta 0:00:01\r\u001b[K     |███▉                            | 20 kB 10.3 MB/s eta 0:00:01\r\u001b[K     |█████▉                          | 30 kB 8.3 MB/s eta 0:00:01\r\u001b[K     |███████▊                        | 40 kB 7.8 MB/s eta 0:00:01\r\u001b[K     |█████████▊                      | 51 kB 4.2 MB/s eta 0:00:01\r\u001b[K     |███████████▋                    | 61 kB 4.5 MB/s eta 0:00:01\r\u001b[K     |█████████████▋                  | 71 kB 4.6 MB/s eta 0:00:01\r\u001b[K     |███████████████▌                | 81 kB 5.1 MB/s eta 0:00:01\r\u001b[K     |█████████████████▌              | 92 kB 4.6 MB/s eta 0:00:01\r\u001b[K     |███████████████████▍            | 102 kB 4.2 MB/s eta 0:00:01\r\u001b[K     |█████████████████████▍          | 112 kB 4.2 MB/s eta 0:00:01\r\u001b[K     |███████████████████████▎        | 122 kB 4.2 MB/s eta 0:00:01\r\u001b[K     |█████████████████████████▎      | 133 kB 4.2 MB/s eta 0:00:01\r\u001b[K     |███████████████████████████▏    | 143 kB 4.2 MB/s eta 0:00:01\r\u001b[K     |█████████████████████████████▏  | 153 kB 4.2 MB/s eta 0:00:01\r\u001b[K     |███████████████████████████████ | 163 kB 4.2 MB/s eta 0:00:01\r\u001b[K     |████████████████████████████████| 168 kB 4.2 MB/s \n",
            "\u001b[?25hBuilding wheels for collected packages: emoji\n",
            "  Building wheel for emoji (setup.py) ... \u001b[?25l\u001b[?25hdone\n",
            "  Created wheel for emoji: filename=emoji-1.6.0-py3-none-any.whl size=168256 sha256=408e05db5fe76e9ba755dbbbbfebb8f9defa9548f0206a0bf5a223f286337ac9\n",
            "  Stored in directory: /root/.cache/pip/wheels/f7/d7/74/c720aaf345a042b0c2d74361873258c5e8649b7f11b2ccce49\n",
            "Successfully built emoji\n",
            "Installing collected packages: emoji\n",
            "Successfully installed emoji-1.6.0\n"
          ]
        }
      ]
    },
    {
      "cell_type": "code",
      "metadata": {
        "colab": {
          "base_uri": "https://localhost:8080/",
          "height": 35
        },
        "id": "UMHsrRn4f7Ct",
        "outputId": "44bdeb16-fe4e-4701-d2a6-1fe1797e66fe"
      },
      "source": [
        "\n",
        "emoji.demojize(\"hello 👍\")"
      ],
      "execution_count": 5,
      "outputs": [
        {
          "output_type": "execute_result",
          "data": {
            "application/vnd.google.colaboratory.intrinsic+json": {
              "type": "string"
            },
            "text/plain": [
              "'hello :thumbs_up:'"
            ]
          },
          "metadata": {},
          "execution_count": 5
        }
      ]
    },
    {
      "cell_type": "markdown",
      "metadata": {
        "id": "YDQLvAy5gI0C"
      },
      "source": [
        "##Szószedet"
      ]
    },
    {
      "cell_type": "code",
      "metadata": {
        "colab": {
          "base_uri": "https://localhost:8080/"
        },
        "id": "lDUZMjUkgIIe",
        "outputId": "6d1e159d-debd-42cf-c505-dcdcb99cf5a4"
      },
      "source": [
        "!rm SampleSubmission*\n",
        "!rm TEST*\n",
        "!rm TRAIN*\n",
        "!rm *zip*\n",
        "!wget https://github.com/sipocz/Twitter-Sentiment-Analysis-AI-Challenge/raw/9674d3c8ef760a8d2c5cc2e3af8a71faa93edf7d/twitter_sentiment_analysis_ai_challenge-dataset.zip\n",
        "!unzip twitter_sentiment_analysis_ai_challenge-dataset.zip\n",
        "df=pd.read_csv(\"TEST.csv\")"
      ],
      "execution_count": 6,
      "outputs": [
        {
          "output_type": "stream",
          "name": "stdout",
          "text": [
            "rm: cannot remove 'SampleSubmission*': No such file or directory\n",
            "rm: cannot remove 'TEST*': No such file or directory\n",
            "rm: cannot remove 'TRAIN*': No such file or directory\n",
            "rm: cannot remove '*zip*': No such file or directory\n",
            "--2021-10-10 20:42:26--  https://github.com/sipocz/Twitter-Sentiment-Analysis-AI-Challenge/raw/9674d3c8ef760a8d2c5cc2e3af8a71faa93edf7d/twitter_sentiment_analysis_ai_challenge-dataset.zip\n",
            "Resolving github.com (github.com)... 13.114.40.48\n",
            "Connecting to github.com (github.com)|13.114.40.48|:443... connected.\n",
            "HTTP request sent, awaiting response... 302 Found\n",
            "Location: https://raw.githubusercontent.com/sipocz/Twitter-Sentiment-Analysis-AI-Challenge/9674d3c8ef760a8d2c5cc2e3af8a71faa93edf7d/twitter_sentiment_analysis_ai_challenge-dataset.zip [following]\n",
            "--2021-10-10 20:42:27--  https://raw.githubusercontent.com/sipocz/Twitter-Sentiment-Analysis-AI-Challenge/9674d3c8ef760a8d2c5cc2e3af8a71faa93edf7d/twitter_sentiment_analysis_ai_challenge-dataset.zip\n",
            "Resolving raw.githubusercontent.com (raw.githubusercontent.com)... 185.199.109.133, 185.199.108.133, 185.199.111.133, ...\n",
            "Connecting to raw.githubusercontent.com (raw.githubusercontent.com)|185.199.109.133|:443... connected.\n",
            "HTTP request sent, awaiting response... 200 OK\n",
            "Length: 1258171 (1.2M) [application/zip]\n",
            "Saving to: ‘twitter_sentiment_analysis_ai_challenge-dataset.zip’\n",
            "\n",
            "twitter_sentiment_a 100%[===================>]   1.20M  --.-KB/s    in 0.07s   \n",
            "\n",
            "2021-10-10 20:42:27 (17.4 MB/s) - ‘twitter_sentiment_analysis_ai_challenge-dataset.zip’ saved [1258171/1258171]\n",
            "\n",
            "Archive:  twitter_sentiment_analysis_ai_challenge-dataset.zip\n",
            "  inflating: SampleSubmission.csv    \n",
            "  inflating: TEST.csv                \n",
            "  inflating: TRAIN.csv               \n"
          ]
        }
      ]
    },
    {
      "cell_type": "code",
      "metadata": {
        "colab": {
          "base_uri": "https://localhost:8080/"
        },
        "id": "YDtEcJB5haQF",
        "outputId": "26553e1e-0e2a-4aaa-d6bc-8c8abe5e54da"
      },
      "source": [
        "df.head()\n",
        "alltext1=df.text\n",
        "print (len(alltext1))"
      ],
      "execution_count": 7,
      "outputs": [
        {
          "output_type": "stream",
          "name": "stdout",
          "text": [
            "2640\n"
          ]
        }
      ]
    },
    {
      "cell_type": "code",
      "metadata": {
        "colab": {
          "base_uri": "https://localhost:8080/"
        },
        "id": "dA8Mk878pUdU",
        "outputId": "6ff30bd9-c7d4-4cd1-ffe9-1638da3e0266"
      },
      "source": [
        "df2=pd.read_csv(\"TRAIN.csv\")\n",
        "alltext2=df2.text\n",
        "print (len(alltext2))"
      ],
      "execution_count": 8,
      "outputs": [
        {
          "output_type": "stream",
          "name": "stdout",
          "text": [
            "12000\n"
          ]
        }
      ]
    },
    {
      "cell_type": "code",
      "metadata": {
        "colab": {
          "base_uri": "https://localhost:8080/"
        },
        "id": "_P-xoaRAp9gy",
        "outputId": "0e771fb7-8825-482f-d2e4-bcdafacd89ef"
      },
      "source": [
        "alltext1=list(alltext1)\n",
        "alltext2=list(alltext2)\n",
        "alltext=alltext1+alltext2\n",
        "print(f\" {len(alltext)}\")\n"
      ],
      "execution_count": 9,
      "outputs": [
        {
          "output_type": "stream",
          "name": "stdout",
          "text": [
            " 14640\n"
          ]
        }
      ]
    },
    {
      "cell_type": "code",
      "metadata": {
        "id": "OczaGqbTqKgz"
      },
      "source": [
        ""
      ],
      "execution_count": null,
      "outputs": []
    },
    {
      "cell_type": "code",
      "metadata": {
        "id": "2vGSDdwGqneG"
      },
      "source": [
        ""
      ],
      "execution_count": null,
      "outputs": []
    },
    {
      "cell_type": "code",
      "metadata": {
        "colab": {
          "base_uri": "https://localhost:8080/"
        },
        "id": "tuRrm2HJja_6",
        "outputId": "7d140f1e-7e8e-4a7d-f104-30c4ce115ddf"
      },
      "source": [
        "!pip install pyspellchecker\n",
        "from spellchecker import SpellChecker\n",
        "\n",
        "spell = SpellChecker()\n",
        "print(spell.correction(\"@frustrating\"))"
      ],
      "execution_count": 10,
      "outputs": [
        {
          "output_type": "stream",
          "name": "stdout",
          "text": [
            "Collecting pyspellchecker\n",
            "  Downloading pyspellchecker-0.6.2-py3-none-any.whl (2.7 MB)\n",
            "\u001b[K     |████████████████████████████████| 2.7 MB 4.2 MB/s \n",
            "\u001b[?25hInstalling collected packages: pyspellchecker\n",
            "Successfully installed pyspellchecker-0.6.2\n",
            "frustrating\n"
          ]
        }
      ]
    },
    {
      "cell_type": "code",
      "metadata": {
        "id": "RCN90l7Ijkb5"
      },
      "source": [
        "import re\n",
        "\n",
        "def remove_URL(text):\n",
        "    \"\"\"Remove URLs from a text string\"\"\"\n",
        "    return re.sub(r\"http\\S+\", \"\", text)\n",
        "\n",
        "def remove_emoji(string):\n",
        "    emoji_pattern = re.compile(\"[\"\n",
        "                           u\"\\U0001F600-\\U0001F64F\"  # emoticons\n",
        "                           u\"\\U0001F300-\\U0001F5FF\"  # symbols & pictographs\n",
        "                           u\"\\U0001F680-\\U0001F6FF\"  # transport & map symbols\n",
        "                           u\"\\U0001F1E0-\\U0001F1FF\"  # flags (iOS)\n",
        "                           u\"\\U00002702-\\U000027B0\"\n",
        "                           u\"\\U000024C2-\\U0001F251\"\n",
        "                           \"]+\", flags=re.UNICODE)\n",
        "    return emoji_pattern.sub(r'', string)\n",
        "\n",
        "def is_number(inp:str):\n",
        "    a=re.search(\"[\\d]\",inp)\n",
        "    if a==None: \n",
        "        return(False)\n",
        "    return(True)\n",
        "\n",
        "def strip_all_entities(text):\n",
        "    import emoji\n",
        "    import re,string\n",
        "    entity_prefixes = ['“','@','#',\"!\",\"?\",\":\",\"_\"]\n",
        "    for separator in  string.punctuation:\n",
        "        if separator not in entity_prefixes :\n",
        "            text = text.replace(separator,' ')\n",
        "    words = []\n",
        "    for word in text.split():\n",
        "        word = word.strip()\n",
        "        if word:\n",
        "            if word[0] not in ['“','@','#',\"!\",\"?\"]:\n",
        "                words.append(word)\n",
        "\n",
        "    return ' '.join(words)\n",
        "\n",
        "def de_ex(txt):\n",
        "    txt=txt.lower()\n",
        "    exwords={\"it's\":\"it is\",\n",
        "    \"aren't\":\"are not\",\n",
        "    \"i've\":\"i have\",\n",
        "    \"can't\":\"can not\",\n",
        "    \"didn't\":\"did not\",\n",
        "    \"i'm\":\"i am\",\n",
        "    \"that's\":\"that is\",\n",
        "    \"let's\":\" let is\",\n",
        "    \"she's\":\"she is\",\n",
        "    \"we're\":\"we are\",\n",
        "    \"they've\":\"they have\",\n",
        "    \"fleet's\":\"fleet is \",\n",
        "    \"there's\":\"there is\",\n",
        "    \"i'll\": \"i will\"\n",
        "    }\n",
        "    txt_list=txt.split()\n",
        "    for w in txt_list:\n",
        "        if w in exwords:\n",
        "            txt=txt.replace(w,exwords[w])\n",
        "    return (txt)\n",
        "\n",
        "\n",
        "\n",
        "def query_sentence(index):\n",
        "    print(f\"orig: {alltext[index]}\")\n",
        "    spell=SpellChecker()\n",
        "    inp=alltext[index]\n",
        "    inp=remove_URL(inp)\n",
        "    inp=emoji.demojize(inp)\n",
        "    inp=de_ex(inp)\n",
        "    print(\"demojize: \",inp)\n",
        "    inp=strip_all_entities(inp)\n",
        "    print(\"STRIP: \",inp)\n",
        "    txt=inp.replace(\",\",\" \").replace(\".\",\" \").replace(\"!\",\" _exclamation_ \").replace(\"#\",\" \").replace(\"???\",\"?\").replace(\"??\",\"?\").replace(\"?\",\" _questionmark_ \").replace(\"  \",\" \").replace(\"  \",\" \").replace('\"',\"\").replace(\"“\",\"\")\n",
        "    print(\"after replace=\",txt)\n",
        "    #print(txt)\n",
        "    normal=\"\"\n",
        "    for i in txt.split(\" \"):\n",
        "        w1=i.lower().strip()\n",
        "        if \"_\" in w1 or \":\" in w1:\n",
        "            w2=w1\n",
        "        else:\n",
        "            if w1 !=\"\":\n",
        "                w2=spell.correction(w1).strip()\n",
        "            else:\n",
        "                w2=\"\"\n",
        "            if w2==\"i\":\n",
        "                pass\n",
        "                #print(f\"chek: {w1}, {w2}\")\n",
        "            if is_number(w2):\n",
        "                w2=\"\"    \n",
        "        normal += w2+\" \"\n",
        "    normal=normal.replace(\"::\",\": :\")\n",
        "    print(f\"  conv: {normal}\")\n",
        "    return(normal)"
      ],
      "execution_count": 11,
      "outputs": []
    },
    {
      "cell_type": "code",
      "metadata": {
        "colab": {
          "base_uri": "https://localhost:8080/",
          "height": 205
        },
        "id": "6jllOvViBwUU",
        "outputId": "2179bb88-0c24-4545-e0c2-398fe06648f5"
      },
      "source": [
        "df2.head(1)"
      ],
      "execution_count": 38,
      "outputs": [
        {
          "output_type": "execute_result",
          "data": {
            "text/html": [
              "<div>\n",
              "<style scoped>\n",
              "    .dataframe tbody tr th:only-of-type {\n",
              "        vertical-align: middle;\n",
              "    }\n",
              "\n",
              "    .dataframe tbody tr th {\n",
              "        vertical-align: top;\n",
              "    }\n",
              "\n",
              "    .dataframe thead th {\n",
              "        text-align: right;\n",
              "    }\n",
              "</style>\n",
              "<table border=\"1\" class=\"dataframe\">\n",
              "  <thead>\n",
              "    <tr style=\"text-align: right;\">\n",
              "      <th></th>\n",
              "      <th>tweet_id</th>\n",
              "      <th>airline_sentiment</th>\n",
              "      <th>airline_sentiment_confidence</th>\n",
              "      <th>negativereason</th>\n",
              "      <th>negativereason_confidence</th>\n",
              "      <th>airline</th>\n",
              "      <th>airline_sentiment_gold</th>\n",
              "      <th>name</th>\n",
              "      <th>negativereason_gold</th>\n",
              "      <th>retweet_count</th>\n",
              "      <th>text</th>\n",
              "      <th>tweet_coord</th>\n",
              "      <th>tweet_created</th>\n",
              "      <th>tweet_location</th>\n",
              "      <th>user_timezone</th>\n",
              "    </tr>\n",
              "  </thead>\n",
              "  <tbody>\n",
              "    <tr>\n",
              "      <th>0</th>\n",
              "      <td>570018445695148033</td>\n",
              "      <td>negative</td>\n",
              "      <td>1.0</td>\n",
              "      <td>Customer Service Issue</td>\n",
              "      <td>0.656</td>\n",
              "      <td>United</td>\n",
              "      <td>NaN</td>\n",
              "      <td>tpensari</td>\n",
              "      <td>NaN</td>\n",
              "      <td>0</td>\n",
              "      <td>@united your customer service is terrible! Sto...</td>\n",
              "      <td>NaN</td>\n",
              "      <td>2015-02-23 16:32:42 -0800</td>\n",
              "      <td>NaN</td>\n",
              "      <td>NaN</td>\n",
              "    </tr>\n",
              "  </tbody>\n",
              "</table>\n",
              "</div>"
            ],
            "text/plain": [
              "             tweet_id airline_sentiment  ...  tweet_location user_timezone\n",
              "0  570018445695148033          negative  ...             NaN           NaN\n",
              "\n",
              "[1 rows x 15 columns]"
            ]
          },
          "metadata": {},
          "execution_count": 38
        }
      ]
    },
    {
      "cell_type": "markdown",
      "metadata": {
        "id": "IQUAUIB1F_Ao"
      },
      "source": [
        "# az ötlet: A teszt adatbázisból ki lehet szűrni a negatív eseteket.\n",
        "### csak a szöveg kell az eredeti adatbázisból\n",
        "### a test adatokat negatívra vesszük.\n",
        "\n",
        "Persze ha továbbgondoljuk, akkor lehetne egy (positive, neutral) selectort tanítani. Hiszen a negatív kommentekről mindent tudunk.\n",
        "Ezeket könnyü is kiválogatni a rendszerből, kérdés hogy rakjuk majd össze. \n",
        "Ezt majd megoldjuk.\n",
        "A legfontosabb, hogy tanulna egy ilyen \"duális kimenetre a rendszerünk\"\n"
      ]
    },
    {
      "cell_type": "code",
      "metadata": {
        "id": "jepfGWCA80U8"
      },
      "source": [
        "def listing(dfx,printing=False):\n",
        "    t_selector=[]\n",
        "    count_neg=0\n",
        "    count_pos=0\n",
        "    for i in range(len(dfx)):\n",
        "    \n",
        "        reason=dfx.loc[i].negativereason\n",
        "        airline_sentiment=\"NONE\"\n",
        "        if \"airline_sentiment\" in dfx.columns:\n",
        "            airline_sentiment=dfx.loc[i].airline_sentiment\n",
        "            \n",
        "        txt=dfx.loc[i].text\n",
        "        cond=[reason==\"Flight Booking Problems\", \n",
        "                    reason==\"Bad Flight\", \n",
        "                    reason==\"Late Flight\", \n",
        "                    reason==\"Lost Luggage\", \n",
        "                    reason==\"Customer Service Issue\",\n",
        "                    reason==\"Cancelled Flight\",\n",
        "                    reason==\"Flight Attendant Complaints\",\n",
        "                    reason==\"longlines\",\n",
        "                    reason==\"Damaged Luggage\",\n",
        "                    reason==\"Can't Tell\"\n",
        "                    ]\n",
        "        if any(cond):\n",
        "            count_neg+=1\n",
        "            t_selector.append(True) # kell ez az adat nekünk\n",
        "            if printing:\n",
        "                print(f\"negative:{count_neg} --  {reason}  -- {airline_sentiment} -- {txt}\" )\n",
        "        else:\n",
        "            count_pos+=1\n",
        "            if printing:\n",
        "                print(f\"??:{count_pos} --  {reason}  -- {airline_sentiment} -- {txt}\" )\n",
        "            t_selector.append(False) # ez nem kell nem negatív\n",
        "            \n",
        "    print(f\"Summa: negative: {count_neg}   --  positive: {count_pos}\")\n",
        "    return(t_selector)"
      ],
      "execution_count": 110,
      "outputs": []
    },
    {
      "cell_type": "code",
      "metadata": {
        "colab": {
          "base_uri": "https://localhost:8080/"
        },
        "id": "Wsbl39b8ABaC",
        "outputId": "92564412-e142-4183-f7b8-5b97c9e6c006"
      },
      "source": [
        "print (len(df2))"
      ],
      "execution_count": 111,
      "outputs": [
        {
          "output_type": "stream",
          "name": "stdout",
          "text": [
            "12000\n"
          ]
        }
      ]
    },
    {
      "cell_type": "code",
      "metadata": {
        "colab": {
          "base_uri": "https://localhost:8080/",
          "height": 311
        },
        "id": "8aFmuv5i-Vv6",
        "outputId": "469f425d-5749-4472-eeaa-d06a72c9f1ef"
      },
      "source": [
        "selector=listing(df)"
      ],
      "execution_count": 112,
      "outputs": [
        {
          "output_type": "error",
          "ename": "KeyboardInterrupt",
          "evalue": "ignored",
          "traceback": [
            "\u001b[0;31m---------------------------------------------------------------------------\u001b[0m",
            "\u001b[0;31mKeyboardInterrupt\u001b[0m                         Traceback (most recent call last)",
            "\u001b[0;32m<ipython-input-112-26fab55c9d53>\u001b[0m in \u001b[0;36m<module>\u001b[0;34m()\u001b[0m\n\u001b[0;32m----> 1\u001b[0;31m \u001b[0mselector\u001b[0m\u001b[0;34m=\u001b[0m\u001b[0mlisting\u001b[0m\u001b[0;34m(\u001b[0m\u001b[0mdf\u001b[0m\u001b[0;34m)\u001b[0m\u001b[0;34m\u001b[0m\u001b[0;34m\u001b[0m\u001b[0m\n\u001b[0m",
            "\u001b[0;32m<ipython-input-110-bcbc33cf2c91>\u001b[0m in \u001b[0;36mlisting\u001b[0;34m(dfx, printing)\u001b[0m\n\u001b[1;32m      5\u001b[0m     \u001b[0;32mfor\u001b[0m \u001b[0mi\u001b[0m \u001b[0;32min\u001b[0m \u001b[0mrange\u001b[0m\u001b[0;34m(\u001b[0m\u001b[0mlen\u001b[0m\u001b[0;34m(\u001b[0m\u001b[0mdfx\u001b[0m\u001b[0;34m)\u001b[0m\u001b[0;34m)\u001b[0m\u001b[0;34m:\u001b[0m\u001b[0;34m\u001b[0m\u001b[0;34m\u001b[0m\u001b[0m\n\u001b[1;32m      6\u001b[0m \u001b[0;34m\u001b[0m\u001b[0m\n\u001b[0;32m----> 7\u001b[0;31m         \u001b[0mreason\u001b[0m\u001b[0;34m=\u001b[0m\u001b[0mdfx\u001b[0m\u001b[0;34m.\u001b[0m\u001b[0mloc\u001b[0m\u001b[0;34m[\u001b[0m\u001b[0mi\u001b[0m\u001b[0;34m]\u001b[0m\u001b[0;34m.\u001b[0m\u001b[0mnegativereason\u001b[0m\u001b[0;34m\u001b[0m\u001b[0;34m\u001b[0m\u001b[0m\n\u001b[0m\u001b[1;32m      8\u001b[0m         \u001b[0mairline_sentiment\u001b[0m\u001b[0;34m=\u001b[0m\u001b[0;34m\"NONE\"\u001b[0m\u001b[0;34m\u001b[0m\u001b[0;34m\u001b[0m\u001b[0m\n\u001b[1;32m      9\u001b[0m         \u001b[0;32mif\u001b[0m \u001b[0;34m\"airline_sentiment\"\u001b[0m \u001b[0;32min\u001b[0m \u001b[0mdfx\u001b[0m\u001b[0;34m.\u001b[0m\u001b[0mcolumns\u001b[0m\u001b[0;34m:\u001b[0m\u001b[0;34m\u001b[0m\u001b[0;34m\u001b[0m\u001b[0m\n",
            "\u001b[0;32m/usr/local/lib/python3.7/dist-packages/pandas/core/indexing.py\u001b[0m in \u001b[0;36m__getitem__\u001b[0;34m(self, key)\u001b[0m\n\u001b[1;32m    877\u001b[0m \u001b[0;34m\u001b[0m\u001b[0m\n\u001b[1;32m    878\u001b[0m             \u001b[0mmaybe_callable\u001b[0m \u001b[0;34m=\u001b[0m \u001b[0mcom\u001b[0m\u001b[0;34m.\u001b[0m\u001b[0mapply_if_callable\u001b[0m\u001b[0;34m(\u001b[0m\u001b[0mkey\u001b[0m\u001b[0;34m,\u001b[0m \u001b[0mself\u001b[0m\u001b[0;34m.\u001b[0m\u001b[0mobj\u001b[0m\u001b[0;34m)\u001b[0m\u001b[0;34m\u001b[0m\u001b[0;34m\u001b[0m\u001b[0m\n\u001b[0;32m--> 879\u001b[0;31m             \u001b[0;32mreturn\u001b[0m \u001b[0mself\u001b[0m\u001b[0;34m.\u001b[0m\u001b[0m_getitem_axis\u001b[0m\u001b[0;34m(\u001b[0m\u001b[0mmaybe_callable\u001b[0m\u001b[0;34m,\u001b[0m \u001b[0maxis\u001b[0m\u001b[0;34m=\u001b[0m\u001b[0maxis\u001b[0m\u001b[0;34m)\u001b[0m\u001b[0;34m\u001b[0m\u001b[0;34m\u001b[0m\u001b[0m\n\u001b[0m\u001b[1;32m    880\u001b[0m \u001b[0;34m\u001b[0m\u001b[0m\n\u001b[1;32m    881\u001b[0m     \u001b[0;32mdef\u001b[0m \u001b[0m_is_scalar_access\u001b[0m\u001b[0;34m(\u001b[0m\u001b[0mself\u001b[0m\u001b[0;34m,\u001b[0m \u001b[0mkey\u001b[0m\u001b[0;34m:\u001b[0m \u001b[0mTuple\u001b[0m\u001b[0;34m)\u001b[0m\u001b[0;34m:\u001b[0m\u001b[0;34m\u001b[0m\u001b[0;34m\u001b[0m\u001b[0m\n",
            "\u001b[0;32m/usr/local/lib/python3.7/dist-packages/pandas/core/indexing.py\u001b[0m in \u001b[0;36m_getitem_axis\u001b[0;34m(self, key, axis)\u001b[0m\n\u001b[1;32m   1108\u001b[0m         \u001b[0;31m# fall thru to straight lookup\u001b[0m\u001b[0;34m\u001b[0m\u001b[0;34m\u001b[0m\u001b[0;34m\u001b[0m\u001b[0m\n\u001b[1;32m   1109\u001b[0m         \u001b[0mself\u001b[0m\u001b[0;34m.\u001b[0m\u001b[0m_validate_key\u001b[0m\u001b[0;34m(\u001b[0m\u001b[0mkey\u001b[0m\u001b[0;34m,\u001b[0m \u001b[0maxis\u001b[0m\u001b[0;34m)\u001b[0m\u001b[0;34m\u001b[0m\u001b[0;34m\u001b[0m\u001b[0m\n\u001b[0;32m-> 1110\u001b[0;31m         \u001b[0;32mreturn\u001b[0m \u001b[0mself\u001b[0m\u001b[0;34m.\u001b[0m\u001b[0m_get_label\u001b[0m\u001b[0;34m(\u001b[0m\u001b[0mkey\u001b[0m\u001b[0;34m,\u001b[0m \u001b[0maxis\u001b[0m\u001b[0;34m=\u001b[0m\u001b[0maxis\u001b[0m\u001b[0;34m)\u001b[0m\u001b[0;34m\u001b[0m\u001b[0;34m\u001b[0m\u001b[0m\n\u001b[0m\u001b[1;32m   1111\u001b[0m \u001b[0;34m\u001b[0m\u001b[0m\n\u001b[1;32m   1112\u001b[0m     \u001b[0;32mdef\u001b[0m \u001b[0m_get_slice_axis\u001b[0m\u001b[0;34m(\u001b[0m\u001b[0mself\u001b[0m\u001b[0;34m,\u001b[0m \u001b[0mslice_obj\u001b[0m\u001b[0;34m:\u001b[0m \u001b[0mslice\u001b[0m\u001b[0;34m,\u001b[0m \u001b[0maxis\u001b[0m\u001b[0;34m:\u001b[0m \u001b[0mint\u001b[0m\u001b[0;34m)\u001b[0m\u001b[0;34m:\u001b[0m\u001b[0;34m\u001b[0m\u001b[0;34m\u001b[0m\u001b[0m\n",
            "\u001b[0;32m/usr/local/lib/python3.7/dist-packages/pandas/core/indexing.py\u001b[0m in \u001b[0;36m_get_label\u001b[0;34m(self, label, axis)\u001b[0m\n\u001b[1;32m   1057\u001b[0m     \u001b[0;32mdef\u001b[0m \u001b[0m_get_label\u001b[0m\u001b[0;34m(\u001b[0m\u001b[0mself\u001b[0m\u001b[0;34m,\u001b[0m \u001b[0mlabel\u001b[0m\u001b[0;34m,\u001b[0m \u001b[0maxis\u001b[0m\u001b[0;34m:\u001b[0m \u001b[0mint\u001b[0m\u001b[0;34m)\u001b[0m\u001b[0;34m:\u001b[0m\u001b[0;34m\u001b[0m\u001b[0;34m\u001b[0m\u001b[0m\n\u001b[1;32m   1058\u001b[0m         \u001b[0;31m# GH#5667 this will fail if the label is not present in the axis.\u001b[0m\u001b[0;34m\u001b[0m\u001b[0;34m\u001b[0m\u001b[0;34m\u001b[0m\u001b[0m\n\u001b[0;32m-> 1059\u001b[0;31m         \u001b[0;32mreturn\u001b[0m \u001b[0mself\u001b[0m\u001b[0;34m.\u001b[0m\u001b[0mobj\u001b[0m\u001b[0;34m.\u001b[0m\u001b[0mxs\u001b[0m\u001b[0;34m(\u001b[0m\u001b[0mlabel\u001b[0m\u001b[0;34m,\u001b[0m \u001b[0maxis\u001b[0m\u001b[0;34m=\u001b[0m\u001b[0maxis\u001b[0m\u001b[0;34m)\u001b[0m\u001b[0;34m\u001b[0m\u001b[0;34m\u001b[0m\u001b[0m\n\u001b[0m\u001b[1;32m   1060\u001b[0m \u001b[0;34m\u001b[0m\u001b[0m\n\u001b[1;32m   1061\u001b[0m     \u001b[0;32mdef\u001b[0m \u001b[0m_handle_lowerdim_multi_index_axis0\u001b[0m\u001b[0;34m(\u001b[0m\u001b[0mself\u001b[0m\u001b[0;34m,\u001b[0m \u001b[0mtup\u001b[0m\u001b[0;34m:\u001b[0m \u001b[0mTuple\u001b[0m\u001b[0;34m)\u001b[0m\u001b[0;34m:\u001b[0m\u001b[0;34m\u001b[0m\u001b[0;34m\u001b[0m\u001b[0m\n",
            "\u001b[0;32m/usr/local/lib/python3.7/dist-packages/pandas/core/generic.py\u001b[0m in \u001b[0;36mxs\u001b[0;34m(self, key, axis, level, drop_level)\u001b[0m\n\u001b[1;32m   3511\u001b[0m                 \u001b[0;32mreturn\u001b[0m \u001b[0mself\u001b[0m\u001b[0;34m.\u001b[0m\u001b[0m_values\u001b[0m\u001b[0;34m[\u001b[0m\u001b[0mloc\u001b[0m\u001b[0;34m]\u001b[0m\u001b[0;34m\u001b[0m\u001b[0;34m\u001b[0m\u001b[0m\n\u001b[1;32m   3512\u001b[0m \u001b[0;34m\u001b[0m\u001b[0m\n\u001b[0;32m-> 3513\u001b[0;31m             \u001b[0mnew_values\u001b[0m \u001b[0;34m=\u001b[0m \u001b[0mself\u001b[0m\u001b[0;34m.\u001b[0m\u001b[0m_mgr\u001b[0m\u001b[0;34m.\u001b[0m\u001b[0mfast_xs\u001b[0m\u001b[0;34m(\u001b[0m\u001b[0mloc\u001b[0m\u001b[0;34m)\u001b[0m\u001b[0;34m\u001b[0m\u001b[0;34m\u001b[0m\u001b[0m\n\u001b[0m\u001b[1;32m   3514\u001b[0m \u001b[0;34m\u001b[0m\u001b[0m\n\u001b[1;32m   3515\u001b[0m             result = self._constructor_sliced(\n",
            "\u001b[0;32m/usr/local/lib/python3.7/dist-packages/pandas/core/internals/managers.py\u001b[0m in \u001b[0;36mfast_xs\u001b[0;34m(self, loc)\u001b[0m\n\u001b[1;32m    948\u001b[0m             \u001b[0;32mreturn\u001b[0m \u001b[0mself\u001b[0m\u001b[0;34m.\u001b[0m\u001b[0mblocks\u001b[0m\u001b[0;34m[\u001b[0m\u001b[0;36m0\u001b[0m\u001b[0;34m]\u001b[0m\u001b[0;34m.\u001b[0m\u001b[0miget\u001b[0m\u001b[0;34m(\u001b[0m\u001b[0;34m(\u001b[0m\u001b[0mslice\u001b[0m\u001b[0;34m(\u001b[0m\u001b[0;32mNone\u001b[0m\u001b[0;34m)\u001b[0m\u001b[0;34m,\u001b[0m \u001b[0mloc\u001b[0m\u001b[0;34m)\u001b[0m\u001b[0;34m)\u001b[0m\u001b[0;34m\u001b[0m\u001b[0;34m\u001b[0m\u001b[0m\n\u001b[1;32m    949\u001b[0m \u001b[0;34m\u001b[0m\u001b[0m\n\u001b[0;32m--> 950\u001b[0;31m         \u001b[0mdtype\u001b[0m \u001b[0;34m=\u001b[0m \u001b[0m_interleaved_dtype\u001b[0m\u001b[0;34m(\u001b[0m\u001b[0mself\u001b[0m\u001b[0;34m.\u001b[0m\u001b[0mblocks\u001b[0m\u001b[0;34m)\u001b[0m\u001b[0;34m\u001b[0m\u001b[0;34m\u001b[0m\u001b[0m\n\u001b[0m\u001b[1;32m    951\u001b[0m \u001b[0;34m\u001b[0m\u001b[0m\n\u001b[1;32m    952\u001b[0m         \u001b[0mn\u001b[0m \u001b[0;34m=\u001b[0m \u001b[0mlen\u001b[0m\u001b[0;34m(\u001b[0m\u001b[0mself\u001b[0m\u001b[0;34m)\u001b[0m\u001b[0;34m\u001b[0m\u001b[0;34m\u001b[0m\u001b[0m\n",
            "\u001b[0;32m/usr/local/lib/python3.7/dist-packages/pandas/core/internals/managers.py\u001b[0m in \u001b[0;36m_interleaved_dtype\u001b[0;34m(blocks)\u001b[0m\n\u001b[1;32m   1893\u001b[0m         \u001b[0;32mreturn\u001b[0m \u001b[0;32mNone\u001b[0m\u001b[0;34m\u001b[0m\u001b[0;34m\u001b[0m\u001b[0m\n\u001b[1;32m   1894\u001b[0m \u001b[0;34m\u001b[0m\u001b[0m\n\u001b[0;32m-> 1895\u001b[0;31m     \u001b[0;32mreturn\u001b[0m \u001b[0mfind_common_type\u001b[0m\u001b[0;34m(\u001b[0m\u001b[0;34m[\u001b[0m\u001b[0mb\u001b[0m\u001b[0;34m.\u001b[0m\u001b[0mdtype\u001b[0m \u001b[0;32mfor\u001b[0m \u001b[0mb\u001b[0m \u001b[0;32min\u001b[0m \u001b[0mblocks\u001b[0m\u001b[0;34m]\u001b[0m\u001b[0;34m)\u001b[0m\u001b[0;34m\u001b[0m\u001b[0;34m\u001b[0m\u001b[0m\n\u001b[0m\u001b[1;32m   1896\u001b[0m \u001b[0;34m\u001b[0m\u001b[0m\n\u001b[1;32m   1897\u001b[0m \u001b[0;34m\u001b[0m\u001b[0m\n",
            "\u001b[0;32m/usr/local/lib/python3.7/dist-packages/pandas/core/dtypes/cast.py\u001b[0m in \u001b[0;36mfind_common_type\u001b[0;34m(types)\u001b[0m\n\u001b[1;32m   1476\u001b[0m     \u001b[0mtypes\u001b[0m \u001b[0;34m=\u001b[0m \u001b[0mlist\u001b[0m\u001b[0;34m(\u001b[0m\u001b[0mdict\u001b[0m\u001b[0;34m.\u001b[0m\u001b[0mfromkeys\u001b[0m\u001b[0;34m(\u001b[0m\u001b[0mtypes\u001b[0m\u001b[0;34m)\u001b[0m\u001b[0;34m.\u001b[0m\u001b[0mkeys\u001b[0m\u001b[0;34m(\u001b[0m\u001b[0;34m)\u001b[0m\u001b[0;34m)\u001b[0m\u001b[0;34m\u001b[0m\u001b[0;34m\u001b[0m\u001b[0m\n\u001b[1;32m   1477\u001b[0m \u001b[0;34m\u001b[0m\u001b[0m\n\u001b[0;32m-> 1478\u001b[0;31m     \u001b[0;32mif\u001b[0m \u001b[0many\u001b[0m\u001b[0;34m(\u001b[0m\u001b[0misinstance\u001b[0m\u001b[0;34m(\u001b[0m\u001b[0mt\u001b[0m\u001b[0;34m,\u001b[0m \u001b[0mExtensionDtype\u001b[0m\u001b[0;34m)\u001b[0m \u001b[0;32mfor\u001b[0m \u001b[0mt\u001b[0m \u001b[0;32min\u001b[0m \u001b[0mtypes\u001b[0m\u001b[0;34m)\u001b[0m\u001b[0;34m:\u001b[0m\u001b[0;34m\u001b[0m\u001b[0;34m\u001b[0m\u001b[0m\n\u001b[0m\u001b[1;32m   1479\u001b[0m         \u001b[0;32mfor\u001b[0m \u001b[0mt\u001b[0m \u001b[0;32min\u001b[0m \u001b[0mtypes\u001b[0m\u001b[0;34m:\u001b[0m\u001b[0;34m\u001b[0m\u001b[0;34m\u001b[0m\u001b[0m\n\u001b[1;32m   1480\u001b[0m             \u001b[0;32mif\u001b[0m \u001b[0misinstance\u001b[0m\u001b[0;34m(\u001b[0m\u001b[0mt\u001b[0m\u001b[0;34m,\u001b[0m \u001b[0mExtensionDtype\u001b[0m\u001b[0;34m)\u001b[0m\u001b[0;34m:\u001b[0m\u001b[0;34m\u001b[0m\u001b[0;34m\u001b[0m\u001b[0m\n",
            "\u001b[0;32m/usr/local/lib/python3.7/dist-packages/pandas/core/dtypes/cast.py\u001b[0m in \u001b[0;36m<genexpr>\u001b[0;34m(.0)\u001b[0m\n\u001b[1;32m   1476\u001b[0m     \u001b[0mtypes\u001b[0m \u001b[0;34m=\u001b[0m \u001b[0mlist\u001b[0m\u001b[0;34m(\u001b[0m\u001b[0mdict\u001b[0m\u001b[0;34m.\u001b[0m\u001b[0mfromkeys\u001b[0m\u001b[0;34m(\u001b[0m\u001b[0mtypes\u001b[0m\u001b[0;34m)\u001b[0m\u001b[0;34m.\u001b[0m\u001b[0mkeys\u001b[0m\u001b[0;34m(\u001b[0m\u001b[0;34m)\u001b[0m\u001b[0;34m)\u001b[0m\u001b[0;34m\u001b[0m\u001b[0;34m\u001b[0m\u001b[0m\n\u001b[1;32m   1477\u001b[0m \u001b[0;34m\u001b[0m\u001b[0m\n\u001b[0;32m-> 1478\u001b[0;31m     \u001b[0;32mif\u001b[0m \u001b[0many\u001b[0m\u001b[0;34m(\u001b[0m\u001b[0misinstance\u001b[0m\u001b[0;34m(\u001b[0m\u001b[0mt\u001b[0m\u001b[0;34m,\u001b[0m \u001b[0mExtensionDtype\u001b[0m\u001b[0;34m)\u001b[0m \u001b[0;32mfor\u001b[0m \u001b[0mt\u001b[0m \u001b[0;32min\u001b[0m \u001b[0mtypes\u001b[0m\u001b[0;34m)\u001b[0m\u001b[0;34m:\u001b[0m\u001b[0;34m\u001b[0m\u001b[0;34m\u001b[0m\u001b[0m\n\u001b[0m\u001b[1;32m   1479\u001b[0m         \u001b[0;32mfor\u001b[0m \u001b[0mt\u001b[0m \u001b[0;32min\u001b[0m \u001b[0mtypes\u001b[0m\u001b[0;34m:\u001b[0m\u001b[0;34m\u001b[0m\u001b[0;34m\u001b[0m\u001b[0m\n\u001b[1;32m   1480\u001b[0m             \u001b[0;32mif\u001b[0m \u001b[0misinstance\u001b[0m\u001b[0;34m(\u001b[0m\u001b[0mt\u001b[0m\u001b[0;34m,\u001b[0m \u001b[0mExtensionDtype\u001b[0m\u001b[0;34m)\u001b[0m\u001b[0;34m:\u001b[0m\u001b[0;34m\u001b[0m\u001b[0;34m\u001b[0m\u001b[0m\n",
            "\u001b[0;31mKeyboardInterrupt\u001b[0m: "
          ]
        }
      ]
    },
    {
      "cell_type": "code",
      "metadata": {
        "id": "n3IUtwB1I1Qd"
      },
      "source": [
        "print (len(selector))"
      ],
      "execution_count": null,
      "outputs": []
    },
    {
      "cell_type": "code",
      "metadata": {
        "id": "H7-qENGrJCVg"
      },
      "source": [
        "df_negativ_test=df[selector]"
      ],
      "execution_count": null,
      "outputs": []
    },
    {
      "cell_type": "code",
      "metadata": {
        "id": "xZxSwp1YF-YJ"
      },
      "source": [
        ""
      ],
      "execution_count": null,
      "outputs": []
    },
    {
      "cell_type": "markdown",
      "metadata": {
        "id": "KzMOTKbN2G3R"
      },
      "source": [
        "##Mentés"
      ]
    },
    {
      "cell_type": "code",
      "metadata": {
        "id": "N9ZUtwPWj2wv"
      },
      "source": [
        "t=[]\n",
        "for i in range(len(alltext)):\n",
        "    print(f\"{i}\", end=\" \")\n",
        "    t.append(query_sentence(i))\n"
      ],
      "execution_count": null,
      "outputs": []
    },
    {
      "cell_type": "code",
      "metadata": {
        "id": "ivPXsq3JoP0m"
      },
      "source": [
        "s=set()\n",
        "for sent in t:\n",
        "    wlist=sent.strip().split()\n",
        "    for w in wlist:\n",
        "        s.add(w)\n",
        "print (len(s))\n",
        "ordered=list(s)\n",
        "ordered.sort()"
      ],
      "execution_count": null,
      "outputs": []
    },
    {
      "cell_type": "code",
      "metadata": {
        "id": "Yi9MDCpq6bJv"
      },
      "source": [
        "print(ordered)"
      ],
      "execution_count": null,
      "outputs": []
    },
    {
      "cell_type": "code",
      "metadata": {
        "id": "IIoSRwse2GOY"
      },
      "source": [
        "sentence=pd.DataFrame(t)\n",
        "sentence.columns=[\"Sentence\"]\n",
        "sentence.to_csv(\"Sentences_emoji.csv\")"
      ],
      "execution_count": null,
      "outputs": []
    },
    {
      "cell_type": "code",
      "metadata": {
        "id": "fbDPRdUc6gnp"
      },
      "source": [
        "wordlist=pd.DataFrame(ordered)\n",
        "wordlist.columns=[\"Words\"]\n",
        "wordlist.to_csv(\"words_emoji.csv\")"
      ],
      "execution_count": null,
      "outputs": []
    },
    {
      "cell_type": "markdown",
      "metadata": {
        "id": "0RCD1OKy7kJr"
      },
      "source": [
        "###---------------------------------\n"
      ]
    },
    {
      "cell_type": "markdown",
      "metadata": {
        "id": "YdZa4d2H7nO8"
      },
      "source": [
        "###Adatbetöltés SZAVAK BETÖLTÉSE"
      ]
    },
    {
      "cell_type": "code",
      "metadata": {
        "id": "q7heTRRxuS2U"
      },
      "source": [
        "import pandas as pd"
      ],
      "execution_count": null,
      "outputs": []
    },
    {
      "cell_type": "code",
      "metadata": {
        "id": "TIfoz1647-Cq"
      },
      "source": [
        "#words_url=\"https://github.com/sipocz/Twitter-Sentiment-Analysis-AI-Challenge/raw/bc5a87c1da7a3fdcd674325ca8d1ef417075fbd0/words.csv\"\n",
        "words_url=\"https://github.com/sipocz/Twitter-Sentiment-Analysis-AI-Challenge/raw/5b6a8293d5c08614e7997e477df13d6044dfad01/words_emoji_2.csv\"\n",
        "words_url=\"https://github.com/sipocz/Twitter-Sentiment-Analysis-AI-Challenge/raw/5de86fcaa648f3b456cfcc6514b6a045ca095c17/words_emoji_3.csv\"\n"
      ],
      "execution_count": null,
      "outputs": []
    },
    {
      "cell_type": "code",
      "metadata": {
        "id": "TZ8hnzVZ7iza"
      },
      "source": [
        "!rm words* \n",
        "!wget $words_url"
      ],
      "execution_count": null,
      "outputs": []
    },
    {
      "cell_type": "code",
      "metadata": {
        "id": "QOoEemS17h2s"
      },
      "source": [
        "words=pd.read_csv(\"words_emoji_3.csv\",index_col=0)\n",
        "words.head()\n",
        "words_list=list(words[\"Words\"])"
      ],
      "execution_count": null,
      "outputs": []
    },
    {
      "cell_type": "code",
      "metadata": {
        "id": "y0UURG-L--8L"
      },
      "source": [
        "word_dict={v:i+1 for i,v in enumerate(words_list)}"
      ],
      "execution_count": null,
      "outputs": []
    },
    {
      "cell_type": "markdown",
      "metadata": {
        "id": "zqnFYKaeCkda"
      },
      "source": [
        "### adatbetöltés mondatok betöltése"
      ]
    },
    {
      "cell_type": "code",
      "metadata": {
        "id": "ro6DsEKaCiwF"
      },
      "source": [
        "sentences_url=\"https://github.com/sipocz/Twitter-Sentiment-Analysis-AI-Challenge/raw/bc5a87c1da7a3fdcd674325ca8d1ef417075fbd0/Sentences.csv\"\n",
        "sentences_url=\"https://github.com/sipocz/Twitter-Sentiment-Analysis-AI-Challenge/raw/b9567d54968bba4d03ce8c3cac5ecdc4fe1c6031/Sentences_emoji.csv\"\n",
        "sentences_url=\"https://github.com/sipocz/Twitter-Sentiment-Analysis-AI-Challenge/raw/5b6a8293d5c08614e7997e477df13d6044dfad01/Sentences_emoji_2.csv\"\n",
        "sentences_url=\"https://github.com/sipocz/Twitter-Sentiment-Analysis-AI-Challenge/raw/5de86fcaa648f3b456cfcc6514b6a045ca095c17/Sentences_emoji_3.csv\"\n"
      ],
      "execution_count": null,
      "outputs": []
    },
    {
      "cell_type": "code",
      "metadata": {
        "id": "Z94-mHYG_ISL"
      },
      "source": [
        "!rm Sentences*\n",
        "!wget $sentences_url\n",
        "sentences=pd.read_csv(\"Sentences_emoji_3.csv\",index_col=0)\n",
        "sentences.head()\n",
        "sentences_list=list(sentences[\"Sentence\"])"
      ],
      "execution_count": null,
      "outputs": []
    },
    {
      "cell_type": "code",
      "metadata": {
        "id": "fsQObqfegZ7M"
      },
      "source": [
        ""
      ],
      "execution_count": null,
      "outputs": []
    },
    {
      "cell_type": "markdown",
      "metadata": {
        "id": "oqbe8kFxgJav"
      },
      "source": [
        "##Tanulás"
      ]
    },
    {
      "cell_type": "code",
      "metadata": {
        "id": "kHF2cpZxgh65"
      },
      "source": [
        "!rm *zip*\n",
        "!rm TEST*\n",
        "!rm TRAIN*\n",
        "!rm SampleSubmission*\n",
        "!wget https://github.com/sipocz/Twitter-Sentiment-Analysis-AI-Challenge/raw/9674d3c8ef760a8d2c5cc2e3af8a71faa93edf7d/twitter_sentiment_analysis_ai_challenge-dataset.zip\n",
        "!unzip twitter_sentiment_analysis_ai_challenge-dataset.zip\n"
      ],
      "execution_count": null,
      "outputs": []
    },
    {
      "cell_type": "code",
      "metadata": {
        "id": "QOAaF9hwwhvp"
      },
      "source": [
        "df=pd.read_csv(\"TRAIN.csv\")"
      ],
      "execution_count": null,
      "outputs": []
    },
    {
      "cell_type": "code",
      "metadata": {
        "id": "2TMATt2G-MKD"
      },
      "source": [
        "df.head(4)"
      ],
      "execution_count": null,
      "outputs": []
    },
    {
      "cell_type": "code",
      "metadata": {
        "id": "ugzlGNzhZZiZ"
      },
      "source": [
        "for i in range(len(df)):\n",
        "    if \"😊\" in df.loc[i].text:\n",
        "        print (f\"{i:6}. {df.loc[i].airline_sentiment:9} -- {df.loc[i].retweet_count:5} --  {df.loc[i].text}\")"
      ],
      "execution_count": null,
      "outputs": []
    },
    {
      "cell_type": "code",
      "metadata": {
        "id": "7ofBIKg2AIT3"
      },
      "source": [
        "for i in range(len(df)):\n",
        "    if df.loc[i].retweet_count>0:\n",
        "        print (f\"{i:6}. {df.loc[i].airline_sentiment:9} -- {df.loc[i].retweet_count:5} --  {df.loc[i].text}\")"
      ],
      "execution_count": null,
      "outputs": []
    },
    {
      "cell_type": "code",
      "metadata": {
        "id": "NOi4JkKGCil7"
      },
      "source": [
        "sentences_list[10420]"
      ],
      "execution_count": null,
      "outputs": []
    },
    {
      "cell_type": "code",
      "metadata": {
        "id": "6dYhqbq6UaRX"
      },
      "source": [
        "df.head(1)"
      ],
      "execution_count": null,
      "outputs": []
    },
    {
      "cell_type": "code",
      "metadata": {
        "id": "iuWeGPxRw4um"
      },
      "source": [
        "df[\"clean_text\"]=sentences_list[2640:]"
      ],
      "execution_count": null,
      "outputs": []
    },
    {
      "cell_type": "code",
      "metadata": {
        "id": "l64G9YXUQjZM",
        "outputId": "9f0c2be0-84c5-49f7-cea5-c7026c3a4179",
        "colab": {
          "base_uri": "https://localhost:8080/",
          "height": 205
        }
      },
      "source": [
        "df.head(1)"
      ],
      "execution_count": 114,
      "outputs": [
        {
          "output_type": "execute_result",
          "data": {
            "text/html": [
              "<div>\n",
              "<style scoped>\n",
              "    .dataframe tbody tr th:only-of-type {\n",
              "        vertical-align: middle;\n",
              "    }\n",
              "\n",
              "    .dataframe tbody tr th {\n",
              "        vertical-align: top;\n",
              "    }\n",
              "\n",
              "    .dataframe thead th {\n",
              "        text-align: right;\n",
              "    }\n",
              "</style>\n",
              "<table border=\"1\" class=\"dataframe\">\n",
              "  <thead>\n",
              "    <tr style=\"text-align: right;\">\n",
              "      <th></th>\n",
              "      <th>tweet_id</th>\n",
              "      <th>airline_sentiment</th>\n",
              "      <th>airline_sentiment_confidence</th>\n",
              "      <th>negativereason</th>\n",
              "      <th>negativereason_confidence</th>\n",
              "      <th>airline</th>\n",
              "      <th>airline_sentiment_gold</th>\n",
              "      <th>name</th>\n",
              "      <th>negativereason_gold</th>\n",
              "      <th>retweet_count</th>\n",
              "      <th>text</th>\n",
              "      <th>tweet_coord</th>\n",
              "      <th>tweet_created</th>\n",
              "      <th>tweet_location</th>\n",
              "      <th>user_timezone</th>\n",
              "      <th>clean_text</th>\n",
              "    </tr>\n",
              "  </thead>\n",
              "  <tbody>\n",
              "    <tr>\n",
              "      <th>0</th>\n",
              "      <td>570018445695148033</td>\n",
              "      <td>negative</td>\n",
              "      <td>1.0</td>\n",
              "      <td>Customer Service Issue</td>\n",
              "      <td>0.656</td>\n",
              "      <td>United</td>\n",
              "      <td>NaN</td>\n",
              "      <td>tpensari</td>\n",
              "      <td>NaN</td>\n",
              "      <td>0</td>\n",
              "      <td>@united your customer service is terrible! Sto...</td>\n",
              "      <td>NaN</td>\n",
              "      <td>2015-02-23 16:32:42 -0800</td>\n",
              "      <td>NaN</td>\n",
              "      <td>NaN</td>\n",
              "      <td>your customer service is terrible _exclamation...</td>\n",
              "    </tr>\n",
              "  </tbody>\n",
              "</table>\n",
              "</div>"
            ],
            "text/plain": [
              "             tweet_id  ...                                         clean_text\n",
              "0  570018445695148033  ...  your customer service is terrible _exclamation...\n",
              "\n",
              "[1 rows x 16 columns]"
            ]
          },
          "metadata": {},
          "execution_count": 114
        }
      ]
    },
    {
      "cell_type": "code",
      "metadata": {
        "id": "QYIAo2S7QXHp"
      },
      "source": [
        "df_pos_neutral=df[(df[\"airline_sentiment\"]==\"positive\") | (df[\"airline_sentiment\"]==\"neutral\")]"
      ],
      "execution_count": 117,
      "outputs": []
    },
    {
      "cell_type": "code",
      "metadata": {
        "id": "baFWCaMpQ5yt",
        "outputId": "954d96bd-49ea-4171-94c4-f92530da6de1",
        "colab": {
          "base_uri": "https://localhost:8080/",
          "height": 403
        }
      },
      "source": [
        "df_pos_neutral.head(4)"
      ],
      "execution_count": 118,
      "outputs": [
        {
          "output_type": "execute_result",
          "data": {
            "text/html": [
              "<div>\n",
              "<style scoped>\n",
              "    .dataframe tbody tr th:only-of-type {\n",
              "        vertical-align: middle;\n",
              "    }\n",
              "\n",
              "    .dataframe tbody tr th {\n",
              "        vertical-align: top;\n",
              "    }\n",
              "\n",
              "    .dataframe thead th {\n",
              "        text-align: right;\n",
              "    }\n",
              "</style>\n",
              "<table border=\"1\" class=\"dataframe\">\n",
              "  <thead>\n",
              "    <tr style=\"text-align: right;\">\n",
              "      <th></th>\n",
              "      <th>tweet_id</th>\n",
              "      <th>airline_sentiment</th>\n",
              "      <th>airline_sentiment_confidence</th>\n",
              "      <th>negativereason</th>\n",
              "      <th>negativereason_confidence</th>\n",
              "      <th>airline</th>\n",
              "      <th>airline_sentiment_gold</th>\n",
              "      <th>name</th>\n",
              "      <th>negativereason_gold</th>\n",
              "      <th>retweet_count</th>\n",
              "      <th>text</th>\n",
              "      <th>tweet_coord</th>\n",
              "      <th>tweet_created</th>\n",
              "      <th>tweet_location</th>\n",
              "      <th>user_timezone</th>\n",
              "      <th>clean_text</th>\n",
              "    </tr>\n",
              "  </thead>\n",
              "  <tbody>\n",
              "    <tr>\n",
              "      <th>1</th>\n",
              "      <td>568830255282040832</td>\n",
              "      <td>neutral</td>\n",
              "      <td>1.0000</td>\n",
              "      <td>NaN</td>\n",
              "      <td>NaN</td>\n",
              "      <td>Southwest</td>\n",
              "      <td>NaN</td>\n",
              "      <td>leavenodoubt131</td>\n",
              "      <td>NaN</td>\n",
              "      <td>0</td>\n",
              "      <td>@SouthwestAir  I will dm you now</td>\n",
              "      <td>NaN</td>\n",
              "      <td>2015-02-20 09:51:15 -0800</td>\n",
              "      <td>NaN</td>\n",
              "      <td>Tijuana</td>\n",
              "      <td>i will do you now</td>\n",
              "    </tr>\n",
              "    <tr>\n",
              "      <th>3</th>\n",
              "      <td>569936640669581313</td>\n",
              "      <td>positive</td>\n",
              "      <td>1.0000</td>\n",
              "      <td>NaN</td>\n",
              "      <td>NaN</td>\n",
              "      <td>United</td>\n",
              "      <td>NaN</td>\n",
              "      <td>koploperfan1992</td>\n",
              "      <td>NaN</td>\n",
              "      <td>0</td>\n",
              "      <td>@united look at this beauty 😉 dc 10 united air...</td>\n",
              "      <td>[51.322819, 5.3576218]</td>\n",
              "      <td>2015-02-23 11:07:38 -0800</td>\n",
              "      <td>Winterfell</td>\n",
              "      <td>NaN</td>\n",
              "      <td>look at this beauty :winking_face: do  united ...</td>\n",
              "    </tr>\n",
              "    <tr>\n",
              "      <th>4</th>\n",
              "      <td>569542242983124992</td>\n",
              "      <td>positive</td>\n",
              "      <td>1.0000</td>\n",
              "      <td>NaN</td>\n",
              "      <td>NaN</td>\n",
              "      <td>Delta</td>\n",
              "      <td>NaN</td>\n",
              "      <td>sandyy889</td>\n",
              "      <td>NaN</td>\n",
              "      <td>0</td>\n",
              "      <td>@JetBlue Landing! As usual great flight wiyh a...</td>\n",
              "      <td>NaN</td>\n",
              "      <td>2015-02-22 09:00:26 -0800</td>\n",
              "      <td>NaN</td>\n",
              "      <td>America/Detroit</td>\n",
              "      <td>landing _exclamation_ as usual great flight wi...</td>\n",
              "    </tr>\n",
              "    <tr>\n",
              "      <th>5</th>\n",
              "      <td>567738192426590209</td>\n",
              "      <td>neutral</td>\n",
              "      <td>0.6631</td>\n",
              "      <td>NaN</td>\n",
              "      <td>0.0</td>\n",
              "      <td>United</td>\n",
              "      <td>NaN</td>\n",
              "      <td>rajuchinthala</td>\n",
              "      <td>NaN</td>\n",
              "      <td>0</td>\n",
              "      <td>Thx! Stand by! “@united: @rajuchinthala I know...</td>\n",
              "      <td>NaN</td>\n",
              "      <td>2015-02-17 09:31:47 -0800</td>\n",
              "      <td>Indianapolis</td>\n",
              "      <td>Eastern Time (US &amp; Canada)</td>\n",
              "      <td>the _exclamation_ stand by _exclamation_ i kno...</td>\n",
              "    </tr>\n",
              "  </tbody>\n",
              "</table>\n",
              "</div>"
            ],
            "text/plain": [
              "             tweet_id  ...                                         clean_text\n",
              "1  568830255282040832  ...                                 i will do you now \n",
              "3  569936640669581313  ...  look at this beauty :winking_face: do  united ...\n",
              "4  569542242983124992  ...  landing _exclamation_ as usual great flight wi...\n",
              "5  567738192426590209  ...  the _exclamation_ stand by _exclamation_ i kno...\n",
              "\n",
              "[4 rows x 16 columns]"
            ]
          },
          "metadata": {},
          "execution_count": 118
        }
      ]
    },
    {
      "cell_type": "code",
      "metadata": {
        "id": "jf0HEnrsTCYn"
      },
      "source": [
        "def print_df(df,start=0,stop=0):\n",
        "    for i in range(start,stop):\n",
        "        print(f\"{i:4}.  --{df.loc[i].text} -- {df.loc[i].clean_text}\")"
      ],
      "execution_count": null,
      "outputs": []
    },
    {
      "cell_type": "code",
      "metadata": {
        "id": "bP3343atT-vB"
      },
      "source": [
        "print_df(df,1,10)"
      ],
      "execution_count": null,
      "outputs": []
    },
    {
      "cell_type": "code",
      "metadata": {
        "id": "roFT4HvqBQpa"
      },
      "source": [
        "def create_all_sentence(df):\n",
        "    all_sent=[]\n",
        "    for sentence in df.clean_text:\n",
        "        sent_list=sentence.strip().split()\n",
        "        out=[]\n",
        "        for word in sent_list:\n",
        "            out.append(word_dict[word]) \n",
        "        all_sent.append(out)\n",
        "    return(all_sent)\n"
      ],
      "execution_count": 126,
      "outputs": []
    },
    {
      "cell_type": "code",
      "metadata": {
        "id": "HRPOYhU0Ss0K"
      },
      "source": [
        "all_sent=create_all_sentence(df)\n",
        "df[\"sentence_code\"]=all_sent"
      ],
      "execution_count": 134,
      "outputs": []
    },
    {
      "cell_type": "code",
      "metadata": {
        "id": "SYprTV3ZRsWl"
      },
      "source": [
        "\n",
        "all_sent=create_all_sentence(df_pos_neutral)"
      ],
      "execution_count": 135,
      "outputs": []
    },
    {
      "cell_type": "code",
      "metadata": {
        "id": "KrZFC5BAEb2k",
        "colab": {
          "base_uri": "https://localhost:8080/"
        },
        "outputId": "383281b1-ccd7-46e0-aec0-4d23fc456a53"
      },
      "source": [
        "df_pos_neutral[\"sentence_code\"]=all_sent"
      ],
      "execution_count": 136,
      "outputs": [
        {
          "output_type": "stream",
          "name": "stderr",
          "text": [
            "/usr/local/lib/python3.7/dist-packages/ipykernel_launcher.py:1: SettingWithCopyWarning: \n",
            "A value is trying to be set on a copy of a slice from a DataFrame.\n",
            "Try using .loc[row_indexer,col_indexer] = value instead\n",
            "\n",
            "See the caveats in the documentation: https://pandas.pydata.org/pandas-docs/stable/user_guide/indexing.html#returning-a-view-versus-a-copy\n",
            "  \"\"\"Entry point for launching an IPython kernel.\n"
          ]
        }
      ]
    },
    {
      "cell_type": "code",
      "metadata": {
        "id": "W1zrBlxHSSlQ",
        "outputId": "ff2cde7e-c658-4280-9e1c-d99df4b7833b",
        "colab": {
          "base_uri": "https://localhost:8080/",
          "height": 135
        }
      },
      "source": [
        "df_pos_neutral.head(1)"
      ],
      "execution_count": 137,
      "outputs": [
        {
          "output_type": "execute_result",
          "data": {
            "text/html": [
              "<div>\n",
              "<style scoped>\n",
              "    .dataframe tbody tr th:only-of-type {\n",
              "        vertical-align: middle;\n",
              "    }\n",
              "\n",
              "    .dataframe tbody tr th {\n",
              "        vertical-align: top;\n",
              "    }\n",
              "\n",
              "    .dataframe thead th {\n",
              "        text-align: right;\n",
              "    }\n",
              "</style>\n",
              "<table border=\"1\" class=\"dataframe\">\n",
              "  <thead>\n",
              "    <tr style=\"text-align: right;\">\n",
              "      <th></th>\n",
              "      <th>tweet_id</th>\n",
              "      <th>airline_sentiment</th>\n",
              "      <th>airline_sentiment_confidence</th>\n",
              "      <th>negativereason</th>\n",
              "      <th>negativereason_confidence</th>\n",
              "      <th>airline</th>\n",
              "      <th>airline_sentiment_gold</th>\n",
              "      <th>name</th>\n",
              "      <th>negativereason_gold</th>\n",
              "      <th>retweet_count</th>\n",
              "      <th>text</th>\n",
              "      <th>tweet_coord</th>\n",
              "      <th>tweet_created</th>\n",
              "      <th>tweet_location</th>\n",
              "      <th>user_timezone</th>\n",
              "      <th>clean_text</th>\n",
              "      <th>sentence_code</th>\n",
              "    </tr>\n",
              "  </thead>\n",
              "  <tbody>\n",
              "    <tr>\n",
              "      <th>1</th>\n",
              "      <td>568830255282040832</td>\n",
              "      <td>neutral</td>\n",
              "      <td>1.0</td>\n",
              "      <td>NaN</td>\n",
              "      <td>NaN</td>\n",
              "      <td>Southwest</td>\n",
              "      <td>NaN</td>\n",
              "      <td>leavenodoubt131</td>\n",
              "      <td>NaN</td>\n",
              "      <td>0</td>\n",
              "      <td>@SouthwestAir  I will dm you now</td>\n",
              "      <td>NaN</td>\n",
              "      <td>2015-02-20 09:51:15 -0800</td>\n",
              "      <td>NaN</td>\n",
              "      <td>Tijuana</td>\n",
              "      <td>i will do you now</td>\n",
              "      <td>[4273, 9420, 2763, 9586, 5846]</td>\n",
              "    </tr>\n",
              "  </tbody>\n",
              "</table>\n",
              "</div>"
            ],
            "text/plain": [
              "             tweet_id  ...                   sentence_code\n",
              "1  568830255282040832  ...  [4273, 9420, 2763, 9586, 5846]\n",
              "\n",
              "[1 rows x 17 columns]"
            ]
          },
          "metadata": {},
          "execution_count": 137
        }
      ]
    },
    {
      "cell_type": "code",
      "metadata": {
        "id": "FCq2m69A39g3"
      },
      "source": [
        "table=list(df[\"sentence_code\"]) # typo\n",
        "lens=max([len(x) for x in table])\n",
        "sentiment=list(df_pos_neutral[\"airline_sentiment\"])\n"
      ],
      "execution_count": 138,
      "outputs": []
    },
    {
      "cell_type": "code",
      "metadata": {
        "id": "wGBReaGM6-zn"
      },
      "source": [
        "def ylabel_convert(sentiment):\n",
        "    ytrain=[]\n",
        "    for sent in sentiment:\n",
        "        if sent==\"negative\":\n",
        "            o=[1,0]\n",
        "        if sent==\"neutral\":\n",
        "            o=[0.5,0.5]\n",
        "        if sent==\"positive\":\n",
        "            o=[0,1]\n",
        "        ytrain.append(o)\n",
        "    return(ytrain)\n",
        "\n",
        "def ylabel_convert3(sentiment):\n",
        "    ytrain=[]\n",
        "    for sent in sentiment:\n",
        "        if sent==\"negative\":\n",
        "            o=[1,0,0]\n",
        "        if sent==\"neutral\":\n",
        "            o=[0,1,0]\n",
        "        if sent==\"positive\":\n",
        "            o=[0,0,1]\n",
        "        ytrain.append(o)\n",
        "    return(ytrain)\n",
        "\n",
        "def ylabel_convert2(sentiment):\n",
        "    ytrain=[]\n",
        "    for sent in sentiment:\n",
        "      \n",
        "        if sent==\"neutral\":\n",
        "            o=[1,0]\n",
        "        if sent==\"positive\":\n",
        "            o=[0,1]\n",
        "        ytrain.append(o)\n",
        "    return(ytrain)\n",
        "\n",
        "\n",
        "        "
      ],
      "execution_count": 139,
      "outputs": []
    },
    {
      "cell_type": "code",
      "metadata": {
        "id": "4QGQRyHcwtC6"
      },
      "source": [
        "ytrain=ylabel_convert2(sentiment)"
      ],
      "execution_count": 140,
      "outputs": []
    },
    {
      "cell_type": "code",
      "metadata": {
        "id": "TNi-g2CNARwY"
      },
      "source": [
        "x0=[0 for _ in range(lens) ]\n",
        "xtrain=[]\n",
        "for sent in df_pos_neutral[\"sentence_code\"]:\n",
        "    o1=list(x0[0:lens-len(sent)]+list(sent))\n",
        "    xtrain.append(o1)"
      ],
      "execution_count": 150,
      "outputs": []
    },
    {
      "cell_type": "code",
      "metadata": {
        "id": "tRf3_wt9Bekb"
      },
      "source": [
        ""
      ],
      "execution_count": null,
      "outputs": []
    },
    {
      "cell_type": "code",
      "metadata": {
        "id": "3JEpjcQSBWtx"
      },
      "source": [
        ""
      ],
      "execution_count": null,
      "outputs": []
    },
    {
      "cell_type": "code",
      "metadata": {
        "id": "WZSj92FGOebc"
      },
      "source": [
        "x_train=xtrain[0:-20]\n",
        "y_train=ytrain[0:-20]\n",
        "x_test=xtrain[-20:]\n",
        "y_test=ytrain[-20:]"
      ],
      "execution_count": 151,
      "outputs": []
    },
    {
      "cell_type": "code",
      "metadata": {
        "id": "5bWszNM3TuXL",
        "outputId": "9ebc9c0a-7641-41f5-d0b3-55ecddb94c9c",
        "colab": {
          "base_uri": "https://localhost:8080/"
        }
      },
      "source": [
        "len(x_train)"
      ],
      "execution_count": 152,
      "outputs": [
        {
          "output_type": "execute_result",
          "data": {
            "text/plain": [
              "4463"
            ]
          },
          "metadata": {},
          "execution_count": 152
        }
      ]
    },
    {
      "cell_type": "code",
      "metadata": {
        "id": "59MTn_Fs3SvW"
      },
      "source": [
        "\n",
        "\n",
        "lstm_size=lens\n",
        "max_input_length=lens\n",
        "embedding_size=190 #(100: 73%)\n",
        "n_words=len(table)\n",
        "n_out=len(y_train[0])"
      ],
      "execution_count": 153,
      "outputs": []
    },
    {
      "cell_type": "code",
      "metadata": {
        "id": "BS2bWgXsz2zc",
        "colab": {
          "base_uri": "https://localhost:8080/"
        },
        "outputId": "ec503c8c-94cb-43d0-c7b5-0c0b00d39c67"
      },
      "source": [
        "lens\n",
        "n_out"
      ],
      "execution_count": 154,
      "outputs": [
        {
          "output_type": "execute_result",
          "data": {
            "text/plain": [
              "2"
            ]
          },
          "metadata": {},
          "execution_count": 154
        }
      ]
    },
    {
      "cell_type": "code",
      "metadata": {
        "id": "uvvPuVNSxNa7"
      },
      "source": [
        "\n",
        "# Importáld a megfelelő rétegeket\n",
        "from tensorflow.keras.layers import Input,Dense,Embedding,LSTM,TimeDistributed, Flatten, Bidirectional\n",
        "from tensorflow.keras.models import Model\n",
        "from tensorflow.keras.optimizers import Adadelta,Adam,SGD\n",
        "from tensorflow.keras.losses import sparse_categorical_crossentropy,categorical_crossentropy, mean_squared_error\n",
        "from tensorflow.keras import backend as K\n",
        "\n",
        "K.clear_session\n",
        "x= Input(shape=(max_input_length,))\n",
        "embedded_x=Embedding(n_words+1,embedding_size, input_length=max_input_length-1, mask_zero=True)(x)\n",
        "lstm_output= LSTM(lstm_size,return_sequences=True)(embedded_x)\n",
        "lstm_output= LSTM(lstm_size,return_sequences=True)(lstm_output)\n",
        "\n",
        "\n",
        "lstm_output=Flatten()(lstm_output)\n",
        "#Dense_out= Dense(33, activation=\"softmax\")(lstm_output)\n",
        "\n",
        "predictions= Dense(n_out, activation=\"softmax\")(lstm_output)\n",
        "model=Model(inputs=x, outputs=predictions,)\n",
        "\n"
      ],
      "execution_count": 155,
      "outputs": []
    },
    {
      "cell_type": "code",
      "metadata": {
        "id": "NQpADS6gMHmd",
        "colab": {
          "base_uri": "https://localhost:8080/"
        },
        "outputId": "fca9d8c4-84d9-4e87-f564-36c514d086a8"
      },
      "source": [
        "model.summary()"
      ],
      "execution_count": 156,
      "outputs": [
        {
          "output_type": "stream",
          "name": "stdout",
          "text": [
            "Model: \"model_1\"\n",
            "_________________________________________________________________\n",
            "Layer (type)                 Output Shape              Param #   \n",
            "=================================================================\n",
            "input_2 (InputLayer)         [(None, 59)]              0         \n",
            "_________________________________________________________________\n",
            "embedding_1 (Embedding)      (None, 59, 190)           2280190   \n",
            "_________________________________________________________________\n",
            "lstm_2 (LSTM)                (None, 59, 59)            59000     \n",
            "_________________________________________________________________\n",
            "lstm_3 (LSTM)                (None, 59, 59)            28084     \n",
            "_________________________________________________________________\n",
            "flatten_1 (Flatten)          (None, 3481)              0         \n",
            "_________________________________________________________________\n",
            "dense_1 (Dense)              (None, 2)                 6964      \n",
            "=================================================================\n",
            "Total params: 2,374,238\n",
            "Trainable params: 2,374,238\n",
            "Non-trainable params: 0\n",
            "_________________________________________________________________\n"
          ]
        }
      ]
    },
    {
      "cell_type": "code",
      "metadata": {
        "id": "SzJYM8QeJyvI"
      },
      "source": [
        "import numpy as np"
      ],
      "execution_count": 157,
      "outputs": []
    },
    {
      "cell_type": "code",
      "metadata": {
        "id": "ACrVf-TbJYDe"
      },
      "source": [
        "#train_x = np.asarray(xtrain)\n",
        "#train_y = np.asarray(ytrain)"
      ],
      "execution_count": null,
      "outputs": []
    },
    {
      "cell_type": "code",
      "metadata": {
        "id": "Lj_fAh_eKaSl"
      },
      "source": [
        ""
      ],
      "execution_count": null,
      "outputs": []
    },
    {
      "cell_type": "code",
      "metadata": {
        "id": "RWIM4DP36S2L"
      },
      "source": [
        "# Loss \n",
        "\n",
        "loss = mean_squared_error #categorical_crossentropy # One-hot enkódolt kimenetünk van. Mit is használunk?\n",
        "\n",
        "# Optimizer\n",
        "optimizer = Adam() #Ízlés szerint...\n",
        " \n",
        "# Compilation\n",
        "#############\n",
        "\n",
        "model.compile(optimizer=optimizer,loss=loss)"
      ],
      "execution_count": 158,
      "outputs": []
    },
    {
      "cell_type": "code",
      "metadata": {
        "id": "op-I834SFpUX",
        "colab": {
          "base_uri": "https://localhost:8080/"
        },
        "outputId": "81c38953-1b9c-41a6-894b-67250bf2e03c"
      },
      "source": [
        "# Illesszük az adatra a modellt.\n",
        "history=model.fit(x=xtrain,y=ytrain,validation_data=( x_test,y_test), epochs=6, batch_size=50,)\n"
      ],
      "execution_count": 159,
      "outputs": [
        {
          "output_type": "stream",
          "name": "stdout",
          "text": [
            "Epoch 1/6\n",
            "90/90 [==============================] - 23s 177ms/step - loss: 0.1728 - val_loss: 0.0856\n",
            "Epoch 2/6\n",
            "90/90 [==============================] - 14s 150ms/step - loss: 0.0864 - val_loss: 0.0415\n",
            "Epoch 3/6\n",
            "90/90 [==============================] - 14s 150ms/step - loss: 0.0599 - val_loss: 0.0259\n",
            "Epoch 4/6\n",
            "90/90 [==============================] - 14s 151ms/step - loss: 0.0423 - val_loss: 0.0141\n",
            "Epoch 5/6\n",
            "90/90 [==============================] - 13s 150ms/step - loss: 0.0341 - val_loss: 0.0149\n",
            "Epoch 6/6\n",
            "90/90 [==============================] - 13s 150ms/step - loss: 0.0292 - val_loss: 0.0112\n"
          ]
        }
      ]
    },
    {
      "cell_type": "code",
      "metadata": {
        "id": "Y_CHGgYja_bB"
      },
      "source": [
        "pred=model.predict(x_train)"
      ],
      "execution_count": null,
      "outputs": []
    },
    {
      "cell_type": "code",
      "metadata": {
        "id": "CIFRZ753bMNi"
      },
      "source": [
        "for i in range(len(pred)):\n",
        "    print(f\"{i}, {pred[i]}, {y_train[i]}\")\n",
        "\n"
      ],
      "execution_count": null,
      "outputs": []
    },
    {
      "cell_type": "markdown",
      "metadata": {
        "id": "hlKyrRqfG6GP"
      },
      "source": [
        "### Model usage"
      ]
    },
    {
      "cell_type": "code",
      "metadata": {
        "id": "vvmmKvBIF4n8"
      },
      "source": [
        "test_df=pd.read_csv(\"TEST.csv\")"
      ],
      "execution_count": null,
      "outputs": []
    },
    {
      "cell_type": "code",
      "metadata": {
        "id": "Mc0vyTmcHRvY"
      },
      "source": [
        "print(len(test_df))"
      ],
      "execution_count": null,
      "outputs": []
    },
    {
      "cell_type": "code",
      "metadata": {
        "id": "e6y9O5tnHq9Z"
      },
      "source": [
        "test_df.head(130)"
      ],
      "execution_count": null,
      "outputs": []
    },
    {
      "cell_type": "code",
      "metadata": {
        "id": "5utaqxGNHU7y"
      },
      "source": [
        "test_df[\"clean_text\"]=sentences_list[:2640]"
      ],
      "execution_count": null,
      "outputs": []
    },
    {
      "cell_type": "code",
      "metadata": {
        "id": "_km2bK90Hydk"
      },
      "source": [
        "def code_sentences(df):\n",
        "    all_sent=[]\n",
        "    for sentence in df.clean_text:\n",
        "        sent_list=sentence.strip().split()\n",
        "        out=[]\n",
        "        for word in sent_list:\n",
        "            out.append(word_dict[word]) \n",
        "        all_sent.append(out)\n",
        "    df[\"sentence_code\"]=all_sent\n",
        "    return (df)"
      ],
      "execution_count": null,
      "outputs": []
    },
    {
      "cell_type": "code",
      "metadata": {
        "id": "ABUxosxoIkmI"
      },
      "source": [
        "test_df=code_sentences(test_df)"
      ],
      "execution_count": null,
      "outputs": []
    },
    {
      "cell_type": "code",
      "metadata": {
        "id": "YlMCct35I5Oe"
      },
      "source": [
        "def push_sentences(df,lens=33):\n",
        "    table=list(df[\"sentence_code\"]) # typo\n",
        "    \n",
        "    print(lens)\n",
        "    x0=[0 for _ in range(lens) ]\n",
        "    x=[]\n",
        "    for sent in table:\n",
        "        o1=list(x0[0:lens-len(sent)]+list(sent))\n",
        "        x.append(o1)\n",
        "    return(x)"
      ],
      "execution_count": null,
      "outputs": []
    },
    {
      "cell_type": "code",
      "metadata": {
        "id": "fOG4CqMmIQUC"
      },
      "source": [
        "test_df.head(1)"
      ],
      "execution_count": null,
      "outputs": []
    },
    {
      "cell_type": "code",
      "metadata": {
        "id": "bhu_bX9mKx-i"
      },
      "source": [
        "\n",
        "xx=push_sentences(test_df,lens=59)"
      ],
      "execution_count": null,
      "outputs": []
    },
    {
      "cell_type": "code",
      "metadata": {
        "id": "9bZFjo4TLE9R"
      },
      "source": [
        "test_out=model.predict(xx)"
      ],
      "execution_count": null,
      "outputs": []
    },
    {
      "cell_type": "code",
      "metadata": {
        "id": "lokLXV-uLs4-"
      },
      "source": [
        "test_out"
      ],
      "execution_count": null,
      "outputs": []
    },
    {
      "cell_type": "code",
      "metadata": {
        "id": "-LotAte_L8c9"
      },
      "source": [
        "def decode3(model_out):\n",
        "    y=[]\n",
        "    for mo in model_out:\n",
        "        if mo[0]>mo[1] and mo[0]>mo[2]:\n",
        "            o=\"negative\"    \n",
        "        if mo[1]>mo[0] and mo[1]>mo[2]:\n",
        "            o=\"neutral\"    \n",
        "        if mo[2]>mo[0] and mo[2]>mo[1]:\n",
        "            o=\"positive\"    \n",
        "        y.append(o)\n",
        "    return(y)\n",
        "\n",
        "\n",
        "  "
      ],
      "execution_count": null,
      "outputs": []
    },
    {
      "cell_type": "code",
      "metadata": {
        "id": "0Qf1AhjuObA-"
      },
      "source": [
        "def decode(model_out):\n",
        "    y=[]\n",
        "    for mo in model_out:\n",
        "        dif=abs(mo[0]-mo[1])\n",
        "        if dif < 0.2 :\n",
        "            o=\"neutral\"\n",
        "        else:\n",
        "            if mo[0]>mo[1] :\n",
        "                o=\"negative\"    \n",
        "            else:\n",
        "                o=\"positive\"    \n",
        "        y.append(o)\n",
        "    return(y)\n",
        "\n"
      ],
      "execution_count": null,
      "outputs": []
    },
    {
      "cell_type": "code",
      "metadata": {
        "id": "u1vU8pV0NDLx"
      },
      "source": [
        "prediction=decode3(test_out)"
      ],
      "execution_count": null,
      "outputs": []
    },
    {
      "cell_type": "code",
      "metadata": {
        "id": "8hHhbmhlA7Z9"
      },
      "source": [
        "def listing(status):\n",
        "    counti=0\n",
        "    for i in range(len(prediction)):\n",
        "    \n",
        "        predi=prediction[i]\n",
        "        reason=test_df.loc[i].negativereason\n",
        "        airline_sentiment=test_df.loc[i].airline_sentiment_gold\n",
        "        if predi==status:\n",
        "            counti+=1\n",
        "            print(f\"{i:4}. {counti:3}. =  {prediction[i]} -- {reason:15}--{airline_sentiment} -- {test_df.loc[i].text}\")\n",
        "            cond=[reason==\"Flight Booking Problems\", \n",
        "                    reason==\"Bad Flight\", \n",
        "                    reason==\"Late Flight\", \n",
        "                    reason==\"Lost Luggage\", \n",
        "                    reason==\"Customer Service Issue\",\n",
        "                    reason==\"Cancelled Flight\",\n",
        "                    reason==\"Flight Attendant Complaints\",\n",
        "                    reason==\"longlines\",\n",
        "                    reason==\"Damaged Luggage\"\n",
        "                    ]\n",
        "            if any(cond):\n",
        "                prediction[i]=\"negative\"\n"
      ],
      "execution_count": null,
      "outputs": []
    },
    {
      "cell_type": "code",
      "metadata": {
        "id": "2C-QAZjhBjlh"
      },
      "source": [
        "df.head(1)"
      ],
      "execution_count": null,
      "outputs": []
    },
    {
      "cell_type": "code",
      "metadata": {
        "id": "STwFh1eDGNjQ"
      },
      "source": [
        ""
      ],
      "execution_count": null,
      "outputs": []
    },
    {
      "cell_type": "code",
      "metadata": {
        "id": "AIcGxrmXBV_l"
      },
      "source": [
        "def retweet_converter():\n",
        "    counti=0\n",
        "    for i in range(len(prediction)):\n",
        "    \n",
        "        predi=prediction[i]\n",
        "        reason=test_df.loc[i].negativereason\n",
        "        retweet=test_df.loc[i].retweet_count\n",
        "        if retweet>0:\n",
        "            prediction[i]=\"negative\""
      ],
      "execution_count": null,
      "outputs": []
    },
    {
      "cell_type": "code",
      "metadata": {
        "id": "VBeoA9mQNCnL"
      },
      "source": [
        "listing(\"neutral\")\n",
        "#retweet_converter()"
      ],
      "execution_count": null,
      "outputs": []
    },
    {
      "cell_type": "code",
      "metadata": {
        "id": "sV7YM6GBYEYX"
      },
      "source": [
        "test_df[\"predicted\"]=prediction"
      ],
      "execution_count": null,
      "outputs": []
    },
    {
      "cell_type": "code",
      "metadata": {
        "id": "aERaT3-tNNMs"
      },
      "source": [
        "prediction_df=pd.DataFrame(prediction)"
      ],
      "execution_count": null,
      "outputs": []
    },
    {
      "cell_type": "code",
      "metadata": {
        "id": "Z-Y7T_cxNjar"
      },
      "source": [
        "prediction_df.columns=[\"Sentiment\"]"
      ],
      "execution_count": null,
      "outputs": []
    },
    {
      "cell_type": "code",
      "metadata": {
        "id": "r5SaPlp4OAWx"
      },
      "source": [
        "prediction_df.head()"
      ],
      "execution_count": null,
      "outputs": []
    },
    {
      "cell_type": "code",
      "metadata": {
        "id": "3OnUZvarOKWm"
      },
      "source": [
        "prediction_df.index.name=\"Index\""
      ],
      "execution_count": null,
      "outputs": []
    },
    {
      "cell_type": "code",
      "metadata": {
        "id": "hw4CUPobbH7A"
      },
      "source": [
        "from datetime  import datetime"
      ],
      "execution_count": null,
      "outputs": []
    },
    {
      "cell_type": "code",
      "metadata": {
        "id": "CAbhqmcPdF6U"
      },
      "source": [
        "a=datetime.now().strftime(\"%Y%m%d_%H%M%S\")"
      ],
      "execution_count": null,
      "outputs": []
    },
    {
      "cell_type": "code",
      "metadata": {
        "id": "MiOwO9UTdeUt"
      },
      "source": [
        "print(a)"
      ],
      "execution_count": null,
      "outputs": []
    },
    {
      "cell_type": "code",
      "metadata": {
        "id": "8ELciPC_OpWA"
      },
      "source": [
        "prediction_df.to_csv(\"submission_\"+a+\".csv\")"
      ],
      "execution_count": null,
      "outputs": []
    },
    {
      "cell_type": "code",
      "metadata": {
        "id": "wvmaQZGBYM_7"
      },
      "source": [
        "predcsv=test_df.loc[:,[\"text\",\"predicted\"]]\n",
        "\n",
        "predcsv.to_csv(\"mini.csv\")"
      ],
      "execution_count": null,
      "outputs": []
    },
    {
      "cell_type": "code",
      "metadata": {
        "id": "OrtPBTgcYwtg"
      },
      "source": [
        "print_df(test_df,95,145)"
      ],
      "execution_count": null,
      "outputs": []
    },
    {
      "cell_type": "code",
      "metadata": {
        "id": "3npyMAv1c555"
      },
      "source": [
        "def de_ex(txt):\n",
        "    txt=txt.lower()\n",
        "    exwords={\"it's\":\"it is\",\n",
        "    \"aren't\":\"are not\",\n",
        "    \"i've\":\"i have\",\n",
        "    \"can't\":\"can not\",\n",
        "    \"didn't\":\"did not\",\n",
        "    \"i'm\":\"i am\",\n",
        "    \"that's\":\"that is\",\n",
        "    \"let's\":\" let is\",\n",
        "    \"she's\":\"she is\",\n",
        "    \"we're\":\"we are\",\n",
        "    \"they've\":\"they have\",\n",
        "    \"fleet's\":\"fleet is \",\n",
        "    \"there's\":\"there is\"\n",
        "    \"i'll\": \"i will\"\n",
        "    }\n",
        "    txt_list=txt.split()\n",
        "    for w in txt_list:\n",
        "        if w in exwords:\n",
        "            txt=txt.replace(w,exwords[w])\n",
        "    return (txt)\n"
      ],
      "execution_count": null,
      "outputs": []
    },
    {
      "cell_type": "code",
      "metadata": {
        "id": "x2AIFqEfmDmR"
      },
      "source": [
        "de_ex(\"hello i'm bond, james bond\")"
      ],
      "execution_count": null,
      "outputs": []
    },
    {
      "cell_type": "code",
      "metadata": {
        "id": "SgsX1vHRdyXV"
      },
      "source": [
        "def print_char_df(df,character,start=0,stop=0):\n",
        "    for i in range(start,stop):\n",
        "        if character in df.loc[i].text:\n",
        "            print(f\"{i:4}.  --{df.loc[i].text} -- {df.loc[i].clean_text}\")"
      ],
      "execution_count": null,
      "outputs": []
    },
    {
      "cell_type": "code",
      "metadata": {
        "id": "jDCpdClueCJO"
      },
      "source": [
        "print_char_df(test_df,\"'\",0,100)"
      ],
      "execution_count": null,
      "outputs": []
    }
  ]
}