{
  "nbformat": 4,
  "nbformat_minor": 0,
  "metadata": {
    "colab": {
      "name": "Twitter Sentiment Analysis AI Challenge.ipynb",
      "provenance": [],
      "authorship_tag": "ABX9TyPo+i2rlJnR/pUslr0eXYLd",
      "include_colab_link": true
    },
    "kernelspec": {
      "name": "python3",
      "display_name": "Python 3"
    },
    "language_info": {
      "name": "python"
    }
  },
  "cells": [
    {
      "cell_type": "markdown",
      "metadata": {
        "id": "view-in-github",
        "colab_type": "text"
      },
      "source": [
        "<a href=\"https://colab.research.google.com/github/sipocz/Twitter-Sentiment-Analysis-AI-Challenge/blob/main/Twitter_Sentiment_Analysis_AI_Challenge.ipynb\" target=\"_parent\"><img src=\"https://colab.research.google.com/assets/colab-badge.svg\" alt=\"Open In Colab\"/></a>"
      ]
    },
    {
      "cell_type": "code",
      "metadata": {
        "id": "nbMdZHhvT1nr"
      },
      "source": [
        "import pandas as pd"
      ],
      "execution_count": 1,
      "outputs": []
    },
    {
      "cell_type": "code",
      "metadata": {
        "colab": {
          "base_uri": "https://localhost:8080/"
        },
        "id": "NStx7HQIY1Of",
        "outputId": "f3b0d65e-fa89-49a4-8670-909657637415"
      },
      "source": [
        "!rm *zip*"
      ],
      "execution_count": 2,
      "outputs": [
        {
          "output_type": "stream",
          "name": "stdout",
          "text": [
            "rm: cannot remove '*zip*': No such file or directory\n"
          ]
        }
      ]
    },
    {
      "cell_type": "code",
      "metadata": {
        "colab": {
          "base_uri": "https://localhost:8080/"
        },
        "id": "aywv_Lc5YJZy",
        "outputId": "4d830feb-86d7-4c45-9bf8-25489dfb1779"
      },
      "source": [
        "!wget https://github.com/sipocz/Twitter-Sentiment-Analysis-AI-Challenge/raw/9674d3c8ef760a8d2c5cc2e3af8a71faa93edf7d/twitter_sentiment_analysis_ai_challenge-dataset.zip"
      ],
      "execution_count": 3,
      "outputs": [
        {
          "output_type": "stream",
          "name": "stdout",
          "text": [
            "--2021-10-03 14:22:46--  https://github.com/sipocz/Twitter-Sentiment-Analysis-AI-Challenge/raw/9674d3c8ef760a8d2c5cc2e3af8a71faa93edf7d/twitter_sentiment_analysis_ai_challenge-dataset.zip\n",
            "Resolving github.com (github.com)... 140.82.121.4\n",
            "Connecting to github.com (github.com)|140.82.121.4|:443... connected.\n",
            "HTTP request sent, awaiting response... 302 Found\n",
            "Location: https://raw.githubusercontent.com/sipocz/Twitter-Sentiment-Analysis-AI-Challenge/9674d3c8ef760a8d2c5cc2e3af8a71faa93edf7d/twitter_sentiment_analysis_ai_challenge-dataset.zip [following]\n",
            "--2021-10-03 14:22:47--  https://raw.githubusercontent.com/sipocz/Twitter-Sentiment-Analysis-AI-Challenge/9674d3c8ef760a8d2c5cc2e3af8a71faa93edf7d/twitter_sentiment_analysis_ai_challenge-dataset.zip\n",
            "Resolving raw.githubusercontent.com (raw.githubusercontent.com)... 185.199.108.133, 185.199.109.133, 185.199.110.133, ...\n",
            "Connecting to raw.githubusercontent.com (raw.githubusercontent.com)|185.199.108.133|:443... connected.\n",
            "HTTP request sent, awaiting response... 200 OK\n",
            "Length: 1258171 (1.2M) [application/zip]\n",
            "Saving to: ‘twitter_sentiment_analysis_ai_challenge-dataset.zip’\n",
            "\n",
            "twitter_sentiment_a 100%[===================>]   1.20M  --.-KB/s    in 0.02s   \n",
            "\n",
            "2021-10-03 14:22:47 (61.2 MB/s) - ‘twitter_sentiment_analysis_ai_challenge-dataset.zip’ saved [1258171/1258171]\n",
            "\n"
          ]
        }
      ]
    },
    {
      "cell_type": "code",
      "metadata": {
        "colab": {
          "base_uri": "https://localhost:8080/"
        },
        "id": "o1Yu4o7_TIcd",
        "outputId": "9e324971-bd6e-49b2-e09d-734ec793152d"
      },
      "source": [
        "!unzip twitter_sentiment_analysis_ai_challenge-dataset.zip"
      ],
      "execution_count": 4,
      "outputs": [
        {
          "output_type": "stream",
          "name": "stdout",
          "text": [
            "Archive:  twitter_sentiment_analysis_ai_challenge-dataset.zip\n",
            "  inflating: SampleSubmission.csv    \n",
            "  inflating: TEST.csv                \n",
            "  inflating: TRAIN.csv               \n"
          ]
        }
      ]
    },
    {
      "cell_type": "code",
      "metadata": {
        "id": "WHCIg4XiT6Wu"
      },
      "source": [
        "df=pd.read_csv(\"TRAIN.csv\")"
      ],
      "execution_count": 5,
      "outputs": []
    },
    {
      "cell_type": "code",
      "metadata": {
        "colab": {
          "base_uri": "https://localhost:8080/",
          "height": 1000
        },
        "id": "G8RDqf7SULE5",
        "outputId": "5c88cece-8563-4810-b436-1bcc59df92c1"
      },
      "source": [
        "df.head(30)"
      ],
      "execution_count": 6,
      "outputs": [
        {
          "output_type": "execute_result",
          "data": {
            "text/html": [
              "<div>\n",
              "<style scoped>\n",
              "    .dataframe tbody tr th:only-of-type {\n",
              "        vertical-align: middle;\n",
              "    }\n",
              "\n",
              "    .dataframe tbody tr th {\n",
              "        vertical-align: top;\n",
              "    }\n",
              "\n",
              "    .dataframe thead th {\n",
              "        text-align: right;\n",
              "    }\n",
              "</style>\n",
              "<table border=\"1\" class=\"dataframe\">\n",
              "  <thead>\n",
              "    <tr style=\"text-align: right;\">\n",
              "      <th></th>\n",
              "      <th>tweet_id</th>\n",
              "      <th>airline_sentiment</th>\n",
              "      <th>airline_sentiment_confidence</th>\n",
              "      <th>negativereason</th>\n",
              "      <th>negativereason_confidence</th>\n",
              "      <th>airline</th>\n",
              "      <th>airline_sentiment_gold</th>\n",
              "      <th>name</th>\n",
              "      <th>negativereason_gold</th>\n",
              "      <th>retweet_count</th>\n",
              "      <th>text</th>\n",
              "      <th>tweet_coord</th>\n",
              "      <th>tweet_created</th>\n",
              "      <th>tweet_location</th>\n",
              "      <th>user_timezone</th>\n",
              "    </tr>\n",
              "  </thead>\n",
              "  <tbody>\n",
              "    <tr>\n",
              "      <th>0</th>\n",
              "      <td>570018445695148033</td>\n",
              "      <td>negative</td>\n",
              "      <td>1.0000</td>\n",
              "      <td>Customer Service Issue</td>\n",
              "      <td>0.6560</td>\n",
              "      <td>United</td>\n",
              "      <td>NaN</td>\n",
              "      <td>tpensari</td>\n",
              "      <td>NaN</td>\n",
              "      <td>0</td>\n",
              "      <td>@united your customer service is terrible! Sto...</td>\n",
              "      <td>NaN</td>\n",
              "      <td>2015-02-23 16:32:42 -0800</td>\n",
              "      <td>NaN</td>\n",
              "      <td>NaN</td>\n",
              "    </tr>\n",
              "    <tr>\n",
              "      <th>1</th>\n",
              "      <td>568830255282040832</td>\n",
              "      <td>neutral</td>\n",
              "      <td>1.0000</td>\n",
              "      <td>NaN</td>\n",
              "      <td>NaN</td>\n",
              "      <td>Southwest</td>\n",
              "      <td>NaN</td>\n",
              "      <td>leavenodoubt131</td>\n",
              "      <td>NaN</td>\n",
              "      <td>0</td>\n",
              "      <td>@SouthwestAir  I will dm you now</td>\n",
              "      <td>NaN</td>\n",
              "      <td>2015-02-20 09:51:15 -0800</td>\n",
              "      <td>NaN</td>\n",
              "      <td>Tijuana</td>\n",
              "    </tr>\n",
              "    <tr>\n",
              "      <th>2</th>\n",
              "      <td>569296356143050754</td>\n",
              "      <td>negative</td>\n",
              "      <td>1.0000</td>\n",
              "      <td>longlines</td>\n",
              "      <td>0.3462</td>\n",
              "      <td>United</td>\n",
              "      <td>NaN</td>\n",
              "      <td>ScottyNeuman</td>\n",
              "      <td>NaN</td>\n",
              "      <td>1</td>\n",
              "      <td>@united congratulations united. Fail again. Sk...</td>\n",
              "      <td>[39.85760174, -104.66669625]</td>\n",
              "      <td>2015-02-21 16:43:22 -0800</td>\n",
              "      <td>Montana, God's country\\n</td>\n",
              "      <td>Pacific Time (US &amp; Canada)</td>\n",
              "    </tr>\n",
              "    <tr>\n",
              "      <th>3</th>\n",
              "      <td>569936640669581313</td>\n",
              "      <td>positive</td>\n",
              "      <td>1.0000</td>\n",
              "      <td>NaN</td>\n",
              "      <td>NaN</td>\n",
              "      <td>United</td>\n",
              "      <td>NaN</td>\n",
              "      <td>koploperfan1992</td>\n",
              "      <td>NaN</td>\n",
              "      <td>0</td>\n",
              "      <td>@united look at this beauty 😉 dc 10 united air...</td>\n",
              "      <td>[51.322819, 5.3576218]</td>\n",
              "      <td>2015-02-23 11:07:38 -0800</td>\n",
              "      <td>Winterfell</td>\n",
              "      <td>NaN</td>\n",
              "    </tr>\n",
              "    <tr>\n",
              "      <th>4</th>\n",
              "      <td>569542242983124992</td>\n",
              "      <td>positive</td>\n",
              "      <td>1.0000</td>\n",
              "      <td>NaN</td>\n",
              "      <td>NaN</td>\n",
              "      <td>Delta</td>\n",
              "      <td>NaN</td>\n",
              "      <td>sandyy889</td>\n",
              "      <td>NaN</td>\n",
              "      <td>0</td>\n",
              "      <td>@JetBlue Landing! As usual great flight wiyh a...</td>\n",
              "      <td>NaN</td>\n",
              "      <td>2015-02-22 09:00:26 -0800</td>\n",
              "      <td>NaN</td>\n",
              "      <td>America/Detroit</td>\n",
              "    </tr>\n",
              "    <tr>\n",
              "      <th>5</th>\n",
              "      <td>567738192426590209</td>\n",
              "      <td>neutral</td>\n",
              "      <td>0.6631</td>\n",
              "      <td>NaN</td>\n",
              "      <td>0.0000</td>\n",
              "      <td>United</td>\n",
              "      <td>NaN</td>\n",
              "      <td>rajuchinthala</td>\n",
              "      <td>NaN</td>\n",
              "      <td>0</td>\n",
              "      <td>Thx! Stand by! “@united: @rajuchinthala I know...</td>\n",
              "      <td>NaN</td>\n",
              "      <td>2015-02-17 09:31:47 -0800</td>\n",
              "      <td>Indianapolis</td>\n",
              "      <td>Eastern Time (US &amp; Canada)</td>\n",
              "    </tr>\n",
              "    <tr>\n",
              "      <th>6</th>\n",
              "      <td>568558135637463040</td>\n",
              "      <td>positive</td>\n",
              "      <td>0.6634</td>\n",
              "      <td>NaN</td>\n",
              "      <td>NaN</td>\n",
              "      <td>United</td>\n",
              "      <td>NaN</td>\n",
              "      <td>TonyLauro</td>\n",
              "      <td>NaN</td>\n",
              "      <td>0</td>\n",
              "      <td>@united Fair enough. I don't usually rant, but...</td>\n",
              "      <td>NaN</td>\n",
              "      <td>2015-02-19 15:49:57 -0800</td>\n",
              "      <td>Dallas, TX</td>\n",
              "      <td>Central Time (US &amp; Canada)</td>\n",
              "    </tr>\n",
              "    <tr>\n",
              "      <th>7</th>\n",
              "      <td>569693713087082497</td>\n",
              "      <td>negative</td>\n",
              "      <td>0.6666</td>\n",
              "      <td>Can't Tell</td>\n",
              "      <td>0.3355</td>\n",
              "      <td>American</td>\n",
              "      <td>NaN</td>\n",
              "      <td>jkhoey</td>\n",
              "      <td>NaN</td>\n",
              "      <td>0</td>\n",
              "      <td>@AmericanAir 37 minutes??????</td>\n",
              "      <td>NaN</td>\n",
              "      <td>2015-02-22 19:02:20 -0800</td>\n",
              "      <td>New York, NY</td>\n",
              "      <td>Eastern Time (US &amp; Canada)</td>\n",
              "    </tr>\n",
              "    <tr>\n",
              "      <th>8</th>\n",
              "      <td>568591059602829314</td>\n",
              "      <td>positive</td>\n",
              "      <td>1.0000</td>\n",
              "      <td>NaN</td>\n",
              "      <td>NaN</td>\n",
              "      <td>Southwest</td>\n",
              "      <td>NaN</td>\n",
              "      <td>iknowmatt2</td>\n",
              "      <td>NaN</td>\n",
              "      <td>0</td>\n",
              "      <td>@SouthwestAir a nice trip back home after a lo...</td>\n",
              "      <td>NaN</td>\n",
              "      <td>2015-02-19 18:00:47 -0800</td>\n",
              "      <td>~~ Rhode Island ~~</td>\n",
              "      <td>Eastern Time (US &amp; Canada)</td>\n",
              "    </tr>\n",
              "    <tr>\n",
              "      <th>9</th>\n",
              "      <td>569493640990625793</td>\n",
              "      <td>negative</td>\n",
              "      <td>1.0000</td>\n",
              "      <td>Late Flight</td>\n",
              "      <td>1.0000</td>\n",
              "      <td>United</td>\n",
              "      <td>NaN</td>\n",
              "      <td>_Charette_</td>\n",
              "      <td>NaN</td>\n",
              "      <td>0</td>\n",
              "      <td>@united flight 403 is delayed 40 min bc a miss...</td>\n",
              "      <td>NaN</td>\n",
              "      <td>2015-02-22 05:47:19 -0800</td>\n",
              "      <td>SE AZ By Way of HV</td>\n",
              "      <td>Mountain Time (US &amp; Canada)</td>\n",
              "    </tr>\n",
              "    <tr>\n",
              "      <th>10</th>\n",
              "      <td>568440514506301440</td>\n",
              "      <td>neutral</td>\n",
              "      <td>0.6819</td>\n",
              "      <td>NaN</td>\n",
              "      <td>NaN</td>\n",
              "      <td>Southwest</td>\n",
              "      <td>NaN</td>\n",
              "      <td>segeorgeff</td>\n",
              "      <td>NaN</td>\n",
              "      <td>3</td>\n",
              "      <td>@southwestair has 22 employees on Social Care ...</td>\n",
              "      <td>NaN</td>\n",
              "      <td>2015-02-19 08:02:34 -0800</td>\n",
              "      <td>San Antonio, Texas</td>\n",
              "      <td>Tehran</td>\n",
              "    </tr>\n",
              "    <tr>\n",
              "      <th>11</th>\n",
              "      <td>567873229055991808</td>\n",
              "      <td>negative</td>\n",
              "      <td>0.6987</td>\n",
              "      <td>Lost Luggage</td>\n",
              "      <td>0.3493</td>\n",
              "      <td>Delta</td>\n",
              "      <td>NaN</td>\n",
              "      <td>Trufflebaby2</td>\n",
              "      <td>NaN</td>\n",
              "      <td>0</td>\n",
              "      <td>@JetBlue I get Sunday due to weather and ok Mo...</td>\n",
              "      <td>NaN</td>\n",
              "      <td>2015-02-17 18:28:23 -0800</td>\n",
              "      <td>NaN</td>\n",
              "      <td>NaN</td>\n",
              "    </tr>\n",
              "    <tr>\n",
              "      <th>12</th>\n",
              "      <td>569203468419751936</td>\n",
              "      <td>negative</td>\n",
              "      <td>1.0000</td>\n",
              "      <td>Customer Service Issue</td>\n",
              "      <td>1.0000</td>\n",
              "      <td>Southwest</td>\n",
              "      <td>NaN</td>\n",
              "      <td>ItsDTruth</td>\n",
              "      <td>NaN</td>\n",
              "      <td>0</td>\n",
              "      <td>@SouthwestAir I've been on hold almost an hour...</td>\n",
              "      <td>NaN</td>\n",
              "      <td>2015-02-21 10:34:16 -0800</td>\n",
              "      <td>North Texas</td>\n",
              "      <td>Central Time (US &amp; Canada)</td>\n",
              "    </tr>\n",
              "    <tr>\n",
              "      <th>13</th>\n",
              "      <td>569606901325017090</td>\n",
              "      <td>negative</td>\n",
              "      <td>1.0000</td>\n",
              "      <td>Cancelled Flight</td>\n",
              "      <td>1.0000</td>\n",
              "      <td>United</td>\n",
              "      <td>NaN</td>\n",
              "      <td>GetxGnarly</td>\n",
              "      <td>NaN</td>\n",
              "      <td>0</td>\n",
              "      <td>@united united flight UA3774 after two delays ...</td>\n",
              "      <td>NaN</td>\n",
              "      <td>2015-02-22 13:17:22 -0800</td>\n",
              "      <td>NaN</td>\n",
              "      <td>Atlantic Time (Canada)</td>\n",
              "    </tr>\n",
              "    <tr>\n",
              "      <th>14</th>\n",
              "      <td>569972513721229312</td>\n",
              "      <td>negative</td>\n",
              "      <td>1.0000</td>\n",
              "      <td>Can't Tell</td>\n",
              "      <td>0.6777</td>\n",
              "      <td>American</td>\n",
              "      <td>NaN</td>\n",
              "      <td>ezemanalyst</td>\n",
              "      <td>NaN</td>\n",
              "      <td>0</td>\n",
              "      <td>@AmericanAir hah, best flight attendant respon...</td>\n",
              "      <td>NaN</td>\n",
              "      <td>2015-02-23 13:30:11 -0800</td>\n",
              "      <td>NaN</td>\n",
              "      <td>NaN</td>\n",
              "    </tr>\n",
              "    <tr>\n",
              "      <th>15</th>\n",
              "      <td>568030511530172416</td>\n",
              "      <td>negative</td>\n",
              "      <td>0.6648</td>\n",
              "      <td>Late Flight</td>\n",
              "      <td>0.3541</td>\n",
              "      <td>US Airways</td>\n",
              "      <td>NaN</td>\n",
              "      <td>mpordes</td>\n",
              "      <td>NaN</td>\n",
              "      <td>0</td>\n",
              "      <td>@USAirways stuck in cae need reFlight Booking ...</td>\n",
              "      <td>NaN</td>\n",
              "      <td>2015-02-18 04:53:22 -0800</td>\n",
              "      <td>NaN</td>\n",
              "      <td>NaN</td>\n",
              "    </tr>\n",
              "    <tr>\n",
              "      <th>16</th>\n",
              "      <td>568090890549374976</td>\n",
              "      <td>positive</td>\n",
              "      <td>0.7139</td>\n",
              "      <td>NaN</td>\n",
              "      <td>NaN</td>\n",
              "      <td>Delta</td>\n",
              "      <td>NaN</td>\n",
              "      <td>cristinaroe</td>\n",
              "      <td>NaN</td>\n",
              "      <td>0</td>\n",
              "      <td>@JetBlue #flyfi thank you! Seattle and #UDUB h...</td>\n",
              "      <td>NaN</td>\n",
              "      <td>2015-02-18 08:53:17 -0800</td>\n",
              "      <td>Newport Beach</td>\n",
              "      <td>Pacific Time (US &amp; Canada)</td>\n",
              "    </tr>\n",
              "    <tr>\n",
              "      <th>17</th>\n",
              "      <td>569993176636739584</td>\n",
              "      <td>neutral</td>\n",
              "      <td>1.0000</td>\n",
              "      <td>NaN</td>\n",
              "      <td>NaN</td>\n",
              "      <td>Southwest</td>\n",
              "      <td>NaN</td>\n",
              "      <td>firefighter89</td>\n",
              "      <td>NaN</td>\n",
              "      <td>0</td>\n",
              "      <td>@SouthwestAir briughy me to @ComClassic, #AIF2...</td>\n",
              "      <td>NaN</td>\n",
              "      <td>2015-02-23 14:52:17 -0800</td>\n",
              "      <td>Nebraska</td>\n",
              "      <td>Central Time (US &amp; Canada)</td>\n",
              "    </tr>\n",
              "    <tr>\n",
              "      <th>18</th>\n",
              "      <td>568786206932250624</td>\n",
              "      <td>positive</td>\n",
              "      <td>1.0000</td>\n",
              "      <td>NaN</td>\n",
              "      <td>NaN</td>\n",
              "      <td>United</td>\n",
              "      <td>NaN</td>\n",
              "      <td>Gouwerijn</td>\n",
              "      <td>NaN</td>\n",
              "      <td>0</td>\n",
              "      <td>@united thnx ^LO :-)</td>\n",
              "      <td>NaN</td>\n",
              "      <td>2015-02-20 06:56:13 -0800</td>\n",
              "      <td>Alphen aan den Rijn</td>\n",
              "      <td>Amsterdam</td>\n",
              "    </tr>\n",
              "    <tr>\n",
              "      <th>19</th>\n",
              "      <td>568555022209847296</td>\n",
              "      <td>neutral</td>\n",
              "      <td>0.6291</td>\n",
              "      <td>NaN</td>\n",
              "      <td>0.0000</td>\n",
              "      <td>United</td>\n",
              "      <td>NaN</td>\n",
              "      <td>dmb41shows</td>\n",
              "      <td>NaN</td>\n",
              "      <td>0</td>\n",
              "      <td>@united happens every time in and out of Newark.</td>\n",
              "      <td>NaN</td>\n",
              "      <td>2015-02-19 15:37:35 -0800</td>\n",
              "      <td>Pursuit of Happiness</td>\n",
              "      <td>Hawaii</td>\n",
              "    </tr>\n",
              "    <tr>\n",
              "      <th>20</th>\n",
              "      <td>568440527328120832</td>\n",
              "      <td>positive</td>\n",
              "      <td>0.6714</td>\n",
              "      <td>NaN</td>\n",
              "      <td>NaN</td>\n",
              "      <td>Southwest</td>\n",
              "      <td>NaN</td>\n",
              "      <td>JessicaJNoble</td>\n",
              "      <td>NaN</td>\n",
              "      <td>0</td>\n",
              "      <td>@SouthwestAir @FortuneMagazine Superb choice -...</td>\n",
              "      <td>NaN</td>\n",
              "      <td>2015-02-19 08:02:37 -0800</td>\n",
              "      <td>La Jolla, California</td>\n",
              "      <td>NaN</td>\n",
              "    </tr>\n",
              "    <tr>\n",
              "      <th>21</th>\n",
              "      <td>569421478460063745</td>\n",
              "      <td>negative</td>\n",
              "      <td>1.0000</td>\n",
              "      <td>Late Flight</td>\n",
              "      <td>0.6436</td>\n",
              "      <td>US Airways</td>\n",
              "      <td>NaN</td>\n",
              "      <td>amyleis_janney</td>\n",
              "      <td>NaN</td>\n",
              "      <td>0</td>\n",
              "      <td>@USAirways on hold 2.5 hrs trying to reschedul...</td>\n",
              "      <td>NaN</td>\n",
              "      <td>2015-02-22 01:00:34 -0800</td>\n",
              "      <td>NaN</td>\n",
              "      <td>Mid-Atlantic</td>\n",
              "    </tr>\n",
              "    <tr>\n",
              "      <th>22</th>\n",
              "      <td>570244934634090496</td>\n",
              "      <td>negative</td>\n",
              "      <td>0.6307</td>\n",
              "      <td>Customer Service Issue</td>\n",
              "      <td>0.3168</td>\n",
              "      <td>American</td>\n",
              "      <td>NaN</td>\n",
              "      <td>planedoc71</td>\n",
              "      <td>NaN</td>\n",
              "      <td>0</td>\n",
              "      <td>@AmericanAir thanks for finally letting me get...</td>\n",
              "      <td>NaN</td>\n",
              "      <td>2015-02-24 07:32:41 -0800</td>\n",
              "      <td>NaN</td>\n",
              "      <td>NaN</td>\n",
              "    </tr>\n",
              "    <tr>\n",
              "      <th>23</th>\n",
              "      <td>569961785509478400</td>\n",
              "      <td>neutral</td>\n",
              "      <td>1.0000</td>\n",
              "      <td>NaN</td>\n",
              "      <td>NaN</td>\n",
              "      <td>Delta</td>\n",
              "      <td>NaN</td>\n",
              "      <td>soulfullypoetic</td>\n",
              "      <td>NaN</td>\n",
              "      <td>0</td>\n",
              "      <td>Lol, k. “@JetBlue: Our fleet's on fleek. http:...</td>\n",
              "      <td>NaN</td>\n",
              "      <td>2015-02-23 12:47:33 -0800</td>\n",
              "      <td>Wherever the bacon is, USA</td>\n",
              "      <td>Quito</td>\n",
              "    </tr>\n",
              "    <tr>\n",
              "      <th>24</th>\n",
              "      <td>568394078817267712</td>\n",
              "      <td>positive</td>\n",
              "      <td>1.0000</td>\n",
              "      <td>NaN</td>\n",
              "      <td>NaN</td>\n",
              "      <td>Delta</td>\n",
              "      <td>NaN</td>\n",
              "      <td>MaybeTonight</td>\n",
              "      <td>NaN</td>\n",
              "      <td>0</td>\n",
              "      <td>@JetBlue OH YEAH!!! great flight down to Mexic...</td>\n",
              "      <td>NaN</td>\n",
              "      <td>2015-02-19 04:58:03 -0800</td>\n",
              "      <td>Bay Shore NY</td>\n",
              "      <td>Eastern Time (US &amp; Canada)</td>\n",
              "    </tr>\n",
              "    <tr>\n",
              "      <th>25</th>\n",
              "      <td>569869978217914368</td>\n",
              "      <td>negative</td>\n",
              "      <td>1.0000</td>\n",
              "      <td>Customer Service Issue</td>\n",
              "      <td>1.0000</td>\n",
              "      <td>US Airways</td>\n",
              "      <td>NaN</td>\n",
              "      <td>bcruz1028</td>\n",
              "      <td>NaN</td>\n",
              "      <td>0</td>\n",
              "      <td>@USAirways Will tweet all day until I get \\na ...</td>\n",
              "      <td>NaN</td>\n",
              "      <td>2015-02-23 06:42:45 -0800</td>\n",
              "      <td>NaN</td>\n",
              "      <td>NaN</td>\n",
              "    </tr>\n",
              "    <tr>\n",
              "      <th>26</th>\n",
              "      <td>569176007225188352</td>\n",
              "      <td>negative</td>\n",
              "      <td>1.0000</td>\n",
              "      <td>Customer Service Issue</td>\n",
              "      <td>1.0000</td>\n",
              "      <td>Southwest</td>\n",
              "      <td>NaN</td>\n",
              "      <td>ray_ettel</td>\n",
              "      <td>NaN</td>\n",
              "      <td>0</td>\n",
              "      <td>@SouthwestAir - you can do better than having ...</td>\n",
              "      <td>NaN</td>\n",
              "      <td>2015-02-21 08:45:09 -0800</td>\n",
              "      <td>Denver Co</td>\n",
              "      <td>NaN</td>\n",
              "    </tr>\n",
              "    <tr>\n",
              "      <th>27</th>\n",
              "      <td>569606226880929792</td>\n",
              "      <td>negative</td>\n",
              "      <td>0.6590</td>\n",
              "      <td>Customer Service Issue</td>\n",
              "      <td>0.6590</td>\n",
              "      <td>American</td>\n",
              "      <td>NaN</td>\n",
              "      <td>otisday</td>\n",
              "      <td>NaN</td>\n",
              "      <td>0</td>\n",
              "      <td>@AmericanAir @cheerUPDATES So you're saying th...</td>\n",
              "      <td>NaN</td>\n",
              "      <td>2015-02-22 13:14:41 -0800</td>\n",
              "      <td>Pekin</td>\n",
              "      <td>Eastern Time (US &amp; Canada)</td>\n",
              "    </tr>\n",
              "    <tr>\n",
              "      <th>28</th>\n",
              "      <td>570223944260849664</td>\n",
              "      <td>negative</td>\n",
              "      <td>1.0000</td>\n",
              "      <td>Can't Tell</td>\n",
              "      <td>1.0000</td>\n",
              "      <td>US Airways</td>\n",
              "      <td>NaN</td>\n",
              "      <td>mikeyyyyyyy_</td>\n",
              "      <td>NaN</td>\n",
              "      <td>0</td>\n",
              "      <td>@USAirways should give me free baggage for thi...</td>\n",
              "      <td>NaN</td>\n",
              "      <td>2015-02-24 06:09:17 -0800</td>\n",
              "      <td>NaN</td>\n",
              "      <td>Central Time (US &amp; Canada)</td>\n",
              "    </tr>\n",
              "    <tr>\n",
              "      <th>29</th>\n",
              "      <td>568897700315435008</td>\n",
              "      <td>neutral</td>\n",
              "      <td>1.0000</td>\n",
              "      <td>NaN</td>\n",
              "      <td>NaN</td>\n",
              "      <td>US Airways</td>\n",
              "      <td>NaN</td>\n",
              "      <td>MikeSelesky</td>\n",
              "      <td>NaN</td>\n",
              "      <td>0</td>\n",
              "      <td>@USAirways How do I redeem my pass to the admi...</td>\n",
              "      <td>NaN</td>\n",
              "      <td>2015-02-20 14:19:16 -0800</td>\n",
              "      <td>NaN</td>\n",
              "      <td>NaN</td>\n",
              "    </tr>\n",
              "  </tbody>\n",
              "</table>\n",
              "</div>"
            ],
            "text/plain": [
              "              tweet_id  ...                user_timezone\n",
              "0   570018445695148033  ...                          NaN\n",
              "1   568830255282040832  ...                      Tijuana\n",
              "2   569296356143050754  ...   Pacific Time (US & Canada)\n",
              "3   569936640669581313  ...                          NaN\n",
              "4   569542242983124992  ...              America/Detroit\n",
              "5   567738192426590209  ...   Eastern Time (US & Canada)\n",
              "6   568558135637463040  ...   Central Time (US & Canada)\n",
              "7   569693713087082497  ...   Eastern Time (US & Canada)\n",
              "8   568591059602829314  ...   Eastern Time (US & Canada)\n",
              "9   569493640990625793  ...  Mountain Time (US & Canada)\n",
              "10  568440514506301440  ...                       Tehran\n",
              "11  567873229055991808  ...                          NaN\n",
              "12  569203468419751936  ...   Central Time (US & Canada)\n",
              "13  569606901325017090  ...       Atlantic Time (Canada)\n",
              "14  569972513721229312  ...                          NaN\n",
              "15  568030511530172416  ...                          NaN\n",
              "16  568090890549374976  ...   Pacific Time (US & Canada)\n",
              "17  569993176636739584  ...   Central Time (US & Canada)\n",
              "18  568786206932250624  ...                    Amsterdam\n",
              "19  568555022209847296  ...                       Hawaii\n",
              "20  568440527328120832  ...                          NaN\n",
              "21  569421478460063745  ...                 Mid-Atlantic\n",
              "22  570244934634090496  ...                          NaN\n",
              "23  569961785509478400  ...                        Quito\n",
              "24  568394078817267712  ...   Eastern Time (US & Canada)\n",
              "25  569869978217914368  ...                          NaN\n",
              "26  569176007225188352  ...                          NaN\n",
              "27  569606226880929792  ...   Eastern Time (US & Canada)\n",
              "28  570223944260849664  ...   Central Time (US & Canada)\n",
              "29  568897700315435008  ...                          NaN\n",
              "\n",
              "[30 rows x 15 columns]"
            ]
          },
          "metadata": {},
          "execution_count": 6
        }
      ]
    },
    {
      "cell_type": "code",
      "metadata": {
        "colab": {
          "base_uri": "https://localhost:8080/",
          "height": 299
        },
        "id": "boqCNFoLU9DR",
        "outputId": "8a31a421-f948-4aac-9ebe-03d55c8814e5"
      },
      "source": [
        "df.describe()"
      ],
      "execution_count": 7,
      "outputs": [
        {
          "output_type": "execute_result",
          "data": {
            "text/html": [
              "<div>\n",
              "<style scoped>\n",
              "    .dataframe tbody tr th:only-of-type {\n",
              "        vertical-align: middle;\n",
              "    }\n",
              "\n",
              "    .dataframe tbody tr th {\n",
              "        vertical-align: top;\n",
              "    }\n",
              "\n",
              "    .dataframe thead th {\n",
              "        text-align: right;\n",
              "    }\n",
              "</style>\n",
              "<table border=\"1\" class=\"dataframe\">\n",
              "  <thead>\n",
              "    <tr style=\"text-align: right;\">\n",
              "      <th></th>\n",
              "      <th>tweet_id</th>\n",
              "      <th>airline_sentiment_confidence</th>\n",
              "      <th>negativereason_confidence</th>\n",
              "      <th>retweet_count</th>\n",
              "    </tr>\n",
              "  </thead>\n",
              "  <tbody>\n",
              "    <tr>\n",
              "      <th>count</th>\n",
              "      <td>1.200000e+04</td>\n",
              "      <td>12000.000000</td>\n",
              "      <td>8616.000000</td>\n",
              "      <td>12000.000000</td>\n",
              "    </tr>\n",
              "    <tr>\n",
              "      <th>mean</th>\n",
              "      <td>5.692173e+17</td>\n",
              "      <td>0.899894</td>\n",
              "      <td>0.637315</td>\n",
              "      <td>0.086833</td>\n",
              "    </tr>\n",
              "    <tr>\n",
              "      <th>std</th>\n",
              "      <td>7.799070e+14</td>\n",
              "      <td>0.162277</td>\n",
              "      <td>0.330458</td>\n",
              "      <td>0.798862</td>\n",
              "    </tr>\n",
              "    <tr>\n",
              "      <th>min</th>\n",
              "      <td>5.675915e+17</td>\n",
              "      <td>0.335000</td>\n",
              "      <td>0.000000</td>\n",
              "      <td>0.000000</td>\n",
              "    </tr>\n",
              "    <tr>\n",
              "      <th>25%</th>\n",
              "      <td>5.685585e+17</td>\n",
              "      <td>0.691700</td>\n",
              "      <td>0.360275</td>\n",
              "      <td>0.000000</td>\n",
              "    </tr>\n",
              "    <tr>\n",
              "      <th>50%</th>\n",
              "      <td>5.694655e+17</td>\n",
              "      <td>1.000000</td>\n",
              "      <td>0.670300</td>\n",
              "      <td>0.000000</td>\n",
              "    </tr>\n",
              "    <tr>\n",
              "      <th>75%</th>\n",
              "      <td>5.698913e+17</td>\n",
              "      <td>1.000000</td>\n",
              "      <td>1.000000</td>\n",
              "      <td>0.000000</td>\n",
              "    </tr>\n",
              "    <tr>\n",
              "      <th>max</th>\n",
              "      <td>5.703106e+17</td>\n",
              "      <td>1.000000</td>\n",
              "      <td>1.000000</td>\n",
              "      <td>44.000000</td>\n",
              "    </tr>\n",
              "  </tbody>\n",
              "</table>\n",
              "</div>"
            ],
            "text/plain": [
              "           tweet_id  ...  retweet_count\n",
              "count  1.200000e+04  ...   12000.000000\n",
              "mean   5.692173e+17  ...       0.086833\n",
              "std    7.799070e+14  ...       0.798862\n",
              "min    5.675915e+17  ...       0.000000\n",
              "25%    5.685585e+17  ...       0.000000\n",
              "50%    5.694655e+17  ...       0.000000\n",
              "75%    5.698913e+17  ...       0.000000\n",
              "max    5.703106e+17  ...      44.000000\n",
              "\n",
              "[8 rows x 4 columns]"
            ]
          },
          "metadata": {},
          "execution_count": 7
        }
      ]
    },
    {
      "cell_type": "code",
      "metadata": {
        "id": "xX4v0IeyiWPk"
      },
      "source": [
        "alltext=df[\"text\"]"
      ],
      "execution_count": 8,
      "outputs": []
    },
    {
      "cell_type": "code",
      "metadata": {
        "colab": {
          "base_uri": "https://localhost:8080/",
          "height": 35
        },
        "id": "viqn3sx8ie04",
        "outputId": "c54e8538-e64a-4dfe-dd29-2bd878f166ff"
      },
      "source": [
        "alltext[8]"
      ],
      "execution_count": 10,
      "outputs": [
        {
          "output_type": "execute_result",
          "data": {
            "application/vnd.google.colaboratory.intrinsic+json": {
              "type": "string"
            },
            "text/plain": [
              "'@SouthwestAir a nice trip back home after a looong vaca 😊🌴 http://t.co/9TRvfnCedL'"
            ]
          },
          "metadata": {},
          "execution_count": 10
        }
      ]
    },
    {
      "cell_type": "code",
      "metadata": {
        "colab": {
          "base_uri": "https://localhost:8080/"
        },
        "id": "qWmxRkSVmBLg",
        "outputId": "3089189a-63be-4246-ab28-052f136cb0f6"
      },
      "source": [
        "!pip install english-words"
      ],
      "execution_count": 14,
      "outputs": [
        {
          "output_type": "stream",
          "name": "stdout",
          "text": [
            "Collecting english-words\n",
            "  Downloading english-words-1.0.4.tar.gz (353 kB)\n",
            "\u001b[?25l\r\u001b[K     |█                               | 10 kB 26.5 MB/s eta 0:00:01\r\u001b[K     |█▉                              | 20 kB 31.3 MB/s eta 0:00:01\r\u001b[K     |██▉                             | 30 kB 35.8 MB/s eta 0:00:01\r\u001b[K     |███▊                            | 40 kB 37.0 MB/s eta 0:00:01\r\u001b[K     |████▋                           | 51 kB 19.1 MB/s eta 0:00:01\r\u001b[K     |█████▋                          | 61 kB 20.5 MB/s eta 0:00:01\r\u001b[K     |██████▌                         | 71 kB 15.0 MB/s eta 0:00:01\r\u001b[K     |███████▍                        | 81 kB 16.1 MB/s eta 0:00:01\r\u001b[K     |████████▍                       | 92 kB 17.6 MB/s eta 0:00:01\r\u001b[K     |█████████▎                      | 102 kB 15.5 MB/s eta 0:00:01\r\u001b[K     |██████████▏                     | 112 kB 15.5 MB/s eta 0:00:01\r\u001b[K     |███████████▏                    | 122 kB 15.5 MB/s eta 0:00:01\r\u001b[K     |████████████                    | 133 kB 15.5 MB/s eta 0:00:01\r\u001b[K     |█████████████                   | 143 kB 15.5 MB/s eta 0:00:01\r\u001b[K     |██████████████                  | 153 kB 15.5 MB/s eta 0:00:01\r\u001b[K     |██████████████▉                 | 163 kB 15.5 MB/s eta 0:00:01\r\u001b[K     |███████████████▊                | 174 kB 15.5 MB/s eta 0:00:01\r\u001b[K     |████████████████▊               | 184 kB 15.5 MB/s eta 0:00:01\r\u001b[K     |█████████████████▋              | 194 kB 15.5 MB/s eta 0:00:01\r\u001b[K     |██████████████████▋             | 204 kB 15.5 MB/s eta 0:00:01\r\u001b[K     |███████████████████▌            | 215 kB 15.5 MB/s eta 0:00:01\r\u001b[K     |████████████████████▍           | 225 kB 15.5 MB/s eta 0:00:01\r\u001b[K     |█████████████████████▍          | 235 kB 15.5 MB/s eta 0:00:01\r\u001b[K     |██████████████████████▎         | 245 kB 15.5 MB/s eta 0:00:01\r\u001b[K     |███████████████████████▏        | 256 kB 15.5 MB/s eta 0:00:01\r\u001b[K     |████████████████████████▏       | 266 kB 15.5 MB/s eta 0:00:01\r\u001b[K     |█████████████████████████       | 276 kB 15.5 MB/s eta 0:00:01\r\u001b[K     |██████████████████████████      | 286 kB 15.5 MB/s eta 0:00:01\r\u001b[K     |███████████████████████████     | 296 kB 15.5 MB/s eta 0:00:01\r\u001b[K     |███████████████████████████▉    | 307 kB 15.5 MB/s eta 0:00:01\r\u001b[K     |████████████████████████████▊   | 317 kB 15.5 MB/s eta 0:00:01\r\u001b[K     |█████████████████████████████▊  | 327 kB 15.5 MB/s eta 0:00:01\r\u001b[K     |██████████████████████████████▋ | 337 kB 15.5 MB/s eta 0:00:01\r\u001b[K     |███████████████████████████████▌| 348 kB 15.5 MB/s eta 0:00:01\r\u001b[K     |████████████████████████████████| 353 kB 15.5 MB/s \n",
            "\u001b[?25hBuilding wheels for collected packages: english-words\n",
            "  Building wheel for english-words (setup.py) ... \u001b[?25l\u001b[?25hdone\n",
            "  Created wheel for english-words: filename=english_words-1.0.4-py3-none-any.whl size=352158 sha256=3edb2cc185e7ba6d9d3c17abc31c001f6a7fdd98666e3a01bac25e67a5a3f004\n",
            "  Stored in directory: /root/.cache/pip/wheels/8f/7a/1f/5f54a5151359e5d80102450529a80f7a02c716e33c1cc7f46d\n",
            "Successfully built english-words\n",
            "Installing collected packages: english-words\n",
            "Successfully installed english-words-1.0.4\n"
          ]
        }
      ]
    },
    {
      "cell_type": "code",
      "metadata": {
        "colab": {
          "base_uri": "https://localhost:8080/"
        },
        "id": "4T7S5bgDl0Z4",
        "outputId": "340cf784-9b5e-4875-9181-014406945894"
      },
      "source": [
        "from english_words import english_words_set\n",
        "'ghost' in english_words_set"
      ],
      "execution_count": 15,
      "outputs": [
        {
          "output_type": "execute_result",
          "data": {
            "text/plain": [
              "True"
            ]
          },
          "metadata": {},
          "execution_count": 15
        }
      ]
    },
    {
      "cell_type": "code",
      "metadata": {
        "id": "L9dSWH-Smi4E"
      },
      "source": [
        ""
      ],
      "execution_count": 44,
      "outputs": []
    },
    {
      "cell_type": "code",
      "metadata": {
        "colab": {
          "base_uri": "https://localhost:8080/",
          "height": 545
        },
        "id": "EkcAHN_HnNv8",
        "outputId": "d1604bfa-f621-47f1-d999-be37f90151bc"
      },
      "source": [
        ""
      ],
      "execution_count": 45,
      "outputs": [
        {
          "output_type": "stream",
          "name": "stdout",
          "text": [
            "Error: Thx\n",
            "Error: \n",
            "ok: Stand\n",
            "ok: by\n",
            "Error: \n",
            "Error: “@united:\n",
            "Error: @rajuchinthala\n",
            "ok: I\n",
            "ok: know\n",
            "Error: it's\n",
            "Error: frustrating\n",
            "ok: and\n",
            "ok: I\n",
            "ok: do\n",
            "ok: appreciate\n",
            "ok: your\n",
            "Error: patience\n",
            "ok: while\n",
            "ok: we\n",
            "ok: try\n",
            "ok: to\n",
            "ok: get\n",
            "ok: you\n",
            "ok: on\n",
            "ok: your\n",
            "ok: way\n",
            "Error: \n",
            "Error: ^JH”\n"
          ]
        },
        {
          "output_type": "execute_result",
          "data": {
            "application/vnd.google.colaboratory.intrinsic+json": {
              "type": "string"
            },
            "text/plain": [
              "'stand by i know and i do appreciate your while we try to get you on your way '"
            ]
          },
          "metadata": {},
          "execution_count": 45
        }
      ]
    },
    {
      "cell_type": "code",
      "metadata": {
        "colab": {
          "base_uri": "https://localhost:8080/"
        },
        "id": "z4TzhjCJsxby",
        "outputId": "588ed23a-b6f2-4159-c124-89e0946071f8"
      },
      "source": [
        "!pip install pyspellchecker"
      ],
      "execution_count": 52,
      "outputs": [
        {
          "output_type": "stream",
          "name": "stdout",
          "text": [
            "Collecting pyspellchecker\n",
            "  Downloading pyspellchecker-0.6.2-py3-none-any.whl (2.7 MB)\n",
            "\u001b[K     |████████████████████████████████| 2.7 MB 16.1 MB/s \n",
            "\u001b[?25hInstalling collected packages: pyspellchecker\n",
            "Successfully installed pyspellchecker-0.6.2\n"
          ]
        }
      ]
    },
    {
      "cell_type": "code",
      "metadata": {
        "colab": {
          "base_uri": "https://localhost:8080/"
        },
        "id": "DJXdy-ZJs4NT",
        "outputId": "9d685959-071b-4d50-f8fb-a9a159eb70fb"
      },
      "source": [
        "from spellchecker import SpellChecker\n",
        "\n",
        "spell = SpellChecker()\n",
        "print(spell.correction(\"@frustrating\"))"
      ],
      "execution_count": 58,
      "outputs": [
        {
          "output_type": "stream",
          "name": "stdout",
          "text": [
            "frustrating\n"
          ]
        }
      ]
    },
    {
      "cell_type": "code",
      "metadata": {
        "id": "It1_SC3E9CSJ"
      },
      "source": [
        "import re\n",
        "\n",
        "def remove_URL(text):\n",
        "    \"\"\"Remove URLs from a text string\"\"\"\n",
        "    return re.sub(r\"http\\S+\", \"\", text)"
      ],
      "execution_count": 97,
      "outputs": []
    },
    {
      "cell_type": "code",
      "metadata": {
        "id": "2UV3EhWh9xfg"
      },
      "source": [
        "def remove_emoji(string):\n",
        "    emoji_pattern = re.compile(\"[\"\n",
        "                           u\"\\U0001F600-\\U0001F64F\"  # emoticons\n",
        "                           u\"\\U0001F300-\\U0001F5FF\"  # symbols & pictographs\n",
        "                           u\"\\U0001F680-\\U0001F6FF\"  # transport & map symbols\n",
        "                           u\"\\U0001F1E0-\\U0001F1FF\"  # flags (iOS)\n",
        "                           u\"\\U00002702-\\U000027B0\"\n",
        "                           u\"\\U000024C2-\\U0001F251\"\n",
        "                           \"]+\", flags=re.UNICODE)\n",
        "    return emoji_pattern.sub(r'', string)"
      ],
      "execution_count": 102,
      "outputs": []
    },
    {
      "cell_type": "code",
      "metadata": {
        "id": "dBRN8eP-Cbzj"
      },
      "source": [
        "def strip_all_entities(text):\n",
        "    import re,string\n",
        "    entity_prefixes = ['“','@','#']\n",
        "    for separator in  string.punctuation:\n",
        "        if separator not in entity_prefixes :\n",
        "            text = text.replace(separator,' ')\n",
        "    words = []\n",
        "    for word in text.split():\n",
        "        word = word.strip()\n",
        "        if word:\n",
        "            if word[0] not in entity_prefixes:\n",
        "                words.append(word)\n",
        "    return ' '.join(words)\n",
        "\n"
      ],
      "execution_count": 137,
      "outputs": []
    },
    {
      "cell_type": "code",
      "metadata": {
        "id": "v0mzxoK-x3wP"
      },
      "source": [
        "def query_sentence(index):\n",
        "    print(f\"orig: {alltext[index]}\")\n",
        "    spell=SpellChecker()\n",
        "    inp=alltext[index]\n",
        "    inp=remove_URL(inp)\n",
        "    inp=remove_emoji(inp)\n",
        "    inp=strip_all_entities(inp)\n",
        "    \n",
        "    txt=inp.replace(\",\",\" \").replace(\".\",\" \").replace(\"!\",\" \").replace(\"#\",\" \").replace(\"???\",\" \").replace(\"??\",\" \").replace(\"?\",\" \").replace(\"  \",\" \").replace(\"  \",\" \").replace('\"',\"\").replace(\"“\",\"\")\n",
        "\n",
        "    #print(txt)\n",
        "    normal=\"\"\n",
        "    for i in txt.split(\" \"):\n",
        "        w1=i.lower().strip()\n",
        "        if w1 !=\"\":\n",
        "            w2=spell.correction(w1).strip()\n",
        "        else:\n",
        "            w2=\"\"\n",
        "        if w2==\"i\":\n",
        "            pass\n",
        "            #print(f\"chek: {w1}, {w2}\")\n",
        "        if w1 in english_words_set:\n",
        "            normal += w1+\" \"\n",
        "            #print(f\"ok: {w1}\")\n",
        "        else:\n",
        "            #print(f\"Error: {w1}\")\n",
        "            \n",
        "            normal += w2+\" \" \n",
        "    print(f\"  conv: {normal}\")\n",
        "    return(normal)"
      ],
      "execution_count": 138,
      "outputs": []
    },
    {
      "cell_type": "code",
      "metadata": {
        "colab": {
          "base_uri": "https://localhost:8080/"
        },
        "id": "5XYI9C9WyIyf",
        "outputId": "253cf8d9-ff38-4d6c-c6ed-9f15fe2f0cc3"
      },
      "source": [
        "\n",
        "for i in range(100,124):\n",
        "    query_sentence(i)"
      ],
      "execution_count": 140,
      "outputs": [
        {
          "output_type": "stream",
          "name": "stdout",
          "text": [
            "orig: @JetBlue I spent over an hour of my morning on hold w/ your customer support. I want my confirmed flight to be taken care of\n",
            "  conv: i spent over an hour of my morning on hold w your customer support i want my confirmed flight to be taken care of \n",
            "orig: @SouthwestAir MY BAGS ARE. 1st woman said it would be there on the next flight... not there, so now Ive got nothing. Big wigs help me out\n",
            "  conv: my bags are est woman said it would be there on the next flight not there so now ive got nothing big wigs help me out \n",
            "orig: @united @gg8929 Unbelievable hypocrisy!!\n",
            "  conv: unbelievable hypocrisy \n",
            "orig: @AmericanAir I've been in line for over half hour trying to see a representative, now I might even miss the next flight too, unacceptable\n",
            "  conv: i ve been in line for over half hour trying to see a representative now i might even miss the next flight too unacceptable \n",
            "orig: “@JetBlue: Our fleet's on fleek. http://t.co/cRFrwpc1Sx”😂😂😂\n",
            "  conv: our fleet s on fleek \n",
            "orig: @united I understand the intention, but it pales in comparison to a day of lost wages for both my wife and I because of the delay.\n",
            "  conv: i understand the intention but it pales in comparison to a day of lost wages for both my wife and i because of the delay \n",
            "orig: @JetBlue understand that, but this policy of targeting your passengers is not good for business and should be addressed with security\n",
            "  conv: understand that but this policy of targeting your passengers is not good for business and should be addressed with security \n",
            "orig: @AmericanAir @sa_craig no, not helped one bit. actually ended up driving home due to extreme disorganization and lack of communication.\n",
            "  conv: craig no not helped one bit actually ended up driving home due to extreme disorganization and lack of communication \n",
            "orig: @SouthwestAir oops, Sorry, Done,\n",
            "  conv: oops sorry done \n",
            "orig: @USAirways we got 1 drink then F/A sat in jump seat doing crosswords. Glasses picked up at landing. Just a very lazy service 4 First class.\n",
            "  conv: we got 1 drink then f a sat in jump seat doing crosswords glasses picked up at landing just a very lazy service 4 first class \n",
            "orig: @united also checked email you have on file for me and it is correct\n",
            "  conv: also checked email you have on file for me and it is correct \n",
            "orig: Well lets see.  You could pay for my Negroni with bitcoin. @JetBlue\n",
            "  conv: well lets see you could pay for my negro with bitcoin \n",
            "orig: @united  very disappointed by the service starting from gate operator at BOS , who was  rude in stopping a carry-on bag...\n",
            "  conv: very disappointed by the service starting from gate operator at bos who was rude in stopping a carry on bag \n",
            "orig: @JetBlue But jet blue had Cancelled Flighted my ticket &amp; never reissued it.\n",
            "  conv: but jet blue had cancelled lighted my ticket amp never reissued it \n",
            "orig: @united how can u not have gate ready or gate agent for going on hour two\n",
            "  conv: how can u not have gate ready or gate agent for going on hour two \n",
            "orig: @SouthwestAir Where should I fly by May 3rd? Plz advise.\n",
            "  conv: where should i fly by may ord ply advise \n",
            "orig: @SouthwestAir we were rebooked on the 5:05 out of MDW.  Some drink coupons could help!\n",
            "  conv: we were rebooked on the 5 05 out of mow some drink coupons could help \n",
            "orig: @JetBlue's CEO battles to appease passengers and Wall Street - @TheVDT http://t.co/h6cE3mWCqj\n",
            "  conv: s ceo battles to appease passengers and wall street \n",
            "orig: @united what a pointless tweet. At least @AmericanAir asked me to follow them to try and resolve\n",
            "  conv: what a pointless tweet at least asked me to follow them to try and resolve \n",
            "orig: @USAirways HELP! It says \"the payment is denied\" but my money has been taken out of my bank?  \n",
            "\n",
            "And it says I have no trips coming up??\n",
            "  conv: help it says the payment is denied but my money has been taken out of my bank and it says i have no trips coming up \n",
            "orig: @VirginAmerica You'd think paying an extra $100 bucks RT for luggage might afford you hiring an extra hand at @sfo #lame\n",
            "  conv: you d think paying an extra 100 bucks it for luggage might afford you hiring an extra hand at \n",
            "orig: @united Name correct on original confirmation but spelled wrong on check-in reminder. First name and MI run together. Cause for concern?\n",
            "  conv: name correct on original confirmation but spelled wrong on check in reminder first name and mi run together cause for concern \n",
            "orig: @united on SFO-&gt;AUS UA343 2/17, IS9JX1; my seat appears to have had a mite problem. Dr recently confirmed over 50 bug bites were mites\n",
            "  conv: on so it aus ua343 2 17 is9jx1 my seat appears to have had a mite problem do recently confirmed over 50 bug bites were mites \n",
            "orig: @USAirways your service in Philly is unacceptable. Look into better service✌️ a 16 yr old shouldnt have a hard time http://t.co/WDAKTmr7Mj\n",
            "  conv: your service in philly is unacceptable look into better service a 16 yr old shouldnt have a hard time \n"
          ]
        }
      ]
    },
    {
      "cell_type": "code",
      "metadata": {
        "id": "95S2kiEM7AjX"
      },
      "source": [
        ""
      ],
      "execution_count": null,
      "outputs": []
    }
  ]
}